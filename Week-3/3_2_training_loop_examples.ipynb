{
 "cells": [
  {
   "cell_type": "markdown",
   "id": "d45fe195",
   "metadata": {},
   "source": [
    "## 💻 UnpackAI DL201 Bootcamp - Week 3 - Concepts: Model training\n",
    "\n",
    "### 📕 Learning Objectives\n",
    "\n",
    "* Reinforce and consolidate ideas about the model training loop through discussion and 2 illustrative examples.\n",
    "\n",
    "### 📖 Concepts map\n",
    "* Model as a function\n",
    "* Inputs, outputs and weights\n",
    "* Forward pass\n",
    "* Loss function\n",
    "* Gradiants\n",
    "* Backward pass\n",
    "* Training loop"
   ]
  },
  {
   "cell_type": "markdown",
   "id": "9ac50f4c",
   "metadata": {},
   "source": [
    "### Single-neuron example\n",
    "- Define and unknwown function F(x) = 2X as F(w) = WX, where W is a parameter. \n",
    "- Perform a simple Numpy implementation of a model with a single neuron.\n",
    "- The model performs a forward pass through the network to make a prediction.\n",
    "- The mean squared error is defined as the loss function.\n",
    "- Gradient descend is set as the optimizer to minimize the loss function.\n",
    "- The model performs a backward pass to update the weights.\n",
    "- The model is trained to minimize the loss function.\n",
    "\n",
    "Credit: This example is based on the pytorch tutorial from: https://www.youtube.com/watch?v=VVDHU_TWwUg&list=PLqnslRFeH2UrcDBWF5mfPGpqQDSta6VK4&index=7&ab_channel=PythonEngineer"
   ]
  },
  {
   "cell_type": "code",
   "execution_count": 1,
   "id": "3d6eb65f",
   "metadata": {},
   "outputs": [],
   "source": [
    "# Import packages\n",
    "import numpy\n",
    "import torch\n",
    "import matplotlib.pyplot as plt"
   ]
  },
  {
   "cell_type": "code",
   "execution_count": 2,
   "id": "dd4abb53",
   "metadata": {},
   "outputs": [],
   "source": [
    "# Create the inputs and the outputs numpy arrays for the function y = 2x\n",
    "X = numpy.array([1, 2, 3, 4], dtype='float')\n",
    "Y = numpy.array([2, 4, 6, 8], dtype='float')"
   ]
  },
  {
   "cell_type": "code",
   "execution_count": 3,
   "id": "a1982c8a",
   "metadata": {},
   "outputs": [],
   "source": [
    "# Initialize the weight as zero\n",
    "W = 0.0"
   ]
  },
  {
   "cell_type": "code",
   "execution_count": 4,
   "id": "4e5d3158",
   "metadata": {},
   "outputs": [],
   "source": [
    "# Define a function for the forward pass (it makes a prediction)\n",
    "def forward(x, w):\n",
    "    return w * x"
   ]
  },
  {
   "cell_type": "code",
   "execution_count": 5,
   "id": "b94d8a1c",
   "metadata": {},
   "outputs": [],
   "source": [
    "# Define a function for the loss (it measures the error)\n",
    "def loss(y, y_predicted):\n",
    "    return ((y_predicted - y)**2).mean()"
   ]
  },
  {
   "cell_type": "code",
   "execution_count": 6,
   "id": "4a70bf4e",
   "metadata": {},
   "outputs": [],
   "source": [
    "# Define a function to compute the gradient of the loss\n",
    "# Note: this is equivalent to the derivative of the loss function with respect to the weight\n",
    "def gradient(x, y, y_predicted):\n",
    "    return numpy.dot(2 * x, y_predicted - y).mean()"
   ]
  },
  {
   "cell_type": "code",
   "execution_count": 7,
   "id": "9a41fba9",
   "metadata": {},
   "outputs": [],
   "source": [
    "# Configure a trining loop\n",
    "learning_rate = 0.01\n",
    "number_steps = 10\n",
    "loss_values = []\n",
    "weights = []"
   ]
  },
  {
   "cell_type": "code",
   "execution_count": 8,
   "id": "98cc0d16",
   "metadata": {},
   "outputs": [
    {
     "name": "stdout",
     "output_type": "stream",
     "text": [
      "- steps: 1, loss: 30.0, weight: 1.2\n",
      "- steps: 2, loss: 4.800000000000001, weight: 1.68\n",
      "- steps: 3, loss: 0.7680000000000002, weight: 1.8719999999999999\n",
      "- steps: 4, loss: 0.12288000000000023, weight: 1.9487999999999999\n",
      "- steps: 5, loss: 0.019660800000000138, weight: 1.97952\n",
      "- steps: 6, loss: 0.0031457280000000165, weight: 1.991808\n",
      "- steps: 7, loss: 0.0005033164799999944, weight: 1.9967232\n",
      "- steps: 8, loss: 8.053063680000391e-05, weight: 1.99868928\n",
      "- steps: 9, loss: 1.2884901887999318e-05, weight: 1.999475712\n",
      "- steps: 10, loss: 2.061584302080135e-06, weight: 1.9997902848\n"
     ]
    }
   ],
   "source": [
    "# Perform a training loop, save the loss and print the loss and the prediction every 100 steps\n",
    "for i in range(number_steps):\n",
    "\n",
    "    # Perform the forward pass (prediction)\n",
    "    y_pred = forward(X, W)\n",
    "\n",
    "    # Compute loss\n",
    "    loss_value = loss(Y, y_pred)\n",
    "    loss_values.append(loss_value)\n",
    "\n",
    "    # Compute gradient\n",
    "    grad = gradient(X, Y, y_pred)\n",
    "\n",
    "    # Update the weight\n",
    "    W -= learning_rate * grad\n",
    "    weights.append(W)\n",
    "\n",
    "    # Print the loss and the prediction every 100 steps\n",
    "    print(f'- steps: {i + 1}, loss: {loss_value}, weight: {W}')"
   ]
  },
  {
   "cell_type": "code",
   "execution_count": 9,
   "id": "734264a6",
   "metadata": {},
   "outputs": [
    {
     "data": {
      "image/png": "[encoded data removed]",
      "text/plain": [
       "<Figure size 432x288 with 1 Axes>"
      ]
     },
     "metadata": {
      "needs_background": "light"
     },
     "output_type": "display_data"
    }
   ],
   "source": [
    "# Plot the loss against the number of steps\n",
    "plt.plot(loss_values)\n",
    "plt.show()"
   ]
  },
  {
   "cell_type": "code",
   "execution_count": 10,
   "id": "a7ca1d76",
   "metadata": {},
   "outputs": [
    {
     "data": {
      "image/png": "[encoded data removed]",
      "text/plain": [
       "<Figure size 432x288 with 1 Axes>"
      ]
     },
     "metadata": {
      "needs_background": "light"
     },
     "output_type": "display_data"
    }
   ],
   "source": [
    "# Plot the predictions against the loss\n",
    "plt.plot(weights, loss_values)\n",
    "plt.show()"
   ]
  },
  {
   "cell_type": "markdown",
   "id": "e8532de3",
   "metadata": {},
   "source": [
    "The same code now redifined in Pytorch."
   ]
  },
  {
   "cell_type": "code",
   "execution_count": 11,
   "id": "8d00b015",
   "metadata": {},
   "outputs": [],
   "source": [
    "# Define X and Y as tensors\n",
    "X = torch.tensor([1, 2, 3, 4, 5, 6], dtype=torch.float)\n",
    "Y = torch.tensor([2, 4, 6, 8, 10, 12], dtype=torch.float)"
   ]
  },
  {
   "cell_type": "code",
   "execution_count": 12,
   "id": "dcab15da",
   "metadata": {},
   "outputs": [],
   "source": [
    "# Define the weight, as gradients are computed with respect to the weight, we enable autograd\n",
    "W = torch.tensor(0.0, dtype=torch.float, requires_grad=True)"
   ]
  },
  {
   "cell_type": "code",
   "execution_count": 15,
   "id": "a37ce841",
   "metadata": {},
   "outputs": [
    {
     "name": "stdout",
     "output_type": "stream",
     "text": [
      "- steps: 1, loss: 60.66666793823242, weight: 1.8200000524520874\n",
      "- steps: 2, loss: 0.4913997948169708, weight: 1.8746000528335571\n",
      "- steps: 3, loss: 0.2384980171918869, weight: 1.9126380681991577\n",
      "- steps: 4, loss: 0.1157536581158638, weight: 1.9391378164291382\n",
      "- steps: 5, loss: 0.056180473417043686, weight: 1.957599401473999\n",
      "- steps: 6, loss: 0.02726683020591736, weight: 1.9704608917236328\n",
      "- steps: 7, loss: 0.013233810663223267, weight: 1.9794211387634277\n",
      "- steps: 8, loss: 0.006422908511012793, weight: 1.9856634140014648\n",
      "- steps: 9, loss: 0.0031173217575997114, weight: 1.9900121688842773\n",
      "- steps: 10, loss: 0.0015129776438698173, weight: 1.993041753768921\n"
     ]
    }
   ],
   "source": [
    "# Perform a the same training loop, now in Pytorch\n",
    "for i in range(number_steps):\n",
    "\n",
    "    # Forward function can be reused\n",
    "    y_pred = forward(X, W)\n",
    "\n",
    "    # Loss function can be reused\n",
    "    loss_value = loss(Y, y_pred)\n",
    "\n",
    "    # Compute gradient\n",
    "    loss_value.backward()   # Computes the gradient with respect to the weight\n",
    "\n",
    "    # Update the weight, we reset the gradients to zero\n",
    "    with torch.no_grad():\n",
    "        W -= learning_rate * W.grad\n",
    "    W.grad.zero_()\n",
    "\n",
    "    # Print the loss and the prediction every 100 steps\n",
    "    print(f'- steps: {i + 1}, loss: {loss_value}, weight: {W}')"
   ]
  },
  {
   "cell_type": "markdown",
   "id": "c02f9a1a",
   "metadata": {},
   "source": [
    "### MNIST Pytorch implementation"
   ]
  },
  {
   "cell_type": "code",
   "execution_count": 16,
   "id": "a11f8f0a",
   "metadata": {},
   "outputs": [],
   "source": [
    "# Import packages\n",
    "import torch\n",
    "import torchvision\n",
    "import torch.nn.functional as model_functions\n",
    "import torchvision.datasets as datasets\n",
    "import torchvision.transforms as transforms\n",
    "from torch import optim\n",
    "from torch import nn\n",
    "from torch.utils.data import DataLoader\n",
    "import matplotlib.pyplot as plt"
   ]
  },
  {
   "cell_type": "code",
   "execution_count": 17,
   "id": "c050966f",
   "metadata": {},
   "outputs": [],
   "source": [
    "# Download and load the MNIST dataset\n",
    "mnist_train = datasets.MNIST(root='./data', train=True, download=True, transform=transforms.ToTensor())\n",
    "mnist_test = datasets.MNIST(root='./data', train=False, download=True, transform=transforms.ToTensor())"
   ]
  },
  {
   "cell_type": "code",
   "execution_count": 18,
   "id": "febf3be9",
   "metadata": {},
   "outputs": [
    {
     "name": "stdout",
     "output_type": "stream",
     "text": [
      "torch.Size([60000, 28, 28])\n",
      "torch.Size([60000])\n"
     ]
    },
    {
     "name": "stderr",
     "output_type": "stream",
     "text": [
      "C:\\Users\\lenis\\anaconda3\\lib\\site-packages\\torchvision\\datasets\\mnist.py:62: UserWarning: train_data has been renamed data\n",
      "  warnings.warn(\"train_data has been renamed data\")\n",
      "C:\\Users\\lenis\\anaconda3\\lib\\site-packages\\torchvision\\datasets\\mnist.py:52: UserWarning: train_labels has been renamed targets\n",
      "  warnings.warn(\"train_labels has been renamed targets\")\n"
     ]
    }
   ],
   "source": [
    "# Inspect the data (training)\n",
    "print(mnist_train.train_data.size())\n",
    "print(mnist_train.train_labels.size())"
   ]
  },
  {
   "cell_type": "code",
   "execution_count": 19,
   "id": "f6fad301",
   "metadata": {},
   "outputs": [
    {
     "name": "stdout",
     "output_type": "stream",
     "text": [
      "(28, 28)\n",
      "5\n"
     ]
    },
    {
     "data": {
      "image/png": "[encoded data removed]",
      "text/plain": [
       "<Figure size 432x288 with 1 Axes>"
      ]
     },
     "metadata": {
      "needs_background": "light"
     },
     "output_type": "display_data"
    }
   ],
   "source": [
    "# Shown an example image\n",
    "sample_image = mnist_train.train_data[0].clone().numpy()\n",
    "sample_label = mnist_train.train_labels[0].clone().numpy()\n",
    "print(sample_image.shape)\n",
    "print(sample_label)\n",
    "plt.imshow(sample_image, cmap='gray')\n",
    "plt.show()\n"
   ]
  },
  {
   "cell_type": "code",
   "execution_count": 20,
   "id": "8168af84",
   "metadata": {},
   "outputs": [],
   "source": [
    "# Create dataloaders\n",
    "batch_size = 64\n",
    "train_loader = DataLoader(mnist_train, batch_size=batch_size, shuffle=True)\n",
    "test_loader = DataLoader(mnist_test, batch_size=batch_size, shuffle=True)"
   ]
  },
  {
   "cell_type": "code",
   "execution_count": 21,
   "id": "73034713",
   "metadata": {},
   "outputs": [],
   "source": [
    "# Define a model, a simple feed-forward network with 3 hidden layers\n",
    "class Model(nn.Module):\n",
    "    def __init__(self):\n",
    "        super().__init__()\n",
    "        self.layer1 = nn.Linear(28*28, 256)\n",
    "        self.layer2 = nn.Linear(256, 256)\n",
    "        self.layer3 = nn.Linear(256, 10)\n",
    "\n",
    "    def forward(self, x):\n",
    "        x = x.view(-1, 28*28)\n",
    "        x = model_functions.relu(self.layer1(x))\n",
    "        x = model_functions.relu(self.layer2(x))\n",
    "        x = self.layer3(x)\n",
    "        return x"
   ]
  },
  {
   "cell_type": "code",
   "execution_count": 22,
   "id": "18ba81cb",
   "metadata": {},
   "outputs": [],
   "source": [
    "# Define a loss function and optimizer\n",
    "model = Model()\n",
    "loss_fn = nn.CrossEntropyLoss()\n",
    "optimizer = optim.Adam(model.parameters(), lr=0.001)"
   ]
  },
  {
   "cell_type": "code",
   "execution_count": 23,
   "id": "512dcfb8",
   "metadata": {},
   "outputs": [],
   "source": [
    "# Use 3 epochs to train the model, collect the loss values and weights to plot later\n",
    "loss_values = []\n",
    "number_of_epochs = 3\n",
    "\n",
    "for epoch in range(number_of_epochs):\n",
    "    for batch_idx, (data, target) in enumerate(train_loader):\n",
    "\n",
    "        # Forward pass\n",
    "        output = model(data)\n",
    "        loss = loss_fn(output, target)\n",
    "\n",
    "        # Backward pass\n",
    "        optimizer.zero_grad()\n",
    "        loss.backward()\n",
    "        optimizer.step()\n",
    "\n",
    "        # Collect loss values\n",
    "        loss_values.append(loss.item())\n",
    "\n",
    "    # Print progress\n",
    "    if batch_idx % 10000 == 0:\n",
    "        print('Epoch: {} [{}/{} ({:.0f}%)]\\tLoss: {:.6f}'.format(\n",
    "            epoch, batch_idx * len(data), len(train_loader.dataset),\n",
    "            100. * batch_idx / len(train_loader), loss.item()))"
   ]
  },
  {
   "cell_type": "code",
   "execution_count": 24,
   "id": "7b70483f",
   "metadata": {},
   "outputs": [
    {
     "data": {
      "image/png": "[encoded data removed]",
      "text/plain": [
       "<Figure size 432x288 with 1 Axes>"
      ]
     },
     "metadata": {
      "needs_background": "light"
     },
     "output_type": "display_data"
    }
   ],
   "source": [
    "# Plot the loss vs the batch number\n",
    "plt.plot(loss_values)\n",
    "plt.show()"
   ]
  },
  {
   "cell_type": "code",
   "execution_count": 25,
   "id": "9fe30343",
   "metadata": {},
   "outputs": [
    {
     "name": "stdout",
     "output_type": "stream",
     "text": [
      "97.71\n"
     ]
    }
   ],
   "source": [
    "# Evaluate the model on the test set\n",
    "model.eval()\n",
    "test_loss = 0\n",
    "correct = 0\n",
    "with torch.no_grad():\n",
    "    for data, target in test_loader:\n",
    "        output = model(data)\n",
    "        test_loss += loss_fn(output, target).item()\n",
    "        pred = output.argmax(dim=1, keepdim=True)\n",
    "        correct += pred.eq(target.view_as(pred)).sum().item()\n",
    "\n",
    "# Print the accuracy\n",
    "test_loss /= len(test_loader.dataset)\n",
    "accuracy = 100. * correct / len(test_loader.dataset)\n",
    "print(accuracy)"
   ]
  },
  {
   "cell_type": "markdown",
   "id": "41452788",
   "metadata": {},
   "source": [
    "## Appendix images for discussion\n",
    "\n",
    "### Approximation of a function's output\n",
    "![](https://tse3-mm.cn.bing.net/th/id/OIP-C.n0HqvV-DCIER1MAYOfbEBQHaC_?pid=ImgDet&rs=1)\n",
    "![](https://img1.cgtrader.com/items/2172133/f0a4b3e843/displacement-landscape-shader-050-3d-model-c4d.jpg)"
   ]
  },
  {
   "cell_type": "markdown",
   "id": "ef3da2ae",
   "metadata": {},
   "source": [
    "### Neural networks as an approximation of a function\n",
    "![](https://builtin.com/sites/www.builtin.com/files/styles/ckeditor_optimize/public/inline-images/1_activation%20functions%20deep%20learning_0.png\n",
    ")\n",
    "\n",
    "![](https://builtin.com/sites/www.builtin.com/files/styles/ckeditor_optimize/public/inline-images/4_activation%20functions%20deep%20learning_0.png)\n",
    "- image link: https://builtin.com/sites/www.builtin.com/files/styles/ckeditor_optimize/public/inline-images\n",
    "- image link: https://builtin.com/sites/www.builtin.com/files/styles/ckeditor_optimize/public/inline-images/1_activation%20functions%20deep%20learning_0.png\n"
   ]
  },
  {
   "cell_type": "markdown",
   "id": "974bad9c",
   "metadata": {},
   "source": [
    "### A simple view of a neuron\n",
    "![](https://learnopencv.com/wp-content/uploads/2017/10/neuron-diagram-768x432.jpg)\n",
    "- image credit: https://learnopencv.com\n"
   ]
  },
  {
   "cell_type": "markdown",
   "id": "34ecb6e0",
   "metadata": {},
   "source": [
    "### Gradient descend\n",
    "![](https://learnopencv.com/wp-content/uploads/2017/10/gradient-descent-2d-diagram.png)\n",
    "- image credit: https://learnopencv.com"
   ]
  },
  {
   "cell_type": "markdown",
   "id": "8c71aef6",
   "metadata": {},
   "source": [
    "### Activation functions\n",
    "![](https://mlfromscratch.com/content/images/size/w2000/2019/12/activation-functions.gif)\n",
    "- image credit: https://mlfromscratch.com"
   ]
  }
 ],
 "metadata": {
  "kernelspec": {
   "display_name": "Python 3 (ipykernel)",
   "language": "python",
   "name": "python3"
  },
  "language_info": {
   "codemirror_mode": {
    "name": "ipython",
    "version": 3
   },
   "file_extension": ".py",
   "mimetype": "text/x-python",
   "name": "python",
   "nbconvert_exporter": "python",
   "pygments_lexer": "ipython3",
   "version": "3.9.7"
  }
 },
 "nbformat": 4,
 "nbformat_minor": 5
}
