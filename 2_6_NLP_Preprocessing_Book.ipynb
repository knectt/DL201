{
 "cells": [
  {
   "cell_type": "markdown",
   "id": "94a244d1",
   "metadata": {},
   "source": [
    "## 💻 UnpackAI DL201 Bootcamp - Week 2 - Skills: NLP\n",
    "\n",
    "### 📕 Learning Objectives\n",
    "\n",
    "* Reinforce the need for data processing not only for NLP but for most machine learning tasks.\n",
    "* Review common data processing steps for NLP tasks.\n",
    "\n",
    "### 📖 Concepts map\n",
    "* Text fomratting\n",
    "* Tokenization\n",
    "* Stemming\n",
    "* Lemmatization\n",
    "* Stopwords"
   ]
  },
  {
   "cell_type": "markdown",
   "id": "9e75d726",
   "metadata": {},
   "source": [
    "As in most machine learning tasks, data preprocessing is a key step in the process of training a model as faulty and poor quality data will result in poor performance. Text preprocessing in NLP represent the set of techniques that format and correct the structure of the text, remove unwanted characters and words, simplify and highlight the semantical meaninig of the text as well as transforms the text into a form that can be used by the machine learning algorithm."
   ]
  },
  {
   "cell_type": "markdown",
   "id": "3d37cf43",
   "metadata": {},
   "source": [
    "Preprocessing tasks are more standarized than the ones use for Computer Vision and tabular data analysis, altough there are differences (because not all tasks require the same level of preprocessing),some steps are reused, often in the same order. Below there is a brief description of some of these tasks."
   ]
  },
  {
   "cell_type": "markdown",
   "id": "56b6775c",
   "metadata": {},
   "source": [
    "These tasks are part of the **morphological and lexical analysis** of the text, which are at the bottom of the NLP pipeline (text matching)\n",
    "\n",
    "- Text Integration: Combining text from different sources into a single corpus.\n",
    "- Text Formatting: Cleaning and formatting text.\n",
    "    - Removal of punctuation.\n",
    "    - Lowercasing.\n",
    "    - Removal of stopwords.\n",
    "    - Removal of numbers (or replace them with word numbers)\n",
    "    - Removal of special characters (e.g. HTML tags, URLs, string patterns, etc.)\n",
    "    - Removal of short words (e.g. words with less than 3 characters)\n",
    "    - Removal of repeated words.\n",
    "    - Removal of rare words (e.g. words that appear only once or only in a few documents).\n",
    "- Text segementation: Splitting text into sentences."
   ]
  },
  {
   "cell_type": "markdown",
   "id": "9060def4",
   "metadata": {},
   "source": [
    "Other processing steps operate at the **sematic level**, which affects the meaning of the text. (often rule-based)\n",
    "\n",
    "- Spell checking: Correcting misspelled words.\n",
    "- Grammar checking: Correcting grammatical errors.\n",
    "- Stemming: Removing suffixes from words.\n",
    "- Lemmatization: Simplifying words by using a dictionary of known words and roots."
   ]
  },
  {
   "cell_type": "markdown",
   "id": "a00f6e33",
   "metadata": {},
   "source": [
    "Example of Stemming. From: https://i0.wp.com/trevorfox.com/wp-content/uploads/2018/07/stemming-example.png"
   ]
  },
  {
   "cell_type": "markdown",
   "id": "77ee5c66",
   "metadata": {},
   "source": [
    "![](https://i0.wp.com/trevorfox.com/wp-content/uploads/2018/07/stemming-example.png?fit=500%2C605&ssl=1)"
   ]
  },
  {
   "cell_type": "markdown",
   "id": "d949456e",
   "metadata": {},
   "source": [
    "Comparison with lemmatization. From: https://medium.com/swlh/introduction-to-stemming-vs-lemmatization-nlp-8c69eb43ecfe"
   ]
  },
  {
   "cell_type": "markdown",
   "id": "999a8d4e",
   "metadata": {},
   "source": [
    "![](https://tse3-mm.cn.bing.net/th/id/OIP-C.2K4VxxRtewNw4iP-Kh5Z7QHaEH?pid=ImgDet&rs=1)"
   ]
  },
  {
   "cell_type": "markdown",
   "id": "26b440ba",
   "metadata": {},
   "source": [
    "Additionally, text enrichment can be applied providing more semantics to the original text with data that we didn't have before. (machine-learning, learn-based)\n",
    "- POS Tag: Part of speech tagging.\n",
    "- Entity Recognition: Recognizing named entities.\n",
    "- Entity relation extraction: Extracting relations between named entities.\n",
    "- Dependency parsing: Parsing the sentence into a tree structure."
   ]
  },
  {
   "cell_type": "markdown",
   "id": "7e6244d8",
   "metadata": {},
   "source": [
    "POS Tagging. From: https://www.researchgate.net/publication/337460636_Unpacking_the_Smart_Mobility_Concept_in_the_Dutch_Context_Based_on_a_Text_Mining_Approach"
   ]
  },
  {
   "cell_type": "markdown",
   "id": "ef9768b9",
   "metadata": {},
   "source": [
    "![](https://www.researchgate.net/publication/337460636/figure/download/fig1/AS:828223747284992@1574475337385/Example-of-part-of-speech-POS-tagging-and-lemmatization-for-two-example-sentences-The.ppm)"
   ]
  },
  {
   "cell_type": "markdown",
   "id": "a323fdfb",
   "metadata": {},
   "source": [
    "Entity recognition and dependency parsing. From: https://stanfordnlp.github.io/CoreNLP/"
   ]
  },
  {
   "cell_type": "markdown",
   "id": "cd36a084",
   "metadata": {},
   "source": [
    "![](https://stanfordnlp.github.io/CoreNLP/assets/images/ner.png)"
   ]
  },
  {
   "cell_type": "markdown",
   "id": "f7674507",
   "metadata": {},
   "source": [
    "Entity relation-extraction. From: https://www.mdpi.com/2079-9292/9/10/1637"
   ]
  },
  {
   "cell_type": "markdown",
   "id": "cd36a084",
   "metadata": {},
   "source": [
    "![](https://www.mdpi.com/electronics/electronics-09-01637/article_deploy/html/images/electronics-09-01637-g001.png)"
   ]
  },
  {
   "cell_type": "markdown",
   "id": "bd364f68",
   "metadata": {},
   "source": [
    "Then we have text vectorization, which is the process of converting the text into a vector representation. This step is required to train a machine learning model.\n",
    "\n",
    "Vectorized representations of text are usually obtained via:\n",
    "- Bag of words: A vector representation of the text is obtained by counting the number of times each word appears in the text.\n",
    "- TF-IDF: A vector representation of the text is obtained by counting the number of times each word appears in the text and then normalizing the counts by the number of documents in which the word appears.\n",
    "- Word embeddings: A vector representation of the text is obtained by using a word embedding model to represent the text.\n",
    "    - Word2Vec.\n",
    "    - Bert."
   ]
  },
  {
   "cell_type": "markdown",
   "id": "bb3aa398",
   "metadata": {},
   "source": [
    "From here the vectorized representation becomes the input for the machine learning algorithm. Depending of the algorithm, the input can be:\n",
    "- Classification: The input is a vector representation of the text and the output is a class label.\n",
    "- Regression: The input is a vector representation of the text and the output is a real number.\n",
    "- Clustering: The input is a vector representation of the text and the output is a cluster label.\n",
    "- Recommendation: The input is a vector representation of the text and the output is a list of recommendations.\n",
    "- Sentiment analysis: The input is a vector representation of the text and the output is a real number.\n",
    "- Topic modeling: The input is a vector representation of the text and the output is a list of topics.\n",
    "- Text summarization: The input is a vector representation of the text and the output is a list of sentences.\n",
    "- Text translation: The input is a vector representation of the text and the output is a list of translations."
   ]
  },
  {
   "cell_type": "markdown",
   "id": "6f71e40e",
   "metadata": {},
   "source": [
    "### Revisit the previous example\n",
    "\n",
    "Implement a few of the preprocessing steps mentioned above."
   ]
  },
  {
   "cell_type": "code",
   "execution_count": 1,
   "id": "d7237d2f",
   "metadata": {},
   "outputs": [],
   "source": [
    "# Import libraries\n",
    "import numpy as np\n",
    "import pandas as pd\n",
    "import torch\n",
    "import requests\n",
    "from transformers import BertTokenizer, BertModel\n",
    "import nltk\n",
    "from nltk import FreqDist\n",
    "from nltk.corpus import stopwords\n",
    "from nltk.stem import WordNetLemmatizer\n",
    "from nltk.stem import PorterStemmer\n",
    "\n",
    "from sklearn.decomposition import PCA\n",
    "import matplotlib.pyplot as plt\n",
    "from mpl_toolkits.mplot3d import Axes3D"
   ]
  },
  {
   "cell_type": "code",
   "execution_count": 2,
   "id": "7d58e3a1",
   "metadata": {},
   "outputs": [
    {
     "name": "stderr",
     "output_type": "stream",
     "text": [
      "[nltk_data] Error loading stopwords: <urlopen error [Errno 11004]\n",
      "[nltk_data]     getaddrinfo failed>\n",
      "[nltk_data] Error loading wordnet: <urlopen error [Errno 11004]\n",
      "[nltk_data]     getaddrinfo failed>\n",
      "Some weights of the model checkpoint at bert-base-uncased were not used when initializing BertModel: ['cls.predictions.transform.LayerNorm.weight', 'cls.predictions.decoder.weight', 'cls.seq_relationship.weight', 'cls.predictions.transform.dense.weight', 'cls.predictions.transform.dense.bias', 'cls.seq_relationship.bias', 'cls.predictions.bias', 'cls.predictions.transform.LayerNorm.bias']\n",
      "- This IS expected if you are initializing BertModel from the checkpoint of a model trained on another task or with another architecture (e.g. initializing a BertForSequenceClassification model from a BertForPreTraining model).\n",
      "- This IS NOT expected if you are initializing BertModel from the checkpoint of a model that you expect to be exactly identical (initializing a BertForSequenceClassification model from a BertForSequenceClassification model).\n"
     ]
    }
   ],
   "source": [
    "# Download dependencies\n",
    "nltk.download('stopwords')\n",
    "nltk.download('wordnet')\n",
    "bert_tokenizer = BertTokenizer.from_pretrained('bert-base-uncased')\n",
    "bert_model = BertModel.from_pretrained('bert-base-uncased')"
   ]
  },
  {
   "cell_type": "code",
   "execution_count": 3,
   "id": "5340ddd5",
   "metadata": {},
   "outputs": [],
   "source": [
    "# Load a sample text, from the provided url into a dataframe\n",
    "response = requests.get('http://www.textfiles.com/stories/alad10.txt')\n",
    "sample_text = response.text\n",
    "sentences = sample_text.split('\\n')                        # Split text into sentences\n",
    "df = pd.DataFrame(sentences, columns=['sentence'])"
   ]
  },
  {
   "cell_type": "code",
   "execution_count": 4,
   "id": "b47c030b",
   "metadata": {},
   "outputs": [
    {
     "name": "stderr",
     "output_type": "stream",
     "text": [
      "C:\\Users\\lenis\\AppData\\Local\\Temp/ipykernel_5424/1803514917.py:4: FutureWarning: The default value of regex will change from True to False in a future version.\n",
      "  df['sentence'] = df['sentence'].str.replace('[^\\w\\s]','')   # Remove punctuation\n"
     ]
    },
    {
     "data": {
      "text/plain": [
       "1                     aladdin and the wonderful lamp\\r\n",
       "4    there once lived a poor tailor who had a son c...\n",
       "5    a careless idle boy who would do nothing but p...\n",
       "6    the streets with little idle boys like himself...\n",
       "7    father that he died yet in spite of his mother...\n",
       "Name: sentence, dtype: object"
      ]
     },
     "execution_count": 4,
     "metadata": {},
     "output_type": "execute_result"
    }
   ],
   "source": [
    "# Text cleaning (morphological changes)\n",
    "df['sentence'] = df['sentence'].str.lower()                 # Lowercase\n",
    "df = df[df['sentence'].str.split().str.len() > 3]           # Remove short sentences\n",
    "df['sentence'] = df['sentence'].str.replace('[^\\w\\s]','')   # Remove punctuation\n",
    "max_len = df['sentence'].str.len().max()                    # longest sentence\n",
    "df['sentence'].head(5)                                    "
   ]
  },
  {
   "cell_type": "code",
   "execution_count": 5,
   "id": "fa22224a",
   "metadata": {},
   "outputs": [
    {
     "name": "stdout",
     "output_type": "stream",
     "text": [
      "['shouldn', \"shouldn't\", 'wasn', \"wasn't\", 'weren', \"weren't\", 'won', \"won't\", 'wouldn', \"wouldn't\"]\n"
     ]
    },
    {
     "data": {
      "text/plain": [
       "1                           aladdin wonderful lamp\n",
       "4             lived poor tailor son called aladdin\n",
       "5    careless idle boy would nothing play day long\n",
       "6            streets little idle boys like grieved\n",
       "7      father died yet spite mothers tears prayers\n",
       "Name: sentence, dtype: object"
      ]
     },
     "execution_count": 5,
     "metadata": {},
     "output_type": "execute_result"
    }
   ],
   "source": [
    "# Remove Stopwords\n",
    "eng_stopwords = stopwords.words('english')\n",
    "print(eng_stopwords[-10:])\n",
    "df['sentence'] = df['sentence'].apply(lambda x: ' '.join([word for word in x.split() if word not in eng_stopwords]))\n",
    "df['sentence'].head(5) "
   ]
  },
  {
   "cell_type": "code",
   "execution_count": null,
   "id": "39cdd321",
   "metadata": {},
   "outputs": [],
   "source": [
    "# Apply lemmatization\n",
    "lemmatizer = WordNetLemmatizer()\n",
    "df['sentence'] = df['sentence'].apply(lambda x: ' '.join([lemmatizer.lemmatize(word) for word in x.split()]))\n",
    "df['sentence'].head(5) "
   ]
  },
  {
   "cell_type": "code",
   "execution_count": 6,
   "id": "24fe779c",
   "metadata": {},
   "outputs": [
    {
     "data": {
      "text/plain": [
       "1                          aladdin wonder lamp\n",
       "4            live poor tailor son call aladdin\n",
       "5    careless idl boy would noth play day long\n",
       "6              street littl idl boy like griev\n",
       "7      father die yet spite mother tear prayer\n",
       "Name: sentence, dtype: object"
      ]
     },
     "execution_count": 6,
     "metadata": {},
     "output_type": "execute_result"
    }
   ],
   "source": [
    "# Apply stemming\n",
    "stemmer = PorterStemmer()\n",
    "df['sentence'] = df['sentence'].apply(lambda x: ' '.join([stemmer.stem(word) for word in x.split()]))\n",
    "df['sentence'].head(5)"
   ]
  },
  {
   "cell_type": "code",
   "execution_count": 7,
   "id": "205585c8",
   "metadata": {},
   "outputs": [
    {
     "data": {
      "text/html": [
       "<div>\n",
       "<style scoped>\n",
       "    .dataframe tbody tr th:only-of-type {\n",
       "        vertical-align: middle;\n",
       "    }\n",
       "\n",
       "    .dataframe tbody tr th {\n",
       "        vertical-align: top;\n",
       "    }\n",
       "\n",
       "    .dataframe thead th {\n",
       "        text-align: right;\n",
       "    }\n",
       "</style>\n",
       "<table border=\"1\" class=\"dataframe\">\n",
       "  <thead>\n",
       "    <tr style=\"text-align: right;\">\n",
       "      <th></th>\n",
       "      <th>sentence</th>\n",
       "      <th>tokenized_sentence</th>\n",
       "      <th>numericalized_sentence</th>\n",
       "    </tr>\n",
       "  </thead>\n",
       "  <tbody>\n",
       "    <tr>\n",
       "      <th>448</th>\n",
       "      <td>pleasur hall spoilt want roc egg</td>\n",
       "      <td>[pleas, ##ur, hall, spoil, ##t, want, roc, egg]</td>\n",
       "      <td>[22512, 3126, 2534, 27594, 2102, 2215, 21326, ...</td>\n",
       "    </tr>\n",
       "    <tr>\n",
       "      <th>55</th>\n",
       "      <td>come nich terrac stand light lamp pour</td>\n",
       "      <td>[come, nic, ##h, terra, ##c, stand, light, lam...</td>\n",
       "      <td>[2272, 27969, 2232, 14403, 2278, 3233, 2422, 1...</td>\n",
       "    </tr>\n",
       "    <tr>\n",
       "      <th>236</th>\n",
       "      <td>go see</td>\n",
       "      <td>[go, see]</td>\n",
       "      <td>[2175, 2156]</td>\n",
       "    </tr>\n",
       "    <tr>\n",
       "      <th>302</th>\n",
       "      <td>offer exchang fine new lamp old one anoth slave</td>\n",
       "      <td>[offer, ex, ##chang, fine, new, lamp, old, one...</td>\n",
       "      <td>[3749, 4654, 22305, 2986, 2047, 10437, 2214, 2...</td>\n",
       "    </tr>\n",
       "    <tr>\n",
       "      <th>419</th>\n",
       "      <td>african magician younger brother possibl</td>\n",
       "      <td>[african, magician, younger, brother, po, ##ss...</td>\n",
       "      <td>[3060, 16669, 3920, 2567, 13433, 18719, 16558]</td>\n",
       "    </tr>\n",
       "    <tr>\n",
       "      <th>87</th>\n",
       "      <td>child said noth hous spun</td>\n",
       "      <td>[child, said, not, ##h, ho, ##us, spun]</td>\n",
       "      <td>[2775, 2056, 2025, 2232, 7570, 2271, 7455]</td>\n",
       "    </tr>\n",
       "    <tr>\n",
       "      <th>178</th>\n",
       "      <td>sigh deepli last told mother night</td>\n",
       "      <td>[sigh, deep, ##li, last, told, mother, night]</td>\n",
       "      <td>[6682, 2784, 3669, 2197, 2409, 2388, 2305]</td>\n",
       "    </tr>\n",
       "    <tr>\n",
       "      <th>384</th>\n",
       "      <td>smile lead believ forgotten</td>\n",
       "      <td>[smile, lead, bel, ##ie, ##v, forgotten]</td>\n",
       "      <td>[2868, 2599, 19337, 2666, 2615, 6404]</td>\n",
       "    </tr>\n",
       "    <tr>\n",
       "      <th>158</th>\n",
       "      <td>princess command tonight bring hither</td>\n",
       "      <td>[princess, command, tonight, bring, hit, ##her]</td>\n",
       "      <td>[4615, 3094, 3892, 3288, 2718, 5886]</td>\n",
       "    </tr>\n",
       "    <tr>\n",
       "      <th>379</th>\n",
       "      <td>use violenc aladdin comfort left</td>\n",
       "      <td>[use, vi, ##ole, ##nc, ala, ##ddin, comfort, l...</td>\n",
       "      <td>[2224, 6819, 9890, 12273, 21862, 18277, 7216, ...</td>\n",
       "    </tr>\n",
       "  </tbody>\n",
       "</table>\n",
       "</div>"
      ],
      "text/plain": [
       "                                            sentence  \\\n",
       "448                 pleasur hall spoilt want roc egg   \n",
       "55            come nich terrac stand light lamp pour   \n",
       "236                                           go see   \n",
       "302  offer exchang fine new lamp old one anoth slave   \n",
       "419         african magician younger brother possibl   \n",
       "87                         child said noth hous spun   \n",
       "178               sigh deepli last told mother night   \n",
       "384                      smile lead believ forgotten   \n",
       "158            princess command tonight bring hither   \n",
       "379                 use violenc aladdin comfort left   \n",
       "\n",
       "                                    tokenized_sentence  \\\n",
       "448    [pleas, ##ur, hall, spoil, ##t, want, roc, egg]   \n",
       "55   [come, nic, ##h, terra, ##c, stand, light, lam...   \n",
       "236                                          [go, see]   \n",
       "302  [offer, ex, ##chang, fine, new, lamp, old, one...   \n",
       "419  [african, magician, younger, brother, po, ##ss...   \n",
       "87             [child, said, not, ##h, ho, ##us, spun]   \n",
       "178      [sigh, deep, ##li, last, told, mother, night]   \n",
       "384           [smile, lead, bel, ##ie, ##v, forgotten]   \n",
       "158    [princess, command, tonight, bring, hit, ##her]   \n",
       "379  [use, vi, ##ole, ##nc, ala, ##ddin, comfort, l...   \n",
       "\n",
       "                                numericalized_sentence  \n",
       "448  [22512, 3126, 2534, 27594, 2102, 2215, 21326, ...  \n",
       "55   [2272, 27969, 2232, 14403, 2278, 3233, 2422, 1...  \n",
       "236                                       [2175, 2156]  \n",
       "302  [3749, 4654, 22305, 2986, 2047, 10437, 2214, 2...  \n",
       "419     [3060, 16669, 3920, 2567, 13433, 18719, 16558]  \n",
       "87          [2775, 2056, 2025, 2232, 7570, 2271, 7455]  \n",
       "178         [6682, 2784, 3669, 2197, 2409, 2388, 2305]  \n",
       "384              [2868, 2599, 19337, 2666, 2615, 6404]  \n",
       "158               [4615, 3094, 3892, 3288, 2718, 5886]  \n",
       "379  [2224, 6819, 9890, 12273, 21862, 18277, 7216, ...  "
      ]
     },
     "execution_count": 7,
     "metadata": {},
     "output_type": "execute_result"
    }
   ],
   "source": [
    "# Tokenize the sentences, add tokens ids\n",
    "tokens_df = df.copy()\n",
    "tokens_df['tokenized_sentence'] = tokens_df['sentence'].apply(bert_tokenizer.tokenize)\n",
    "tokens_df['numericalized_sentence'] = tokens_df['tokenized_sentence'].apply(bert_tokenizer.convert_tokens_to_ids)\n",
    "tokens_df.sample(10)"
   ]
  },
  {
   "cell_type": "code",
   "execution_count": 8,
   "id": "82dd7f30",
   "metadata": {},
   "outputs": [
    {
     "data": {
      "text/plain": [
       "31     [101, 16669, 4139, 9850, 21025, 4103, 2140, 44...\n",
       "72     [101, 13219, 21862, 18277, 16405, 14536, 2891,...\n",
       "351    [101, 2275, 6203, 2564, 3332, 2179, 102, 0, 0,...\n",
       "69     [101, 3894, 2338, 4687, 10437, 2052, 2191, 102...\n",
       "250    [101, 2056, 7499, 17935, 3775, 7782, 4487, 131...\n",
       "433    [101, 2146, 4078, 4313, 2156, 27596, 2741, 227...\n",
       "411    [101, 2684, 4148, 2298, 14548, 3239, 102, 0, 0...\n",
       "203    [101, 21459, 3669, 4377, 2425, 26751, 3437, 10...\n",
       "168    [101, 28616, 2121, 2305, 2166, 21862, 18277, 3...\n",
       "115    [101, 2071, 2444, 2302, 3214, 3198, 9388, 4360...\n",
       "Name: numericalized_sentence, dtype: object"
      ]
     },
     "execution_count": 8,
     "metadata": {},
     "output_type": "execute_result"
    }
   ],
   "source": [
    "# Add the [CLS] and [SEP] special tokens and padding to the numericalized sentences on the dataframe\n",
    "tokens_df['numericalized_sentence'] = tokens_df['numericalized_sentence'].apply(lambda x: [bert_tokenizer.cls_token_id] + x + [bert_tokenizer.sep_token_id])\n",
    "tokens_df['numericalized_sentence'] = tokens_df['numericalized_sentence'].apply(lambda x: x + [bert_tokenizer.pad_token_id] * (max_len - len(x)))\n",
    "tokens_df['numericalized_sentence'].sample(10)"
   ]
  },
  {
   "cell_type": "code",
   "execution_count": 9,
   "id": "2344b630",
   "metadata": {},
   "outputs": [
    {
     "name": "stdout",
     "output_type": "stream",
     "text": [
      "torch.Size([447, 76])\n"
     ]
    }
   ],
   "source": [
    "# Extract encoded value to a Tensor\n",
    "numericalized_sentences = tokens_df['numericalized_sentence'].values\n",
    "numericalized_sentences = [list(x) for x in numericalized_sentences]\n",
    "numericalized_sentences = np.array(numericalized_sentences)\n",
    "numericalized_sentences = torch.from_numpy(numericalized_sentences)\n",
    "print(numericalized_sentences.shape)"
   ]
  },
  {
   "cell_type": "code",
   "execution_count": 10,
   "id": "7ed10e8b",
   "metadata": {},
   "outputs": [
    {
     "name": "stdout",
     "output_type": "stream",
     "text": [
      "torch.Size([223, 76])\n"
     ]
    }
   ],
   "source": [
    "# Use a fourth of the sentences to reduce memory usage\n",
    "numericalized_sentences = numericalized_sentences[:len(numericalized_sentences)//4, :]\n",
    "print(numericalized_sentences.shape)"
   ]
  },
  {
   "cell_type": "code",
   "execution_count": 11,
   "id": "3cfdd7d4",
   "metadata": {},
   "outputs": [
    {
     "name": "stdout",
     "output_type": "stream",
     "text": [
      "(223, 76, 768)\n"
     ]
    }
   ],
   "source": [
    "# Encode the numericalized sentences using BERT\n",
    "encoded_sentences = bert_model(numericalized_sentences)[0]\n",
    "encoded_sentences = encoded_sentences.detach().numpy()\n",
    "print(encoded_sentences.shape)"
   ]
  },
  {
   "cell_type": "code",
   "execution_count": 12,
   "id": "f4384158",
   "metadata": {},
   "outputs": [
    {
     "name": "stdout",
     "output_type": "stream",
     "text": [
      "(223, 768)\n"
     ]
    }
   ],
   "source": [
    "# Add embedings of each sentence\n",
    "encoded_sentences = np.sum(encoded_sentences, axis=1)\n",
    "print(encoded_sentences.shape)"
   ]
  },
  {
   "cell_type": "code",
   "execution_count": 26,
   "id": "0a9ac81f",
   "metadata": {},
   "outputs": [
    {
     "name": "stdout",
     "output_type": "stream",
     "text": [
      "(223, 3)\n"
     ]
    }
   ],
   "source": [
    "# Use PCA to reduce the embedding dimensionality to 3\n",
    "pca = PCA(n_components=3)\n",
    "pca.fit(encoded_sentences)\n",
    "reduced_embeddings = pca.transform(encoded_sentences)\n",
    "print(reduced_embeddings.shape)"
   ]
  },
  {
   "cell_type": "code",
   "execution_count": 27,
   "id": "d77be743",
   "metadata": {},
   "outputs": [
    {
     "name": "stderr",
     "output_type": "stream",
     "text": [
      "C:\\Users\\lenis\\AppData\\Local\\Temp/ipykernel_5424/1060887147.py:3: MatplotlibDeprecationWarning: Axes3D(fig) adding itself to the figure is deprecated since 3.4. Pass the keyword argument auto_add_to_figure=False and use fig.add_axes(ax) to suppress this warning. The default value of auto_add_to_figure will change to False in mpl3.5 and True values will no longer work in 3.6.  This is consistent with other Axes classes.\n",
      "  ax = Axes3D(fig)\n"
     ]
    },
    {
     "data": {
      "image/png": "[encoded data removed]",
      "text/plain": [
       "<Figure size 432x288 with 1 Axes>"
      ]
     },
     "metadata": {
      "needs_background": "light"
     },
     "output_type": "display_data"
    }
   ],
   "source": [
    "# plot 3D embeddings, add tight axis\n",
    "fig = plt.figure()\n",
    "ax = Axes3D(fig)\n",
    "ax.scatter(reduced_embeddings[:, 0], reduced_embeddings[:, 1], reduced_embeddings[:, 2])\n",
    "ax.grid(True)\n",
    "\n",
    "\n",
    "# Add a label to each data point\n",
    "for i in range(len(reduced_embeddings)):\n",
    "    ax.text(reduced_embeddings[i, 0], reduced_embeddings[i, 1], reduced_embeddings[i, 2], f'{i}')\n",
    "    \n",
    "\n",
    "plt.show()"
   ]
  },
  {
   "cell_type": "code",
   "execution_count": 36,
   "id": "d93e4e4a",
   "metadata": {},
   "outputs": [
    {
     "name": "stdout",
     "output_type": "stream",
     "text": [
      "- Sentence 58: went home faint threshold came\n",
      "- Sentence 124: middl shall build larg hall dome four wall\n"
     ]
    }
   ],
   "source": [
    "# Print sentences that appear distinct in the embeddings\n",
    "print(f\"- Sentence 76: {df['sentence'].iloc[76]}\")\n",
    "print(f\"- Sentence 220: {df['sentence'].iloc[220]}\")"
   ]
  },
  {
   "cell_type": "markdown",
   "id": "1d52596f",
   "metadata": {
    "tags": []
   },
   "source": [
    "### Exercise: experiment!\n",
    "\n",
    "* Combine text from at least two different sources.\n",
    "* Try different nlp libraries\n",
    "* Perform an expanded NLP pipeline (check spelling, POS tagging, entity recognition, dependency parsing, etc.)\n"
   ]
  }
 ],
 "metadata": {
  "interpreter": {
   "hash": "b35736f271ae3a6547f08ef3ad12296102f5e6031b2a7c6493a7e5cc9f313275"
  },
  "kernelspec": {
   "display_name": "Python 3 (ipykernel)",
   "language": "python",
   "name": "python3"
  },
  "language_info": {
   "codemirror_mode": {
    "name": "ipython",
    "version": 3
   },
   "file_extension": ".py",
   "mimetype": "text/x-python",
   "name": "python",
   "nbconvert_exporter": "python",
   "pygments_lexer": "ipython3",
   "version": "3.9.7"
  }
 },
 "nbformat": 4,
 "nbformat_minor": 5
}
