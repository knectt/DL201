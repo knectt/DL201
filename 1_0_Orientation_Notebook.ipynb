{
 "cells": [
  {
   "cell_type": "markdown",
   "id": "5b06da8e",
   "metadata": {},
   "source": [
    "# 💻Welcome to the DL201 Bootcamp \n",
    "\n",
    "## A New chapter on your Machine Learning journey\n",
    "\n",
    "Welcome to the DL201 Bootcamp! This is a new bootcamp designed with collaboration and inclusion in mind, here we provide guidance as we learn as a community essential skills on data manipulation, important machine learning and AI concepts as well as the usage of existing software tools and pre-trained models. We would like to give skills that allow students to build a proof of concept of their desired project in a short time.\n"
   ]
  },
  {
   "cell_type": "markdown",
   "id": "74b82881",
   "metadata": {},
   "source": [
    "## 📕 Learning Objectives\n",
    "\n",
    "* Acquire basic data manipulation skills that allow students to make use of machine learning and AI tools.\n",
    "* Have an appreciation for important processing methods and transformations commonly required to load datasets into tensors.\n",
    "* Build a foundation on using and fine-tuning pre-trained models.\n",
    "* Apply obtained skills and knowledge to build a proof of concept of a project."
   ]
  },
  {
   "cell_type": "markdown",
   "id": "c8b30cdd-8187-46ec-a8e2-f162483ac992",
   "metadata": {},
   "source": [
    "## Benefits of a boot camp\n",
    "\n",
    "* Discussing concepts with peers is scientifically proven to be the best way to fully understand concepts rather than rely on formulas. \n",
    "* Increases people's ability to analyse unfamiliar situations\n",
    "* Passive lectures don't offer value that online videos don't\n",
    "* Can form relationships and a sense of community with classmates. "
   ]
  },
  {
   "cell_type": "markdown",
   "id": "1e1a8827",
   "metadata": {},
   "source": [
    "## 📅 Weekly Progress\n",
    "\n",
    "<table>\n",
    "<tbody>\n",
    "<tr class=\"odd\">\n",
    "<td>Week</td>\n",
    "<td>Title</td>\n",
    "<td>Learning Content</td>\n",
    "</tr>\n",
    "<tr class=\"even\">\n",
    "<td>0</td>\n",
    "<td>Course deliverables and project setup</td>\n",
    "<td><ol type=\"1\">\n",
    "<li><p>Meet your mentors, unpackers</p></li>\n",
    "<li><p>Understand the bootcamp objectives and logistics</p></li>\n",
    "<li><p>Receive the framework for building your AI project in this\n",
    "course. Learn and build as you go over the first three weeks, finalize\n",
    "the project by the end of 4th week.</p></li>\n",
    "</ol></td>\n",
    "</tr>\n",
    "<tr class=\"odd\">\n",
    "<td>1</td>\n",
    "<td>Data Loading and Exploratory Analysis</td>\n",
    "<td><ol type=\"1\">\n",
    "<li><p>understand how to load datasets and metadata in the most common\n",
    "file formats</p></li>\n",
    "<li><p>explore the datasets and discern if it is suitable for adaptation\n",
    "to our problem</p></li>\n",
    "<li><p>gain tools to manipulate metadata and tabular data using\n",
    "Pandas</p></li>\n",
    "<li><p>have an appreciation for how data can be represented as tensors\n",
    "Explore the data-centric approach in AI, and learn about its importance\n",
    "in Machine &amp; Deep Learning.</p></li>\n",
    "<li><p>Utilize tools to label, improve and balance your\n",
    "datasets.</p></li>\n",
    "</ol></td>\n",
    "</tr>\n",
    "<tr class=\"even\">\n",
    "<td>2</td>\n",
    "<td>Data Preprocessing and Transformations</td>\n",
    "<td><ol type=\"1\">\n",
    "<li><p>Common Data Wrangling tasks</p></li>\n",
    "<li><p>Feature engineering</p></li>\n",
    "<li><p>Grouping into Categories</p></li>\n",
    "<li><p>Feature Decomposition</p></li>\n",
    "<li><p>Tabular Data Transformation methods</p></li>\n",
    "<li><p>Computer vision preprocessing techniques like label encoding,\n",
    "handling unbalanced classes</p></li>\n",
    "<li><p>CV Data transformation like normalizing pixel values</p></li>\n",
    "<li><p>Text preprocessing for NLP tasks like encoding and\n",
    "embeddings</p></li>\n",
    "</ol></td>\n",
    "</tr>\n",
    "<tr class=\"odd\">\n",
    "<td>3</td>\n",
    "<td>Algorithms and Model Training</td>\n",
    "<td><ol type=\"1\">\n",
    "<li><p>The most common cutting edge DL algorithms and\n",
    "architectures</p></li>\n",
    "<li><p>Pretrained models</p></li>\n",
    "<li><p>Hyperparameters</p></li>\n",
    "<li><p>Fine-tuning of pretrained models</p></li>\n",
    "</ol></td>\n",
    "</tr>\n",
    "<tr class=\"even\">\n",
    "<td>4</td>\n",
    "<td>Project Finalization</td>\n",
    "<td><ol type=\"1\">\n",
    "<li><p>Fully apply newly gained machine learning skills to your ongoing\n",
    "project to deliver the final results.</p></li>\n",
    "<li><p>Get on 1:1 calls with mentors to get personalized feedback and\n",
    "recommendations before presenting it as a proof-of-concept project on\n",
    "Demo Day.</p></li>\n",
    "<li><p>Get published on our social media to feature your project,\n",
    "receive the certificate and opportunity to become a mentor for future\n",
    "cohorts</p></li>\n",
    "</ol></td>\n",
    "</tr>\n",
    "</tbody>\n",
    "</table>"
   ]
  },
  {
   "cell_type": "markdown",
   "id": "5b1348f1",
   "metadata": {},
   "source": [
    "## Software Requirements for the Bootcamp\n",
    "\n",
    "In order to ensure a good learning experience, you will need to use the software listed out below. All of them expect the VPN are for free.\n",
    "\n",
    "1. **Tencent Meeting**. In order to join live sessions with mentors and fellow students you have to install Tencent Meeting or Voov on your laptop.\n",
    "\n",
    "> *We don't recommend to use your phone to join live sessions as your phone doesn't provide a proper online session environment, and will compromise the quality of live group interactions.*\n",
    "\n",
    "2. **WeChat**. It's our main communication tool for every day communication. You will receive instructions, announcements, ask all sorts of questions related to the content, Bootcamp, and recieve answers on a timely manner in the WeChat group. \n",
    "\n",
    "3. **Kaggle Notebooks**. It is a platform for data science competitions. It is a great tool for data science competitions. You can use it to submit your code and get feedback from other participants."
   ]
  },
  {
   "cell_type": "markdown",
   "id": "610bd8e2",
   "metadata": {},
   "source": [
    "## Getting to know each other\n",
    "Let's briefly talk about:\n",
    "\n",
    "- Your expectations for the Bootcamp.\n",
    "- Previous any experience with AI.\n",
    "- Your coding background.\n",
    "- Your desired AI project."
   ]
  },
  {
   "cell_type": "markdown",
   "id": "6b543354",
   "metadata": {},
   "source": [
    "## This bootcamp is hosted on GitHub!\n",
    "\n",
    "Github is a universal tool in software development. It's full of features that allows hundreds to even thousands of people to collaborate online. It is also a social network that is suited for this course. It has a learning curve, but it pays off in the short term and long term. \n",
    "\n",
    "https://github.com/unpackAI/DL201/\n",
    "\n",
    "Let's review how:\n",
    "- Clone the repository.\n",
    "- Use the Issues sections to report problems and ask/provide help.\n",
    "- Use the discussion section."
   ]
  },
  {
   "cell_type": "markdown",
   "id": "99213d77",
   "metadata": {},
   "source": [
    "## We recommend the usage of Kaggle Notebooks (live mini-demo)\n",
    "Google colab and local environments are still supported but Kaggle is our recommended option. Kaggle is well-know portal for data science competitions and it has an enourmous collections of datasets.\n",
    "\n",
    "https://www.kaggle.com/code\n",
    "\n",
    "Important reasons to use Kaggle Notebooks:\n",
    "- No VPN access required.\n",
    "- 50+ hours of weekly GPU usage for free.\n",
    "- Familiar environment with Jupyter.\n",
    "- No need to install any software.\n",
    "- Immediate access to the enourmous collection of datasets provided by Kaggle."
   ]
  },
  {
   "cell_type": "markdown",
   "id": "3ac01814",
   "metadata": {},
   "source": [
    "## Sample code: collect images form the PETS dataset to train a RESNET-based dogs vs cats classifier\n"
   ]
  },
  {
   "cell_type": "code",
   "execution_count": null,
   "id": "fa70dcc1",
   "metadata": {},
   "outputs": [],
   "source": [
    "# The purpose of the sample code is to test a Python environment.\n",
    "# If this cell shows a pip error on Kaggle, simply try again or reload the notebook.\n",
    "# Make sure you enable the GPU accelerator by clicking on the top right corner of the notebook.\n",
    "\n",
    "# Install packages (comment if not required)\n",
    "!pip install -Uqq  ipywidgets fastai fastbook\n",
    "\n",
    "# Import dependencies for all sample AI applications (again, to test the environment)\n",
    "import os\n",
    "import numpy\n",
    "import pandas\n",
    "import torch\n",
    "from fastai.vision.all import *\n",
    "from fastai.text.all import *\n",
    "from fastai.collab import *\n",
    "from fastai.tabular.all import *\n",
    "import ipywidgets as widgets\n",
    "from IPython.display import Image\n",
    "import fastbook\n",
    "import urllib.request\n",
    "\n",
    "import urllib.request\n",
    "import requests\n",
    "fastbook.setup_book()"
   ]
  },
  {
   "cell_type": "markdown",
   "id": "0735cf0c",
   "metadata": {},
   "source": [
    "### AI application sample: collect images form the PETS dataset to train a RESNET-based dogs vs cats classifier"
   ]
  },
  {
   "cell_type": "code",
   "execution_count": null,
   "id": "1585fbe8",
   "metadata": {},
   "outputs": [],
   "source": [
    "\"\"\"\n",
    "AI application sample: collect images form the PETS dataset to train a \n",
    "RESNET-based dogs vs cats classifier\n",
    "\"\"\"\n",
    "\n",
    "# Download images, navigate to the folder and display some of the images\n",
    "image_path = untar_data(URLs.PETS)/'images'\n",
    "os.chdir(image_path)\n",
    "filenames = os.listdir('.')\n",
    "\n",
    "def slider_callback(position):\n",
    "    image_object = Image(filename=filenames[position], width=600)\n",
    "    display(image_object)\n",
    "\n",
    "widgets.interact(slider_callback, position=widgets.IntSlider(min=0, max=len(filenames), step=1))"
   ]
  },
  {
   "cell_type": "code",
   "execution_count": null,
   "id": "d457d516",
   "metadata": {},
   "outputs": [],
   "source": [
    "# On this dataset, cat images filenames beggin with an uppercase letter\n",
    "print(filenames[:11])\n",
    "\n",
    "# Define a function that uses that property to select if a filename is a cat\n",
    "def is_cat(filename):\n",
    "    return filename[0].isupper()\n",
    "\n",
    "# Create a dataloader\n",
    "data_loader = ImageDataLoaders.from_name_func(\n",
    "    path=image_path, fnames=get_image_files(image_path), label_func=is_cat, valid_pct=0.2, seed=42,\n",
    "    item_tfms=Resize(224)\n",
    ")"
   ]
  },
  {
   "cell_type": "code",
   "execution_count": null,
   "id": "42f3922d",
   "metadata": {},
   "outputs": [],
   "source": [
    "# Feed data to model and train, train with 2 epoch\n",
    "\"\"\"\n",
    "Note: Usually more epochs are required to achieve a good result\n",
    "but given the quality of the dataset and the model in this case is enough.\n",
    "\"\"\"\n",
    "\n",
    "image_learner = cnn_learner(data_loader, resnet34, metrics=error_rate)\n",
    "image_learner.fine_tune(2)"
   ]
  },
  {
   "cell_type": "code",
   "execution_count": null,
   "id": "4de0eb50",
   "metadata": {},
   "outputs": [],
   "source": [
    "# Display a sample image for inference (a cat)\n",
    "image_url = \"https://i.postimg.cc/02Tv8pdc/sample-cat.jpg\"\n",
    "image_filename = \"sample-cat.jpg\"\n",
    "Image(url=image_url, width=500, height=500)"
   ]
  },
  {
   "cell_type": "code",
   "execution_count": null,
   "id": "1c2f80f2",
   "metadata": {},
   "outputs": [],
   "source": [
    "# Donwload the image by using its url and filename\n",
    "# One of several methods to donwload an image\n",
    "urllib.request.urlretrieve(image_url, f\"{os.getcwd()}/{image_filename}\")   \n",
    "image_data = PILImage.create(image_filename)"
   ]
  },
  {
   "cell_type": "code",
   "execution_count": null,
   "id": "e26d3015",
   "metadata": {},
   "outputs": [],
   "source": [
    "# Print inference results\n",
    "prediction_label, p, probabilities = image_learner.predict(image_data)\n",
    "print(f\"Is this a cat?: {prediction_label}.\")\n",
    "print(f\"Probability it's a cat: {probabilities[1].item():.6f}\")"
   ]
  },
  {
   "cell_type": "code",
   "execution_count": null,
   "id": "d2becca7",
   "metadata": {},
   "outputs": [],
   "source": [
    "# Now is your turn, upload a image or use an url for inference, use the sample code above as a reference.\n",
    "eval_image_url = \"https://pulpbits.net/wp-content/uploads/2014/01/Calico-Siberian-Cat-1024x776.jpg\" # Replace me\n",
    "eval_image_filename = \"sample_image.jpg\"\n",
    "\n",
    "imgage_object = requests.get(eval_image_url).content\n",
    "with open(eval_image_filename, 'wb') as handler:\n",
    "    handler.write(imgage_object)\n",
    "    \n",
    "image_data = PILImage.create(eval_image_filename)"
   ]
  },
  {
   "cell_type": "code",
   "execution_count": null,
   "id": "ee46dc92",
   "metadata": {},
   "outputs": [],
   "source": [
    "# Print inference results\n",
    "prediction_label, p, probabilities = image_learner.predict(image_data)\n",
    "print(f\"Is this a cat?: {prediction_label}.\")\n",
    "print(f\"Probability it's a cat: {probabilities[1].item():.6f}\")"
   ]
  },
  {
   "cell_type": "markdown",
   "id": "a3fbd20f",
   "metadata": {},
   "source": [
    "## Resources\n",
    "Provide a couple of links of articles or videos that you find helpful. As Week 1 have not begin yet it could be about general AI concepts, or about the specific topics of the bootcamp (python, pandas, etc.)\n",
    "\n",
    "- https://www.techrepublic.com/article/why-85-of-ai-projects-fail/\n",
    "- https://spotify.design/article/three-principles-for-designing-ml-powered-products\n",
    "- Take a look at the AI Canvas located at: https://www.predictionmachines.ai/\n",
    "\n",
    "### Discussion / questions:\n",
    "\n",
    "1.Do you need these for deep learning :\n",
    "- Lots of math ?\n",
    "- Lots of data ?\n",
    "- Lots of expensive computers ?\n",
    "- A PhD ?\n",
    "\n",
    "2.If a human can see a pattern in an image, should a CV Model be able to detect it ?\n",
    "- Yes\n",
    "- No"
   ]
  }
 ],
 "metadata": {
  "interpreter": {
   "hash": "3bd52410ac2df406f4a7dd1b627ebb13ba3e371ebde73b2ddba1931965b1f80d"
  },
  "kernelspec": {
   "display_name": "unpackAIdev",
   "language": "python",
   "name": "python3"
  },
  "language_info": {
   "codemirror_mode": {
    "name": "ipython",
    "version": 3
   },
   "file_extension": ".py",
   "mimetype": "text/x-python",
   "name": "python",
   "nbconvert_exporter": "python",
   "pygments_lexer": "ipython3",
   "version": "3.9.7"
  }
 },
 "nbformat": 4,
 "nbformat_minor": 5
}
