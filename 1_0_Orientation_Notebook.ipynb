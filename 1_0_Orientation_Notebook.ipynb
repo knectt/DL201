{
  "cells": [
    {
      "cell_type": "markdown",
      "metadata": {
        "id": "view-in-github",
        "colab_type": "text"
      },
      "source": [
        "<a href=\"https://colab.research.google.com/github/unpackAI/DL201/blob/main/1_0_Orientation_Notebook.ipynb\" target=\"_parent\"><img src=\"https://colab.research.google.com/assets/colab-badge.svg\" alt=\"Open In Colab\"/></a>"
      ]
    },
    {
      "cell_type": "markdown",
      "id": "5b06da8e",
      "metadata": {
        "id": "5b06da8e"
      },
      "source": [
        "# 🎉A New chapter on your Machine Learning journey\n",
        "\n",
        "**Welcome to the DL201 Bootcamp!** \n",
        "\n",
        "This is a new bootcamp designed with a community collaboration and inclusion in mind. Here we will provide a structured guidance for learning essential skills on data manipulation, important machine learning and AI concepts as well as the usage of existing software tools and pre-trained models. We would like to give ***skills that allow students to build a proof of concept of their desired project in a short time.***\n"
      ]
    },
    {
      "cell_type": "markdown",
      "id": "74b82881",
      "metadata": {
        "id": "74b82881"
      },
      "source": [
        "## 📕 Learning Objectives\n",
        "\n",
        "* Acquire basic data manipulation skills that allow students to make use of machine learning and AI tools.\n",
        "* Have an appreciation for important processing methods and transformations commonly required to load datasets into tensors.\n",
        "* Build a foundation on using and fine-tuning pre-trained models.\n",
        "* Apply obtained skills and knowledge to build a proof of concept of a project."
      ]
    },
    {
      "cell_type": "markdown",
      "id": "c8b30cdd-8187-46ec-a8e2-f162483ac992",
      "metadata": {
        "id": "c8b30cdd-8187-46ec-a8e2-f162483ac992"
      },
      "source": [
        "## 🦸‍♂️Benefits of a boot camp\n",
        "\n",
        "* Discussing concepts with peers is scientifically proven to be the best way to fully understand concepts rather than rely on formulas. \n",
        "* Increases people's ability to analyse unfamiliar situations\n",
        "* Can form relationships and a sense of community with classmates\n",
        "* Receive an instant exclusive feedback from mentors and peers on your learning progress, AI projects and ideas\n",
        "* Bootcamp setting and schedule enables you to complete the learning objectives and succeed in building your AI Project from sctratch"
      ]
    },
    {
      "cell_type": "markdown",
      "id": "1e1a8827",
      "metadata": {
        "id": "1e1a8827"
      },
      "source": [
        "## 📅 Weekly Progress\n",
        "\n",
        "<table>\n",
        "<tbody>\n",
        "<tr class=\"odd\">\n",
        "<td>Week</td>\n",
        "<td>Skills</td>\n",
        "<td>Learning Content</td>\n",
        "</tr>\n",
        "<tr class=\"even\">\n",
        "<td>0</td>\n",
        "<td>Course deliverables and project setup</td>\n",
        "<td><ol type=\"1\">\n",
        "<li><p>Meet your mentors, unpackers</p></li>\n",
        "<li><p>Understand the bootcamp objectives and logistics</p></li>\n",
        "<li><p>Receive the framework for building your AI project in this\n",
        "course. Learn and build as you go over the first three weeks, finalize\n",
        "the project by the end of 4th week.</p></li>\n",
        "</ol></td>\n",
        "</tr>\n",
        "<tr class=\"odd\">\n",
        "<td>1</td>\n",
        "<td>Data Loading and Exploratory Analysis</td>\n",
        "<td><ol type=\"1\">\n",
        "<li><p>Understand how to load datasets and metadata in the most common\n",
        "file formats</p></li>\n",
        "<li><p>Explore the datasets and discern if it is suitable for adaptation\n",
        "to our problem</p></li>\n",
        "<li><p>Gain tools to manipulate metadata and tabular data using\n",
        "Pandas</p></li>\n",
        "<li><p>Have an appreciation for how data can be represented as tensors\n",
        "Explore the data-centric approach in AI, and learn about its importance\n",
        "in Machine &amp; Deep Learning.</p></li>\n",
        "<li><p>Utilize tools to label, improve and balance your\n",
        "datasets.</p></li>\n",
        "</ol></td>\n",
        "</tr>\n",
        "<tr class=\"even\">\n",
        "<td>2</td>\n",
        "<td>Data Preprocessing and Transformations</td>\n",
        "<td><ol type=\"1\">\n",
        "<li><p>Explore common data wrangling tasks</p></li>\n",
        "<li><p>Learn how to apply feature engineering methods to spreadsheet data, such as grouping into categories, feature decomposition, tabular data transformation methods</p></li>\n",
        "<li><p>Master computer vision preprocessing techniques like label encoding, handling unbalanced classes; image data transformation like normalizing pixel values</p></li>\n",
        "<li><p>Dive into text preprocessing for NLP tasks like encoding and embeddings</p></li>\n",
        "</ol></td>\n",
        "</tr>\n",
        "<tr class=\"odd\">\n",
        "<td>3</td>\n",
        "<td>Algorithms and Model Training</td>\n",
        "<td><ol type=\"1\">\n",
        "<li><p>Discuss the most common cutting edge DL algorithms and architectures in computer vision, NLP</p></li>\n",
        "<li><p>Explore the best performing machine learning models used in supervised machine learning for structured data</p></li>\n",
        "<li><p>Learn how to apply pretrained models on new ML tasks with hyperparameters optimization and most common fine-tuning approaches</p></li>\n",
        "<li><p>Train Neural Network from Scratch using only Pytorch to undersand the mechanics of building ML model.</p></li>\n",
        "</ol></td>\n",
        "</tr>\n",
        "<tr class=\"even\">\n",
        "<td>4</td>\n",
        "<td>Project Finalization</td>\n",
        "<td><ol type=\"1\">\n",
        "<li><p>Fully apply newly gained machine learning skills to your ongoing\n",
        "project to deliver the final results.</p></li>\n",
        "<li><p>Get on 1:1 calls with mentors to get personalized feedback and\n",
        "recommendations before presenting it as a proof-of-concept project on\n",
        "Demo Day.</p></li>\n",
        "</ol></td>\n",
        "</tr>\n",
        "<tr class=\"odd\">\n",
        "<td>5</td>\n",
        "<td>Graduation and Demo Day</td>\n",
        "<td><ol type=\"1\">\n",
        "<li><p>Present your project in the final session, receive the final feedback from mentors in order to get yourself ready for Demo Day</p></li>\n",
        "<li><p>Participate in Demo Day to showcase your achievement and feature your project in front of anyone. We will broadast this event on our social media to invite anyone interested in real AI use cases built by our graduates.</p></li>\n",
        "<li><p>Receive the certificate and get endorse for your skills on LinkedIn</p></li>\n",
        "</ol></td>\n",
        "</tr>\n",
        "</tbody>\n",
        "</table>"
      ]
    },
    {
      "cell_type": "markdown",
      "id": "5b1348f1",
      "metadata": {
        "id": "5b1348f1"
      },
      "source": [
        "## 🖱Software Requirements for the Bootcamp\n",
        "\n",
        "In order to ensure a good learning experience, you will need to use the software listed out below. All of them expect the VPN are for free.\n",
        "\n",
        "1. **Tencent Meeting**. In order to join live sessions with mentors and fellow students you have to install Tencent Meeting or Voov on your laptop.\n",
        "\n",
        "> *We don't recommend to use your phone to join live sessions as your phone doesn't provide a proper online session environment, and will compromise the quality of live group interactions.*\n",
        "\n",
        "2. **WeChat**. It's our main communication tool for every day communication. You will receive instructions, announcements, ask all sorts of questions related to the content, Bootcamp, and recieve answers on a timely manner in the WeChat group. \n",
        "\n",
        "3. **Kaggle Notebooks**. It is a platform for data science competitions. It is a great tool for data science competitions. You can use it to submit your code and get feedback from other participants."
      ]
    },
    {
      "cell_type": "markdown",
      "id": "610bd8e2",
      "metadata": {
        "id": "610bd8e2"
      },
      "source": [
        "## 👥Getting to know each other\n",
        "Let's briefly talk about:\n",
        "\n",
        "- Your expectations for the Bootcamp.\n",
        "- Previous any experience with AI.\n",
        "- Your coding background.\n",
        "- Your desired AI project."
      ]
    },
    {
      "cell_type": "markdown",
      "id": "6b543354",
      "metadata": {
        "id": "6b543354"
      },
      "source": [
        "## 😎This bootcamp is hosted on GitHub!\n",
        "\n",
        "Github is a universal tool in software development. It's full of features that allows hundreds to even thousands of people to collaborate online. It is also a social network that is suited for this course. It has a learning curve, but it pays off in the short term and long term. \n",
        "\n",
        "https://github.com/unpackAI/DL201/\n",
        "\n",
        "Let's review how:\n",
        "- Clone the repository.\n",
        "- Use the Issues sections to report problems and ask/provide help.\n",
        "- Use the discussion section."
      ]
    },
    {
      "cell_type": "markdown",
      "id": "99213d77",
      "metadata": {
        "id": "99213d77"
      },
      "source": [
        "## 🎺We recommend the usage of Kaggle Notebooks (live mini-demo)\n",
        "Google colab and local environments are still supported but Kaggle is our recommended option. Kaggle is well-know portal for data science competitions and it has an enourmous collections of datasets.\n",
        "\n",
        "https://www.kaggle.com/code\n",
        "\n",
        "Important reasons to use Kaggle Notebooks:\n",
        "- No VPN access required.\n",
        "- 50+ hours of weekly GPU usage for free.\n",
        "- Familiar environment with Jupyter.\n",
        "- No need to install any software.\n",
        "- Immediate access to the enourmous collection of datasets provided by Kaggle."
      ]
    },
    {
      "cell_type": "markdown",
      "id": "3ac01814",
      "metadata": {
        "id": "3ac01814"
      },
      "source": [
        "## ⛏Sample code: collect images form the PETS dataset to train a RESNET-based dogs vs cats classifier\n"
      ]
    },
    {
      "cell_type": "code",
      "execution_count": null,
      "id": "fa70dcc1",
      "metadata": {
        "id": "fa70dcc1"
      },
      "outputs": [],
      "source": [
        "# The purpose of the sample code is to test a Python environment.\n",
        "# If this cell shows a pip error on Kaggle, simply try again or reload the notebook.\n",
        "# Make sure you enable the GPU accelerator by clicking on the top right corner of the notebook.\n",
        "\n",
        "# Install packages (comment if not required)\n",
        "!pip install -Uqq  ipywidgets fastai fastbook\n",
        "\n",
        "# Import dependencies for all sample AI applications (again, to test the environment)\n",
        "import os\n",
        "import numpy\n",
        "import pandas\n",
        "import torch\n",
        "from fastai.vision.all import *\n",
        "from fastai.text.all import *\n",
        "from fastai.collab import *\n",
        "from fastai.tabular.all import *\n",
        "import ipywidgets as widgets\n",
        "from IPython.display import Image\n",
        "import fastbook\n",
        "import urllib.request\n",
        "\n",
        "import urllib.request\n",
        "import requests\n",
        "fastbook.setup_book()"
      ]
    },
    {
      "cell_type": "markdown",
      "id": "0735cf0c",
      "metadata": {
        "id": "0735cf0c"
      },
      "source": [
        "### AI application sample: collect images form the PETS dataset to train a RESNET-based dogs vs cats classifier"
      ]
    },
    {
      "cell_type": "code",
      "execution_count": null,
      "id": "1585fbe8",
      "metadata": {
        "id": "1585fbe8"
      },
      "outputs": [],
      "source": [
        "\"\"\"\n",
        "AI application sample: collect images form the PETS dataset to train a \n",
        "RESNET-based dogs vs cats classifier\n",
        "\"\"\"\n",
        "\n",
        "# Download images, navigate to the folder and display some of the images\n",
        "image_path = untar_data(URLs.PETS)/'images'\n",
        "os.chdir(image_path)\n",
        "filenames = os.listdir('.')\n",
        "\n",
        "def slider_callback(position):\n",
        "    image_object = Image(filename=filenames[position], width=600)\n",
        "    display(image_object)\n",
        "\n",
        "widgets.interact(slider_callback, position=widgets.IntSlider(min=0, max=len(filenames), step=1))"
      ]
    },
    {
      "cell_type": "code",
      "execution_count": null,
      "id": "d457d516",
      "metadata": {
        "id": "d457d516"
      },
      "outputs": [],
      "source": [
        "# On this dataset, cat images filenames beggin with an uppercase letter\n",
        "print(filenames[:11])\n",
        "\n",
        "# Define a function that uses that property to select if a filename is a cat\n",
        "def is_cat(filename):\n",
        "    return filename[0].isupper()\n",
        "\n",
        "# Create a dataloader\n",
        "data_loader = ImageDataLoaders.from_name_func(\n",
        "    path=image_path, fnames=get_image_files(image_path), label_func=is_cat, valid_pct=0.2, seed=42,\n",
        "    item_tfms=Resize(224)\n",
        ")"
      ]
    },
    {
      "cell_type": "code",
      "execution_count": null,
      "id": "42f3922d",
      "metadata": {
        "id": "42f3922d"
      },
      "outputs": [],
      "source": [
        "# Feed data to model and train, train with 2 epoch\n",
        "\"\"\"\n",
        "Note: Usually more epochs are required to achieve a good result\n",
        "but given the quality of the dataset and the model in this case is enough.\n",
        "\"\"\"\n",
        "\n",
        "image_learner = cnn_learner(data_loader, resnet34, metrics=error_rate)\n",
        "image_learner.fine_tune(2)"
      ]
    },
    {
      "cell_type": "code",
      "execution_count": null,
      "id": "4de0eb50",
      "metadata": {
        "id": "4de0eb50"
      },
      "outputs": [],
      "source": [
        "# Display a sample image for inference (a cat)\n",
        "image_url = \"https://i.postimg.cc/02Tv8pdc/sample-cat.jpg\"\n",
        "image_filename = \"sample-cat.jpg\"\n",
        "Image(url=image_url, width=500, height=500)"
      ]
    },
    {
      "cell_type": "code",
      "execution_count": null,
      "id": "1c2f80f2",
      "metadata": {
        "id": "1c2f80f2"
      },
      "outputs": [],
      "source": [
        "# Donwload the image by using its url and filename\n",
        "# One of several methods to donwload an image\n",
        "urllib.request.urlretrieve(image_url, f\"{os.getcwd()}/{image_filename}\")   \n",
        "image_data = PILImage.create(image_filename)"
      ]
    },
    {
      "cell_type": "code",
      "execution_count": null,
      "id": "e26d3015",
      "metadata": {
        "id": "e26d3015"
      },
      "outputs": [],
      "source": [
        "# Print inference results\n",
        "prediction_label, p, probabilities = image_learner.predict(image_data)\n",
        "print(f\"Is this a cat?: {prediction_label}.\")\n",
        "print(f\"Probability it's a cat: {probabilities[1].item():.6f}\")"
      ]
    },
    {
      "cell_type": "code",
      "execution_count": null,
      "id": "d2becca7",
      "metadata": {
        "id": "d2becca7"
      },
      "outputs": [],
      "source": [
        "# Now is your turn, upload a image or use an url for inference, use the sample code above as a reference.\n",
        "eval_image_url = \"https://pulpbits.net/wp-content/uploads/2014/01/Calico-Siberian-Cat-1024x776.jpg\" # Replace me\n",
        "eval_image_filename = \"sample_image.jpg\"\n",
        "\n",
        "imgage_object = requests.get(eval_image_url).content\n",
        "with open(eval_image_filename, 'wb') as handler:\n",
        "    handler.write(imgage_object)\n",
        "    \n",
        "image_data = PILImage.create(eval_image_filename)"
      ]
    },
    {
      "cell_type": "code",
      "execution_count": null,
      "id": "ee46dc92",
      "metadata": {
        "id": "ee46dc92"
      },
      "outputs": [],
      "source": [
        "# Print inference results\n",
        "prediction_label, p, probabilities = image_learner.predict(image_data)\n",
        "print(f\"Is this a cat?: {prediction_label}.\")\n",
        "print(f\"Probability it's a cat: {probabilities[1].item():.6f}\")"
      ]
    },
    {
      "cell_type": "markdown",
      "id": "a3fbd20f",
      "metadata": {
        "id": "a3fbd20f"
      },
      "source": [
        "## 🛡Resources\n",
        "Provide a couple of links of articles or videos that you find helpful. As Week 1 have not begin yet it could be about general AI concepts, or about the specific topics of the bootcamp (python, pandas, etc.)\n",
        "\n",
        "- https://www.techrepublic.com/article/why-85-of-ai-projects-fail/\n",
        "- https://spotify.design/article/three-principles-for-designing-ml-powered-products\n",
        "- Take a look at the AI Canvas located at: https://www.predictionmachines.ai/\n",
        "\n",
        "### Discussion / questions:\n",
        "\n",
        "1.Do you need these for deep learning :\n",
        "- Lots of math ?\n",
        "- Lots of data ?\n",
        "- Lots of expensive computers ?\n",
        "- A PhD ?\n",
        "\n",
        "2.If a human can see a pattern in an image, should a CV Model be able to detect it ?\n",
        "- Yes\n",
        "- No"
      ]
    }
  ],
  "metadata": {
    "interpreter": {
      "hash": "3bd52410ac2df406f4a7dd1b627ebb13ba3e371ebde73b2ddba1931965b1f80d"
    },
    "kernelspec": {
      "display_name": "unpackAIdev",
      "language": "python",
      "name": "python3"
    },
    "language_info": {
      "codemirror_mode": {
        "name": "ipython",
        "version": 3
      },
      "file_extension": ".py",
      "mimetype": "text/x-python",
      "name": "python",
      "nbconvert_exporter": "python",
      "pygments_lexer": "ipython3",
      "version": "3.9.7"
    },
    "colab": {
      "name": "1_0_Orientation_Notebook.ipynb",
      "provenance": [],
      "include_colab_link": true
    }
  },
  "nbformat": 4,
  "nbformat_minor": 5
}
