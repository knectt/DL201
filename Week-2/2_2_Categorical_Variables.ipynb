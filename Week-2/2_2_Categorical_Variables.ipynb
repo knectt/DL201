{
 "cells": [
  {
   "cell_type": "markdown",
   "id": "d5c2d56d",
   "metadata": {},
   "source": [
    "## 💻 UnpackAI DL201 Bootcamp - Week 2 - Concepts: Categorical Variables\n",
    "\n",
    "### 📕 Learning Objectives\n",
    "\n",
    "* Understand how categorical variables can be approached in datasets\n",
    "* Grasp the difference encoding techniques and the ideas behind them\n",
    "* See the benefits and drawbacks of different encoding techniques\n",
    "\n",
    "### 📖 Concepts map\n",
    "\n",
    "*  Quantitative vs. Qualitative\n",
    "*  Slope: describes the relationship between x and y\n",
    "    *  monotonic relationship: An always increasing relationship between x and y, not dipping up and down\n",
    "*  Cardinality: The total number of categories in a column \n",
    "*  Feature Space: The total number of variables/features in a dataset"
   ]
  },
  {
   "cell_type": "code",
   "execution_count": 1,
   "id": "42158e92-0f96-44ad-8724-4c6495d484c4",
   "metadata": {},
   "outputs": [],
   "source": [
    "is_kaggle = False   # True if you are on Kaggle, False for local Windows, Linux or Mac environments."
   ]
  },
  {
   "cell_type": "code",
   "execution_count": 2,
   "id": "c441ff36-e358-4e94-9a27-620a74b904ce",
   "metadata": {},
   "outputs": [],
   "source": [
    "if is_kaggle:\n",
    "    !git clone https://github.com/unpackAI/DL201.git"
   ]
  },
  {
   "cell_type": "code",
   "execution_count": 3,
   "id": "e3d09208-d369-4c4c-b660-e26eefb1bc0e",
   "metadata": {},
   "outputs": [],
   "source": [
    "# Imports \n",
    "from pathlib import Path\n",
    "import sys\n",
    "import pandas as pd\n",
    "import numpy as np\n",
    "import seaborn as sns\n",
    "import os\n",
    "import category_encoders as ce\n",
    "import re"
   ]
  },
  {
   "cell_type": "code",
   "execution_count": 4,
   "id": "0a63c4db-f10b-49a8-94b3-f864a543b581",
   "metadata": {},
   "outputs": [
    {
     "name": "stdout",
     "output_type": "stream",
     "text": [
      "DATA_DIR is a directory, its path is ..\\data\n",
      "IMAGE_DIR is a directory, its path is ..\\img\n",
      "OUTPUT_DIR is a directory, its path is ..\\output\n"
     ]
    }
   ],
   "source": [
    "# path preparation\n",
    "if is_kaggle:\n",
    "    IMAGE_DIR = Path('/kaggle/working/DL201/img')\n",
    "    DATA_DIR = Path('/kaggle/working/DL201/data')\n",
    "else:\n",
    "    # This section is for local execution, it is assumed that we launch the notebooks from the DL201 repository.\n",
    "    DATA_DIR = Path('../data')\n",
    "    IMAGE_DIR = Path('../img')\n",
    "    OUTPUT_DIR = Path('../output')\n",
    "\n",
    "# finally, check if we found the right pathes\n",
    "if os.path.isdir(DATA_DIR):\n",
    "    print(f'DATA_DIR is a directory, its path is {DATA_DIR}')\n",
    "else:\n",
    "    print(\"ERROR : DATA_DIR is not a directory\")\n",
    "\n",
    "if os.path.isdir(IMAGE_DIR):\n",
    "    print(f'IMAGE_DIR is a directory, its path is {IMAGE_DIR}')\n",
    "else:\n",
    "    print(\"ERROR : IMAGE_DIR is not a directory\")\n",
    "\n",
    "# create an output directory if necessary\n",
    "if not os.path.isdir(OUTPUT_DIR):\n",
    "    os.mkdir(OUTPUT_DIR)\n",
    "if os.path.isdir(OUTPUT_DIR):\n",
    "    print(f'OUTPUT_DIR is a directory, its path is {OUTPUT_DIR}')\n",
    "else:\n",
    "    print(\"ERROR : OUTPUT_DIR is not a directory\")"
   ]
  },
  {
   "cell_type": "code",
   "execution_count": 5,
   "id": "2d087055-6954-4f0e-9882-3b4ad8185e80",
   "metadata": {},
   "outputs": [],
   "source": [
    "### Functions\n",
    "\n",
    "# Splitting into categorical and continious variables \n",
    "\n",
    "def cont_cat_split(df, max_card=20, dep_var=None):\n",
    "    \"Helper function that returns column names of cont and cat variables from given `df`.\"\n",
    "    cont_names, cat_names = [], []\n",
    "    for label in df:\n",
    "        #if label in L(dep_var): continue\n",
    "        if ((pd.api.types.is_integer_dtype(df[label].dtype) and\n",
    "            df[label].unique().shape[0] > max_card) or\n",
    "            pd.api.types.is_float_dtype(df[label].dtype)):\n",
    "            cont_names.append(label)\n",
    "        else: cat_names.append(label)\n",
    "    return cont_names, cat_names\n",
    "\n",
    "def load_original_df(filePath):\n",
    "\n",
    "    startups_df = pd.read_csv(filePath,encoding = 'unicode_escape')\n",
    "\n",
    "    ### All these are specific to this dataframe\n",
    "    ### Can change with custom ones if you wish\n",
    "\n",
    "    # Data Cleansing from previous notebook\n",
    "    startups_df.drop(['permalink','homepage_url'],axis=1,inplace=True)\n",
    "\n",
    "    startups_df.columns = [col.strip() for col in list(startups_df.columns)]\n",
    "    startups_df.dropna(inplace=True,axis=0) \n",
    "    startups_df['funding_total_usd'] = startups_df['funding_total_usd'].str.replace(',','')\n",
    "    startups_df['funding_total_usd'] = startups_df['funding_total_usd'].str.strip()\n",
    "    startups_df['funding_total_usd'] = np.where(startups_df['funding_total_usd'] == '-',0,startups_df['funding_total_usd'])\n",
    "    startups_df['funding_total_usd'] = startups_df['funding_total_usd'].astype(np.int64)\n",
    "    \n",
    "    return startups_df"
   ]
  },
  {
   "cell_type": "code",
   "execution_count": 6,
   "id": "c470d98d",
   "metadata": {},
   "outputs": [
    {
     "data": {
      "text/plain": [
       "(23217, 37)"
      ]
     },
     "execution_count": 6,
     "metadata": {},
     "output_type": "execute_result"
    }
   ],
   "source": [
    "startupDataPath = os.path.join(DATA_DIR, 'StartUpInvestments/investments_VC.csv')\n",
    "startups_df = load_original_df(startupDataPath)\n",
    "startups_df.shape"
   ]
  },
  {
   "cell_type": "markdown",
   "id": "44965331",
   "metadata": {},
   "source": [
    "### Loading the Datasets"
   ]
  },
  {
   "cell_type": "markdown",
   "id": "3cb012e5",
   "metadata": {},
   "source": [
    "In this example, two dataframes are used. The first is the one about startup funding, and the second is about housing.\n",
    "\n",
    "The first one is used because it is messy and has a lot of pre-processing steps needed to make it useful.\n",
    "\n",
    "The second is used because it is very clean, and is widely used as a benchmark to test the performance of different machine learning techniques."
   ]
  },
  {
   "cell_type": "code",
   "execution_count": 7,
   "id": "d268882b",
   "metadata": {},
   "outputs": [
    {
     "data": {
      "text/html": [
       "<div>\n",
       "<style scoped>\n",
       "    .dataframe tbody tr th:only-of-type {\n",
       "        vertical-align: middle;\n",
       "    }\n",
       "\n",
       "    .dataframe tbody tr th {\n",
       "        vertical-align: top;\n",
       "    }\n",
       "\n",
       "    .dataframe thead th {\n",
       "        text-align: right;\n",
       "    }\n",
       "</style>\n",
       "<table border=\"1\" class=\"dataframe\">\n",
       "  <thead>\n",
       "    <tr style=\"text-align: right;\">\n",
       "      <th></th>\n",
       "      <th>name</th>\n",
       "      <th>category_list</th>\n",
       "      <th>market</th>\n",
       "      <th>funding_total_usd</th>\n",
       "      <th>status</th>\n",
       "      <th>country_code</th>\n",
       "      <th>state_code</th>\n",
       "      <th>region</th>\n",
       "      <th>city</th>\n",
       "      <th>funding_rounds</th>\n",
       "      <th>...</th>\n",
       "      <th>secondary_market</th>\n",
       "      <th>product_crowdfunding</th>\n",
       "      <th>round_A</th>\n",
       "      <th>round_B</th>\n",
       "      <th>round_C</th>\n",
       "      <th>round_D</th>\n",
       "      <th>round_E</th>\n",
       "      <th>round_F</th>\n",
       "      <th>round_G</th>\n",
       "      <th>round_H</th>\n",
       "    </tr>\n",
       "  </thead>\n",
       "  <tbody>\n",
       "    <tr>\n",
       "      <th>0</th>\n",
       "      <td>#waywire</td>\n",
       "      <td>|Entertainment|Politics|Social Media|News|</td>\n",
       "      <td>News</td>\n",
       "      <td>1750000</td>\n",
       "      <td>acquired</td>\n",
       "      <td>USA</td>\n",
       "      <td>NY</td>\n",
       "      <td>New York City</td>\n",
       "      <td>New York</td>\n",
       "      <td>1.0</td>\n",
       "      <td>...</td>\n",
       "      <td>0.0</td>\n",
       "      <td>0.0</td>\n",
       "      <td>0.0</td>\n",
       "      <td>0.0</td>\n",
       "      <td>0.0</td>\n",
       "      <td>0.0</td>\n",
       "      <td>0.0</td>\n",
       "      <td>0.0</td>\n",
       "      <td>0.0</td>\n",
       "      <td>0.0</td>\n",
       "    </tr>\n",
       "    <tr>\n",
       "      <th>4</th>\n",
       "      <td>-R- Ranch and Mine</td>\n",
       "      <td>|Tourism|Entertainment|Games|</td>\n",
       "      <td>Tourism</td>\n",
       "      <td>60000</td>\n",
       "      <td>operating</td>\n",
       "      <td>USA</td>\n",
       "      <td>TX</td>\n",
       "      <td>Dallas</td>\n",
       "      <td>Fort Worth</td>\n",
       "      <td>2.0</td>\n",
       "      <td>...</td>\n",
       "      <td>0.0</td>\n",
       "      <td>0.0</td>\n",
       "      <td>0.0</td>\n",
       "      <td>0.0</td>\n",
       "      <td>0.0</td>\n",
       "      <td>0.0</td>\n",
       "      <td>0.0</td>\n",
       "      <td>0.0</td>\n",
       "      <td>0.0</td>\n",
       "      <td>0.0</td>\n",
       "    </tr>\n",
       "    <tr>\n",
       "      <th>8</th>\n",
       "      <td>004 Technologies</td>\n",
       "      <td>|Software|</td>\n",
       "      <td>Software</td>\n",
       "      <td>0</td>\n",
       "      <td>operating</td>\n",
       "      <td>USA</td>\n",
       "      <td>IL</td>\n",
       "      <td>Springfield, Illinois</td>\n",
       "      <td>Champaign</td>\n",
       "      <td>1.0</td>\n",
       "      <td>...</td>\n",
       "      <td>0.0</td>\n",
       "      <td>0.0</td>\n",
       "      <td>0.0</td>\n",
       "      <td>0.0</td>\n",
       "      <td>0.0</td>\n",
       "      <td>0.0</td>\n",
       "      <td>0.0</td>\n",
       "      <td>0.0</td>\n",
       "      <td>0.0</td>\n",
       "      <td>0.0</td>\n",
       "    </tr>\n",
       "    <tr>\n",
       "      <th>12</th>\n",
       "      <td>1-800-DENTIST</td>\n",
       "      <td>|Health and Wellness|</td>\n",
       "      <td>Health and Wellness</td>\n",
       "      <td>0</td>\n",
       "      <td>operating</td>\n",
       "      <td>USA</td>\n",
       "      <td>CA</td>\n",
       "      <td>Los Angeles</td>\n",
       "      <td>Los Angeles</td>\n",
       "      <td>1.0</td>\n",
       "      <td>...</td>\n",
       "      <td>0.0</td>\n",
       "      <td>0.0</td>\n",
       "      <td>0.0</td>\n",
       "      <td>0.0</td>\n",
       "      <td>0.0</td>\n",
       "      <td>0.0</td>\n",
       "      <td>0.0</td>\n",
       "      <td>0.0</td>\n",
       "      <td>0.0</td>\n",
       "      <td>0.0</td>\n",
       "    </tr>\n",
       "    <tr>\n",
       "      <th>13</th>\n",
       "      <td>1-800-DOCTORS</td>\n",
       "      <td>|Health and Wellness|</td>\n",
       "      <td>Health and Wellness</td>\n",
       "      <td>1750000</td>\n",
       "      <td>operating</td>\n",
       "      <td>USA</td>\n",
       "      <td>NJ</td>\n",
       "      <td>Newark</td>\n",
       "      <td>Iselin</td>\n",
       "      <td>1.0</td>\n",
       "      <td>...</td>\n",
       "      <td>0.0</td>\n",
       "      <td>0.0</td>\n",
       "      <td>0.0</td>\n",
       "      <td>0.0</td>\n",
       "      <td>0.0</td>\n",
       "      <td>0.0</td>\n",
       "      <td>0.0</td>\n",
       "      <td>0.0</td>\n",
       "      <td>0.0</td>\n",
       "      <td>0.0</td>\n",
       "    </tr>\n",
       "  </tbody>\n",
       "</table>\n",
       "<p>5 rows × 37 columns</p>\n",
       "</div>"
      ],
      "text/plain": [
       "                  name                               category_list  \\\n",
       "0             #waywire  |Entertainment|Politics|Social Media|News|   \n",
       "4   -R- Ranch and Mine               |Tourism|Entertainment|Games|   \n",
       "8     004 Technologies                                  |Software|   \n",
       "12       1-800-DENTIST                       |Health and Wellness|   \n",
       "13       1-800-DOCTORS                       |Health and Wellness|   \n",
       "\n",
       "                   market  funding_total_usd     status country_code  \\\n",
       "0                   News             1750000   acquired          USA   \n",
       "4                Tourism               60000  operating          USA   \n",
       "8               Software                   0  operating          USA   \n",
       "12   Health and Wellness                   0  operating          USA   \n",
       "13   Health and Wellness             1750000  operating          USA   \n",
       "\n",
       "   state_code                 region         city  funding_rounds  ...  \\\n",
       "0          NY          New York City     New York             1.0  ...   \n",
       "4          TX                 Dallas   Fort Worth             2.0  ...   \n",
       "8          IL  Springfield, Illinois    Champaign             1.0  ...   \n",
       "12         CA            Los Angeles  Los Angeles             1.0  ...   \n",
       "13         NJ                 Newark       Iselin             1.0  ...   \n",
       "\n",
       "   secondary_market product_crowdfunding round_A  round_B round_C round_D  \\\n",
       "0               0.0                  0.0     0.0      0.0     0.0     0.0   \n",
       "4               0.0                  0.0     0.0      0.0     0.0     0.0   \n",
       "8               0.0                  0.0     0.0      0.0     0.0     0.0   \n",
       "12              0.0                  0.0     0.0      0.0     0.0     0.0   \n",
       "13              0.0                  0.0     0.0      0.0     0.0     0.0   \n",
       "\n",
       "    round_E  round_F  round_G  round_H  \n",
       "0       0.0      0.0      0.0      0.0  \n",
       "4       0.0      0.0      0.0      0.0  \n",
       "8       0.0      0.0      0.0      0.0  \n",
       "12      0.0      0.0      0.0      0.0  \n",
       "13      0.0      0.0      0.0      0.0  \n",
       "\n",
       "[5 rows x 37 columns]"
      ]
     },
     "execution_count": 7,
     "metadata": {},
     "output_type": "execute_result"
    }
   ],
   "source": [
    "startups_df.head()"
   ]
  },
  {
   "cell_type": "markdown",
   "id": "e52598b6",
   "metadata": {},
   "source": [
    "# Introduction\n",
    "<hr style=\"border:4px solid gray\"> </hr>"
   ]
  },
  {
   "cell_type": "markdown",
   "id": "872a6cf1",
   "metadata": {},
   "source": [
    "Categorical data is different than numerical data because it doesn't have the same mathematical properties of numbers.\n"
   ]
  },
  {
   "cell_type": "code",
   "execution_count": 8,
   "id": "ba79753f",
   "metadata": {},
   "outputs": [],
   "source": [
    "cont_vars, cat_vars = cont_cat_split(startups_df)"
   ]
  },
  {
   "cell_type": "code",
   "execution_count": 9,
   "id": "a254a9d0",
   "metadata": {},
   "outputs": [
    {
     "data": {
      "text/plain": [
       "['name',\n",
       " 'category_list',\n",
       " 'market',\n",
       " 'status',\n",
       " 'country_code',\n",
       " 'state_code',\n",
       " 'region',\n",
       " 'city',\n",
       " 'founded_at',\n",
       " 'founded_month',\n",
       " 'founded_quarter',\n",
       " 'first_funding_at',\n",
       " 'last_funding_at']"
      ]
     },
     "execution_count": 9,
     "metadata": {},
     "output_type": "execute_result"
    }
   ],
   "source": [
    "cat_vars"
   ]
  },
  {
   "cell_type": "markdown",
   "id": "4c3613f7",
   "metadata": {},
   "source": [
    " As a result of not being numbers, Deep learning and AI algorithms can't accept raw categorical variables. They must be **encoded** first.\n",
    "\n",
    "What is Encoding then? It is not to create a secret message, but to simply change information or instructions into a form that a computer can use (MacMillan Dictionary)\n",
    "\n",
    "With categorical variables it becomes about deciding how to smartly frame a variable. \n",
    "\n",
    " A lot of thought has gone into this problem over the last 100 years, so there are many ways to encode categorical variables. In this notebook, we'll go over some of the most traditional and common ways of encoding categorical variables."
   ]
  },
  {
   "cell_type": "markdown",
   "id": "4deb1c47",
   "metadata": {},
   "source": [
    "* Integer Encoding\n",
    "* One-Hot (Dummy) Encoding\n",
    "    * Rare Encoding\n",
    "* Ordinal Encoding \n",
    "* Model Specific Encodings\n",
    "    * Create a relationship to the target variable\n",
    "    * Utilize concept of probability\n",
    "    * Add information to the model\n",
    "    * But, can lead to overfitting"
   ]
  },
  {
   "cell_type": "markdown",
   "id": "227da23a",
   "metadata": {},
   "source": [
    "# Integer Encoding\n",
    "<hr style=\"border:4px solid gray\"> </hr>"
   ]
  },
  {
   "cell_type": "markdown",
   "id": "4bbb52f7",
   "metadata": {},
   "source": [
    "For a computer, storing a string is more \"expensive\" than storing a number. Let's see how much memory is needed for the basic data types :"
   ]
  },
  {
   "cell_type": "code",
   "execution_count": 10,
   "id": "681d8ec0-f2fb-4768-bee0-64cffcd6c8d7",
   "metadata": {},
   "outputs": [],
   "source": [
    "def get_size_of(variable):\n",
    "    varSize = sys.getsizeof(variable)\n",
    "    print(f'Type of variable: {type(variable)}')\n",
    "    print(f'Size of variable: {varSize} bytes')"
   ]
  },
  {
   "cell_type": "code",
   "execution_count": 11,
   "id": "943df90e-defc-4994-8dba-7965dee1c8f1",
   "metadata": {},
   "outputs": [
    {
     "name": "stdout",
     "output_type": "stream",
     "text": [
      "Type of variable: <class 'str'>\n",
      "Size of variable: 50 bytes\n",
      "Type of variable: <class 'str'>\n",
      "Size of variable: 52 bytes\n",
      "Type of variable: <class 'int'>\n",
      "Size of variable: 28 bytes\n",
      "Type of variable: <class 'float'>\n",
      "Size of variable: 24 bytes\n"
     ]
    }
   ],
   "source": [
    "character = 'A'\n",
    "string = 'XYZ'\n",
    "integer = 1\n",
    "decimal = 1.0\n",
    "\n",
    "get_size_of(character)\n",
    "get_size_of(string) \n",
    "get_size_of(integer) \n",
    "get_size_of(decimal) "
   ]
  },
  {
   "cell_type": "code",
   "execution_count": 12,
   "id": "5f6cd0d2-6238-4745-afdc-a77ba5610574",
   "metadata": {},
   "outputs": [
    {
     "data": {
      "text/plain": [
       "65536"
      ]
     },
     "execution_count": 12,
     "metadata": {},
     "output_type": "execute_result"
    }
   ],
   "source": [
    "# Two to the 16th power is the number of information that 16 bits can store\n",
    "2 ** 16"
   ]
  },
  {
   "cell_type": "markdown",
   "id": "003dda0c",
   "metadata": {},
   "source": [
    "With two bytes, you can hold any number from 0 to 65,535. However, there are very few words in European languages that are only two characters long.\n",
    "\n",
    "As we can see above, one character takes 50 bytes in python, even more than the float 64 ! And a string takes 52 bytes because it contains some methods with it.\n",
    "\n",
    "So, since computers can't read text anyways, we could imagine mapping the 65,536 most common English words to a dictionary to ***code*** each work with two bytes instead of 52.\n",
    "\n",
    "This is the approach that a tokenizer takes to encode words on a tensor, trying to gain as much memory as possible. This saves enormous amounts of space.\n",
    "\n",
    "\n",
    "### Question :\n",
    "What to do if we have more than 65,535 different words on a text ?\n",
    "\n",
    "However, it is not the end of the story. Although it is more efficient, there is one major drawback.\n",
    "\n",
    " These numbers still don't have any mathematical meaning. No new information gets added to the data space as a result.\n",
    "\n",
    "However, this does not stop tree based models from using integer encoded variables."
   ]
  },
  {
   "cell_type": "markdown",
   "id": "1524fba8",
   "metadata": {},
   "source": [
    "# One Hot (Dummy) Encoding\n",
    "<hr style=\"border:4px solid gray\"> </hr>"
   ]
  },
  {
   "cell_type": "markdown",
   "id": "8ce6a1dd",
   "metadata": {},
   "source": [
    "The next method is very powerful, yet simple to implement.\n",
    "\n",
    "Although categorical variables don't have a mathematical meaning, we can get around this limitation by treating each of the categories in a feature as a yes or no question.\n",
    "\n",
    "In this case, yes is encoded as a 1, and no is encoded as a 0. As a result of this, we can take advantage of the special properties of the numbers zero and one.\n"
   ]
  },
  {
   "cell_type": "code",
   "execution_count": 13,
   "id": "3ae95917",
   "metadata": {},
   "outputs": [
    {
     "data": {
      "text/plain": [
       "0"
      ]
     },
     "execution_count": 13,
     "metadata": {},
     "output_type": "execute_result"
    }
   ],
   "source": [
    "0 * 100"
   ]
  },
  {
   "cell_type": "markdown",
   "id": "cd127ed2",
   "metadata": {},
   "source": [
    "The first point is that anything multiplied by zero becomes zero. This means that we can assign a parameter/coefficient to this feature because if it not present, it will drop out of the equation because anything times zero is equal to zero."
   ]
  },
  {
   "cell_type": "code",
   "execution_count": 14,
   "id": "945fb30b",
   "metadata": {},
   "outputs": [
    {
     "data": {
      "text/plain": [
       "100"
      ]
     },
     "execution_count": 14,
     "metadata": {},
     "output_type": "execute_result"
    }
   ],
   "source": [
    "1 * 100"
   ]
  },
  {
   "cell_type": "markdown",
   "id": "b38c4f27",
   "metadata": {},
   "source": [
    "The second point is that anything multiplied by one remains unchanged. This means that if the catagory is present in a sample, then the parameter can have an effect on the target variable. "
   ]
  },
  {
   "cell_type": "code",
   "execution_count": 15,
   "id": "35ca3c5e",
   "metadata": {},
   "outputs": [
    {
     "name": "stdout",
     "output_type": "stream",
     "text": [
      "100\n"
     ]
    }
   ],
   "source": [
    "parameter = 100 # parameter\n",
    "feature_is_present = True\n",
    "target = parameter * feature_is_present\n",
    "print(target)"
   ]
  },
  {
   "cell_type": "markdown",
   "id": "5e03cfd2",
   "metadata": {},
   "source": [
    "In Python, True has a mathematical value of 1 and false has a mathematical value of 0."
   ]
  },
  {
   "cell_type": "code",
   "execution_count": 16,
   "id": "1cceda65",
   "metadata": {},
   "outputs": [
    {
     "name": "stdout",
     "output_type": "stream",
     "text": [
      "0\n"
     ]
    }
   ],
   "source": [
    "parameter = 100 # parameter\n",
    "feature_is_present = False\n",
    "\n",
    "target = parameter * feature_is_present\n",
    "print(target)"
   ]
  },
  {
   "cell_type": "markdown",
   "id": "2fbd0303",
   "metadata": {},
   "source": [
    "### Advantages of One Hot Encoding"
   ]
  },
  {
   "cell_type": "markdown",
   "id": "46f1a424",
   "metadata": {},
   "source": [
    "As a result, one hot encoding can give directionality to a variable that didn't have it before and therefore the category gains a mathematical meaning.\n",
    "\n",
    "* This is a key advantage of One Hot Encoding\n",
    "\n",
    "Framing it as a true or false question allows it to be included in linear models. \n"
   ]
  },
  {
   "cell_type": "markdown",
   "id": "7f21cddf",
   "metadata": {},
   "source": [
    "### Drawbacks of One-Hot Encoding\n",
    "\n",
    "One-hot encoding can work really well where there are just a few categories in a feature. However, when there are dozens or hundreds of  categories in a feature, it can become very messy and get out hand very quickly.\n",
    "\n",
    "In this dataset, there are 39 features, 21,840 samples, and 851,760 data points."
   ]
  },
  {
   "cell_type": "code",
   "execution_count": 17,
   "id": "087b9854",
   "metadata": {},
   "outputs": [
    {
     "name": "stdout",
     "output_type": "stream",
     "text": [
      "(23217, 37)\n",
      "859029\n"
     ]
    }
   ],
   "source": [
    "print(startups_df.shape)\n",
    "print(startups_df.shape[0] * startups_df.shape[1])"
   ]
  },
  {
   "cell_type": "code",
   "execution_count": 18,
   "id": "c055b312",
   "metadata": {},
   "outputs": [
    {
     "name": "stdout",
     "output_type": "stream",
     "text": [
      "Type of variable: <class 'pandas.core.frame.DataFrame'>\n",
      "Size of variable: 24897471 bytes\n"
     ]
    }
   ],
   "source": [
    "get_size_of(startups_df)"
   ]
  },
  {
   "cell_type": "markdown",
   "id": "3364c339",
   "metadata": {},
   "source": [
    "However, if we were to create new features for every raw value in this category, the dataset would become enormous."
   ]
  },
  {
   "cell_type": "code",
   "execution_count": 19,
   "id": "9b37574d",
   "metadata": {},
   "outputs": [
    {
     "data": {
      "text/plain": [
       "668"
      ]
     },
     "execution_count": 19,
     "metadata": {},
     "output_type": "execute_result"
    }
   ],
   "source": [
    "# This column has 666 possible raw values\n",
    "startups_df['market'].nunique()"
   ]
  },
  {
   "cell_type": "code",
   "execution_count": 20,
   "id": "e1ad9033",
   "metadata": {},
   "outputs": [],
   "source": [
    "one_hot_encoded = pd.get_dummies(startups_df.market,prefix='market')"
   ]
  },
  {
   "cell_type": "code",
   "execution_count": 21,
   "id": "27cd2cd9",
   "metadata": {},
   "outputs": [],
   "source": [
    "one_hot_df = pd.concat([startups_df, one_hot_encoded],axis = 1)"
   ]
  },
  {
   "cell_type": "code",
   "execution_count": 22,
   "id": "fe620f17",
   "metadata": {},
   "outputs": [
    {
     "name": "stdout",
     "output_type": "stream",
     "text": [
      "(23217, 705)\n",
      "16367985\n"
     ]
    }
   ],
   "source": [
    "print(one_hot_df.shape)\n",
    "print(one_hot_df.shape[0] * one_hot_df.shape[1])"
   ]
  },
  {
   "cell_type": "code",
   "execution_count": 23,
   "id": "2ece9f11",
   "metadata": {},
   "outputs": [
    {
     "name": "stdout",
     "output_type": "stream",
     "text": [
      "Type of variable: <class 'pandas.core.frame.DataFrame'>\n",
      "Size of variable: 40406427 bytes\n"
     ]
    }
   ],
   "source": [
    "get_size_of(one_hot_df)"
   ]
  },
  {
   "cell_type": "code",
   "execution_count": 24,
   "id": "794d9ce0",
   "metadata": {},
   "outputs": [],
   "source": [
    "del one_hot_df"
   ]
  },
  {
   "cell_type": "markdown",
   "id": "aa3ba7b2",
   "metadata": {},
   "source": [
    "Now, there are over 15 million data points in this dataframe. As we can tell, this approach can't handle diverse columns very well. \n",
    "\n",
    "This idea is called: Cardinality"
   ]
  },
  {
   "cell_type": "markdown",
   "id": "34afb66b",
   "metadata": {},
   "source": [
    "### Cardinality\n",
    "\n",
    "Cardinality is the total number of unique states a category can take. This variable is often represented as k, or degrees of freedom in statistics. \n",
    "\n",
    "\n",
    "Below is a snippet which counts all the unique values within a feature"
   ]
  },
  {
   "cell_type": "code",
   "execution_count": 25,
   "id": "bac51521",
   "metadata": {},
   "outputs": [
    {
     "data": {
      "text/plain": [
       "city               2062\n",
       "market              668\n",
       "founded_month       392\n",
       "region              286\n",
       "founded_quarter     202\n",
       "state_code           61\n",
       "status                3\n",
       "country_code          2\n",
       "dtype: int64"
      ]
     },
     "execution_count": 25,
     "metadata": {},
     "output_type": "execute_result"
    }
   ],
   "source": [
    "# Cardinality of each feature\n",
    "startups_df[cat_vars].nunique(axis=0).sort_values(ascending=False)[5:20]"
   ]
  },
  {
   "cell_type": "markdown",
   "id": "0f585e84",
   "metadata": {},
   "source": [
    "### Rare Encoding\n",
    "\n",
    "One way to get around this is with the rare category encoding. You can use this by setting a threshold, and assigning everything else as rare."
   ]
  },
  {
   "cell_type": "code",
   "execution_count": 26,
   "id": "dacb978c",
   "metadata": {},
   "outputs": [],
   "source": [
    "# use this line to reset everything\n",
    "# and experiment with the threshold \n",
    "\n",
    "startups_df = load_original_df(startupDataPath)\n",
    "cont_vars, cat_vars = cont_cat_split(startups_df)"
   ]
  },
  {
   "cell_type": "code",
   "execution_count": 27,
   "id": "f6b37ae3",
   "metadata": {},
   "outputs": [],
   "source": [
    "rare_encoding_df = startups_df.copy()"
   ]
  },
  {
   "cell_type": "code",
   "execution_count": 28,
   "id": "c502d89b",
   "metadata": {},
   "outputs": [],
   "source": [
    "### Rare Encoding Snippet\n",
    "\n",
    "threshold = 0.02\n",
    "\n",
    "df = rare_encoding_df\n",
    "\n",
    "# we loop over all the categorical variables\n",
    "features_to_rare_encode = cat_vars #list\n",
    "\n",
    "for variable in cat_vars:\n",
    "    \n",
    "    # Looks for variables that account for less than the\n",
    "    # Threshold percentage of the column\n",
    "    counts = df[cat_vars].groupby([variable])[variable].count() / len(startups_df) \n",
    "    frequent_labels = [x for x in counts.loc[counts>threshold].index.values]\n",
    "    # change the rare category names with the word rare, and thus encoding it.\n",
    "    df[variable] = np.where(df[variable].isin(frequent_labels), df[variable], 'Rare')\n",
    "\n",
    "rare_encoding_df = df.copy()\n",
    "del df"
   ]
  },
  {
   "cell_type": "code",
   "execution_count": 29,
   "id": "59cabfaf",
   "metadata": {},
   "outputs": [
    {
     "data": {
      "text/plain": [
       "13"
      ]
     },
     "execution_count": 29,
     "metadata": {},
     "output_type": "execute_result"
    }
   ],
   "source": [
    "len(rare_encoding_df.market.unique())"
   ]
  },
  {
   "cell_type": "code",
   "execution_count": 30,
   "id": "25cd5463",
   "metadata": {},
   "outputs": [
    {
     "data": {
      "text/plain": [
       "Rare                     12121\n",
       " Software                 2597\n",
       " Biotechnology            1967\n",
       " Mobile                    913\n",
       " Curated Web               806\n",
       " Enterprise Software       787\n",
       " Health Care               676\n",
       " E-Commerce                652\n",
       " Hardware + Software       582\n",
       " Health and Wellness       547\n",
       " Advertising               544\n",
       " Clean Technology          537\n",
       " Games                     488\n",
       "Name: market, dtype: int64"
      ]
     },
     "execution_count": 30,
     "metadata": {},
     "output_type": "execute_result"
    }
   ],
   "source": [
    "rare_encoding_df.market.value_counts()"
   ]
  },
  {
   "cell_type": "markdown",
   "id": "362d5e0c",
   "metadata": {},
   "source": [
    "### Benefits and Drawbacks\n",
    "\n",
    "The benefit of this is that if you are only interested in the largest number occurances, this can remove a ton of cardinality. From over 600 different values, we now have a dozen that we can focus on.\n",
    "\n",
    "It can also handle input variables that it has never seen before, because they can easily be classified as rare.\n",
    "\n",
    "However, the drawback is that this method is more of a hammer than a surgical knife. A lot of information gets lost in the process of rare encoding. "
   ]
  },
  {
   "cell_type": "markdown",
   "id": "7a19ab5f",
   "metadata": {},
   "source": [
    "# Ordinal Encoding\n",
    "<hr style=\"border:4px solid gray\"> </hr>"
   ]
  },
  {
   "cell_type": "markdown",
   "id": "1d2d963f",
   "metadata": {},
   "source": [
    "The halfway point between one hot encoding and integer encoding is Ordinal Encoding. If instead of just being 1 and 0, then ordinal encoding can extend numerical meaning to the categories.\n",
    "\n",
    "For example, this can be showed for shirt sizes. In the following example, this catagorical data can be assigned a number value. \n",
    "\n",
    "* Extra Small = 1\n",
    "* Small = 2 \n",
    "* Medium = 3\n",
    "* Large = 4\n",
    "* Extra Large = 5\n",
    "\n"
   ]
  },
  {
   "cell_type": "markdown",
   "id": "31144c38",
   "metadata": {},
   "source": [
    "\n",
    "This is possible when the categories have discrete order. This often is the case when the responses are from people, rather than sensors. \n",
    "\n",
    " Surveys are often structured with ordinal encoding in mind. For public opinion or customer satisfaction survey answers are often structured like this.\n",
    "\n",
    "* Strongly Dissatisfied = -3 \n",
    "* Dissatisfied = -2\n",
    "* Slightly Dissatified = -1 \n",
    "* No Opinion/Neutral = 0 \n",
    "* Somewhat Satisfied = 1 \n",
    "* Satisfied = 2\n",
    "* Extremly Satisfied = 3"
   ]
  },
  {
   "cell_type": "markdown",
   "id": "919e0a9d",
   "metadata": {},
   "source": [
    "Let's go about finding some ordinal variables in this dataset. This is done here by using a regular expression which looks for the Condition or Quality being a part of the variable descriptor"
   ]
  },
  {
   "cell_type": "code",
   "execution_count": 31,
   "id": "6c7af49f",
   "metadata": {},
   "outputs": [
    {
     "name": "stdout",
     "output_type": "stream",
     "text": [
      "OK\n"
     ]
    }
   ],
   "source": [
    "house_df_path = os.path.join(DATA_DIR, 'house-prices/train.csv')\n",
    "if os.path.isfile(house_df_path):\n",
    "    houses_df = pd.read_csv(house_df_path, index_col=0)\n",
    "    print('OK')"
   ]
  },
  {
   "cell_type": "code",
   "execution_count": 32,
   "id": "23455151",
   "metadata": {},
   "outputs": [],
   "source": [
    "housing_cont_vars, housing_cat_vars = cont_cat_split(houses_df)"
   ]
  },
  {
   "cell_type": "markdown",
   "id": "0068802e",
   "metadata": {},
   "source": [
    "Regex is a powerful tool when you can find a pattern and parse text with it."
   ]
  },
  {
   "cell_type": "code",
   "execution_count": 33,
   "id": "bafd1471",
   "metadata": {},
   "outputs": [
    {
     "data": {
      "text/plain": [
       "OverallQual      10\n",
       "Condition1        9\n",
       "OverallCond       9\n",
       "Condition2        8\n",
       "SaleCondition     6\n",
       "ExterCond         5\n",
       "GarageQual        5\n",
       "GarageCond        5\n",
       "ExterQual         4\n",
       "BsmtQual          4\n",
       "BsmtCond          4\n",
       "KitchenQual       4\n",
       "dtype: int64"
      ]
     },
     "execution_count": 33,
     "metadata": {},
     "output_type": "execute_result"
    }
   ],
   "source": [
    "pattern = re.compile(r'Qual|Cond')\n",
    "housing_cat_var_series = pd.Series(housing_cat_vars)\n",
    "\n",
    "\n",
    "ordinal_index = housing_cat_var_series.str.contains(pattern)\n",
    "\n",
    "ordinal_vars = housing_cat_var_series[ordinal_index]\n",
    "\n",
    "ordinal_vars_cardinality_counts = houses_df[ordinal_vars].nunique(axis=0).sort_values(ascending=False)\n",
    "ordinal_vars_cardinality_counts"
   ]
  },
  {
   "cell_type": "markdown",
   "id": "35d73fda",
   "metadata": {},
   "source": [
    "With a simple regular expression, I now have a list of features that relates the quality and the quantity of the homes in the dataset."
   ]
  },
  {
   "cell_type": "code",
   "execution_count": 34,
   "id": "8cd3f952",
   "metadata": {},
   "outputs": [],
   "source": [
    "ordinal_vars = ordinal_vars_cardinality_counts[ordinal_vars_cardinality_counts < 6 ]"
   ]
  },
  {
   "cell_type": "code",
   "execution_count": 35,
   "id": "21a4dca8",
   "metadata": {},
   "outputs": [
    {
     "data": {
      "text/plain": [
       "ExterCond      5\n",
       "GarageQual     5\n",
       "GarageCond     5\n",
       "ExterQual      4\n",
       "BsmtQual       4\n",
       "BsmtCond       4\n",
       "KitchenQual    4\n",
       "dtype: int64"
      ]
     },
     "execution_count": 35,
     "metadata": {},
     "output_type": "execute_result"
    }
   ],
   "source": [
    "# This removes the two that are not ordinal\n",
    "# and have to do with the location of the house \n",
    "ordinal_vars"
   ]
  },
  {
   "cell_type": "markdown",
   "id": "9e833b04",
   "metadata": {},
   "source": [
    "These features seem like promising targets for ordinal encoding. Since this dataset is very clean, it is more likely to find them in here because they were structured in such a way in advance of data collection."
   ]
  },
  {
   "cell_type": "code",
   "execution_count": 36,
   "id": "a22545c1",
   "metadata": {},
   "outputs": [
    {
     "name": "stdout",
     "output_type": "stream",
     "text": [
      "ExterCond\n",
      "['TA' 'Gd' 'Fa' 'Po' 'Ex']\n",
      "GarageQual\n",
      "['TA' 'Fa' 'Gd' nan 'Ex' 'Po']\n",
      "GarageCond\n",
      "['TA' 'Fa' nan 'Gd' 'Po' 'Ex']\n",
      "ExterQual\n",
      "['Gd' 'TA' 'Ex' 'Fa']\n",
      "BsmtQual\n",
      "['Gd' 'TA' 'Ex' nan 'Fa']\n",
      "BsmtCond\n",
      "['TA' 'Gd' nan 'Fa' 'Po']\n",
      "KitchenQual\n",
      "['Gd' 'TA' 'Ex' 'Fa']\n"
     ]
    }
   ],
   "source": [
    "for ordinal_var in ordinal_vars.index:\n",
    "    print(ordinal_var)\n",
    "    print(houses_df[ordinal_var].unique())"
   ]
  },
  {
   "cell_type": "code",
   "execution_count": 37,
   "id": "3952a154",
   "metadata": {},
   "outputs": [],
   "source": [
    "ordinal_df = houses_df[ordinal_vars.index].copy()"
   ]
  },
  {
   "cell_type": "code",
   "execution_count": 38,
   "id": "84d63850",
   "metadata": {},
   "outputs": [],
   "source": [
    "# taken from the metadata file about\n",
    "# what the abbreviations in the dataset mean\n",
    "ordinal_dict = {\n",
    "    'Ex': 5, #Excellent\n",
    "    'Gd': 4, #Good\n",
    "    'TA': 3, # Typical/Average\n",
    "    'Fa': 2, # Fair\n",
    "    'Po': 1, # Poor\n",
    "    np.NaN: np.NaN # Not applicable \n",
    "}\n",
    "\n",
    "\n",
    "for ordinal_var in ordinal_vars.index:    \n",
    "    ordinal_encoded_series = ordinal_df[ordinal_var].map(ordinal_dict)\n",
    "    \n",
    "    # Checks to see if there are any missing values\n",
    "    \n",
    "    # This checks to see if the series has fully\n",
    "    # Converted\n",
    "    # Because if it doesn't then it means\n",
    "    # Something was missed\n",
    "    if not ordinal_encoded_series.dtype == 'O':\n",
    "        ordinal_df[ordinal_var] = ordinal_encoded_series\n",
    "    else:\n",
    "        # Prints out the relevant information\n",
    "        # To track down the unique variable\n",
    "        print(ordinal_var)\n",
    "        print(ordinal_encoded_series.value_counts())"
   ]
  },
  {
   "cell_type": "markdown",
   "id": "5f6cf714",
   "metadata": {},
   "source": [
    "It is good to check after applying a map on a large dataframe to see what has happened to it. Here I am interested in the "
   ]
  },
  {
   "cell_type": "code",
   "execution_count": 39,
   "id": "8947187f",
   "metadata": {},
   "outputs": [
    {
     "data": {
      "text/plain": [
       "ExterCond       0\n",
       "GarageQual     81\n",
       "GarageCond     81\n",
       "ExterQual       0\n",
       "BsmtQual       37\n",
       "BsmtCond       37\n",
       "KitchenQual     0\n",
       "dtype: int64"
      ]
     },
     "execution_count": 39,
     "metadata": {},
     "output_type": "execute_result"
    }
   ],
   "source": [
    "ordinal_df[ordinal_vars.index].isna().sum()"
   ]
  },
  {
   "cell_type": "markdown",
   "id": "35f29e09",
   "metadata": {},
   "source": [
    "Now that it's clear that they are encoded, I can swap them out in the original housing_df"
   ]
  },
  {
   "cell_type": "code",
   "execution_count": 40,
   "id": "74f858de",
   "metadata": {},
   "outputs": [],
   "source": [
    "houses_df[ordinal_vars.index] = ordinal_df"
   ]
  },
  {
   "cell_type": "markdown",
   "id": "d14085f7",
   "metadata": {},
   "source": [
    "#### Advantages of Ordinal Encoding\n",
    "\n",
    "* Relatively straightforward to implement.\n",
    "* Can be used in linear models\n",
    "* Can be used to quantify  qualitative data\n",
    "\n"
   ]
  },
  {
   "cell_type": "markdown",
   "id": "6dd16a42",
   "metadata": {},
   "source": [
    "#### Limitations of Ordinal Encoding\n",
    "\n",
    "* Only works when variables have a clear ordered relationship\n",
    "* Only works when varaibles have a monotonic relationship \n",
    "* Requires careful thinking of how to structure questions during data collection. "
   ]
  },
  {
   "cell_type": "markdown",
   "id": "817dfb74",
   "metadata": {},
   "source": [
    "# More Methods\n",
    "<hr style=\"border:4px solid gray\"> </hr>"
   ]
  },
  {
   "cell_type": "markdown",
   "id": "b2871adb",
   "metadata": {},
   "source": [
    "There are over a dozen encoders in category encoders. However, they do have commonalities."
   ]
  },
  {
   "cell_type": "markdown",
   "id": "d6ddb34c",
   "metadata": {},
   "source": [
    "## Key Ideas\n",
    "<hr style=\"border:2px solid gray\"> </hr>"
   ]
  },
  {
   "cell_type": "markdown",
   "id": "330bc03d",
   "metadata": {},
   "source": [
    "* Many encoding techniques create a relationship between the category and the target variable\n",
    "\n",
    "* This relationship needs to be monotonic, which means a simple, always increasing/decreasing function with no peaks and valleys.\n",
    "\n",
    "* The graph of stock prices has spikes in it that is non-monotonic\n",
    "\n",
    "* Some use summary statistics to create this relationship, such as counting instances, or using the mean of each category. \n",
    "\n",
    "* Some some sophisticated methods use probability methods that are usually optimized for a particular model. "
   ]
  },
  {
   "cell_type": "markdown",
   "id": "47aeda05",
   "metadata": {},
   "source": [
    "The most important thing we have to understand about these advanced methods is that they introduce the risk of overfitting.\n",
    "\n",
    "Since they try to create a relationship between the feature and the target variable, it is done under the assumption that data outside of what the model trained on is going to have that same relationship.\n",
    "\n",
    "As a result, it is important to know what you are doing."
   ]
  },
  {
   "cell_type": "markdown",
   "id": "3a4e8ce9",
   "metadata": {},
   "source": [
    "## Methods which use summary statistics"
   ]
  },
  {
   "cell_type": "markdown",
   "id": "b947879f",
   "metadata": {},
   "source": [
    "One way to create a monotonic relationship with this feature is to fill the values in with summary statistics on each category's group, such as the frequency of each unique state, or the mean of the target variable for each group."
   ]
  },
  {
   "cell_type": "markdown",
   "id": "00f0243c",
   "metadata": {},
   "source": [
    "### Count Encoding\n",
    "<hr style=\"border:2px solid gray\"> </hr>"
   ]
  },
  {
   "cell_type": "markdown",
   "id": "31728c2b",
   "metadata": {},
   "source": [
    "Count encoding replaces the categorical feature with the number of times it appears in teh dataset. "
   ]
  },
  {
   "cell_type": "code",
   "execution_count": 41,
   "id": "0cf7c193",
   "metadata": {},
   "outputs": [],
   "source": [
    "feature_cardinality = startups_df[cat_vars].nunique(axis=0).sort_values(ascending=False)"
   ]
  },
  {
   "cell_type": "code",
   "execution_count": 42,
   "id": "531435ae",
   "metadata": {},
   "outputs": [],
   "source": [
    "CountEncoder = ce.CountEncoder()\n",
    "cardinality_threshold = 25\n",
    "features_to_count = feature_cardinality[feature_cardinality > cardinality_threshold]\n",
    "features_to_count = features_to_count[1:]"
   ]
  },
  {
   "cell_type": "code",
   "execution_count": 43,
   "id": "ce310569",
   "metadata": {},
   "outputs": [
    {
     "data": {
      "text/plain": [
       "category_list       9095\n",
       "first_funding_at    3318\n",
       "last_funding_at     2938\n",
       "founded_at          2533\n",
       "city                2062\n",
       "market               668\n",
       "founded_month        392\n",
       "region               286\n",
       "founded_quarter      202\n",
       "state_code            61\n",
       "dtype: int64"
      ]
     },
     "execution_count": 43,
     "metadata": {},
     "output_type": "execute_result"
    }
   ],
   "source": [
    "features_to_count"
   ]
  },
  {
   "cell_type": "code",
   "execution_count": 44,
   "id": "264f1538",
   "metadata": {},
   "outputs": [],
   "source": [
    "count_df = startups_df[features_to_count.index].copy()\n",
    "count_df = CountEncoder.fit_transform(count_df)"
   ]
  },
  {
   "cell_type": "markdown",
   "id": "428c8c1c",
   "metadata": {},
   "source": [
    "Now, where we once had many qualitative features, we now have numbers with a mathematical meaning, which is the number of times that the unique value appeared."
   ]
  },
  {
   "cell_type": "code",
   "execution_count": 45,
   "id": "41a6a636",
   "metadata": {},
   "outputs": [
    {
     "data": {
      "text/plain": [
       "category_list       int64\n",
       "first_funding_at    int64\n",
       "last_funding_at     int64\n",
       "founded_at          int64\n",
       "city                int64\n",
       "market              int64\n",
       "founded_month       int64\n",
       "region              int64\n",
       "founded_quarter     int64\n",
       "state_code          int64\n",
       "dtype: object"
      ]
     },
     "execution_count": 45,
     "metadata": {},
     "output_type": "execute_result"
    }
   ],
   "source": [
    "count_df.dtypes"
   ]
  },
  {
   "cell_type": "code",
   "execution_count": 46,
   "id": "966e5f65",
   "metadata": {},
   "outputs": [
    {
     "name": "stdout",
     "output_type": "stream",
     "text": [
      "founded_month       118\n",
      "city                106\n",
      "founded_at           94\n",
      "market               94\n",
      "region               89\n",
      "founded_quarter      86\n",
      "first_funding_at     71\n",
      "last_funding_at      68\n",
      "category_list        66\n",
      "state_code           57\n",
      "dtype: int64\n"
     ]
    }
   ],
   "source": [
    "print(count_df.nunique(axis=0).sort_values(ascending=False))"
   ]
  },
  {
   "cell_type": "markdown",
   "id": "57ac4ff6",
   "metadata": {},
   "source": [
    "This can be effective if there is a sweet spot in the number of variables.\n",
    "\n",
    "However, there is an occurance, which is called \"collision.\"\n",
    "\n",
    "This is perfectly clear in the example of category_list.\n",
    "\n",
    "Before, the raw column had a cardinality of over 9000, and now it has been compressed to 66. \n",
    "\n",
    "This may seem like an amazing thing, but what really happened is that many of the possible values ended up having the same mean.\n",
    "\n",
    "Rather than adding new information to the model, it not only destroying information but also creates a false pattern which creates noise."
   ]
  },
  {
   "cell_type": "code",
   "execution_count": 47,
   "id": "868f745c",
   "metadata": {},
   "outputs": [
    {
     "data": {
      "text/plain": [
       "<AxesSubplot:xlabel='category_list', ylabel='Count'>"
      ]
     },
     "execution_count": 47,
     "metadata": {},
     "output_type": "execute_result"
    },
    {
     "data": {
      "image/png": "[encoded data removed]",
      "text/plain": [
       "<Figure size 432x288 with 1 Axes>"
      ]
     },
     "metadata": {
      "needs_background": "light"
     },
     "output_type": "display_data"
    }
   ],
   "source": [
    "sns.histplot(count_df['category_list'])"
   ]
  },
  {
   "cell_type": "markdown",
   "id": "25f56f46",
   "metadata": {},
   "source": [
    "Count Encoding can be useful in certain situations because it can reduce the cardinality significantly."
   ]
  },
  {
   "cell_type": "markdown",
   "id": "57e75fad",
   "metadata": {},
   "source": [
    "### Target (Mean) Encoding\n",
    "<hr style=\"border:2px solid gray\"> </hr>"
   ]
  },
  {
   "cell_type": "markdown",
   "id": "72d918c6",
   "metadata": {},
   "source": [
    "Target Encoding steps further into this space. Instead of taking only information from the feature column itself, it takes information from the target variable.\n",
    "\n",
    "This can be a good thing when the mean differs between different groups, which would create a pattern which the model can pick up. "
   ]
  },
  {
   "cell_type": "code",
   "execution_count": 48,
   "id": "294d68c6",
   "metadata": {},
   "outputs": [],
   "source": [
    "cardinality_threshold = 10\n",
    "\n",
    "features_to_target_encode = feature_cardinality[feature_cardinality > cardinality_threshold]\n",
    "\n",
    "# Removes the extremely cardinal features\n",
    "features_to_target_encode = features_to_target_encode[2:]"
   ]
  },
  {
   "cell_type": "code",
   "execution_count": 49,
   "id": "02b844c6",
   "metadata": {},
   "outputs": [
    {
     "data": {
      "text/plain": [
       "first_funding_at    3318\n",
       "last_funding_at     2938\n",
       "founded_at          2533\n",
       "city                2062\n",
       "market               668\n",
       "founded_month        392\n",
       "region               286\n",
       "founded_quarter      202\n",
       "state_code            61\n",
       "dtype: int64"
      ]
     },
     "execution_count": 49,
     "metadata": {},
     "output_type": "execute_result"
    }
   ],
   "source": [
    "features_to_target_encode"
   ]
  },
  {
   "cell_type": "markdown",
   "id": "0c7c5979",
   "metadata": {},
   "source": [
    "Now, these features can be encoded with the group's mean, relative to the target"
   ]
  },
  {
   "cell_type": "code",
   "execution_count": 50,
   "id": "e719ea40-cd18-4187-8627-417034c53002",
   "metadata": {},
   "outputs": [],
   "source": [
    "target_encode_df = startups_df[features_to_target_encode.index].copy()\n",
    "target_var = startups_df['funding_total_usd']"
   ]
  },
  {
   "cell_type": "code",
   "execution_count": 51,
   "id": "9fe09f97-97d9-4685-8899-0d1246311249",
   "metadata": {},
   "outputs": [],
   "source": [
    "TargetEncoder = ce.TargetEncoder(cols = features_to_target_encode.index)\n",
    "target_encoded_features = TargetEncoder.fit_transform(count_df,target_var)"
   ]
  },
  {
   "cell_type": "markdown",
   "id": "62554208",
   "metadata": {},
   "source": [
    "Likewise, in this case, there are now numbers which represent the instances within the category."
   ]
  },
  {
   "cell_type": "code",
   "execution_count": 52,
   "id": "034d588c",
   "metadata": {},
   "outputs": [
    {
     "data": {
      "text/plain": [
       "category_list         int64\n",
       "first_funding_at    float64\n",
       "last_funding_at     float64\n",
       "founded_at          float64\n",
       "city                float64\n",
       "market              float64\n",
       "founded_month       float64\n",
       "region              float64\n",
       "founded_quarter     float64\n",
       "state_code          float64\n",
       "dtype: object"
      ]
     },
     "execution_count": 52,
     "metadata": {},
     "output_type": "execute_result"
    }
   ],
   "source": [
    "target_encoded_features.dtypes"
   ]
  },
  {
   "cell_type": "markdown",
   "id": "f462d4ae",
   "metadata": {},
   "source": [
    "This can be useful because it intorudces new information to the model.\n",
    "\n",
    "However, it can also introduce bias because information is being leaked from the target into the dependent variables. In a scientific study this is probably unacceptable, but when modeling highly cardinal customer data, it can become useful when you know that the input data is going to be similar to the training data and you want to get higher performance. \n",
    "\n"
   ]
  },
  {
   "cell_type": "markdown",
   "id": "12b4e5d2",
   "metadata": {},
   "source": [
    "## A note on other advanced methods\n",
    "<hr style=\"border:2px solid gray\"> </hr>"
   ]
  },
  {
   "cell_type": "markdown",
   "id": "50d4058e",
   "metadata": {},
   "source": [
    "There are plenty of more encoding methods to explore. However, these start to become very specific to whichever model they are optimized for.\n",
    "\n",
    "Often these methods try and encode the feature as a probability that the target will be a certain value. \n",
    "\n",
    "If you end up in a situation where you have decided upon the model you will use and want to get more performance, then it would be  a good time to research more about which encodings are used for that particular model. "
   ]
  },
  {
   "cell_type": "markdown",
   "id": "be33237f",
   "metadata": {},
   "source": [
    "# Wrap Up \n",
    "<hr style=\"border:4px solid gray\"> </hr>"
   ]
  },
  {
   "cell_type": "markdown",
   "id": "9ce70dbd",
   "metadata": {},
   "source": [
    "Category encodings attempt to deal with the problem of qualitative variables by restructuring them in a way that is either a space efficient integer, a yes/no question, an ordered set of numbers, or as a statistic about the category being encoded."
   ]
  },
  {
   "cell_type": "markdown",
   "id": "6d19c783",
   "metadata": {},
   "source": [
    "## Discussion Questions\n",
    "<hr style=\"border:2px solid gray\"> </hr>"
   ]
  },
  {
   "cell_type": "markdown",
   "id": "e961914b",
   "metadata": {},
   "source": [
    "* Why can't categorical variables be inputted into a linear model? \n",
    "* What are the benefits of Dummy Variables? What are the drawbacks?\n",
    "* How can target encoding improve model performance? How can it introduce bias?\n"
   ]
  }
 ],
 "metadata": {
  "interpreter": {
   "hash": "09fc63d8746fb0445fbb0c418e23fc0883df0397bf2407db906c75833298fec1"
  },
  "kernelspec": {
   "display_name": "Python 3 (ipykernel)",
   "language": "python",
   "name": "python3"
  },
  "language_info": {
   "codemirror_mode": {
    "name": "ipython",
    "version": 3
   },
   "file_extension": ".py",
   "mimetype": "text/x-python",
   "name": "python",
   "nbconvert_exporter": "python",
   "pygments_lexer": "ipython3",
   "version": "3.9.7"
  }
 },
 "nbformat": 4,
 "nbformat_minor": 5
}
