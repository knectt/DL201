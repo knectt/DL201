{
 "cells": [
  {
   "cell_type": "markdown",
   "id": "4ae8c3d2",
   "metadata": {},
   "source": [
    "## 💻 UnpackAI DL201 Bootcamp - Week 2 - Skills: Preprocessing Image Data\n",
    "\n",
    "### 📕 Learning Objectives\n",
    "\n",
    "* Have an appreciation for the diversity of image preprocessing tasks in various situations and that no one size fits all solution exists\n",
    "* Gain an understanding of **spacial filtering**, the principles of how it works from a code based perspective, and how to apply to remove noise, sharpen edges, and detect edges\n",
    "* Grasp the concept of thresholding, and appreciate how it can be a powerful tool\n",
    "* Understand the difference between local and global thresholding, and the challenges involved. \n",
    "\n",
    "### 📖 Concepts map\n",
    "\n",
    "* Spacial Filtering\n",
    "* Thresholding\n",
    "* Image Masking\n",
    "* Global vs Local\n",
    "\n",
    "\n"
   ]
  },
  {
   "cell_type": "code",
   "execution_count": null,
   "id": "53d03e72",
   "metadata": {},
   "outputs": [],
   "source": [
    "# import (use not verbose mode : ex \"import -Uqq pandas as pd\" if you are sure that there is no dependency error)\n",
    "import numpy as np\n",
    "import cv2\n",
    "from matplotlib import pyplot as plt\n",
    "import os\n",
    "from pathlib import Path\n",
    "from PIL import Image\n",
    "import IPython.display\n",
    "import wand.image  # requires Imagemagick and !pip install Wand"
   ]
  },
  {
   "cell_type": "code",
   "execution_count": null,
   "id": "509cadbd-1e8a-4b16-b8cd-c1aed13404e7",
   "metadata": {},
   "outputs": [],
   "source": [
    "# import data and images if necessary, and choose the right path\n",
    "is_kaggle = False   # True if you are on Kaggle, False for local Windows, Linux or Mac environments.\n",
    "\n",
    "if is_kaggle:\n",
    "    !git clone https://github.com/unpackAI/DL201.git\n",
    "    IMAGE_DIR = Path('/kaggle/working/DL201/img')\n",
    "    DATA_DIR = Path('/kaggle/working/DL201/data')\n",
    "else:\n",
    "    # This section is for local execution, it is assumed that the notebook is on the 'Week-2' folder\n",
    "    # of the DL201 repository.\n",
    "    DATA_DIR = Path('../data')\n",
    "    IMAGE_DIR = Path('../img')\n",
    "\n",
    "# finally, check if we found the right pathes\n",
    "if os.path.isdir(DATA_DIR):\n",
    "    print(f'DATA_DIR is a directory, its path is {DATA_DIR}')\n",
    "else:\n",
    "    print(\"ERROR : DATA_DIR is not a directory\")\n",
    "\n",
    "if os.path.isdir(IMAGE_DIR):\n",
    "    print(f'IMAGE_DIR is a directory, its path is {IMAGE_DIR}')\n",
    "else:\n",
    "    print(\"ERROR : IMAGE_DIR is not a directory\")\n",
    "    \n",
    "# picture display function\n",
    "def PictureDisplayJPG(picture_name):\n",
    "    image_file_path = str(IMAGE_DIR/'week2'/picture_name)\n",
    "    img = cv2.imread(image_file_path)\n",
    "    img_array = np.array(img)\n",
    "    plt.imshow(img_array)\n",
    "    plt.show()\n",
    "    \n",
    "def PictureDisplayPNG(picture_name):\n",
    "    image_file_path = str(IMAGE_DIR/'week2'/picture_name)\n",
    "    img = cv2.cvtColor(cv2.imread(image_file_path), cv2.COLOR_BGR2RGB)\n",
    "    img_array = np.array(img)\n",
    "    plt.imshow(img_array)\n",
    "    plt.show()\n",
    "    \n",
    "# control the size of the pictures\n",
    "plt.rcParams['figure.figsize'] = [3, 3]\n",
    "image_width = 150\n",
    "image_height = 150\n",
    "# use 1000 1000 to get bigger pictures"
   ]
  },
  {
   "cell_type": "markdown",
   "id": "852450c1",
   "metadata": {},
   "source": [
    "# Part 1. Introduction"
   ]
  },
  {
   "cell_type": "markdown",
   "id": "e940c3ac",
   "metadata": {
    "tags": []
   },
   "source": [
    "## 1.1 Why do we need pre-processing\n",
    "\n",
    "There are several grades of image pre-processing. Some will only slightly improve the quality of the images (ex : noise reduction) so that the AI model will work better, while others will bring consistent modifications on the original images (ex : background suppression), enlighting shapes or features much more easy to work with than conventional images.\n",
    "\n",
    "In some situations, data may not need preprocessing if the model is trained on really various images (ex : uploaded by different users, using different cameras, taking pictures in a variety of lighting conditions, etc) while others, such in an industrial setting, may require fine tuned preprocessing steps to increase the performance of their model (ex : highlight defective products that have to be removed from a production line). "
   ]
  },
  {
   "cell_type": "code",
   "execution_count": null,
   "id": "41ea1598-e33a-4e93-83cf-681da191a21f",
   "metadata": {},
   "outputs": [],
   "source": [
    " PictureDisplayPNG(\"cat_without_background.png\")"
   ]
  },
  {
   "cell_type": "markdown",
   "id": "35ea6887-c6e6-4126-bf5e-bfb9247e6c58",
   "metadata": {},
   "source": [
    "## 1.2 Do I need to know advanced mathemathics to preprocess images? \n",
    "\n",
    "While there's always some level of math involved in the pre-processing algorithms, python make them easy to call as pre-defined functions. So, most of the time, you just need to know the name of the algorithm and do not need to implement it by your self. In those cases, no math is required.\n",
    "\n",
    "Likewise, you don't need to impliment a Fourier transform from scratch, as long as you can understand the inputs and outputs of it, and what they mean towards accomplishing the objective of cleaning and enhancing the data.\n",
    "\n",
    "Before deep learning, one of the most common ways to extract features was SIFT and its evolutions like SURF. SIFT was very complex algorithms that few people understood completely, but it is heavily cited because everyone used it."
   ]
  },
  {
   "cell_type": "code",
   "execution_count": null,
   "id": "bcf02ea2-bdf2-43bd-b962-9fda403474b9",
   "metadata": {},
   "outputs": [],
   "source": [
    "PictureDisplayJPG(\"SURF_Homography.jpg\")"
   ]
  },
  {
   "cell_type": "markdown",
   "id": "00e9ca94",
   "metadata": {},
   "source": [
    "Now, most deep-learning methods and their pre-processing steps are mostly based on simple matrix operations, such as convolutional products. Let's notice that this convolutional product is the same as the one used on the convolutional neural networks, which are the base of the most famous pictures classification AI models.\n",
    "\n",
    "The following picture was extracted from this website : https://scientistcafe.com/ids/convolutional-neural-network.html"
   ]
  },
  {
   "cell_type": "code",
   "execution_count": null,
   "id": "872ce07d-d0af-4664-94ab-05fc8ac226ee",
   "metadata": {},
   "outputs": [],
   "source": [
    "PictureDisplayPNG(\"convolutionsbs.png\")"
   ]
  },
  {
   "cell_type": "markdown",
   "id": "ffcf2f63",
   "metadata": {},
   "source": [
    "## 1.3 The main methods of image pre-processing"
   ]
  },
  {
   "cell_type": "markdown",
   "id": "8d6a5150",
   "metadata": {},
   "source": [
    "There are many groups of image-preprocessing. Common ones are :\n",
    "\n",
    "* Color transforms\n",
    "* Filtering\n",
    "    - Spacial filters\n",
    "    - Frequency filters\n",
    "* Thresholding\n",
    "    \n",
    "In this notebook, we'll briefly present color transforms, before giving more details on ***Thresholding*** and ***Spacial Filters*** because they are related to the concepts learned in the first week and build on top of them."
   ]
  },
  {
   "cell_type": "markdown",
   "id": "82d61bc1-bf57-4135-8eae-34c8325ba858",
   "metadata": {},
   "source": [
    "# Part 2. Color Transforms\n",
    "\n",
    "Color transforms consist in changing the dimension of an image to make it easier to work with, by human being or by an AI model.\n",
    "\n",
    "The two most common examples is the transform between RGB (red green blue) and grayscale images.\n",
    "$$ RGB --> grayscale $$\n",
    "\n",
    "But if you work with images made for printers, then you may have to work with CMYK (cyan, magenta, yellow, black) images, that you would have to convert into RGB ones.\n",
    "$$ CMYK --> RGB $$\n",
    "\n",
    "Finally, if you use a pretrained model that was trained on color images, you should consider transforming your grayscale images into color images.\n",
    "$$ grayscale --> RGB $$\n",
    "\n",
    "It may make sense to preprocess X-rays and MRIs using this technique, because X-rays and MRIs are often black and white or monochrome. By expanding the color spectrum to include more color, it can highlight features that would be more difficult to spot otherwise."
   ]
  },
  {
   "cell_type": "code",
   "execution_count": null,
   "id": "2df659b7",
   "metadata": {},
   "outputs": [],
   "source": [
    "braintumor = Image.open(IMAGE_DIR/'week2/braintumor.jpg')"
   ]
  },
  {
   "cell_type": "code",
   "execution_count": null,
   "id": "13514900",
   "metadata": {
    "tags": []
   },
   "outputs": [],
   "source": [
    "grayscale = np.array(braintumor)"
   ]
  },
  {
   "cell_type": "code",
   "execution_count": null,
   "id": "533b3abd",
   "metadata": {},
   "outputs": [],
   "source": [
    "IPython.display.Image(IMAGE_DIR/'week2/braintumor.jpg', width=image_width, height=image_height)"
   ]
  },
  {
   "cell_type": "code",
   "execution_count": null,
   "id": "0e6a934d",
   "metadata": {},
   "outputs": [],
   "source": [
    "pseudoColoredImage = cv2.applyColorMap(grayscale, cv2.COLORMAP_JET)"
   ]
  },
  {
   "cell_type": "code",
   "execution_count": null,
   "id": "73c07280",
   "metadata": {},
   "outputs": [],
   "source": [
    "plt.imshow(pseudoColoredImage)\n",
    "plt.show()"
   ]
  },
  {
   "cell_type": "code",
   "execution_count": null,
   "id": "407b7989-1d7f-41f7-a01e-cebe2e58d0e4",
   "metadata": {},
   "outputs": [],
   "source": [
    "print(f'shape of the grayscale image : {grayscale.shape}')\n",
    "print(f'shape of the pseudo color image : {pseudoColoredImage.shape}')"
   ]
  },
  {
   "cell_type": "markdown",
   "id": "d1ee7a26-e31f-4a49-92f1-509d9564bc33",
   "metadata": {},
   "source": [
    "# Part 3. Spatial Filters"
   ]
  },
  {
   "cell_type": "markdown",
   "id": "d8d46be7",
   "metadata": {},
   "source": [
    "## 3.1 Definition\n",
    "A Spacial Filter uses the principle of using the information in neighboring pixels to be able to correct, restore, or enhance the image. "
   ]
  },
  {
   "cell_type": "markdown",
   "id": "349f3fe2",
   "metadata": {},
   "source": [
    "## 3.2 How they work\n",
    "This is done using a mask, which is a small 3x3 or larger matrix that is moved across all of the pixels. Here is an example where we will add some noise to an image."
   ]
  },
  {
   "cell_type": "code",
   "execution_count": null,
   "id": "48202e68",
   "metadata": {},
   "outputs": [],
   "source": [
    "example_img_path = str(IMAGE_DIR/'week2/chimpanzee.jpg')\n",
    "noisy_img_path = str(IMAGE_DIR/'week2'/\"noisyExample.jpg\")\n",
    "noisy_img_path2 = str(IMAGE_DIR/'week2'/\"noisyExample2.jpg\")\n",
    "\n",
    "example_img = cv2.imread(example_img_path)\n",
    "# Read image using Image() function\n",
    "with wand.image.Image(filename=example_img_path)as noisy_img:  \n",
    "    noisy_img.noise(\"gaussian\", attenuate = 2)\n",
    "    noisy_img.save(filename = noisy_img_path)\n",
    "    \n",
    "noisy_img1 = cv2.imread(noisy_img_path)\n",
    "    \n",
    "with wand.image.Image(filename=example_img_path)as noisy_img:  \n",
    "    noisy_img.noise(\"poisson\", 0.5, \"green\")\n",
    "    noisy_img.save(filename = noisy_img_path2)\n",
    "    \n",
    "noisy_img2 = cv2.imread(noisy_img_path2)"
   ]
  },
  {
   "cell_type": "code",
   "execution_count": null,
   "id": "c93a34aa-1131-46cd-837c-61dc8db7843c",
   "metadata": {},
   "outputs": [],
   "source": [
    "IPython.display.Image(example_img_path, width=image_width, height=image_height)"
   ]
  },
  {
   "cell_type": "code",
   "execution_count": null,
   "id": "0fcdf0cc",
   "metadata": {},
   "outputs": [],
   "source": [
    "IPython.display.Image(noisy_img_path, width=image_width, height=image_height)"
   ]
  },
  {
   "cell_type": "code",
   "execution_count": null,
   "id": "547251b0-5360-4b7d-b408-c326234e5a5d",
   "metadata": {},
   "outputs": [],
   "source": [
    "IPython.display.Image(noisy_img_path2, width=image_width, height=image_height)"
   ]
  },
  {
   "cell_type": "markdown",
   "id": "b982f16a",
   "metadata": {},
   "source": [
    "## 3.3 Example of space filter : Noise Removal (Blurring)"
   ]
  },
  {
   "cell_type": "markdown",
   "id": "f50e7e47",
   "metadata": {},
   "source": [
    "A mean filter takes the values of all the pixels surrounding it, and applying it to that pixel. It does this across the entire image."
   ]
  },
  {
   "cell_type": "code",
   "execution_count": null,
   "id": "d45b8900",
   "metadata": {},
   "outputs": [],
   "source": [
    "means_filtered_img = cv2.fastNlMeansDenoisingColored(noisy_img1,None,10,10,7,21)\n",
    "gaussian_blurred_img = cv2.GaussianBlur(noisy_img1, (5, 5), 0)"
   ]
  },
  {
   "cell_type": "code",
   "execution_count": null,
   "id": "0eb587f8",
   "metadata": {},
   "outputs": [],
   "source": [
    "plt.imshow(cv2.cvtColor(means_filtered_img, cv2.COLOR_BGR2RGB))\n",
    "# as opencv loads in BGR format by default, we want to show it in RGB.\n",
    "plt.show()"
   ]
  },
  {
   "cell_type": "code",
   "execution_count": null,
   "id": "f40b9226-7295-405f-b24c-0055446caff8",
   "metadata": {},
   "outputs": [],
   "source": [
    "plt.imshow(cv2.cvtColor(gaussian_blurred_img, cv2.COLOR_BGR2RGB))\n",
    "# as opencv loads in BGR format by default, we want to show it in RGB.\n",
    "plt.show()"
   ]
  },
  {
   "cell_type": "markdown",
   "id": "2c553cf1-e280-4011-9e81-f4f9cbc1b3dd",
   "metadata": {},
   "source": [
    "***Homeworks*** : search for the signification of the parameters of fastNlMeansDenoisingColored, try to modify them to get the better results on noisy_img1, and then, apply the same noise removal process on noisy_img2."
   ]
  },
  {
   "cell_type": "markdown",
   "id": "dc8d1dc4",
   "metadata": {},
   "source": [
    "## 3.4 Example of space filter : Image Enhancement"
   ]
  },
  {
   "cell_type": "markdown",
   "id": "c7780d3e",
   "metadata": {},
   "source": [
    "After image correction, Spacial Filters can be used to ***sharpen images***."
   ]
  },
  {
   "cell_type": "code",
   "execution_count": null,
   "id": "bb23de6b-8286-495a-9798-f70ce411adcc",
   "metadata": {},
   "outputs": [],
   "source": [
    "kernel = np.array([[0,-2,0],\n",
    "                   [-2,9,-2],\n",
    "                   [0,-2,0]])"
   ]
  },
  {
   "cell_type": "markdown",
   "id": "568eb318-d292-44d0-9bc6-5ce2426b93df",
   "metadata": {},
   "source": [
    "The 9 in the middle of this kernel will enlight the edges and borders, while the zero and negative values will let the \"flat\" areas unchanged."
   ]
  },
  {
   "cell_type": "code",
   "execution_count": null,
   "id": "4ffdb07f",
   "metadata": {},
   "outputs": [],
   "source": [
    "grayscale_example = cv2.cvtColor(example_img, cv2.COLOR_RGB2GRAY)\n",
    "img_sharp = cv2.filter2D(grayscale_example,-1, kernel)"
   ]
  },
  {
   "cell_type": "code",
   "execution_count": null,
   "id": "aa124b2f-be8b-490e-8d89-ed171f7f4c7b",
   "metadata": {},
   "outputs": [],
   "source": [
    "plt.imshow(grayscale_example, cmap='gray')\n",
    "plt.show()"
   ]
  },
  {
   "cell_type": "code",
   "execution_count": null,
   "id": "33507927",
   "metadata": {},
   "outputs": [],
   "source": [
    "plt.imshow(img_sharp, cmap='gray')\n",
    "plt.show()"
   ]
  },
  {
   "cell_type": "markdown",
   "id": "78b52d06-4ba5-4d98-b033-9f2260763ad6",
   "metadata": {},
   "source": [
    "## 3.5 Edge detection"
   ]
  },
  {
   "cell_type": "markdown",
   "id": "df6d64e1-13ad-4e7f-89ef-84875c9f1f2e",
   "metadata": {},
   "source": [
    "As you may have learnt or will learn about convolutional neural networks, spacial kernels can be used to \"detect\" different shapes in the image.\n",
    "Below, you can see that it is possible to find the horizontal and vertical 'edges' of an image."
   ]
  },
  {
   "cell_type": "code",
   "execution_count": null,
   "id": "f6e637d5-8d76-4a80-b71c-bb2d54e9d1a4",
   "metadata": {},
   "outputs": [],
   "source": [
    "image_file_path = str(IMAGE_DIR/'week2'/\"vertical_edges_horizontal_edges.png\")\n",
    "img = cv2.cvtColor(cv2.imread(image_file_path), cv2.COLOR_BGR2RGB)\n",
    "img_array = np.array(img)"
   ]
  },
  {
   "cell_type": "code",
   "execution_count": null,
   "id": "6c57d958-bd71-4077-9330-512dd3a62048",
   "metadata": {},
   "outputs": [],
   "source": [
    "img_array.shape"
   ]
  },
  {
   "cell_type": "code",
   "execution_count": null,
   "id": "637f7c66-df15-4dba-be64-054901816a2b",
   "metadata": {},
   "outputs": [],
   "source": [
    "# display the first third\n",
    "plt.imshow(img_array[:,0:1878//3,:])\n",
    "plt.show()"
   ]
  },
  {
   "cell_type": "code",
   "execution_count": null,
   "id": "b0c4fe02-4fd8-4c49-8359-2db3b6af3c29",
   "metadata": {},
   "outputs": [],
   "source": [
    "# display the second third\n",
    "plt.imshow(img_array[:,1878//3:2*1878//3,:])\n",
    "plt.show()"
   ]
  },
  {
   "cell_type": "code",
   "execution_count": null,
   "id": "75aeea58-6582-4162-89cf-1f4c3cdad16f",
   "metadata": {},
   "outputs": [],
   "source": [
    "# display the third third\n",
    "plt.imshow(img_array[:,2*1878//3:,:])\n",
    "plt.show()"
   ]
  },
  {
   "cell_type": "markdown",
   "id": "4f8357ff",
   "metadata": {
    "tags": []
   },
   "source": [
    "# Part 4. Image segmentation and thresholding "
   ]
  },
  {
   "cell_type": "markdown",
   "id": "39794c2c",
   "metadata": {},
   "source": [
    "## 4.1 Definitions\n",
    "Image segmentation is a group of techniques in digital image processing aiming at analysing and partition an image into multiple parts or regions.\n",
    "\n",
    "In digital image processing, thresholding is the simplest method of segmenting images. On gray scale images, thresholding is the fact of choosing a pixel value T, and dividing the image in 2 parts :\n",
    "* the part 1 including the pixels the gray value of which is lower than T\n",
    "* the part 2 including the pixels the gray value of which is superior or greater than T\n",
    "\n",
    "Thresholding can be used to separate the foreground and background of an image."
   ]
  },
  {
   "cell_type": "markdown",
   "id": "3cf855f0-3638-4f7b-b285-7391897d0e13",
   "metadata": {},
   "source": [
    "Here, we are using thresholding to create a binary images. The ensemble of 0 and 1 can be used as ***indexes*** for our foreground and background."
   ]
  },
  {
   "cell_type": "code",
   "execution_count": null,
   "id": "130f25eb-a319-4e25-887d-0cd5a19a136b",
   "metadata": {},
   "outputs": [],
   "source": [
    "mask = example_img.copy()\n",
    "value_threshold = 90\n",
    "background = (grayscale_example <= value_threshold)\n",
    "foreground = (grayscale_example > value_threshold)"
   ]
  },
  {
   "cell_type": "code",
   "execution_count": null,
   "id": "c339b8d3-b914-4f56-8b08-4fff8162c4bf",
   "metadata": {},
   "outputs": [],
   "source": [
    "image = Image.fromarray(background)\n",
    "plt.imshow(image)"
   ]
  },
  {
   "cell_type": "code",
   "execution_count": null,
   "id": "513d3ceb-576b-48da-b919-eddcff61a593",
   "metadata": {},
   "outputs": [],
   "source": [
    "image = Image.fromarray(foreground)\n",
    "plt.imshow(image)"
   ]
  },
  {
   "cell_type": "markdown",
   "id": "44625173",
   "metadata": {},
   "source": [
    "## 4.2 When is thresholding used?"
   ]
  },
  {
   "cell_type": "markdown",
   "id": "94ee4091",
   "metadata": {},
   "source": [
    "The main purpose of thresholding is to grasp one part of the image (ex the darker part) and then apply some transformations only on this part (ex : lighting).\n",
    "\n",
    "Once we have identified a threshold, it becomes possible to preprocess an image in the areas where it needs it most.\n",
    "\n",
    "This solves a variety of problems such as uneven lighting, hidden features, or even noise present in the background which may affect the model's performance.\n",
    "\n",
    "Identifying a threshold is an important part of image preprocessing because it allows one to be much more precise."
   ]
  },
  {
   "cell_type": "markdown",
   "id": "be8767a7",
   "metadata": {},
   "source": [
    "## 4.3 How can a threshold be identified?"
   ]
  },
  {
   "cell_type": "markdown",
   "id": "74789821",
   "metadata": {},
   "source": [
    "There are many ways to identify a threshold, but the most simple one is by taking the mean.\n",
    "\n",
    "If we have access to the histogram of the colors, then we are looking for two normal distributions, and will choose a threshold separating them clearly."
   ]
  },
  {
   "cell_type": "code",
   "execution_count": null,
   "id": "4b326a84",
   "metadata": {},
   "outputs": [],
   "source": [
    "# tuple to select colors of each channel line\n",
    "colors = (\"red\", \"green\", \"blue\")\n",
    "channel_ids = (0, 1, 2)\n",
    "\n",
    "# create the histogram plot, with three lines, one for\n",
    "# each color\n",
    "plt.figure()\n",
    "plt.xlim([0, 256])\n",
    "for channel_id, c in zip(channel_ids, colors):\n",
    "    histogram, bin_edges = np.histogram(\n",
    "        example_img[:, :, channel_id], bins=256, range=(0, 256)\n",
    "    )\n",
    "    plt.plot(bin_edges[0:-1], histogram, color=c)\n",
    "\n",
    "plt.title(\"Color Histogram\")\n",
    "plt.xlabel(\"Color value\")\n",
    "plt.ylabel(\"Pixel count\")\n",
    "\n",
    "plt.show()"
   ]
  },
  {
   "cell_type": "markdown",
   "id": "756b4898",
   "metadata": {},
   "source": [
    "This graph shows two distinct places where many values are contained and identifies where to put a threshold. "
   ]
  },
  {
   "cell_type": "markdown",
   "id": "184a7985",
   "metadata": {},
   "source": [
    "## 4.4 Draw the edges based on spacial filtering and thresholding"
   ]
  },
  {
   "cell_type": "markdown",
   "id": "0211ba26",
   "metadata": {},
   "source": [
    "Here, we use a spacial filter to find the ***edges***, and then, we use two thresholds to link the edges together and find the initial segments of strong edges."
   ]
  },
  {
   "cell_type": "code",
   "execution_count": null,
   "id": "ef60c4cc",
   "metadata": {},
   "outputs": [],
   "source": [
    "# Thresholds \n",
    "#t_lower = 150\n",
    "#t_upper = 210\n",
    "t_lower = 100\n",
    "t_upper = 140\n",
    "\n",
    "#edge = cv2.Canny(gaussian_blurred_img, t_lower, t_upper)\n",
    "edge = cv2.Canny(grayscale_example, t_lower, t_upper)\n",
    "\n",
    "plt.imshow(edge, cmap='gray')\n",
    "# as opencv loads in BGR format by default, we want to show it in RGB.\n",
    "plt.show()"
   ]
  },
  {
   "cell_type": "markdown",
   "id": "866aadda-c2c5-469e-bb0d-0ebfa566d6bc",
   "metadata": {},
   "source": [
    "***Homeworks*** : Try several combinations of t_upper and t_lower to get the best edge picture. Then, try this combination on another picture (ex : gaussian_blurred_img) and see if you can keep those parameters to get good results."
   ]
  },
  {
   "cell_type": "markdown",
   "id": "5df25417",
   "metadata": {},
   "source": [
    "## 4.5 Background Removal"
   ]
  },
  {
   "cell_type": "code",
   "execution_count": null,
   "id": "b6fd859f",
   "metadata": {},
   "outputs": [],
   "source": [
    "foreground = np.where(foreground[...,None],example_img,0)\n",
    "background = np.where(background[...,None],example_img,0)\n",
    "plt.imshow(cv2.cvtColor(foreground, cv2.COLOR_BGR2RGB))\n",
    "# as opencv loads in BGR format by default, we want to show it in RGB.\n",
    "plt.show()"
   ]
  },
  {
   "cell_type": "code",
   "execution_count": null,
   "id": "b96a98ac",
   "metadata": {},
   "outputs": [],
   "source": [
    "img_added = foreground + background\n",
    "plt.imshow(cv2.cvtColor(img_added, cv2.COLOR_BGR2RGB))\n",
    "# as opencv loads in BGR format by default, we want to show it in RGB.\n",
    "plt.show()"
   ]
  },
  {
   "cell_type": "markdown",
   "id": "83ddb228",
   "metadata": {},
   "source": [
    "## 4.6 Brightness adjustment"
   ]
  },
  {
   "cell_type": "markdown",
   "id": "4acf84e9-1327-4a66-aa1e-7263137e13b1",
   "metadata": {},
   "source": [
    "Here, the pixel values are modified linearly. If it were grayscale image, we would have :\n",
    "$$ P2 = Alpha . P1 + Beta$$\n",
    "* alpha > 1 increases the contrast\n",
    "* alpha < 1 decreases the contrast\n",
    "* beta > 1 makes the picture lighter\n",
    "* beta < 1 makes the picture darker"
   ]
  },
  {
   "cell_type": "code",
   "execution_count": null,
   "id": "255fa50e",
   "metadata": {},
   "outputs": [],
   "source": [
    "alpha = 1.5\n",
    "beta = 50\n",
    "background_adjusted = cv2.convertScaleAbs(background, alpha=alpha, beta=beta)"
   ]
  },
  {
   "cell_type": "code",
   "execution_count": null,
   "id": "0d99d662",
   "metadata": {},
   "outputs": [],
   "source": [
    "img_adjusted = foreground + background_adjusted\n",
    "plt.imshow(cv2.cvtColor(img_adjusted, cv2.COLOR_BGR2RGB))\n",
    "plt.show()"
   ]
  },
  {
   "cell_type": "markdown",
   "id": "6cb00da5-f13b-437b-9be3-1c5540946d00",
   "metadata": {},
   "source": [
    " Thanks to this adjustment, the foreground is not too light, and we have much more details on the chimpanzees."
   ]
  },
  {
   "cell_type": "markdown",
   "id": "4beeb3fa-f39d-408d-a2f8-3cd74e4e46fc",
   "metadata": {},
   "source": [
    "***Homeworks*** : Why could you propose to get a better result ? As soon as you get an answer, try it by improving or completing the code below."
   ]
  }
 ],
 "metadata": {
  "interpreter": {
   "hash": "b35736f271ae3a6547f08ef3ad12296102f5e6031b2a7c6493a7e5cc9f313275"
  },
  "kernelspec": {
   "display_name": "Python 3 (ipykernel)",
   "language": "python",
   "name": "python3"
  },
  "language_info": {
   "codemirror_mode": {
    "name": "ipython",
    "version": 3
   },
   "file_extension": ".py",
   "mimetype": "text/x-python",
   "name": "python",
   "nbconvert_exporter": "python",
   "pygments_lexer": "ipython3",
   "version": "3.9.7"
  }
 },
 "nbformat": 4,
 "nbformat_minor": 5
}
