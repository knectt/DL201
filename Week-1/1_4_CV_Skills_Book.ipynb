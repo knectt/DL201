{
 "cells": [
  {
   "cell_type": "markdown",
   "id": "61a1ca69",
   "metadata": {},
   "source": [
    "# 💻 UnpackAI DL201 Bootcamp - Week 1 - Skills: Computer Vision\n",
    "\n",
    "## 📕 Learning Objectives\n",
    "\n",
    "* Conceptualize the concept of Tensors in the context of machine learning and their benefits.\n",
    "* Identifiy the differences of important data structures such as Python lists, Numpy arrays and Pandas DataFrames.\n",
    "\n",
    "## 📖 Concepts map\n"
   ]
  },
  {
   "cell_type": "markdown",
   "id": "714f5904",
   "metadata": {},
   "source": [
    "# Part 0 : Code preparation"
   ]
  },
  {
   "cell_type": "code",
   "execution_count": 1,
   "id": "5a7d198a",
   "metadata": {},
   "outputs": [],
   "source": [
    "#!pip install unpackai -qq\n",
    "!git clone https://github.com/unpackAI/DL201.git\n",
    "\n",
    "# imports\n",
    "from pathlib import Path\n",
    "import pandas as pd\n",
    "import numpy as np \n",
    "\n",
    "#Kaggle config\n",
    "\n",
    "DATA_DIR = Path('/kaggle/working/DL201/data') #uncomment for kaggle\n",
    "IMAGE_DIR = Path('/kaggle/working/DL201/img') #Uncomment for Kaggle\n",
    "\n",
    "#Local Config\n",
    "\n",
    "#DATA_DIR = Path.home()/'Datasets'/'unpackAI'/'DL201'/'data'\n",
    "#IMAGE_DIR = Path('../img') #uncomment for local machine"
   ]
  },
  {
   "cell_type": "markdown",
   "id": "c967d070",
   "metadata": {},
   "source": [
    "# Part 1: Loading the data\n",
    "<hr style=\"border:4px solid gray\"> </hr>"
   ]
  },
  {
   "cell_type": "markdown",
   "id": "641aa543",
   "metadata": {},
   "source": [
    "As is always, the question becomes, how do we access our data.\n",
    "\n",
    "How is it stored?\n",
    "\n",
    "Many computer vision data sets are organized in two ways.\n",
    "\n",
    "* As individual files stored in a file tree\n",
    "\n",
    "* With Metadata in a JSON or CSV file containing the file paths and the labels"
   ]
  },
  {
   "cell_type": "markdown",
   "id": "8e769eb4-201d-4a8d-8d08-2670b4166b8b",
   "metadata": {},
   "source": [
    "## Key Concept: File Paths\n",
    "\n",
    "In addition to indexing, another model for storing information is in what is called a file tree. The root of the file tree is the base directory, which on windows is usually 'C:\\\\' or in linux is just / \n",
    "\n",
    "From this, more files and directories can be organized and found along these trees. This method is useful for organizing files rather than data points because it allows us to keep everything together in relevant baskets."
   ]
  },
  {
   "cell_type": "markdown",
   "id": "cb69dca6",
   "metadata": {},
   "source": [
    "## How Large is the dataset?\n",
    "\n",
    "Before downloading the data, it is a good idea to know how large the dataset is because this will affect how you move forward? If it is very large, you may need to consider how it will be stored.\n",
    "\n",
    "You may need to select a sample out of the dataset to work with rather than work with the whole set. This will speed up exploring the data because you won't constantly be waiting for the computer to process the data.\n",
    "\n",
    "This information is usually found online."
   ]
  },
  {
   "cell_type": "markdown",
   "id": "da5abc3c",
   "metadata": {},
   "source": [
    "## How are the images stored?"
   ]
  },
  {
   "cell_type": "markdown",
   "id": "96a58db0",
   "metadata": {},
   "source": [
    "### Case 1: In a Zip File"
   ]
  },
  {
   "cell_type": "markdown",
   "id": "ed7f7dfc-cf4d-493b-a218-287f24b5cc01",
   "metadata": {
    "toc-hr-collapsed": true
   },
   "source": [
    "#### Extracting Zip Files\n",
    "<hr style=\"border:1px solid gray\"> </hr>\n",
    "\n",
    "Zip files are incredibly common in many areas.\n",
    "\n",
    "For datasets, they serve two primary purposes\n",
    "\n",
    "1. This format bundles together many files into one and makes it easier and faster to send it over the internet. Network protocols are similar to the mail. It's much less complicated to send a shipping container rather than do paperwork and handling of thousands of individual boxes.\n",
    "\n",
    "2. Compression. The other problem is bandwidth. Zip files, along with other formats, can make files smaller which is beneficial because they take up less space on the hard drive. More importantly, this means that we can download the dataset faster. \n",
    "\n"
   ]
  },
  {
   "cell_type": "markdown",
   "id": "c5ce86a1-eebd-43da-ac82-21ad91e3f59d",
   "metadata": {},
   "source": [
    "##### Step 1: Find the exact file path"
   ]
  },
  {
   "cell_type": "code",
   "execution_count": 18,
   "id": "d30fe871-6b00-4c68-91b1-eda2d4fbb6bb",
   "metadata": {},
   "outputs": [],
   "source": [
    "# Setting the file path using pathlib\n",
    "\n",
    "emotionsImagesZipPath = DATA_DIR/'CV'/'Emotions_Images_Sample.zip'"
   ]
  },
  {
   "cell_type": "markdown",
   "id": "8a96b891-2205-4755-b138-20ad8aa07096",
   "metadata": {},
   "source": [
    "##### Step 2: Unzip the files\n",
    "\n",
    "In this code, we are using a library called shutil\n",
    "Shutil is short for shell utility.\n",
    "\n",
    "This allows python to make commands in the shell like we learned earlier.\n",
    "\n",
    "In this case, we are telling it to unzip a file at location X and put it into location Y"
   ]
  },
  {
   "cell_type": "code",
   "execution_count": 19,
   "id": "e085b961-8e37-4a42-a67f-79d70fb2d0a5",
   "metadata": {},
   "outputs": [],
   "source": [
    "# Unzipping Zip files in Python\n",
    "import os\n",
    "from shutil import unpack_archive\n",
    "\n",
    "unpack_archive(emotionsImagesZipPath,DATA_DIR)\n"
   ]
  },
  {
   "cell_type": "markdown",
   "id": "7b41a79c-5faa-4508-ad46-ac3832be37e2",
   "metadata": {},
   "source": [
    "##### Step 3: Check the file path\n",
    "\n",
    "\n",
    "\n",
    "Now that we extracted the data, we now need to make sure that we know where our data is, and check up on it before proceeding to the next level.\n",
    "\n",
    "Check the output of the next command and see what it is doing."
   ]
  },
  {
   "cell_type": "markdown",
   "id": "10d64997-3b4a-4804-92cf-d184307a8283",
   "metadata": {},
   "source": [
    "Now that we have unzipped our dataset, we can proceed to see \n",
    "what is inside of it. We should look for our labels first"
   ]
  },
  {
   "cell_type": "markdown",
   "id": "9a6ca79b",
   "metadata": {},
   "source": [
    "Now that we have unzipped our dataset, we can proceed to see \n",
    "what is inside of it. We should look for our labels first"
   ]
  },
  {
   "cell_type": "code",
   "execution_count": 2,
   "id": "9389a263",
   "metadata": {},
   "outputs": [],
   "source": [
    "EMOTIONS_IMAGES_DIR = DATA_DIR/'Emotions_Images_Sample'"
   ]
  },
  {
   "cell_type": "code",
   "execution_count": 3,
   "id": "28104b99",
   "metadata": {},
   "outputs": [],
   "source": [
    "labels = os.listdir(EMOTIONS_IMAGES_DIR)"
   ]
  },
  {
   "cell_type": "markdown",
   "id": "c843db8b",
   "metadata": {},
   "source": [
    "Here, the labels are conveniently stored as directory names, so they are easy to extract."
   ]
  },
  {
   "cell_type": "code",
   "execution_count": 4,
   "id": "7b01b520",
   "metadata": {},
   "outputs": [
    {
     "name": "stdout",
     "output_type": "stream",
     "text": [
      "['Fear', 'Angry', 'Neutral', 'Surprise', 'Happy', 'Sad', 'Disgust']\n"
     ]
    }
   ],
   "source": [
    "print(labels)"
   ]
  },
  {
   "cell_type": "code",
   "execution_count": 5,
   "id": "f5c59f5f",
   "metadata": {},
   "outputs": [
    {
     "name": "stdout",
     "output_type": "stream",
     "text": [
      "total number of labels: 7\n"
     ]
    }
   ],
   "source": [
    "print(f'total number of labels: {len(labels)}')"
   ]
  },
  {
   "cell_type": "markdown",
   "id": "b2ad67ba",
   "metadata": {},
   "source": [
    "## How are the Classes Structured ?"
   ]
  },
  {
   "cell_type": "markdown",
   "id": "76dae53d",
   "metadata": {},
   "source": [
    "There are two common places to extract the labels from. The first is from the directory structure.\n",
    "\n",
    "The second is from the file paths themselves.\n",
    "\n",
    "And the third is that it is located in a metadata file.\n",
    "\n"
   ]
  },
  {
   "cell_type": "markdown",
   "id": "837d54d0",
   "metadata": {},
   "source": [
    "### Are the Images Stored in a File Tree?"
   ]
  },
  {
   "cell_type": "markdown",
   "id": "3a9296f9",
   "metadata": {},
   "source": [
    "If the files are stored in a directory structure, then the labels will be the names of the directories, and the file paths for each image will be inside of those directories. "
   ]
  },
  {
   "cell_type": "code",
   "execution_count": 6,
   "id": "dbdbf4e1",
   "metadata": {},
   "outputs": [
    {
     "name": "stdout",
     "output_type": "stream",
     "text": [
      "Class: (Fear) contains 51 instances\n",
      "Class: (Angry) contains 51 instances\n",
      "Class: (Neutral) contains 51 instances\n",
      "Class: (Surprise) contains 101 instances\n",
      "Class: (Happy) contains 51 instances\n",
      "Class: (Sad) contains 51 instances\n",
      "Class: (Disgust) contains 51 instances\n"
     ]
    }
   ],
   "source": [
    "instancesPerClassDict = {}\n",
    "\n",
    "filepathDictionary = {}\n",
    "\n",
    "for label in os.listdir(EMOTIONS_IMAGES_DIR):\n",
    "    \n",
    "    # This gives us a label for each bit of code\n",
    "    imagesDirectory = EMOTIONS_IMAGES_DIR/label\n",
    "    \n",
    "    # This code gives a list of all the images in the directory\n",
    "    \n",
    "    images = os.listdir(imagesDirectory)\n",
    "    for fileName in images:\n",
    "        \n",
    "        imagePath = imagesDirectory/fileName # makes a longer path\n",
    "        \n",
    "        imageName = imagePath \n",
    "    \n",
    "    instancesPerClassDict[label] = len(images)\n",
    "    \n",
    "for key, value in instancesPerClassDict.items():\n",
    "    print(f'Class: ({key}) contains {value} instances')\n"
   ]
  },
  {
   "cell_type": "markdown",
   "id": "3eef08de",
   "metadata": {},
   "source": [
    "Now, we have our data in a format that it can be put into a fastAI model to give us more information."
   ]
  },
  {
   "cell_type": "markdown",
   "id": "11360702",
   "metadata": {},
   "source": [
    "### Are the Labels and File Paths Stored in a Metadata File?"
   ]
  },
  {
   "cell_type": "markdown",
   "id": "439fcdcb",
   "metadata": {},
   "source": [
    "In some cases, the files may be located on a cloud server, or put together into one large directory. This means that the information is not organized with a file tree, but rather in metadata.\n",
    "\n",
    "This metadata can come as a CSV or a JSON File."
   ]
  },
  {
   "cell_type": "markdown",
   "id": "eb59aacb-d95f-465b-8d0e-48ae6d5b21a5",
   "metadata": {
    "tags": []
   },
   "source": [
    "\n",
    "Type 3: This is the google landmarks image dataset, it contains lots of information on different photos that users have uploaded along with different kinds of metadata.\n",
    "\n",
    "However, the  dataset is quite large, so it makes more sense to download the paths individually\n",
    "\n",
    "These  metadata files contain both the labels and the file paths that we need\n",
    "\n",
    "Step 1, identifying the x and the y \n",
    "\n",
    "The features (x) in this case are the images Labels (y) in this case are the  landmark IDs"
   ]
  },
  {
   "cell_type": "code",
   "execution_count": 10,
   "id": "5019e911-6a15-49a9-b4c9-bd21f4df505d",
   "metadata": {},
   "outputs": [],
   "source": [
    "# Type of computer vision datasets \n",
    "import os \n",
    "\n",
    "googleLandmarksPath = DATA_DIR/'CV'/'landmarks'\n"
   ]
  },
  {
   "cell_type": "code",
   "execution_count": 11,
   "id": "b84a7dbf",
   "metadata": {},
   "outputs": [
    {
     "name": "stdout",
     "output_type": "stream",
     "text": [
      "recognition_solution.csv\n",
      "train.csv\n",
      "retrieval_solution.csv\n",
      "boxes_split2.csv\n",
      "index.csv\n",
      "test.csv\n",
      "landmarksample.csv\n",
      "boxes_split1.csv\n"
     ]
    }
   ],
   "source": [
    "# This snippet can be useful for handling many csv files\n",
    "\n",
    "for dirname, _, filenames in os.walk(googleLandmarksPath):\n",
    "    for filename in filenames:  # loops through all the files in the directories\n",
    "        print(filename) # Gives a file name, without the complete file path\n",
    "        filepath = os.path.join(dirname,filename) # Completes the file path\n",
    "        filename = filename.split('.')[0] # Removes the file extension for naming\n",
    "        exec(f\"{filename} = pd.read_csv('{filepath}')\")\n"
   ]
  },
  {
   "cell_type": "markdown",
   "id": "a3561e98-58cb-4806-9399-4033bd50be07",
   "metadata": {},
   "source": [
    "## Metadata EDA\n",
    "\n",
    "We want to know the shape, because as we learned in the last lesson, shape is very important.\n",
    "\n",
    "If we check the ratios of the shape and we find relationships, we can confirm that we have what we need"
   ]
  },
  {
   "cell_type": "markdown",
   "id": "54229647-5466-458e-9345-deb995579996",
   "metadata": {},
   "source": [
    "Again, we can look at the shape and the size of the datasets. In this, it might be useful to see any relationships between them"
   ]
  },
  {
   "cell_type": "code",
   "execution_count": 21,
   "id": "092bd43b-467e-4cfc-9b33-fb559f0aa896",
   "metadata": {},
   "outputs": [
    {
     "name": "stdout",
     "output_type": "stream",
     "text": [
      "(2000, 3)\n"
     ]
    },
    {
     "data": {
      "text/html": [
       "<div>\n",
       "<style scoped>\n",
       "    .dataframe tbody tr th:only-of-type {\n",
       "        vertical-align: middle;\n",
       "    }\n",
       "\n",
       "    .dataframe tbody tr th {\n",
       "        vertical-align: top;\n",
       "    }\n",
       "\n",
       "    .dataframe thead th {\n",
       "        text-align: right;\n",
       "    }\n",
       "</style>\n",
       "<table border=\"1\" class=\"dataframe\">\n",
       "  <thead>\n",
       "    <tr style=\"text-align: right;\">\n",
       "      <th></th>\n",
       "      <th>id</th>\n",
       "      <th>url</th>\n",
       "      <th>landmark_id</th>\n",
       "    </tr>\n",
       "  </thead>\n",
       "  <tbody>\n",
       "    <tr>\n",
       "      <th>0</th>\n",
       "      <td>638a7921e893de63</td>\n",
       "      <td>http://lh6.ggpht.com/-okvU3kjsKWQ/TjnHZCjgLdI/...</td>\n",
       "      <td>3918</td>\n",
       "    </tr>\n",
       "    <tr>\n",
       "      <th>1</th>\n",
       "      <td>ec108f2c67d28082</td>\n",
       "      <td>https://lh4.googleusercontent.com/-ghGLWnz_5Nw...</td>\n",
       "      <td>4786</td>\n",
       "    </tr>\n",
       "    <tr>\n",
       "      <th>2</th>\n",
       "      <td>8b8d9329e3fccd0a</td>\n",
       "      <td>https://lh4.googleusercontent.com/-49VHsrW3voo...</td>\n",
       "      <td>6090</td>\n",
       "    </tr>\n",
       "  </tbody>\n",
       "</table>\n",
       "</div>"
      ],
      "text/plain": [
       "                 id                                                url  \\\n",
       "0  638a7921e893de63  http://lh6.ggpht.com/-okvU3kjsKWQ/TjnHZCjgLdI/...   \n",
       "1  ec108f2c67d28082  https://lh4.googleusercontent.com/-ghGLWnz_5Nw...   \n",
       "2  8b8d9329e3fccd0a  https://lh4.googleusercontent.com/-49VHsrW3voo...   \n",
       "\n",
       "  landmark_id  \n",
       "0        3918  \n",
       "1        4786  \n",
       "2        6090  "
      ]
     },
     "execution_count": 21,
     "metadata": {},
     "output_type": "execute_result"
    }
   ],
   "source": [
    "# Train\n",
    "train.drop(['Unnamed: 0'],axis=1,inplace=True)\n",
    "print(train.shape)\n",
    "train.head(3)"
   ]
  },
  {
   "cell_type": "markdown",
   "id": "726cfefa",
   "metadata": {},
   "source": [
    "In this dataset, the label is the landmarkID\n",
    "\n",
    "The file location is a little more tricky because it is stored on google's servers, and needs to be downloaded. "
   ]
  },
  {
   "cell_type": "code",
   "execution_count": 29,
   "id": "c8ed660e",
   "metadata": {},
   "outputs": [],
   "source": [
    "landmarkLabels = train['landmark_id']\n",
    "landmarkURLs = train['url']"
   ]
  },
  {
   "cell_type": "markdown",
   "id": "89615665",
   "metadata": {},
   "source": [
    "Although these are different, the principles remain the same that we need to know what the image is, and where the image is stored. The label and the file path/url will hold this information. Once we have this information, we can then proceed to perform EDA.\n",
    "\n",
    "https://www.kaggle.com/piyushrg/computer-vision-av-fastai/notebook"
   ]
  },
  {
   "cell_type": "markdown",
   "id": "2b1feed9",
   "metadata": {},
   "source": [
    "## Coarse Checks\n",
    "<hr style=\"border:4px solid gray\"> </hr>\n"
   ]
  },
  {
   "cell_type": "markdown",
   "id": "6a9502fe",
   "metadata": {},
   "source": [
    "In order to leverage a fastAI model, the two key pieces of information that we will need to fit the data into the model are the labels, and how the images are stored. \n",
    "\n",
    "Once we can do that, we can go head and train a preliminary model to give more quantified information on how to improve the model."
   ]
  },
  {
   "cell_type": "code",
   "execution_count": 32,
   "id": "b78acb4a-61dc-4d5f-a2c5-e53a47458217",
   "metadata": {},
   "outputs": [],
   "source": [
    "# Imports\n",
    "!pip install -Uqq fastbook[full]\n",
    "\n",
    "\n",
    "import fastbook\n",
    "fastbook.setup_book()\n",
    "\n",
    "#hide\n",
    "from fastbook import *\n",
    "\n",
    "from fastbook import *\n",
    "from fastai.vision.widgets import *\n",
    "\n"
   ]
  },
  {
   "cell_type": "markdown",
   "id": "b3c9fc60-8198-4441-9857-4dd6eae0e9c3",
   "metadata": {},
   "source": [
    "### Loading the Data on Google Colab\n",
    "\n",
    "If our data is stored in google colab we can use the following code as a template to  upload it.\n",
    "\n",
    "The goal here is to get the file paths or our x variable (which is the images) along with the y variable which is the label contained in the path"
   ]
  },
  {
   "cell_type": "code",
   "execution_count": 33,
   "id": "530e71ee-87fa-401d-867b-d0f887131336",
   "metadata": {},
   "outputs": [],
   "source": [
    "CV_DATASET_DIR = DATA_DIR/'Emotions_Images_Sample'"
   ]
  },
  {
   "cell_type": "markdown",
   "id": "e01f54ad-a821-4186-8099-fe52ee771cef",
   "metadata": {},
   "source": [
    "### Loading the Data with FastAI Dataloader\n",
    "\n",
    "Once we have our images in a path, we can use a dataloader to preprocess and transform the data automatically for us using FastAI"
   ]
  },
  {
   "cell_type": "code",
   "execution_count": 38,
   "id": "781c444d-f070-4cab-ace3-ad701098823d",
   "metadata": {},
   "outputs": [],
   "source": [
    "class DataLoaders(GetAttr):\n",
    "  def __init__(self, *loaders): self.loaders = loaders\n",
    "  def __getitem__(self, i): return self.loaders[i]\n",
    "  train,valid = add_props(lambda i, self: self[i])"
   ]
  },
  {
   "cell_type": "code",
   "execution_count": 40,
   "id": "40e17212-4cdf-4316-8c32-eb18f641a55c",
   "metadata": {},
   "outputs": [],
   "source": [
    "emotions = DataBlock (\n",
    "    blocks=(ImageBlock, CategoryBlock),\n",
    "    get_items=get_image_files,\n",
    "    splitter = RandomSplitter(valid_pct=0.2, seed=99),\n",
    "    get_y=parent_label,\n",
    "    item_tfms=Resize(225,225)\n",
    "    )"
   ]
  },
  {
   "cell_type": "code",
   "execution_count": 41,
   "id": "7fe75a35-93b8-457e-adc2-91504afaa059",
   "metadata": {},
   "outputs": [],
   "source": [
    "emotions = emotions.new(\n",
    "    item_tfms=RandomResizedCrop(28, min_scale=0.5),\n",
    "    batch_tfms=aug_transforms()\n",
    ")"
   ]
  },
  {
   "cell_type": "code",
   "execution_count": 42,
   "id": "d8e7a4d1-f5a6-4953-8b47-ac86b034d49a",
   "metadata": {},
   "outputs": [],
   "source": [
    "dls = emotions.dataloaders(CV_DATASET_DIR)"
   ]
  },
  {
   "cell_type": "markdown",
   "id": "d34d90b4-88a1-4b01-854f-fba782a6e536",
   "metadata": {},
   "source": [
    "# Part 2 : Training the Model"
   ]
  },
  {
   "cell_type": "code",
   "execution_count": 44,
   "id": "e1c31609-a231-43c9-8113-663e7e69aa45",
   "metadata": {},
   "outputs": [],
   "source": [
    "learn = cnn_learner(dls, resnet34, metrics=error_rate)"
   ]
  },
  {
   "cell_type": "code",
   "execution_count": 45,
   "id": "2bb88384",
   "metadata": {},
   "outputs": [
    {
     "data": {
      "text/html": [
       "<table border=\"1\" class=\"dataframe\">\n",
       "  <thead>\n",
       "    <tr style=\"text-align: left;\">\n",
       "      <th>epoch</th>\n",
       "      <th>train_loss</th>\n",
       "      <th>valid_loss</th>\n",
       "      <th>error_rate</th>\n",
       "      <th>time</th>\n",
       "    </tr>\n",
       "  </thead>\n",
       "  <tbody>\n",
       "    <tr>\n",
       "      <td>0</td>\n",
       "      <td>3.183473</td>\n",
       "      <td>3.416628</td>\n",
       "      <td>0.851852</td>\n",
       "      <td>00:01</td>\n",
       "    </tr>\n",
       "  </tbody>\n",
       "</table>"
      ],
      "text/plain": [
       "<IPython.core.display.HTML object>"
      ]
     },
     "metadata": {},
     "output_type": "display_data"
    },
    {
     "data": {
      "text/html": [
       "<table border=\"1\" class=\"dataframe\">\n",
       "  <thead>\n",
       "    <tr style=\"text-align: left;\">\n",
       "      <th>epoch</th>\n",
       "      <th>train_loss</th>\n",
       "      <th>valid_loss</th>\n",
       "      <th>error_rate</th>\n",
       "      <th>time</th>\n",
       "    </tr>\n",
       "  </thead>\n",
       "  <tbody>\n",
       "    <tr>\n",
       "      <td>0</td>\n",
       "      <td>2.980531</td>\n",
       "      <td>2.600915</td>\n",
       "      <td>0.864198</td>\n",
       "      <td>00:01</td>\n",
       "    </tr>\n",
       "    <tr>\n",
       "      <td>1</td>\n",
       "      <td>2.954985</td>\n",
       "      <td>2.222032</td>\n",
       "      <td>0.753086</td>\n",
       "      <td>00:01</td>\n",
       "    </tr>\n",
       "    <tr>\n",
       "      <td>2</td>\n",
       "      <td>2.955656</td>\n",
       "      <td>2.193115</td>\n",
       "      <td>0.728395</td>\n",
       "      <td>00:01</td>\n",
       "    </tr>\n",
       "    <tr>\n",
       "      <td>3</td>\n",
       "      <td>2.922348</td>\n",
       "      <td>2.174412</td>\n",
       "      <td>0.740741</td>\n",
       "      <td>00:01</td>\n",
       "    </tr>\n",
       "    <tr>\n",
       "      <td>4</td>\n",
       "      <td>2.854110</td>\n",
       "      <td>2.236914</td>\n",
       "      <td>0.802469</td>\n",
       "      <td>00:01</td>\n",
       "    </tr>\n",
       "  </tbody>\n",
       "</table>"
      ],
      "text/plain": [
       "<IPython.core.display.HTML object>"
      ]
     },
     "metadata": {},
     "output_type": "display_data"
    }
   ],
   "source": [
    "learn.fine_tune(5)"
   ]
  },
  {
   "cell_type": "markdown",
   "id": "686a20d5",
   "metadata": {},
   "source": [
    "# Part 3: Interpreting the Results"
   ]
  },
  {
   "cell_type": "code",
   "execution_count": 46,
   "id": "a8447e6e",
   "metadata": {},
   "outputs": [
    {
     "data": {
      "text/html": [],
      "text/plain": [
       "<IPython.core.display.HTML object>"
      ]
     },
     "metadata": {},
     "output_type": "display_data"
    }
   ],
   "source": [
    "interp = ClassificationInterpretation.from_learner(learn)"
   ]
  },
  {
   "cell_type": "markdown",
   "id": "d1b745f5",
   "metadata": {},
   "source": [
    "### What is the Accuracy of the Model?"
   ]
  },
  {
   "cell_type": "code",
   "execution_count": 47,
   "id": "7f04f427",
   "metadata": {},
   "outputs": [
    {
     "name": "stdout",
     "output_type": "stream",
     "text": [
      "              precision    recall  f1-score   support\n",
      "\n",
      "       Angry       0.20      0.12      0.15        16\n",
      "     Disgust       0.40      0.25      0.31        16\n",
      "        Fear       0.18      0.29      0.22         7\n",
      "       Happy       0.20      0.22      0.21         9\n",
      "     Neutral       0.07      0.10      0.08        10\n",
      "         Sad       0.07      0.33      0.12         3\n",
      "    Surprise       0.36      0.20      0.26        20\n",
      "\n",
      "    accuracy                           0.20        81\n",
      "   macro avg       0.21      0.22      0.19        81\n",
      "weighted avg       0.26      0.20      0.21        81\n",
      "\n"
     ]
    }
   ],
   "source": [
    "interp.print_classification_report()"
   ]
  },
  {
   "cell_type": "markdown",
   "id": "2cd2f95b",
   "metadata": {},
   "source": [
    "### What Does the Confusion Matrix Look Like?"
   ]
  },
  {
   "cell_type": "markdown",
   "id": "477b60de",
   "metadata": {},
   "source": [
    "interp.confusion"
   ]
  },
  {
   "cell_type": "code",
   "execution_count": 54,
   "id": "c0fcae5c",
   "metadata": {},
   "outputs": [
    {
     "data": {
      "image/png": "[encoded data removed]",
      "text/plain": [
       "<Figure size 432x288 with 1 Axes>"
      ]
     },
     "metadata": {
      "needs_background": "light"
     },
     "output_type": "display_data"
    }
   ],
   "source": [
    "interp.plot_confusion_matrix()"
   ]
  },
  {
   "cell_type": "markdown",
   "id": "1855087b",
   "metadata": {},
   "source": [
    "### Do you see any clear patterns in the confusion matrix?"
   ]
  },
  {
   "cell_type": "markdown",
   "id": "b092f975",
   "metadata": {},
   "source": [
    "* Can you think of reasons why it got confused?"
   ]
  },
  {
   "cell_type": "markdown",
   "id": "a123defb",
   "metadata": {},
   "source": [
    "### What are the Most Confused Images?"
   ]
  },
  {
   "cell_type": "markdown",
   "id": "3a984c3e",
   "metadata": {},
   "source": [
    "* Should any of these Images be removed from the Dataset? \n",
    "* Are they Clustered in One or a Few Classes?"
   ]
  },
  {
   "cell_type": "markdown",
   "id": "83a2e229",
   "metadata": {},
   "source": [
    "### Are they Distributed across many Classes?"
   ]
  },
  {
   "cell_type": "markdown",
   "id": "6716254d",
   "metadata": {},
   "source": [
    "### Can you find any poor quality images?"
   ]
  },
  {
   "cell_type": "markdown",
   "id": "9e44e79e",
   "metadata": {},
   "source": [
    "### Can Filters be Applied to Improve the Quality of the Images?"
   ]
  },
  {
   "cell_type": "markdown",
   "id": "35050258",
   "metadata": {},
   "source": [
    "### Are any Features Blocked or Occluded in these images?"
   ]
  },
  {
   "cell_type": "markdown",
   "id": "2edb2b28",
   "metadata": {},
   "source": [
    "### Can any Features be Highlighted to Improve the Model's Performance?"
   ]
  },
  {
   "cell_type": "markdown",
   "id": "2f2a9df9",
   "metadata": {},
   "source": [
    "### Where Does this First Run Strengthen your Hypothesis?"
   ]
  },
  {
   "cell_type": "markdown",
   "id": "9a39de08",
   "metadata": {},
   "source": [
    "### Have Any Other Weaknesses in the Model been Revealed? "
   ]
  },
  {
   "cell_type": "markdown",
   "id": "e237f727",
   "metadata": {},
   "source": [
    "### Are There Any Major Class Inbalances that Affect Model Performance?"
   ]
  },
  {
   "cell_type": "markdown",
   "id": "ac289d78",
   "metadata": {},
   "source": [
    "* Can These be improved by Image Augmentation? "
   ]
  },
  {
   "cell_type": "markdown",
   "id": "ab1d96ea",
   "metadata": {},
   "source": [
    "### Can you collect more data in areas where your model is weak?"
   ]
  },
  {
   "cell_type": "markdown",
   "id": "3bc50098",
   "metadata": {},
   "source": [
    "* Can you Easily Find More Data by Reverse Image Searching the Most Confused Images?"
   ]
  },
  {
   "cell_type": "markdown",
   "id": "81ca27d3",
   "metadata": {},
   "source": [
    "### How Could Image Preprocessing Make Features More Apparent to the Model?"
   ]
  }
 ],
 "metadata": {
  "interpreter": {
   "hash": "b35736f271ae3a6547f08ef3ad12296102f5e6031b2a7c6493a7e5cc9f313275"
  },
  "kernelspec": {
   "display_name": "Python 3 (ipykernel)",
   "language": "python",
   "name": "python3"
  },
  "language_info": {
   "codemirror_mode": {
    "name": "ipython",
    "version": 3
   },
   "file_extension": ".py",
   "mimetype": "text/x-python",
   "name": "python",
   "nbconvert_exporter": "python",
   "pygments_lexer": "ipython3",
   "version": "3.9.7"
  }
 },
 "nbformat": 4,
 "nbformat_minor": 5
}
