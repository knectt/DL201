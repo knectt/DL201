{
 "cells": [
  {
   "cell_type": "markdown",
   "id": "904e4b72",
   "metadata": {
    "papermill": {
     "duration": 0.042429,
     "end_time": "2022-05-20T17:31:48.782048",
     "exception": false,
     "start_time": "2022-05-20T17:31:48.739619",
     "status": "completed"
    },
    "pycharm": {
     "name": "#%% md\n"
    },
    "tags": []
   },
   "source": [
    "# 💻 UnpackAI DL201 Bootcamp - Week 1 - Skills: Computer Vision\n",
    "\n",
    "## 📕 Learning Objectives\n",
    "\n",
    "* Loading data\n",
    "* Unzipping data\n",
    "* Retrieving label information\n",
    "* AI model training and results analysis on Computer Vision"
   ]
  },
  {
   "cell_type": "markdown",
   "id": "155d8b06",
   "metadata": {
    "papermill": {
     "duration": 0.03789,
     "end_time": "2022-05-20T17:31:48.860031",
     "exception": false,
     "start_time": "2022-05-20T17:31:48.822141",
     "status": "completed"
    },
    "pycharm": {
     "name": "#%% md\n"
    },
    "tags": []
   },
   "source": [
    "# Part 0 : Code preparation"
   ]
  },
  {
   "cell_type": "code",
   "execution_count": 2,
   "id": "65a4795f",
   "metadata": {
    "execution": {
     "iopub.execute_input": "2022-05-20T17:31:48.936022Z",
     "iopub.status.busy": "2022-05-20T17:31:48.935699Z",
     "iopub.status.idle": "2022-05-20T17:32:09.929254Z",
     "shell.execute_reply": "2022-05-20T17:32:09.928181Z"
    },
    "papermill": {
     "duration": 21.034916,
     "end_time": "2022-05-20T17:32:09.932241",
     "exception": false,
     "start_time": "2022-05-20T17:31:48.897325",
     "status": "completed"
    },
    "pycharm": {
     "name": "#%%\n"
    },
    "tags": []
   },
   "outputs": [
    {
     "name": "stdout",
     "output_type": "stream",
     "text": [
      "DATA_DIR is a directory, its path is d:\\GitHub\\DL201\\data\n",
      "IMAGE_DIR is a directory, its path is d:\\GitHub\\DL201\\img\n"
     ]
    }
   ],
   "source": [
    "import pandas as pd\n",
    "import numpy as np\n",
    "import cv2 \n",
    "import torch as t\n",
    "from matplotlib import pyplot as plt\n",
    "from pathlib import Path\n",
    "import os\n",
    "from shutil import unpack_archive\n",
    "from PIL import Image\n",
    "from IPython.display import display\n",
    "\n",
    "# import data and images if necessary, and choose the right path\n",
    "is_kaggle = True   # True if you are on Kaggle, False for local Windows, Linux or Mac environments.\n",
    "\n",
    "if is_kaggle:\n",
    "    !pip install openpyxl\n",
    "    !git clone https://github.com/unpackAI/DL201.git\n",
    "    IMAGE_DIR = Path('/kaggle/working/DL201/img')\n",
    "    DATA_DIR = Path('/kaggle/working/DL201/data')\n",
    "\n",
    "else:\n",
    "\n",
    "    # This section is for local execution, it is assumed that the notebook is on the 'Week-1' folder\n",
    "    # of the DL201 repository.\n",
    "    current_dir = os.getcwd()\n",
    "    os.chdir(\"..\")\n",
    "    DATA_DIR = os.path.join(os.getcwd(), \"data\")\n",
    "    IMAGE_DIR = os.path.join(os.getcwd(), \"img\")    \n",
    "\n",
    "\n",
    "# finally, check if we found the right pathes\n",
    "if os.path.isdir(DATA_DIR):\n",
    "    print(f'DATA_DIR is a directory, its path is {DATA_DIR}')\n",
    "else:\n",
    "    print(\"ERROR : DATA_DIR is not a directory\")\n",
    "\n",
    "if os.path.isdir(IMAGE_DIR):\n",
    "    print(f'IMAGE_DIR is a directory, its path is {IMAGE_DIR}')\n",
    "else:\n",
    "    print(\"ERROR : IMAGE_DIR is not a directory\")"
   ]
  },
  {
   "cell_type": "markdown",
   "id": "fd0eaf73",
   "metadata": {
    "papermill": {
     "duration": 0.050022,
     "end_time": "2022-05-20T17:32:10.035657",
     "exception": false,
     "start_time": "2022-05-20T17:32:09.985635",
     "status": "completed"
    },
    "pycharm": {
     "name": "#%% md\n"
    },
    "tags": []
   },
   "source": [
    "# Part 1: Loading the data\n",
    "<hr style=\"border:4px solid gray\"> </hr>"
   ]
  },
  {
   "cell_type": "markdown",
   "id": "b2c44fe7",
   "metadata": {
    "papermill": {
     "duration": 0.050626,
     "end_time": "2022-05-20T17:32:10.136514",
     "exception": false,
     "start_time": "2022-05-20T17:32:10.085888",
     "status": "completed"
    },
    "pycharm": {
     "name": "#%% md\n"
    },
    "tags": []
   },
   "source": [
    "As always, the question becomes, how do we access our data."
   ]
  },
  {
   "cell_type": "markdown",
   "id": "4b1ec973",
   "metadata": {
    "papermill": {
     "duration": 0.049704,
     "end_time": "2022-05-20T17:32:10.236456",
     "exception": false,
     "start_time": "2022-05-20T17:32:10.186752",
     "status": "completed"
    },
    "pycharm": {
     "name": "#%% md\n"
    },
    "tags": []
   },
   "source": [
    "## 1.1 How Large is the dataset?\n",
    "\n",
    "Before downloading the data, it is a good idea to know how large the dataset is because this will affect how you move forward. If it is very large, you may need to consider if you can download it or not, how much time this would take, how it will be stored in your computer, etc.\n",
    "\n",
    "You may need to select a sample out of the dataset to work with rather than work with the whole set. This will speed up exploring the data because you won't constantly be waiting for the computer to process the data.\n",
    "\n",
    "This information is usually found online, in the Readme following the data or displayed by your computer when you start downloading."
   ]
  },
  {
   "cell_type": "markdown",
   "id": "a9db0f53",
   "metadata": {
    "papermill": {
     "duration": 0.049813,
     "end_time": "2022-05-20T17:32:10.336936",
     "exception": false,
     "start_time": "2022-05-20T17:32:10.287123",
     "status": "completed"
    },
    "pycharm": {
     "name": "#%% md\n"
    },
    "tags": []
   },
   "source": [
    "## 1.2 Working with compressed files?"
   ]
  },
  {
   "cell_type": "markdown",
   "id": "3623f78a",
   "metadata": {
    "papermill": {
     "duration": 0.049371,
     "end_time": "2022-05-20T17:32:10.436529",
     "exception": false,
     "start_time": "2022-05-20T17:32:10.387158",
     "status": "completed"
    },
    "pycharm": {
     "name": "#%% md\n"
    },
    "tags": [],
    "toc-hr-collapsed": true
   },
   "source": [
    "***Zip*** files are incredibly common in many areas.\n",
    "\n",
    "For datasets, they serve two primary purposes:\n",
    "\n",
    "1. This format bundles together many files into one and makes it easier and faster to send it over the internet. Network protocols are similar to the mail. It's much less complicated to send a shipping container rather than do paperwork and handling of thousands of individual boxes.\n",
    "\n",
    "2. Compression. The other problem is bandwidth. Zip files, along with other formats, can make files smaller which is beneficial because they take up less space on the hard drive. More importantly, this means that we can download the dataset faster. "
   ]
  },
  {
   "cell_type": "markdown",
   "id": "08c065ff",
   "metadata": {
    "papermill": {
     "duration": 0.049458,
     "end_time": "2022-05-20T17:32:10.536024",
     "exception": false,
     "start_time": "2022-05-20T17:32:10.486566",
     "status": "completed"
    },
    "pycharm": {
     "name": "#%% md\n"
    },
    "tags": []
   },
   "source": [
    "### Step 1: Find the exact file path"
   ]
  },
  {
   "cell_type": "code",
   "execution_count": 4,
   "id": "b4925056",
   "metadata": {
    "execution": {
     "iopub.execute_input": "2022-05-20T17:32:10.638765Z",
     "iopub.status.busy": "2022-05-20T17:32:10.638480Z",
     "iopub.status.idle": "2022-05-20T17:32:10.646320Z",
     "shell.execute_reply": "2022-05-20T17:32:10.645613Z"
    },
    "papermill": {
     "duration": 0.061585,
     "end_time": "2022-05-20T17:32:10.648266",
     "exception": false,
     "start_time": "2022-05-20T17:32:10.586681",
     "status": "completed"
    },
    "pycharm": {
     "name": "#%%\n"
    },
    "tags": []
   },
   "outputs": [
    {
     "data": {
      "text/plain": [
       "True"
      ]
     },
     "execution_count": 4,
     "metadata": {},
     "output_type": "execute_result"
    }
   ],
   "source": [
    "# Setting the file path using pathlib\n",
    "emotionsImagesZipPath = os.path.join(DATA_DIR, 'CV', 'Emotions_Images_Sample.zip')\n",
    "os.path.isfile(emotionsImagesZipPath)"
   ]
  },
  {
   "cell_type": "markdown",
   "id": "bebf41d9",
   "metadata": {
    "papermill": {
     "duration": 0.049878,
     "end_time": "2022-05-20T17:32:10.748831",
     "exception": false,
     "start_time": "2022-05-20T17:32:10.698953",
     "status": "completed"
    },
    "pycharm": {
     "name": "#%% md\n"
    },
    "tags": []
   },
   "source": [
    "### Step 2: Unzip the files\n",
    "\n",
    "In this code, we are using a library called ***shutil***\n",
    "Shutil is short for shell utility.\n",
    "\n",
    "This allows python to make commands in the shell.\n",
    "\n",
    "In this case, we are telling it to unzip a file X and put it in Y directory.\n",
    "X is a file path while Y is a directory path."
   ]
  },
  {
   "cell_type": "code",
   "execution_count": 5,
   "id": "ff39d5c0",
   "metadata": {
    "execution": {
     "iopub.execute_input": "2022-05-20T17:32:10.853657Z",
     "iopub.status.busy": "2022-05-20T17:32:10.852836Z",
     "iopub.status.idle": "2022-05-20T17:32:10.903029Z",
     "shell.execute_reply": "2022-05-20T17:32:10.902393Z"
    },
    "papermill": {
     "duration": 0.103862,
     "end_time": "2022-05-20T17:32:10.905146",
     "exception": false,
     "start_time": "2022-05-20T17:32:10.801284",
     "status": "completed"
    },
    "pycharm": {
     "name": "#%%\n"
    },
    "tags": []
   },
   "outputs": [],
   "source": [
    "Output_Directory = os.path.join(DATA_DIR,'OutputDirectory')\n",
    "\n",
    "if not os.path.isdir(Output_Directory): #this allows us to run the cell several times\n",
    "    os.mkdir(Output_Directory)\n",
    "    unpack_archive(emotionsImagesZipPath, Output_Directory)"
   ]
  },
  {
   "cell_type": "markdown",
   "id": "2ea30ee0",
   "metadata": {
    "papermill": {
     "duration": 0.051331,
     "end_time": "2022-05-20T17:32:11.007986",
     "exception": false,
     "start_time": "2022-05-20T17:32:10.956655",
     "status": "completed"
    },
    "pycharm": {
     "name": "#%% md\n"
    },
    "tags": []
   },
   "source": [
    "### Step 3: Check the file path\n",
    "\n",
    "Now that we extracted the data, we now need to make sure that we know where our data is, and check up on it before proceeding to the next level.\n",
    "\n",
    "Check the output of the next command and see what it is doing."
   ]
  },
  {
   "cell_type": "code",
   "execution_count": 6,
   "id": "fc782c8b",
   "metadata": {
    "execution": {
     "iopub.execute_input": "2022-05-20T17:32:11.111463Z",
     "iopub.status.busy": "2022-05-20T17:32:11.110991Z",
     "iopub.status.idle": "2022-05-20T17:32:11.116074Z",
     "shell.execute_reply": "2022-05-20T17:32:11.115397Z"
    },
    "papermill": {
     "duration": 0.058273,
     "end_time": "2022-05-20T17:32:11.117656",
     "exception": false,
     "start_time": "2022-05-20T17:32:11.059383",
     "status": "completed"
    },
    "pycharm": {
     "name": "#%%\n"
    },
    "tags": []
   },
   "outputs": [
    {
     "data": {
      "text/plain": [
       "['Emotions_Images_Sample']"
      ]
     },
     "execution_count": 6,
     "metadata": {},
     "output_type": "execute_result"
    }
   ],
   "source": [
    "os.listdir(Output_Directory)"
   ]
  },
  {
   "cell_type": "code",
   "execution_count": 7,
   "id": "0063e02e",
   "metadata": {
    "execution": {
     "iopub.execute_input": "2022-05-20T17:32:11.220784Z",
     "iopub.status.busy": "2022-05-20T17:32:11.220251Z",
     "iopub.status.idle": "2022-05-20T17:32:11.225099Z",
     "shell.execute_reply": "2022-05-20T17:32:11.224044Z"
    },
    "papermill": {
     "duration": 0.059197,
     "end_time": "2022-05-20T17:32:11.227567",
     "exception": false,
     "start_time": "2022-05-20T17:32:11.168370",
     "status": "completed"
    },
    "pycharm": {
     "name": "#%%\n"
    },
    "tags": []
   },
   "outputs": [
    {
     "name": "stdout",
     "output_type": "stream",
     "text": [
      "['Angry', 'Disgust', 'Fear', 'Happy', 'Neutral', 'Sad', 'Surprise']\n"
     ]
    }
   ],
   "source": [
    "EMOTIONS_IMAGES_DIR = os.path.join(Output_Directory,'Emotions_Images_Sample')\n",
    "labels = os.listdir(EMOTIONS_IMAGES_DIR)\n",
    "print(labels)"
   ]
  },
  {
   "cell_type": "markdown",
   "id": "30dc580d",
   "metadata": {
    "papermill": {
     "duration": 0.050629,
     "end_time": "2022-05-20T17:32:11.331298",
     "exception": false,
     "start_time": "2022-05-20T17:32:11.280669",
     "status": "completed"
    },
    "pycharm": {
     "name": "#%% md\n"
    },
    "tags": []
   },
   "source": [
    "Here, we see a list of labels as directory names. Let's remind the different ways to connect the pictures and their metadata such as labels.\n",
    "\n",
    "## 1.3 Ways of storing the data and metadata\n",
    "\n",
    "Many computer vision data sets are organized in three ways.\n",
    "\n",
    "<dt>File trees</dt>\n",
    "<df>The picture files are grouped by meaningfull directories. We may find their label and other information about them with the directory they belong to. Finding them is done by exploring what is called a ***file tree***</df>\n",
    "\n",
    "<dt>Metadata</dt>\n",
    "<df>The picture files are not well separated in the file tree, or might even be stored on different repositories on the web. To retrieve them and the corresponding labels, we have a Metadata file (can be a JSON or CSV file) containing the file list, file paths and other information like the labels</df>\n",
    "\n",
    "<dt>File names</dt>\n",
    "<df>As we saw in the PETS dataset, where cats were lowercases and dogs were uppercases file names, some pictures of some datasets contain their label inside the filename itself</df>"
   ]
  },
  {
   "cell_type": "markdown",
   "id": "94d1f020",
   "metadata": {
    "papermill": {
     "duration": 0.050334,
     "end_time": "2022-05-20T17:32:11.432600",
     "exception": false,
     "start_time": "2022-05-20T17:32:11.382266",
     "status": "completed"
    },
    "pycharm": {
     "name": "#%% md\n"
    },
    "tags": []
   },
   "source": [
    "## 1.4 Class analysis from file tree\n",
    "Here, the labels are conveniently stored as directory names, so they are easy to extract."
   ]
  },
  {
   "cell_type": "code",
   "execution_count": 8,
   "id": "692f5687",
   "metadata": {
    "execution": {
     "iopub.execute_input": "2022-05-20T17:32:11.535397Z",
     "iopub.status.busy": "2022-05-20T17:32:11.534706Z",
     "iopub.status.idle": "2022-05-20T17:32:11.539626Z",
     "shell.execute_reply": "2022-05-20T17:32:11.538221Z"
    },
    "papermill": {
     "duration": 0.058888,
     "end_time": "2022-05-20T17:32:11.542026",
     "exception": false,
     "start_time": "2022-05-20T17:32:11.483138",
     "status": "completed"
    },
    "pycharm": {
     "name": "#%%\n"
    },
    "tags": []
   },
   "outputs": [
    {
     "name": "stdout",
     "output_type": "stream",
     "text": [
      "total number of labels: 7\n"
     ]
    }
   ],
   "source": [
    "print(f'total number of labels: {len(labels)}')"
   ]
  },
  {
   "cell_type": "code",
   "execution_count": 9,
   "id": "26ff7017",
   "metadata": {
    "execution": {
     "iopub.execute_input": "2022-05-20T17:32:11.646606Z",
     "iopub.status.busy": "2022-05-20T17:32:11.646026Z",
     "iopub.status.idle": "2022-05-20T17:32:11.655157Z",
     "shell.execute_reply": "2022-05-20T17:32:11.654234Z"
    },
    "papermill": {
     "duration": 0.062924,
     "end_time": "2022-05-20T17:32:11.657082",
     "exception": false,
     "start_time": "2022-05-20T17:32:11.594158",
     "status": "completed"
    },
    "pycharm": {
     "name": "#%%\n"
    },
    "tags": []
   },
   "outputs": [
    {
     "name": "stdout",
     "output_type": "stream",
     "text": [
      "Class: (Angry) contains 51 instances\n",
      "Class: (Disgust) contains 51 instances\n",
      "Class: (Fear) contains 51 instances\n",
      "Class: (Happy) contains 51 instances\n",
      "Class: (Neutral) contains 51 instances\n",
      "Class: (Sad) contains 51 instances\n",
      "Class: (Surprise) contains 101 instances\n"
     ]
    }
   ],
   "source": [
    "instancesPerClassDict = {}\n",
    "\n",
    "filepathDictionary = {}\n",
    "\n",
    "for label in os.listdir(EMOTIONS_IMAGES_DIR):\n",
    "    \n",
    "    # This gives us a label for each bit of code\n",
    "    imagesDirectory = os.path.join(EMOTIONS_IMAGES_DIR,label)\n",
    "    \n",
    "    # This code gives a list of all the images in the directory\n",
    "    \n",
    "    images = os.listdir(imagesDirectory)\n",
    "    for fileName in images:\n",
    "        \n",
    "        imagePath = os.path.join(imagesDirectory,fileName) # makes a longer path\n",
    "        # use imagePath to do something\n",
    "            \n",
    "    instancesPerClassDict[label] = len(images)\n",
    "    \n",
    "for key, value in instancesPerClassDict.items():\n",
    "    print(f'Class: ({key}) contains {value} instances')\n"
   ]
  },
  {
   "cell_type": "markdown",
   "id": "a422f092",
   "metadata": {
    "papermill": {
     "duration": 0.051443,
     "end_time": "2022-05-20T17:32:11.760267",
     "exception": false,
     "start_time": "2022-05-20T17:32:11.708824",
     "status": "completed"
    },
    "pycharm": {
     "name": "#%% md\n"
    },
    "tags": []
   },
   "source": [
    "Now, we have our data in a format that it can be put into a fastAI model to give us more information."
   ]
  },
  {
   "cell_type": "markdown",
   "id": "b4797666",
   "metadata": {
    "papermill": {
     "duration": 0.066784,
     "end_time": "2022-05-20T17:32:11.887976",
     "exception": false,
     "start_time": "2022-05-20T17:32:11.821192",
     "status": "completed"
    },
    "pycharm": {
     "name": "#%% md\n"
    },
    "tags": []
   },
   "source": [
    "## 1.5 Class analysis from Metadata File"
   ]
  },
  {
   "cell_type": "markdown",
   "id": "d90bec5e",
   "metadata": {
    "papermill": {
     "duration": 0.050958,
     "end_time": "2022-05-20T17:32:11.990643",
     "exception": false,
     "start_time": "2022-05-20T17:32:11.939685",
     "status": "completed"
    },
    "pycharm": {
     "name": "#%% md\n"
    },
    "tags": []
   },
   "source": [
    "In some cases, the files may be located on a cloud server, or put together into one large directory. This means that the information is not organized with a file tree, but rather in metadata.\n",
    "\n",
    "This metadata can come as a CSV or a JSON File."
   ]
  },
  {
   "cell_type": "markdown",
   "id": "f42d9362",
   "metadata": {
    "papermill": {
     "duration": 0.052553,
     "end_time": "2022-05-20T17:32:12.094779",
     "exception": false,
     "start_time": "2022-05-20T17:32:12.042226",
     "status": "completed"
    },
    "pycharm": {
     "name": "#%% md\n"
    },
    "tags": []
   },
   "source": [
    "Here, we work with the google landmarks image dataset, it contains lots of information on different photos that users have uploaded along with different kinds of metadata.\n",
    "\n",
    "However, the  dataset is quite large, so it makes more sense to have an individual metadata files. It can allows us to donwload only the pictures we want.\n",
    "\n",
    "These metadata files contain both the labels and the file paths that we need.\n",
    "\n",
    "***Identifying the x and the y***\n",
    "The features (x) in this case are the images ; labels (y) in this case are the landmark IDs."
   ]
  },
  {
   "cell_type": "code",
   "execution_count": 10,
   "id": "d8d131c7",
   "metadata": {
    "execution": {
     "iopub.execute_input": "2022-05-20T17:32:12.199332Z",
     "iopub.status.busy": "2022-05-20T17:32:12.198760Z",
     "iopub.status.idle": "2022-05-20T17:32:12.934253Z",
     "shell.execute_reply": "2022-05-20T17:32:12.933428Z"
    },
    "papermill": {
     "duration": 0.828301,
     "end_time": "2022-05-20T17:32:12.974724",
     "exception": false,
     "start_time": "2022-05-20T17:32:12.146423",
     "status": "completed"
    },
    "pycharm": {
     "name": "#%%\n"
    },
    "tags": []
   },
   "outputs": [],
   "source": [
    "# Load 3 sample images from the Google Ladmark dataset\n",
    "image_path_1 = os.path.join(IMAGE_DIR, \"week1\", \"IMG_1071.jpg\")\n",
    "image_path_2 = os.path.join(IMAGE_DIR, \"week1\", \"IMG_2053p.jpg\")\n",
    "image_path_3 = os.path.join(IMAGE_DIR, \"week1\", \"IMG_20130605_142805.jpg\")\n",
    "image_object_1 = Image.open(image_path_1)\n",
    "image_object_2 = Image.open(image_path_2) \n",
    "image_object_3 = Image.open(image_path_3)  "
   ]
  },
  {
   "cell_type": "code",
   "execution_count": 11,
   "id": "223c5e8d",
   "metadata": {
    "execution": {
     "iopub.execute_input": "2022-05-20T17:32:13.241626Z",
     "iopub.status.busy": "2022-05-20T17:32:13.241230Z",
     "iopub.status.idle": "2022-05-20T17:32:14.127283Z",
     "shell.execute_reply": "2022-05-20T17:32:14.126587Z"
    },
    "papermill": {
     "duration": 1.078187,
     "end_time": "2022-05-20T17:32:14.185921",
     "exception": false,
     "start_time": "2022-05-20T17:32:13.107734",
     "status": "completed"
    },
    "pycharm": {
     "name": "#%%\n"
    },
    "tags": []
   },
   "outputs": [],
   "source": [
    "# Resize the image to 25% of its original size\n",
    "image_object_1 = image_object_1.resize((int(image_object_1.width/4), int(image_object_1.height/4)))\n",
    "image_object_2 = image_object_2.resize((int(image_object_2.width/4), int(image_object_2.height/4)))\n",
    "image_object_3 = image_object_3.resize((int(image_object_3.width/4), int(image_object_3.height/4)))"
   ]
  },
  {
   "cell_type": "code",
   "execution_count": null,
   "id": "1838ba1f",
   "metadata": {
    "pycharm": {
     "name": "#%%\n"
    }
   },
   "outputs": [],
   "source": [
    "# Display the images (Run this cell)\n",
    "display(image_object_1)\n",
    "display(image_object_2)\n",
    "display(image_object_3)"
   ]
  },
  {
   "cell_type": "markdown",
   "id": "407386b9",
   "metadata": {
    "pycharm": {
     "name": "#%% md\n"
    }
   },
   "source": [
    "Examples of the Landmarks dataset: The link for the images is contained on the metadata file."
   ]
  },
  {
   "cell_type": "code",
   "execution_count": 13,
   "id": "f54affe0",
   "metadata": {
    "execution": {
     "iopub.execute_input": "2022-05-20T17:32:16.223285Z",
     "iopub.status.busy": "2022-05-20T17:32:16.222740Z",
     "iopub.status.idle": "2022-05-20T17:32:16.228688Z",
     "shell.execute_reply": "2022-05-20T17:32:16.227856Z"
    },
    "papermill": {
     "duration": 0.357217,
     "end_time": "2022-05-20T17:32:16.230457",
     "exception": false,
     "start_time": "2022-05-20T17:32:15.873240",
     "status": "completed"
    },
    "pycharm": {
     "name": "#%%\n"
    },
    "tags": []
   },
   "outputs": [
    {
     "data": {
      "text/plain": [
       "True"
      ]
     },
     "execution_count": 13,
     "metadata": {},
     "output_type": "execute_result"
    }
   ],
   "source": [
    "googleLandmarksPath = os.path.join(DATA_DIR,'CV','landmarks')\n",
    "os.path.isdir(googleLandmarksPath)"
   ]
  },
  {
   "cell_type": "code",
   "execution_count": 26,
   "id": "74f672f9",
   "metadata": {
    "execution": {
     "iopub.execute_input": "2022-05-20T17:32:16.930846Z",
     "iopub.status.busy": "2022-05-20T17:32:16.930323Z",
     "iopub.status.idle": "2022-05-20T17:32:16.985761Z",
     "shell.execute_reply": "2022-05-20T17:32:16.984562Z"
    },
    "papermill": {
     "duration": 0.40831,
     "end_time": "2022-05-20T17:32:16.988089",
     "exception": false,
     "start_time": "2022-05-20T17:32:16.579779",
     "status": "completed"
    },
    "pycharm": {
     "name": "#%%\n"
    },
    "tags": []
   },
   "outputs": [
    {
     "name": "stdout",
     "output_type": "stream",
     "text": [
      "CSV files on dataset folder: ['boxes_split1.csv', 'boxes_split2.csv', 'index.csv', 'landmarksample.csv', 'recognition_solution.csv', 'retrieval_solution.csv', 'test.csv', 'train.csv']\n"
     ]
    }
   ],
   "source": [
    "# List the CSV files from the Google Landmarks dataset folder\n",
    "landmarks_csv_data = dict()\n",
    "csv_filenames = os.listdir(googleLandmarksPath)\n",
    "print(f\"CSV files on dataset folder: {csv_filenames}\")\n"
   ]
  },
  {
   "cell_type": "code",
   "execution_count": 27,
   "id": "06879130",
   "metadata": {
    "pycharm": {
     "name": "#%%\n"
    }
   },
   "outputs": [],
   "source": [
    "# Load the CSV files using a dictionary: the key is the file name and the value is a dataframe with the contents of the file\n",
    "for csv_filename in csv_filenames:\n",
    "    csv_path = os.path.join(googleLandmarksPath, csv_filename)\n",
    "    landmarks_csv_data[csv_filename] = pd.read_csv(csv_path, delimiter=',')"
   ]
  },
  {
   "cell_type": "markdown",
   "id": "af811d2a",
   "metadata": {
    "papermill": {
     "duration": 0.347482,
     "end_time": "2022-05-20T17:32:17.685453",
     "exception": false,
     "start_time": "2022-05-20T17:32:17.337971",
     "status": "completed"
    },
    "pycharm": {
     "name": "#%% md\n"
    },
    "tags": []
   },
   "source": [
    "Now that we loaded all the metadata files. We will look at their name to know what they represent, and check their shape to know rapidly the number of features and sample they describe. If the name of the file is not clear enough, we can sometimes get some information by observing the relationships between the shapes of two files."
   ]
  },
  {
   "cell_type": "code",
   "execution_count": 28,
   "id": "805674b8",
   "metadata": {
    "execution": {
     "iopub.execute_input": "2022-05-20T17:32:18.379122Z",
     "iopub.status.busy": "2022-05-20T17:32:18.378684Z",
     "iopub.status.idle": "2022-05-20T17:32:18.399137Z",
     "shell.execute_reply": "2022-05-20T17:32:18.397996Z"
    },
    "papermill": {
     "duration": 0.367698,
     "end_time": "2022-05-20T17:32:18.401331",
     "exception": false,
     "start_time": "2022-05-20T17:32:18.033633",
     "status": "completed"
    },
    "pycharm": {
     "name": "#%%\n"
    },
    "tags": []
   },
   "outputs": [
    {
     "name": "stdout",
     "output_type": "stream",
     "text": [
      "- Size of the 'train.csv' file: (2000, 4)\n",
      "   Unnamed: 0                id  \\\n",
      "0     1221181  638a7921e893de63   \n",
      "1      393869  ec108f2c67d28082   \n",
      "2      833769  8b8d9329e3fccd0a   \n",
      "3      400348  cf6b02c51de2f6a1   \n",
      "4      749128  c798f1620d54d8c1   \n",
      "\n",
      "                                                 url landmark_id  \n",
      "0  http://lh6.ggpht.com/-okvU3kjsKWQ/TjnHZCjgLdI/...        3918  \n",
      "1  https://lh4.googleusercontent.com/-ghGLWnz_5Nw...        4786  \n",
      "2  https://lh4.googleusercontent.com/-49VHsrW3voo...        6090  \n",
      "3  http://lh6.ggpht.com/-6Afsd7_E_ck/RsSKkV5EnnI/...        6051  \n",
      "4                                               None        None  \n"
     ]
    }
   ],
   "source": [
    "# Inspect the file \"train.csv\" as an example\n",
    "print(f\"- Size of the 'train.csv' file: {landmarks_csv_data['train.csv'].shape}\")\n",
    "print(landmarks_csv_data['train.csv'].head())"
   ]
  },
  {
   "cell_type": "code",
   "execution_count": 29,
   "id": "376e66de",
   "metadata": {
    "execution": {
     "iopub.execute_input": "2022-05-20T17:32:19.095924Z",
     "iopub.status.busy": "2022-05-20T17:32:19.095499Z",
     "iopub.status.idle": "2022-05-20T17:32:19.113012Z",
     "shell.execute_reply": "2022-05-20T17:32:19.112128Z"
    },
    "papermill": {
     "duration": 0.366325,
     "end_time": "2022-05-20T17:32:19.115033",
     "exception": false,
     "start_time": "2022-05-20T17:32:18.748708",
     "status": "completed"
    },
    "pycharm": {
     "name": "#%%\n"
    },
    "tags": []
   },
   "outputs": [
    {
     "name": "stdout",
     "output_type": "stream",
     "text": [
      "(2000, 3)\n"
     ]
    },
    {
     "data": {
      "text/html": [
       "<div>\n",
       "<style scoped>\n",
       "    .dataframe tbody tr th:only-of-type {\n",
       "        vertical-align: middle;\n",
       "    }\n",
       "\n",
       "    .dataframe tbody tr th {\n",
       "        vertical-align: top;\n",
       "    }\n",
       "\n",
       "    .dataframe thead th {\n",
       "        text-align: right;\n",
       "    }\n",
       "</style>\n",
       "<table border=\"1\" class=\"dataframe\">\n",
       "  <thead>\n",
       "    <tr style=\"text-align: right;\">\n",
       "      <th></th>\n",
       "      <th>id</th>\n",
       "      <th>url</th>\n",
       "      <th>landmark_id</th>\n",
       "    </tr>\n",
       "  </thead>\n",
       "  <tbody>\n",
       "    <tr>\n",
       "      <th>0</th>\n",
       "      <td>638a7921e893de63</td>\n",
       "      <td>http://lh6.ggpht.com/-okvU3kjsKWQ/TjnHZCjgLdI/...</td>\n",
       "      <td>3918</td>\n",
       "    </tr>\n",
       "    <tr>\n",
       "      <th>1</th>\n",
       "      <td>ec108f2c67d28082</td>\n",
       "      <td>https://lh4.googleusercontent.com/-ghGLWnz_5Nw...</td>\n",
       "      <td>4786</td>\n",
       "    </tr>\n",
       "    <tr>\n",
       "      <th>2</th>\n",
       "      <td>8b8d9329e3fccd0a</td>\n",
       "      <td>https://lh4.googleusercontent.com/-49VHsrW3voo...</td>\n",
       "      <td>6090</td>\n",
       "    </tr>\n",
       "    <tr>\n",
       "      <th>3</th>\n",
       "      <td>cf6b02c51de2f6a1</td>\n",
       "      <td>http://lh6.ggpht.com/-6Afsd7_E_ck/RsSKkV5EnnI/...</td>\n",
       "      <td>6051</td>\n",
       "    </tr>\n",
       "    <tr>\n",
       "      <th>4</th>\n",
       "      <td>c798f1620d54d8c1</td>\n",
       "      <td>None</td>\n",
       "      <td>None</td>\n",
       "    </tr>\n",
       "  </tbody>\n",
       "</table>\n",
       "</div>"
      ],
      "text/plain": [
       "                 id                                                url  \\\n",
       "0  638a7921e893de63  http://lh6.ggpht.com/-okvU3kjsKWQ/TjnHZCjgLdI/...   \n",
       "1  ec108f2c67d28082  https://lh4.googleusercontent.com/-ghGLWnz_5Nw...   \n",
       "2  8b8d9329e3fccd0a  https://lh4.googleusercontent.com/-49VHsrW3voo...   \n",
       "3  cf6b02c51de2f6a1  http://lh6.ggpht.com/-6Afsd7_E_ck/RsSKkV5EnnI/...   \n",
       "4  c798f1620d54d8c1                                               None   \n",
       "\n",
       "  landmark_id  \n",
       "0        3918  \n",
       "1        4786  \n",
       "2        6090  \n",
       "3        6051  \n",
       "4        None  "
      ]
     },
     "execution_count": 29,
     "metadata": {},
     "output_type": "execute_result"
    }
   ],
   "source": [
    "landmarks_csv_data['train.csv'].drop(['Unnamed: 0'],axis=1,inplace=True)\n",
    "print(landmarks_csv_data['train.csv'].shape)\n",
    "landmarks_csv_data['train.csv'].head()"
   ]
  },
  {
   "cell_type": "markdown",
   "id": "ae2f5699",
   "metadata": {
    "papermill": {
     "duration": 0.34791,
     "end_time": "2022-05-20T17:32:19.808682",
     "exception": false,
     "start_time": "2022-05-20T17:32:19.460772",
     "status": "completed"
    },
    "pycharm": {
     "name": "#%% md\n"
    },
    "tags": []
   },
   "source": [
    "In this dataset, the label is the landmark ID\n",
    "\n",
    "The file location is a little more tricky because it is stored on google's servers, and needs to be downloaded. "
   ]
  },
  {
   "cell_type": "code",
   "execution_count": 30,
   "id": "26ca62a0",
   "metadata": {
    "execution": {
     "iopub.execute_input": "2022-05-20T17:32:20.548927Z",
     "iopub.status.busy": "2022-05-20T17:32:20.548540Z",
     "iopub.status.idle": "2022-05-20T17:32:20.555680Z",
     "shell.execute_reply": "2022-05-20T17:32:20.555016Z"
    },
    "papermill": {
     "duration": 0.360919,
     "end_time": "2022-05-20T17:32:20.557431",
     "exception": false,
     "start_time": "2022-05-20T17:32:20.196512",
     "status": "completed"
    },
    "pycharm": {
     "name": "#%%\n"
    },
    "tags": []
   },
   "outputs": [],
   "source": [
    "landmarkLabels = landmarks_csv_data['train.csv']['landmark_id']\n",
    "landmarkURLs = landmarks_csv_data['train.csv']['url']"
   ]
  },
  {
   "cell_type": "markdown",
   "id": "51f8a4a8",
   "metadata": {
    "papermill": {
     "duration": 0.349192,
     "end_time": "2022-05-20T17:32:21.254802",
     "exception": false,
     "start_time": "2022-05-20T17:32:20.905610",
     "status": "completed"
    },
    "pycharm": {
     "name": "#%% md\n"
    },
    "tags": []
   },
   "source": [
    "Although these are different, the principles remain the same as before : we need to know what the image is, and where the image is stored. The label and the file path/url will hold this information.\n",
    "\n",
    "You can check another example here : https://www.kaggle.com/piyushrg/computer-vision-av-fastai/notebook"
   ]
  },
  {
   "cell_type": "markdown",
   "id": "7e5f69c6",
   "metadata": {
    "papermill": {
     "duration": 0.348229,
     "end_time": "2022-05-20T17:32:21.950379",
     "exception": false,
     "start_time": "2022-05-20T17:32:21.602150",
     "status": "completed"
    },
    "pycharm": {
     "name": "#%% md\n"
    },
    "tags": []
   },
   "source": [
    "## Part 2 : Loading the data into the dataloader\n",
    "<hr style=\"border:4px solid gray\"> </hr>\n"
   ]
  },
  {
   "cell_type": "markdown",
   "id": "86c8c690",
   "metadata": {
    "papermill": {
     "duration": 0.347869,
     "end_time": "2022-05-20T17:32:22.642821",
     "exception": false,
     "start_time": "2022-05-20T17:32:22.294952",
     "status": "completed"
    },
    "pycharm": {
     "name": "#%% md\n"
    },
    "tags": []
   },
   "source": [
    "In order to leverage a fastAI model, the two key pieces of information that we will need to fit the data into the model are the ***labels***, and how the images are stored. \n",
    "\n",
    "Once we can do that, we can go ahead and train a ***preliminary model*** to get quantified information on how to build the final model."
   ]
  },
  {
   "cell_type": "code",
   "execution_count": 33,
   "id": "e1352029",
   "metadata": {
    "execution": {
     "iopub.execute_input": "2022-05-20T17:32:23.361311Z",
     "iopub.status.busy": "2022-05-20T17:32:23.360780Z",
     "iopub.status.idle": "2022-05-20T17:32:46.886707Z",
     "shell.execute_reply": "2022-05-20T17:32:46.885789Z"
    },
    "papermill": {
     "duration": 23.875391,
     "end_time": "2022-05-20T17:32:46.889019",
     "exception": false,
     "start_time": "2022-05-20T17:32:23.013628",
     "status": "completed"
    },
    "pycharm": {
     "name": "#%%\n"
    },
    "tags": []
   },
   "outputs": [],
   "source": [
    "# Imports, this cell must be run twice because there are dependencies problems with the preloaded libraries of Kaggle\n",
    "!pip install -Uqq fastbook[full]\n",
    "\n",
    "from fastbook import *\n",
    "from fastai.vision.widgets import *\n",
    "setup_book()"
   ]
  },
  {
   "cell_type": "markdown",
   "id": "34fc407f",
   "metadata": {
    "papermill": {
     "duration": 0.345603,
     "end_time": "2022-05-20T17:32:47.590902",
     "exception": false,
     "start_time": "2022-05-20T17:32:47.245299",
     "status": "completed"
    },
    "pycharm": {
     "name": "#%% md\n"
    },
    "tags": []
   },
   "source": [
    "### Loading the Data into FastAI Dataloader\n",
    "\n",
    "Once we have the paths of each image, we can use a dataloader to preprocess and transform the data automatically for us using FastAI"
   ]
  },
  {
   "cell_type": "code",
   "execution_count": 34,
   "id": "753786c2",
   "metadata": {
    "execution": {
     "iopub.execute_input": "2022-05-20T17:32:48.296015Z",
     "iopub.status.busy": "2022-05-20T17:32:48.295760Z",
     "iopub.status.idle": "2022-05-20T17:32:48.300641Z",
     "shell.execute_reply": "2022-05-20T17:32:48.299860Z"
    },
    "papermill": {
     "duration": 0.360288,
     "end_time": "2022-05-20T17:32:48.302478",
     "exception": false,
     "start_time": "2022-05-20T17:32:47.942190",
     "status": "completed"
    },
    "pycharm": {
     "name": "#%%\n"
    },
    "tags": []
   },
   "outputs": [],
   "source": [
    "class DataLoaders(GetAttr):\n",
    "  def __init__(self, *loaders): self.loaders = loaders\n",
    "  def __getitem__(self, i): return self.loaders[i]\n",
    "  train,valid = add_props(lambda i, self: self[i])"
   ]
  },
  {
   "cell_type": "code",
   "execution_count": 35,
   "id": "45d0e743",
   "metadata": {
    "execution": {
     "iopub.execute_input": "2022-05-20T17:32:49.014429Z",
     "iopub.status.busy": "2022-05-20T17:32:49.014006Z",
     "iopub.status.idle": "2022-05-20T17:32:49.021495Z",
     "shell.execute_reply": "2022-05-20T17:32:49.020636Z"
    },
    "papermill": {
     "duration": 0.375125,
     "end_time": "2022-05-20T17:32:49.023347",
     "exception": false,
     "start_time": "2022-05-20T17:32:48.648222",
     "status": "completed"
    },
    "pycharm": {
     "name": "#%%\n"
    },
    "tags": []
   },
   "outputs": [],
   "source": [
    "emotions = DataBlock(\n",
    "    blocks=(ImageBlock, CategoryBlock),\n",
    "    get_items=get_image_files,\n",
    "    splitter=RandomSplitter(valid_pct=0.2, seed=99),\n",
    "    get_y=parent_label,\n",
    "    item_tfms=Resize(225,225)\n",
    "    )"
   ]
  },
  {
   "cell_type": "code",
   "execution_count": 36,
   "id": "35c11dad",
   "metadata": {
    "execution": {
     "iopub.execute_input": "2022-05-20T17:32:49.717928Z",
     "iopub.status.busy": "2022-05-20T17:32:49.717381Z",
     "iopub.status.idle": "2022-05-20T17:32:49.723405Z",
     "shell.execute_reply": "2022-05-20T17:32:49.722611Z"
    },
    "papermill": {
     "duration": 0.356728,
     "end_time": "2022-05-20T17:32:49.725526",
     "exception": false,
     "start_time": "2022-05-20T17:32:49.368798",
     "status": "completed"
    },
    "pycharm": {
     "name": "#%%\n"
    },
    "tags": []
   },
   "outputs": [],
   "source": [
    "emotions = emotions.new(\n",
    "    item_tfms=RandomResizedCrop(28, min_scale=0.5),\n",
    "    batch_tfms=aug_transforms()\n",
    ")"
   ]
  },
  {
   "cell_type": "code",
   "execution_count": 37,
   "id": "fae525d9",
   "metadata": {
    "execution": {
     "iopub.execute_input": "2022-05-20T17:32:50.421358Z",
     "iopub.status.busy": "2022-05-20T17:32:50.420831Z",
     "iopub.status.idle": "2022-05-20T17:32:50.532946Z",
     "shell.execute_reply": "2022-05-20T17:32:50.532229Z"
    },
    "papermill": {
     "duration": 0.462949,
     "end_time": "2022-05-20T17:32:50.535257",
     "exception": false,
     "start_time": "2022-05-20T17:32:50.072308",
     "status": "completed"
    },
    "pycharm": {
     "name": "#%%\n"
    },
    "tags": []
   },
   "outputs": [
    {
     "name": "stdout",
     "output_type": "stream",
     "text": [
      "Due to IPython and Windows limitation, python multiprocessing isn't available now.\n",
      "So `number_workers` is changed to 0 to avoid getting stuck\n"
     ]
    }
   ],
   "source": [
    "dls = emotions.dataloaders(EMOTIONS_IMAGES_DIR)"
   ]
  },
  {
   "cell_type": "code",
   "execution_count": null,
   "id": "aae51529",
   "metadata": {
    "execution": {
     "iopub.execute_input": "2022-05-20T17:32:51.234513Z",
     "iopub.status.busy": "2022-05-20T17:32:51.233939Z",
     "iopub.status.idle": "2022-05-20T17:32:51.910780Z",
     "shell.execute_reply": "2022-05-20T17:32:51.909825Z"
    },
    "papermill": {
     "duration": 1.034044,
     "end_time": "2022-05-20T17:32:51.913329",
     "exception": false,
     "start_time": "2022-05-20T17:32:50.879285",
     "status": "completed"
    },
    "pycharm": {
     "name": "#%%\n"
    },
    "tags": []
   },
   "outputs": [],
   "source": [
    "dls.valid.show_batch(max_n=16, nrows=4)"
   ]
  },
  {
   "cell_type": "markdown",
   "id": "d5cbf410",
   "metadata": {
    "papermill": {
     "duration": 0.35326,
     "end_time": "2022-05-20T17:32:52.618636",
     "exception": false,
     "start_time": "2022-05-20T17:32:52.265376",
     "status": "completed"
    },
    "pycharm": {
     "name": "#%% md\n"
    },
    "tags": []
   },
   "source": [
    "# Part 3 : Training the Model"
   ]
  },
  {
   "cell_type": "code",
   "execution_count": 39,
   "id": "e56227e8",
   "metadata": {
    "execution": {
     "iopub.execute_input": "2022-05-20T17:32:53.325420Z",
     "iopub.status.busy": "2022-05-20T17:32:53.325129Z",
     "iopub.status.idle": "2022-05-20T17:32:56.318873Z",
     "shell.execute_reply": "2022-05-20T17:32:56.318231Z"
    },
    "papermill": {
     "duration": 3.353906,
     "end_time": "2022-05-20T17:32:56.321263",
     "exception": false,
     "start_time": "2022-05-20T17:32:52.967357",
     "status": "completed"
    },
    "pycharm": {
     "name": "#%%\n"
    },
    "tags": []
   },
   "outputs": [
    {
     "name": "stderr",
     "output_type": "stream",
     "text": [
      "c:\\Users\\lenis\\miniconda3\\envs\\DL201\\lib\\site-packages\\fastai\\vision\\learner.py:265: UserWarning: `cnn_learner` has been renamed to `vision_learner` -- please update your code\n",
      "  warn(\"`cnn_learner` has been renamed to `vision_learner` -- please update your code\")\n",
      "Downloading: \"https://download.pytorch.org/models/resnet34-b627a593.pth\" to C:\\Users\\lenis/.cache\\torch\\hub\\checkpoints\\resnet34-b627a593.pth\n",
      "100%|██████████| 83.3M/83.3M [00:31<00:00, 2.78MB/s]\n"
     ]
    }
   ],
   "source": [
    "learn = cnn_learner(dls, resnet34, metrics=error_rate)"
   ]
  },
  {
   "cell_type": "code",
   "execution_count": 40,
   "id": "62858d4c",
   "metadata": {
    "execution": {
     "iopub.execute_input": "2022-05-20T17:32:57.091399Z",
     "iopub.status.busy": "2022-05-20T17:32:57.090770Z",
     "iopub.status.idle": "2022-05-20T17:33:26.881026Z",
     "shell.execute_reply": "2022-05-20T17:33:26.880243Z"
    },
    "papermill": {
     "duration": 30.175193,
     "end_time": "2022-05-20T17:33:26.882980",
     "exception": false,
     "start_time": "2022-05-20T17:32:56.707787",
     "status": "completed"
    },
    "pycharm": {
     "name": "#%%\n"
    },
    "tags": []
   },
   "outputs": [
    {
     "data": {
      "text/html": [
       "\n",
       "<style>\n",
       "    /* Turns off some styling */\n",
       "    progress {\n",
       "        /* gets rid of default border in Firefox and Opera. */\n",
       "        border: none;\n",
       "        /* Needs to be in here for Safari polyfill so background images work as expected. */\n",
       "        background-size: auto;\n",
       "    }\n",
       "    .progress-bar-interrupted, .progress-bar-interrupted::-webkit-progress-bar {\n",
       "        background: #F44336;\n",
       "    }\n",
       "</style>\n"
      ],
      "text/plain": [
       "<IPython.core.display.HTML object>"
      ]
     },
     "metadata": {},
     "output_type": "display_data"
    },
    {
     "data": {
      "text/html": [
       "<table border=\"1\" class=\"dataframe\">\n",
       "  <thead>\n",
       "    <tr style=\"text-align: left;\">\n",
       "      <th>epoch</th>\n",
       "      <th>train_loss</th>\n",
       "      <th>valid_loss</th>\n",
       "      <th>error_rate</th>\n",
       "      <th>time</th>\n",
       "    </tr>\n",
       "  </thead>\n",
       "  <tbody>\n",
       "    <tr>\n",
       "      <td>0</td>\n",
       "      <td>3.256791</td>\n",
       "      <td>2.959296</td>\n",
       "      <td>0.913580</td>\n",
       "      <td>00:05</td>\n",
       "    </tr>\n",
       "  </tbody>\n",
       "</table>"
      ],
      "text/plain": [
       "<IPython.core.display.HTML object>"
      ]
     },
     "metadata": {},
     "output_type": "display_data"
    },
    {
     "data": {
      "text/html": [
       "\n",
       "<style>\n",
       "    /* Turns off some styling */\n",
       "    progress {\n",
       "        /* gets rid of default border in Firefox and Opera. */\n",
       "        border: none;\n",
       "        /* Needs to be in here for Safari polyfill so background images work as expected. */\n",
       "        background-size: auto;\n",
       "    }\n",
       "    .progress-bar-interrupted, .progress-bar-interrupted::-webkit-progress-bar {\n",
       "        background: #F44336;\n",
       "    }\n",
       "</style>\n"
      ],
      "text/plain": [
       "<IPython.core.display.HTML object>"
      ]
     },
     "metadata": {},
     "output_type": "display_data"
    },
    {
     "data": {
      "text/html": [
       "<table border=\"1\" class=\"dataframe\">\n",
       "  <thead>\n",
       "    <tr style=\"text-align: left;\">\n",
       "      <th>epoch</th>\n",
       "      <th>train_loss</th>\n",
       "      <th>valid_loss</th>\n",
       "      <th>error_rate</th>\n",
       "      <th>time</th>\n",
       "    </tr>\n",
       "  </thead>\n",
       "  <tbody>\n",
       "    <tr>\n",
       "      <td>0</td>\n",
       "      <td>3.162385</td>\n",
       "      <td>2.722958</td>\n",
       "      <td>0.901235</td>\n",
       "      <td>00:11</td>\n",
       "    </tr>\n",
       "    <tr>\n",
       "      <td>1</td>\n",
       "      <td>3.010534</td>\n",
       "      <td>2.497166</td>\n",
       "      <td>0.876543</td>\n",
       "      <td>00:10</td>\n",
       "    </tr>\n",
       "    <tr>\n",
       "      <td>2</td>\n",
       "      <td>2.921787</td>\n",
       "      <td>2.453059</td>\n",
       "      <td>0.864198</td>\n",
       "      <td>00:10</td>\n",
       "    </tr>\n",
       "    <tr>\n",
       "      <td>3</td>\n",
       "      <td>2.891099</td>\n",
       "      <td>2.432964</td>\n",
       "      <td>0.814815</td>\n",
       "      <td>00:11</td>\n",
       "    </tr>\n",
       "    <tr>\n",
       "      <td>4</td>\n",
       "      <td>2.877030</td>\n",
       "      <td>2.501717</td>\n",
       "      <td>0.814815</td>\n",
       "      <td>00:12</td>\n",
       "    </tr>\n",
       "  </tbody>\n",
       "</table>"
      ],
      "text/plain": [
       "<IPython.core.display.HTML object>"
      ]
     },
     "metadata": {},
     "output_type": "display_data"
    }
   ],
   "source": [
    "learn.fine_tune(5)"
   ]
  },
  {
   "cell_type": "markdown",
   "id": "5feced59",
   "metadata": {
    "papermill": {
     "duration": 0.352403,
     "end_time": "2022-05-20T17:33:27.594798",
     "exception": false,
     "start_time": "2022-05-20T17:33:27.242395",
     "status": "completed"
    },
    "pycharm": {
     "name": "#%% md\n"
    },
    "tags": []
   },
   "source": [
    "# Part 4: Interpreting the Results"
   ]
  },
  {
   "cell_type": "code",
   "execution_count": 41,
   "id": "203827a7",
   "metadata": {
    "execution": {
     "iopub.execute_input": "2022-05-20T17:33:28.314705Z",
     "iopub.status.busy": "2022-05-20T17:33:28.313832Z",
     "iopub.status.idle": "2022-05-20T17:33:28.889669Z",
     "shell.execute_reply": "2022-05-20T17:33:28.888906Z"
    },
    "papermill": {
     "duration": 0.93774,
     "end_time": "2022-05-20T17:33:28.892466",
     "exception": false,
     "start_time": "2022-05-20T17:33:27.954726",
     "status": "completed"
    },
    "pycharm": {
     "name": "#%%\n"
    },
    "tags": []
   },
   "outputs": [
    {
     "data": {
      "text/html": [
       "\n",
       "<style>\n",
       "    /* Turns off some styling */\n",
       "    progress {\n",
       "        /* gets rid of default border in Firefox and Opera. */\n",
       "        border: none;\n",
       "        /* Needs to be in here for Safari polyfill so background images work as expected. */\n",
       "        background-size: auto;\n",
       "    }\n",
       "    .progress-bar-interrupted, .progress-bar-interrupted::-webkit-progress-bar {\n",
       "        background: #F44336;\n",
       "    }\n",
       "</style>\n"
      ],
      "text/plain": [
       "<IPython.core.display.HTML object>"
      ]
     },
     "metadata": {},
     "output_type": "display_data"
    },
    {
     "data": {
      "text/html": [],
      "text/plain": [
       "<IPython.core.display.HTML object>"
      ]
     },
     "metadata": {},
     "output_type": "display_data"
    }
   ],
   "source": [
    "interp = ClassificationInterpretation.from_learner(learn)"
   ]
  },
  {
   "cell_type": "markdown",
   "id": "c82c2b96",
   "metadata": {
    "papermill": {
     "duration": 0.454862,
     "end_time": "2022-05-20T17:33:29.733637",
     "exception": false,
     "start_time": "2022-05-20T17:33:29.278775",
     "status": "completed"
    },
    "pycharm": {
     "name": "#%% md\n"
    },
    "tags": []
   },
   "source": [
    "### What is the Accuracy of the Model?"
   ]
  },
  {
   "cell_type": "code",
   "execution_count": 42,
   "id": "c15e6cbe",
   "metadata": {
    "execution": {
     "iopub.execute_input": "2022-05-20T17:33:30.442329Z",
     "iopub.status.busy": "2022-05-20T17:33:30.441283Z",
     "iopub.status.idle": "2022-05-20T17:33:30.965349Z",
     "shell.execute_reply": "2022-05-20T17:33:30.964219Z"
    },
    "papermill": {
     "duration": 0.880616,
     "end_time": "2022-05-20T17:33:30.967944",
     "exception": false,
     "start_time": "2022-05-20T17:33:30.087328",
     "status": "completed"
    },
    "pycharm": {
     "name": "#%%\n"
    },
    "tags": []
   },
   "outputs": [
    {
     "data": {
      "text/html": [
       "\n",
       "<style>\n",
       "    /* Turns off some styling */\n",
       "    progress {\n",
       "        /* gets rid of default border in Firefox and Opera. */\n",
       "        border: none;\n",
       "        /* Needs to be in here for Safari polyfill so background images work as expected. */\n",
       "        background-size: auto;\n",
       "    }\n",
       "    .progress-bar-interrupted, .progress-bar-interrupted::-webkit-progress-bar {\n",
       "        background: #F44336;\n",
       "    }\n",
       "</style>\n"
      ],
      "text/plain": [
       "<IPython.core.display.HTML object>"
      ]
     },
     "metadata": {},
     "output_type": "display_data"
    },
    {
     "data": {
      "text/html": [],
      "text/plain": [
       "<IPython.core.display.HTML object>"
      ]
     },
     "metadata": {},
     "output_type": "display_data"
    },
    {
     "name": "stdout",
     "output_type": "stream",
     "text": [
      "              precision    recall  f1-score   support\n",
      "\n",
      "       Angry       0.18      0.57      0.28         7\n",
      "     Disgust       0.11      0.12      0.12        16\n",
      "        Fear       0.00      0.00      0.00        10\n",
      "       Happy       0.14      0.12      0.13         8\n",
      "     Neutral       0.33      0.17      0.22        12\n",
      "         Sad       0.15      0.33      0.21         9\n",
      "    Surprise       0.75      0.16      0.26        19\n",
      "\n",
      "    accuracy                           0.19        81\n",
      "   macro avg       0.24      0.21      0.17        81\n",
      "weighted avg       0.29      0.19      0.18        81\n",
      "\n"
     ]
    }
   ],
   "source": [
    "interp.print_classification_report()"
   ]
  },
  {
   "cell_type": "markdown",
   "id": "3007c05b",
   "metadata": {
    "papermill": {
     "duration": 0.353041,
     "end_time": "2022-05-20T17:33:31.675667",
     "exception": false,
     "start_time": "2022-05-20T17:33:31.322626",
     "status": "completed"
    },
    "pycharm": {
     "name": "#%% md\n"
    },
    "tags": []
   },
   "source": [
    "### What Does the Confusion Matrix Look Like?"
   ]
  },
  {
   "cell_type": "markdown",
   "id": "2b8af510",
   "metadata": {
    "papermill": {
     "duration": 0.359996,
     "end_time": "2022-05-20T17:33:32.392891",
     "exception": false,
     "start_time": "2022-05-20T17:33:32.032895",
     "status": "completed"
    },
    "pycharm": {
     "name": "#%% md\n"
    },
    "tags": []
   },
   "source": [
    "interp.confusion"
   ]
  },
  {
   "cell_type": "code",
   "execution_count": 43,
   "id": "87cb3531",
   "metadata": {
    "execution": {
     "iopub.execute_input": "2022-05-20T17:33:33.109270Z",
     "iopub.status.busy": "2022-05-20T17:33:33.108951Z",
     "iopub.status.idle": "2022-05-20T17:33:33.987835Z",
     "shell.execute_reply": "2022-05-20T17:33:33.986790Z"
    },
    "papermill": {
     "duration": 1.234249,
     "end_time": "2022-05-20T17:33:33.989825",
     "exception": false,
     "start_time": "2022-05-20T17:33:32.755576",
     "status": "completed"
    },
    "pycharm": {
     "name": "#%%\n"
    },
    "tags": []
   },
   "outputs": [
    {
     "data": {
      "text/html": [
       "\n",
       "<style>\n",
       "    /* Turns off some styling */\n",
       "    progress {\n",
       "        /* gets rid of default border in Firefox and Opera. */\n",
       "        border: none;\n",
       "        /* Needs to be in here for Safari polyfill so background images work as expected. */\n",
       "        background-size: auto;\n",
       "    }\n",
       "    .progress-bar-interrupted, .progress-bar-interrupted::-webkit-progress-bar {\n",
       "        background: #F44336;\n",
       "    }\n",
       "</style>\n"
      ],
      "text/plain": [
       "<IPython.core.display.HTML object>"
      ]
     },
     "metadata": {},
     "output_type": "display_data"
    },
    {
     "data": {
      "text/html": [],
      "text/plain": [
       "<IPython.core.display.HTML object>"
      ]
     },
     "metadata": {},
     "output_type": "display_data"
    },
    {
     "data": {
      "image/png": "[encoded data removed]",
      "text/plain": [
       "<Figure size 432x288 with 1 Axes>"
      ]
     },
     "metadata": {
      "needs_background": "light"
     },
     "output_type": "display_data"
    }
   ],
   "source": [
    "interp.plot_confusion_matrix()"
   ]
  },
  {
   "cell_type": "markdown",
   "id": "beac7dd5",
   "metadata": {
    "papermill": {
     "duration": 0.359819,
     "end_time": "2022-05-20T17:33:45.566735",
     "exception": false,
     "start_time": "2022-05-20T17:33:45.206916",
     "status": "completed"
    },
    "pycharm": {
     "name": "#%% md\n"
    },
    "tags": []
   },
   "source": [
    "1. Do you see any clear patterns in the confusion matrix?\n",
    "\n",
    "2. Can you find any poor quality images?\n",
    "\n",
    "3. Where Does this First Run Strengthen your Hypothesis?\n",
    "\n",
    "4. What is a file path? What information does it contain?\n",
    "    - A. A file path always refers to a folder on a computer, it can contain many files inside of it\n",
    "    - B. A file path the location of a file or directory in a file system, it tells the computer where to look for a particular file\n",
    "    - C. A file path is the name of a file, and doesn't include the parent directories e.g. image3.jpg\n",
    "\n",
    "5. What does the working/current directory mean? Why is it important to know this when using Jupyter Notebook? \n",
    "    - A. It is the directory/folder that the user is currently working in. The file paths in your program are relative to your working directory\n",
    "    - B. It is the equivalent of the home directory/folder. It is the base of the file tree.\n",
    "    - C. AI can figure this out, don't worry because it is intelligent. \n",
    "\n",
    "6. Where can one extract the labels from a dataset of images zipped together in a file tree? What is the most common place, where is also oless common?\n",
    "    - A. The home directory\n",
    "    - B. Inside of the file path e.g. Cars/Sedan/5316.jpg\n",
    "    - C. Inside of a column in a table of metadata\n",
    "    - D. The file extension\n",
    "\t"
   ]
  }
 ],
 "metadata": {
  "interpreter": {
   "hash": "d316707d93be09212242bb4431563349bc87a6a4965cbb94d95cad94a149faa0"
  },
  "kernelspec": {
   "display_name": "Python 3.9.7 ('DL201')",
   "language": "python",
   "name": "python3"
  },
  "language_info": {
   "codemirror_mode": {
    "name": "ipython",
    "version": 3
   },
   "file_extension": ".py",
   "mimetype": "text/x-python",
   "name": "python",
   "nbconvert_exporter": "python",
   "pygments_lexer": "ipython3",
   "version": "3.9.7"
  },
  "papermill": {
   "default_parameters": {},
   "duration": 126.947167,
   "end_time": "2022-05-20T17:33:46.948718",
   "environment_variables": {},
   "exception": null,
   "input_path": "__notebook__.ipynb",
   "output_path": "__notebook__.ipynb",
   "parameters": {},
   "start_time": "2022-05-20T17:31:40.001551",
   "version": "2.3.4"
  },
  "widgets": {
   "application/vnd.jupyter.widget-state+json": {
    "state": {
     "0fac75d4f8684087a52c56141e50d308": {
      "model_module": "@jupyter-widgets/controls",
      "model_module_version": "1.5.0",
      "model_name": "ProgressStyleModel",
      "state": {
       "_model_module": "@jupyter-widgets/controls",
       "_model_module_version": "1.5.0",
       "_model_name": "ProgressStyleModel",
       "_view_count": null,
       "_view_module": "@jupyter-widgets/base",
       "_view_module_version": "1.2.0",
       "_view_name": "StyleView",
       "bar_color": null,
       "description_width": ""
      }
     },
     "298d9882b34a4704bd68c3a094bb2dfe": {
      "model_module": "@jupyter-widgets/base",
      "model_module_version": "1.2.0",
      "model_name": "LayoutModel",
      "state": {
       "_model_module": "@jupyter-widgets/base",
       "_model_module_version": "1.2.0",
       "_model_name": "LayoutModel",
       "_view_count": null,
       "_view_module": "@jupyter-widgets/base",
       "_view_module_version": "1.2.0",
       "_view_name": "LayoutView",
       "align_content": null,
       "align_items": null,
       "align_self": null,
       "border": null,
       "bottom": null,
       "display": null,
       "flex": null,
       "flex_flow": null,
       "grid_area": null,
       "grid_auto_columns": null,
       "grid_auto_flow": null,
       "grid_auto_rows": null,
       "grid_column": null,
       "grid_gap": null,
       "grid_row": null,
       "grid_template_areas": null,
       "grid_template_columns": null,
       "grid_template_rows": null,
       "height": null,
       "justify_content": null,
       "justify_items": null,
       "left": null,
       "margin": null,
       "max_height": null,
       "max_width": null,
       "min_height": null,
       "min_width": null,
       "object_fit": null,
       "object_position": null,
       "order": null,
       "overflow": null,
       "overflow_x": null,
       "overflow_y": null,
       "padding": null,
       "right": null,
       "top": null,
       "visibility": null,
       "width": null
      }
     },
     "2fdec152e4354f85979096da76e07c1c": {
      "model_module": "@jupyter-widgets/controls",
      "model_module_version": "1.5.0",
      "model_name": "HTMLModel",
      "state": {
       "_dom_classes": [],
       "_model_module": "@jupyter-widgets/controls",
       "_model_module_version": "1.5.0",
       "_model_name": "HTMLModel",
       "_view_count": null,
       "_view_module": "@jupyter-widgets/controls",
       "_view_module_version": "1.5.0",
       "_view_name": "HTMLView",
       "description": "",
       "description_tooltip": null,
       "layout": "IPY_MODEL_298d9882b34a4704bd68c3a094bb2dfe",
       "placeholder": "​",
       "style": "IPY_MODEL_9b10b9455b8247e79f91ff0f91d89e7a",
       "value": "100%"
      }
     },
     "548757474339432ca0763e4d41b392fb": {
      "model_module": "@jupyter-widgets/controls",
      "model_module_version": "1.5.0",
      "model_name": "FloatProgressModel",
      "state": {
       "_dom_classes": [],
       "_model_module": "@jupyter-widgets/controls",
       "_model_module_version": "1.5.0",
       "_model_name": "FloatProgressModel",
       "_view_count": null,
       "_view_module": "@jupyter-widgets/controls",
       "_view_module_version": "1.5.0",
       "_view_name": "ProgressView",
       "bar_style": "success",
       "description": "",
       "description_tooltip": null,
       "layout": "IPY_MODEL_6154aee56fca49baaea037d425ae67e2",
       "max": 87319819,
       "min": 0,
       "orientation": "horizontal",
       "style": "IPY_MODEL_0fac75d4f8684087a52c56141e50d308",
       "value": 87319819
      }
     },
     "6154aee56fca49baaea037d425ae67e2": {
      "model_module": "@jupyter-widgets/base",
      "model_module_version": "1.2.0",
      "model_name": "LayoutModel",
      "state": {
       "_model_module": "@jupyter-widgets/base",
       "_model_module_version": "1.2.0",
       "_model_name": "LayoutModel",
       "_view_count": null,
       "_view_module": "@jupyter-widgets/base",
       "_view_module_version": "1.2.0",
       "_view_name": "LayoutView",
       "align_content": null,
       "align_items": null,
       "align_self": null,
       "border": null,
       "bottom": null,
       "display": null,
       "flex": null,
       "flex_flow": null,
       "grid_area": null,
       "grid_auto_columns": null,
       "grid_auto_flow": null,
       "grid_auto_rows": null,
       "grid_column": null,
       "grid_gap": null,
       "grid_row": null,
       "grid_template_areas": null,
       "grid_template_columns": null,
       "grid_template_rows": null,
       "height": null,
       "justify_content": null,
       "justify_items": null,
       "left": null,
       "margin": null,
       "max_height": null,
       "max_width": null,
       "min_height": null,
       "min_width": null,
       "object_fit": null,
       "object_position": null,
       "order": null,
       "overflow": null,
       "overflow_x": null,
       "overflow_y": null,
       "padding": null,
       "right": null,
       "top": null,
       "visibility": null,
       "width": null
      }
     },
     "9b10b9455b8247e79f91ff0f91d89e7a": {
      "model_module": "@jupyter-widgets/controls",
      "model_module_version": "1.5.0",
      "model_name": "DescriptionStyleModel",
      "state": {
       "_model_module": "@jupyter-widgets/controls",
       "_model_module_version": "1.5.0",
       "_model_name": "DescriptionStyleModel",
       "_view_count": null,
       "_view_module": "@jupyter-widgets/base",
       "_view_module_version": "1.2.0",
       "_view_name": "StyleView",
       "description_width": ""
      }
     },
     "aa83f3c7b1324ae192909531193a30e9": {
      "model_module": "@jupyter-widgets/controls",
      "model_module_version": "1.5.0",
      "model_name": "HTMLModel",
      "state": {
       "_dom_classes": [],
       "_model_module": "@jupyter-widgets/controls",
       "_model_module_version": "1.5.0",
       "_model_name": "HTMLModel",
       "_view_count": null,
       "_view_module": "@jupyter-widgets/controls",
       "_view_module_version": "1.5.0",
       "_view_name": "HTMLView",
       "description": "",
       "description_tooltip": null,
       "layout": "IPY_MODEL_f7deb4668a8e4ab9867262efe115b6ee",
       "placeholder": "​",
       "style": "IPY_MODEL_f0013d3627cb42629346e025d9c0bf06",
       "value": " 83.3M/83.3M [00:02&lt;00:00, 41.8MB/s]"
      }
     },
     "ac0899f670274470a5ceefc3eafae08b": {
      "model_module": "@jupyter-widgets/base",
      "model_module_version": "1.2.0",
      "model_name": "LayoutModel",
      "state": {
       "_model_module": "@jupyter-widgets/base",
       "_model_module_version": "1.2.0",
       "_model_name": "LayoutModel",
       "_view_count": null,
       "_view_module": "@jupyter-widgets/base",
       "_view_module_version": "1.2.0",
       "_view_name": "LayoutView",
       "align_content": null,
       "align_items": null,
       "align_self": null,
       "border": null,
       "bottom": null,
       "display": null,
       "flex": null,
       "flex_flow": null,
       "grid_area": null,
       "grid_auto_columns": null,
       "grid_auto_flow": null,
       "grid_auto_rows": null,
       "grid_column": null,
       "grid_gap": null,
       "grid_row": null,
       "grid_template_areas": null,
       "grid_template_columns": null,
       "grid_template_rows": null,
       "height": null,
       "justify_content": null,
       "justify_items": null,
       "left": null,
       "margin": null,
       "max_height": null,
       "max_width": null,
       "min_height": null,
       "min_width": null,
       "object_fit": null,
       "object_position": null,
       "order": null,
       "overflow": null,
       "overflow_x": null,
       "overflow_y": null,
       "padding": null,
       "right": null,
       "top": null,
       "visibility": null,
       "width": null
      }
     },
     "f0013d3627cb42629346e025d9c0bf06": {
      "model_module": "@jupyter-widgets/controls",
      "model_module_version": "1.5.0",
      "model_name": "DescriptionStyleModel",
      "state": {
       "_model_module": "@jupyter-widgets/controls",
       "_model_module_version": "1.5.0",
       "_model_name": "DescriptionStyleModel",
       "_view_count": null,
       "_view_module": "@jupyter-widgets/base",
       "_view_module_version": "1.2.0",
       "_view_name": "StyleView",
       "description_width": ""
      }
     },
     "f279fcd66be5455a94b2401c02c2513d": {
      "model_module": "@jupyter-widgets/controls",
      "model_module_version": "1.5.0",
      "model_name": "HBoxModel",
      "state": {
       "_dom_classes": [],
       "_model_module": "@jupyter-widgets/controls",
       "_model_module_version": "1.5.0",
       "_model_name": "HBoxModel",
       "_view_count": null,
       "_view_module": "@jupyter-widgets/controls",
       "_view_module_version": "1.5.0",
       "_view_name": "HBoxView",
       "box_style": "",
       "children": [
        "IPY_MODEL_2fdec152e4354f85979096da76e07c1c",
        "IPY_MODEL_548757474339432ca0763e4d41b392fb",
        "IPY_MODEL_aa83f3c7b1324ae192909531193a30e9"
       ],
       "layout": "IPY_MODEL_ac0899f670274470a5ceefc3eafae08b"
      }
     },
     "f7deb4668a8e4ab9867262efe115b6ee": {
      "model_module": "@jupyter-widgets/base",
      "model_module_version": "1.2.0",
      "model_name": "LayoutModel",
      "state": {
       "_model_module": "@jupyter-widgets/base",
       "_model_module_version": "1.2.0",
       "_model_name": "LayoutModel",
       "_view_count": null,
       "_view_module": "@jupyter-widgets/base",
       "_view_module_version": "1.2.0",
       "_view_name": "LayoutView",
       "align_content": null,
       "align_items": null,
       "align_self": null,
       "border": null,
       "bottom": null,
       "display": null,
       "flex": null,
       "flex_flow": null,
       "grid_area": null,
       "grid_auto_columns": null,
       "grid_auto_flow": null,
       "grid_auto_rows": null,
       "grid_column": null,
       "grid_gap": null,
       "grid_row": null,
       "grid_template_areas": null,
       "grid_template_columns": null,
       "grid_template_rows": null,
       "height": null,
       "justify_content": null,
       "justify_items": null,
       "left": null,
       "margin": null,
       "max_height": null,
       "max_width": null,
       "min_height": null,
       "min_width": null,
       "object_fit": null,
       "object_position": null,
       "order": null,
       "overflow": null,
       "overflow_x": null,
       "overflow_y": null,
       "padding": null,
       "right": null,
       "top": null,
       "visibility": null,
       "width": null
      }
     }
    },
    "version_major": 2,
    "version_minor": 0
   }
  }
 },
 "nbformat": 4,
 "nbformat_minor": 5
}
