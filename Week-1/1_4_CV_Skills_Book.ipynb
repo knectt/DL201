{
 "cells": [
  {
   "cell_type": "markdown",
   "id": "053c68f5",
   "metadata": {
    "papermill": {
     "duration": 0.049542,
     "end_time": "2022-05-20T12:19:40.897131",
     "exception": false,
     "start_time": "2022-05-20T12:19:40.847589",
     "status": "completed"
    },
    "tags": []
   },
   "source": [
    "# 💻 UnpackAI DL201 Bootcamp - Week 1 - Skills: Computer Vision\n",
    "\n",
    "## 📕 Learning Objectives\n",
    "\n",
    "* Loading data\n",
    "* Unzipping data\n",
    "* Retrieving label information\n",
    "* AI model training and results analysis on Computer Vision"
   ]
  },
  {
   "cell_type": "markdown",
   "id": "15b1ff0c",
   "metadata": {
    "papermill": {
     "duration": 0.048018,
     "end_time": "2022-05-20T12:19:40.995084",
     "exception": false,
     "start_time": "2022-05-20T12:19:40.947066",
     "status": "completed"
    },
    "tags": []
   },
   "source": [
    "# Part 0 : Code preparation"
   ]
  },
  {
   "cell_type": "code",
   "execution_count": 1,
   "id": "663be797",
   "metadata": {
    "execution": {
     "iopub.execute_input": "2022-05-20T12:19:41.094148Z",
     "iopub.status.busy": "2022-05-20T12:19:41.093593Z",
     "iopub.status.idle": "2022-05-20T12:20:02.681468Z",
     "shell.execute_reply": "2022-05-20T12:20:02.680095Z"
    },
    "papermill": {
     "duration": 21.640667,
     "end_time": "2022-05-20T12:20:02.684131",
     "exception": false,
     "start_time": "2022-05-20T12:19:41.043464",
     "status": "completed"
    },
    "tags": []
   },
   "outputs": [
    {
     "name": "stdout",
     "output_type": "stream",
     "text": [
      "Collecting openpyxl\r\n",
      "  Downloading openpyxl-3.0.10-py2.py3-none-any.whl (242 kB)\r\n",
      "\u001b[2K     \u001b[90m━━━━━━━━━━━━━━━━━━━━━━━━━━━━━━━━━━━━━━━\u001b[0m \u001b[32m242.1/242.1 KB\u001b[0m \u001b[31m1.4 MB/s\u001b[0m eta \u001b[36m0:00:00\u001b[0m\r\n",
      "\u001b[?25hCollecting et-xmlfile\r\n",
      "  Downloading et_xmlfile-1.1.0-py3-none-any.whl (4.7 kB)\r\n",
      "Installing collected packages: et-xmlfile, openpyxl\r\n",
      "Successfully installed et-xmlfile-1.1.0 openpyxl-3.0.10\r\n",
      "\u001b[33mWARNING: Running pip as the 'root' user can result in broken permissions and conflicting behaviour with the system package manager. It is recommended to use a virtual environment instead: https://pip.pypa.io/warnings/venv\u001b[0m\u001b[33m\r\n",
      "\u001b[0mCloning into 'DL201'...\r\n",
      "remote: Enumerating objects: 869, done.\u001b[K\r\n",
      "remote: Counting objects: 100% (144/144), done.\u001b[K\r\n",
      "remote: Compressing objects: 100% (98/98), done.\u001b[K\r\n",
      "remote: Total 869 (delta 89), reused 78 (delta 46), pack-reused 725\u001b[K\r\n",
      "Receiving objects: 100% (869/869), 58.63 MiB | 25.60 MiB/s, done.\r\n",
      "Resolving deltas: 100% (511/511), done.\r\n",
      "DATA_DIR is a directory, its path is /kaggle/working/DL201/data\n",
      "IMAGE_DIR is a directory, its path is /kaggle/working/DL201/img\n"
     ]
    }
   ],
   "source": [
    "import pandas as pd\n",
    "import numpy as np\n",
    "import cv2 \n",
    "import torch as t\n",
    "from matplotlib import pyplot as plt\n",
    "from pathlib import Path\n",
    "import os\n",
    "from shutil import unpack_archive\n",
    "\n",
    "# import data and images if necessary, and choose the right path\n",
    "PLATFORM = 'Kaggle'  # or 'UNIX' or 'Kaggle'\n",
    "\n",
    "if PLATFORM == 'Kaggle':\n",
    "    !pip install openpyxl\n",
    "    !git clone https://github.com/unpackAI/DL201.git\n",
    "    IMAGE_DIR = Path('/kaggle/working/DL201/img')\n",
    "    DATA_DIR = Path('/kaggle/working/DL201/data')\n",
    "    \n",
    "elif PLATFORM == 'UNIX':\n",
    "    # we assume that you already cloned unpackAI/DL201 git repository\n",
    "    # and this notebook is part of DL201/week1 directory\n",
    "    DATA_DIR = Path.home()/'Datasets/unpackAI/DL201/data'\n",
    "    IMAGE_DIR = Path.home()/'Projects/unpackAI/DL201/img'\n",
    "    \n",
    "elif PLATFORM == 'WINDOWS':\n",
    "    # we assume that you already cloned unpackAI/DL201 git repository\n",
    "    # and this notebook is part of DL201/week1 directory\n",
    "    DATA_DIR = Path('../data') #uncomment for kaggle\n",
    "    IMAGE_DIR = Path('../img') #Uncomment for Kaggle\n",
    "    \n",
    "# finally, check if we found the right pathes\n",
    "if os.path.isdir(DATA_DIR):\n",
    "    print(f'DATA_DIR is a directory, its path is {DATA_DIR}')\n",
    "else:\n",
    "    print(\"ERROR : DATA_DIR is not a directory\")\n",
    "\n",
    "if os.path.isdir(IMAGE_DIR):\n",
    "    print(f'IMAGE_DIR is a directory, its path is {IMAGE_DIR}')\n",
    "else:\n",
    "    print(\"ERROR : IMAGE_DIR is not a directory\")"
   ]
  },
  {
   "cell_type": "markdown",
   "id": "cecbfaef",
   "metadata": {
    "papermill": {
     "duration": 0.066857,
     "end_time": "2022-05-20T12:20:02.818933",
     "exception": false,
     "start_time": "2022-05-20T12:20:02.752076",
     "status": "completed"
    },
    "tags": []
   },
   "source": [
    "# Part 1: Loading the data\n",
    "<hr style=\"border:4px solid gray\"> </hr>"
   ]
  },
  {
   "cell_type": "markdown",
   "id": "71fca665",
   "metadata": {
    "papermill": {
     "duration": 0.065502,
     "end_time": "2022-05-20T12:20:02.950671",
     "exception": false,
     "start_time": "2022-05-20T12:20:02.885169",
     "status": "completed"
    },
    "tags": []
   },
   "source": [
    "As always, the question becomes, how do we access our data."
   ]
  },
  {
   "cell_type": "markdown",
   "id": "be59fd12",
   "metadata": {
    "papermill": {
     "duration": 0.065288,
     "end_time": "2022-05-20T12:20:03.083210",
     "exception": false,
     "start_time": "2022-05-20T12:20:03.017922",
     "status": "completed"
    },
    "tags": []
   },
   "source": [
    "## 1.1 How Large is the dataset?\n",
    "\n",
    "Before downloading the data, it is a good idea to know how large the dataset is because this will affect how you move forward. If it is very large, you may need to consider if you can download it or not, how much time this would take, how it will be stored in your computer, etc.\n",
    "\n",
    "You may need to select a sample out of the dataset to work with rather than work with the whole set. This will speed up exploring the data because you won't constantly be waiting for the computer to process the data.\n",
    "\n",
    "This information is usually found online, in the Readme following the data or displayed by your computer when you start downloading."
   ]
  },
  {
   "cell_type": "markdown",
   "id": "28f58333",
   "metadata": {
    "papermill": {
     "duration": 0.06548,
     "end_time": "2022-05-20T12:20:03.214443",
     "exception": false,
     "start_time": "2022-05-20T12:20:03.148963",
     "status": "completed"
    },
    "tags": []
   },
   "source": [
    "## 1.2 Working with compressed files?"
   ]
  },
  {
   "cell_type": "markdown",
   "id": "1f40914f",
   "metadata": {
    "papermill": {
     "duration": 0.067343,
     "end_time": "2022-05-20T12:20:03.347645",
     "exception": false,
     "start_time": "2022-05-20T12:20:03.280302",
     "status": "completed"
    },
    "tags": [],
    "toc-hr-collapsed": true
   },
   "source": [
    "***Zip*** files are incredibly common in many areas.\n",
    "\n",
    "For datasets, they serve two primary purposes:\n",
    "\n",
    "1. This format bundles together many files into one and makes it easier and faster to send it over the internet. Network protocols are similar to the mail. It's much less complicated to send a shipping container rather than do paperwork and handling of thousands of individual boxes.\n",
    "\n",
    "2. Compression. The other problem is bandwidth. Zip files, along with other formats, can make files smaller which is beneficial because they take up less space on the hard drive. More importantly, this means that we can download the dataset faster. "
   ]
  },
  {
   "cell_type": "markdown",
   "id": "6c6a3b89",
   "metadata": {
    "papermill": {
     "duration": 0.065457,
     "end_time": "2022-05-20T12:20:03.479021",
     "exception": false,
     "start_time": "2022-05-20T12:20:03.413564",
     "status": "completed"
    },
    "tags": []
   },
   "source": [
    "### Step 1: Find the exact file path"
   ]
  },
  {
   "cell_type": "code",
   "execution_count": 2,
   "id": "ef994f17",
   "metadata": {
    "execution": {
     "iopub.execute_input": "2022-05-20T12:20:03.613217Z",
     "iopub.status.busy": "2022-05-20T12:20:03.612847Z",
     "iopub.status.idle": "2022-05-20T12:20:03.622232Z",
     "shell.execute_reply": "2022-05-20T12:20:03.621531Z"
    },
    "papermill": {
     "duration": 0.079598,
     "end_time": "2022-05-20T12:20:03.624455",
     "exception": false,
     "start_time": "2022-05-20T12:20:03.544857",
     "status": "completed"
    },
    "tags": []
   },
   "outputs": [
    {
     "data": {
      "text/plain": [
       "True"
      ]
     },
     "execution_count": 2,
     "metadata": {},
     "output_type": "execute_result"
    }
   ],
   "source": [
    "# Setting the file path using pathlib\n",
    "emotionsImagesZipPath = DATA_DIR/'CV'/'Emotions_Images_Sample.zip'\n",
    "os.path.isfile(emotionsImagesZipPath)"
   ]
  },
  {
   "cell_type": "markdown",
   "id": "4ccf4a80",
   "metadata": {
    "papermill": {
     "duration": 0.066033,
     "end_time": "2022-05-20T12:20:03.758341",
     "exception": false,
     "start_time": "2022-05-20T12:20:03.692308",
     "status": "completed"
    },
    "tags": []
   },
   "source": [
    "### Step 2: Unzip the files\n",
    "\n",
    "In this code, we are using a library called ***shutil***\n",
    "Shutil is short for shell utility.\n",
    "\n",
    "This allows python to make commands in the shell.\n",
    "\n",
    "In this case, we are telling it to unzip a file X and put it in Y directory.\n",
    "X is a file path while Y is a directory path."
   ]
  },
  {
   "cell_type": "code",
   "execution_count": 3,
   "id": "848bd2be",
   "metadata": {
    "execution": {
     "iopub.execute_input": "2022-05-20T12:20:03.894586Z",
     "iopub.status.busy": "2022-05-20T12:20:03.893693Z",
     "iopub.status.idle": "2022-05-20T12:20:03.952482Z",
     "shell.execute_reply": "2022-05-20T12:20:03.951315Z"
    },
    "papermill": {
     "duration": 0.129343,
     "end_time": "2022-05-20T12:20:03.954923",
     "exception": false,
     "start_time": "2022-05-20T12:20:03.825580",
     "status": "completed"
    },
    "tags": []
   },
   "outputs": [],
   "source": [
    "Output_Directory = os.path.join(DATA_DIR,'OutputDirectory')\n",
    "if not os.path.isdir(Output_Directory): #this allows us to run the cell several times\n",
    "    os.mkdir(Output_Directory)\n",
    "    unpack_archive(emotionsImagesZipPath, Output_Directory)"
   ]
  },
  {
   "cell_type": "markdown",
   "id": "b44ed5a8",
   "metadata": {
    "papermill": {
     "duration": 0.066246,
     "end_time": "2022-05-20T12:20:04.087504",
     "exception": false,
     "start_time": "2022-05-20T12:20:04.021258",
     "status": "completed"
    },
    "tags": []
   },
   "source": [
    "### Step 3: Check the file path\n",
    "\n",
    "Now that we extracted the data, we now need to make sure that we know where our data is, and check up on it before proceeding to the next level.\n",
    "\n",
    "Check the output of the next command and see what it is doing."
   ]
  },
  {
   "cell_type": "code",
   "execution_count": 4,
   "id": "bf626fb5",
   "metadata": {
    "execution": {
     "iopub.execute_input": "2022-05-20T12:20:04.222060Z",
     "iopub.status.busy": "2022-05-20T12:20:04.221735Z",
     "iopub.status.idle": "2022-05-20T12:20:04.227900Z",
     "shell.execute_reply": "2022-05-20T12:20:04.227332Z"
    },
    "papermill": {
     "duration": 0.076114,
     "end_time": "2022-05-20T12:20:04.229716",
     "exception": false,
     "start_time": "2022-05-20T12:20:04.153602",
     "status": "completed"
    },
    "tags": []
   },
   "outputs": [
    {
     "data": {
      "text/plain": [
       "['Emotions_Images_Sample']"
      ]
     },
     "execution_count": 4,
     "metadata": {},
     "output_type": "execute_result"
    }
   ],
   "source": [
    "os.listdir(Output_Directory)"
   ]
  },
  {
   "cell_type": "code",
   "execution_count": 5,
   "id": "df1d5647",
   "metadata": {
    "execution": {
     "iopub.execute_input": "2022-05-20T12:20:04.366200Z",
     "iopub.status.busy": "2022-05-20T12:20:04.365396Z",
     "iopub.status.idle": "2022-05-20T12:20:04.371749Z",
     "shell.execute_reply": "2022-05-20T12:20:04.371108Z"
    },
    "papermill": {
     "duration": 0.077461,
     "end_time": "2022-05-20T12:20:04.373784",
     "exception": false,
     "start_time": "2022-05-20T12:20:04.296323",
     "status": "completed"
    },
    "tags": []
   },
   "outputs": [
    {
     "name": "stdout",
     "output_type": "stream",
     "text": [
      "['Disgust', 'Surprise', 'Happy', 'Angry', 'Neutral', 'Sad', 'Fear']\n"
     ]
    }
   ],
   "source": [
    "EMOTIONS_IMAGES_DIR = os.path.join(Output_Directory,'Emotions_Images_Sample')\n",
    "labels = os.listdir(EMOTIONS_IMAGES_DIR)\n",
    "print(labels)"
   ]
  },
  {
   "cell_type": "markdown",
   "id": "d8f9ad3b",
   "metadata": {
    "papermill": {
     "duration": 0.068384,
     "end_time": "2022-05-20T12:20:04.509384",
     "exception": false,
     "start_time": "2022-05-20T12:20:04.441000",
     "status": "completed"
    },
    "tags": []
   },
   "source": [
    "Here, we see a list of labels as directory names. Let's remind the different ways to connect the pictures and their metadata such as labels.\n",
    "\n",
    "## 1.3 Ways of storing the data and metadata\n",
    "\n",
    "Many computer vision data sets are organized in three ways.\n",
    "\n",
    "<dt>File trees</dt>\n",
    "<df>The picture files are grouped by meaningfull directories. We may find their label and other information about them with the directory they belong to. Finding them is done by exploring what is called a ***file tree***</df>\n",
    "\n",
    "<dt>Metadata</dt>\n",
    "<df>The picture files are not well separated in the file tree, or might even be stored on different repositories on the web. To retrieve them and the corresponding labels, we have a Metadata file (can be a JSON or CSV file) containing the file list, file paths and other information like the labels</df>\n",
    "\n",
    "<dt>File names</dt>\n",
    "<df>As we saw in the PETS dataset, where cats were lowercases and dogs were uppercases file names, some pictures of some datasets contain their label inside the filename itself</df>"
   ]
  },
  {
   "cell_type": "markdown",
   "id": "43ab5c7b",
   "metadata": {
    "papermill": {
     "duration": 0.067132,
     "end_time": "2022-05-20T12:20:04.646628",
     "exception": false,
     "start_time": "2022-05-20T12:20:04.579496",
     "status": "completed"
    },
    "tags": []
   },
   "source": [
    "## 1.4 Class analysis from file tree\n",
    "Here, the labels are conveniently stored as directory names, so they are easy to extract."
   ]
  },
  {
   "cell_type": "code",
   "execution_count": 6,
   "id": "c04f59f7",
   "metadata": {
    "execution": {
     "iopub.execute_input": "2022-05-20T12:20:04.783103Z",
     "iopub.status.busy": "2022-05-20T12:20:04.782489Z",
     "iopub.status.idle": "2022-05-20T12:20:04.786706Z",
     "shell.execute_reply": "2022-05-20T12:20:04.786067Z"
    },
    "papermill": {
     "duration": 0.075943,
     "end_time": "2022-05-20T12:20:04.789712",
     "exception": false,
     "start_time": "2022-05-20T12:20:04.713769",
     "status": "completed"
    },
    "tags": []
   },
   "outputs": [
    {
     "name": "stdout",
     "output_type": "stream",
     "text": [
      "total number of labels: 7\n"
     ]
    }
   ],
   "source": [
    "print(f'total number of labels: {len(labels)}')"
   ]
  },
  {
   "cell_type": "code",
   "execution_count": 7,
   "id": "0b03e6ca",
   "metadata": {
    "execution": {
     "iopub.execute_input": "2022-05-20T12:20:04.931066Z",
     "iopub.status.busy": "2022-05-20T12:20:04.930473Z",
     "iopub.status.idle": "2022-05-20T12:20:04.939909Z",
     "shell.execute_reply": "2022-05-20T12:20:04.939048Z"
    },
    "papermill": {
     "duration": 0.082167,
     "end_time": "2022-05-20T12:20:04.942135",
     "exception": false,
     "start_time": "2022-05-20T12:20:04.859968",
     "status": "completed"
    },
    "tags": []
   },
   "outputs": [
    {
     "name": "stdout",
     "output_type": "stream",
     "text": [
      "Class: (Disgust) contains 51 instances\n",
      "Class: (Surprise) contains 101 instances\n",
      "Class: (Happy) contains 51 instances\n",
      "Class: (Angry) contains 51 instances\n",
      "Class: (Neutral) contains 51 instances\n",
      "Class: (Sad) contains 51 instances\n",
      "Class: (Fear) contains 51 instances\n"
     ]
    }
   ],
   "source": [
    "instancesPerClassDict = {}\n",
    "\n",
    "filepathDictionary = {}\n",
    "\n",
    "for label in os.listdir(EMOTIONS_IMAGES_DIR):\n",
    "    \n",
    "    # This gives us a label for each bit of code\n",
    "    imagesDirectory = os.path.join(EMOTIONS_IMAGES_DIR,label)\n",
    "    \n",
    "    # This code gives a list of all the images in the directory\n",
    "    \n",
    "    images = os.listdir(imagesDirectory)\n",
    "    for fileName in images:\n",
    "        \n",
    "        imagePath = os.path.join(imagesDirectory,fileName) # makes a longer path\n",
    "        # use imagePath to do something\n",
    "            \n",
    "    instancesPerClassDict[label] = len(images)\n",
    "    \n",
    "for key, value in instancesPerClassDict.items():\n",
    "    print(f'Class: ({key}) contains {value} instances')\n"
   ]
  },
  {
   "cell_type": "markdown",
   "id": "41bf7224",
   "metadata": {
    "papermill": {
     "duration": 0.067668,
     "end_time": "2022-05-20T12:20:05.077967",
     "exception": false,
     "start_time": "2022-05-20T12:20:05.010299",
     "status": "completed"
    },
    "tags": []
   },
   "source": [
    "Now, we have our data in a format that it can be put into a fastAI model to give us more information."
   ]
  },
  {
   "cell_type": "markdown",
   "id": "f4b42fa9",
   "metadata": {
    "papermill": {
     "duration": 0.067336,
     "end_time": "2022-05-20T12:20:05.213081",
     "exception": false,
     "start_time": "2022-05-20T12:20:05.145745",
     "status": "completed"
    },
    "tags": []
   },
   "source": [
    "## 1.5 Class analysis from Metadata File"
   ]
  },
  {
   "cell_type": "markdown",
   "id": "52dcbffd",
   "metadata": {
    "papermill": {
     "duration": 0.067936,
     "end_time": "2022-05-20T12:20:05.348764",
     "exception": false,
     "start_time": "2022-05-20T12:20:05.280828",
     "status": "completed"
    },
    "tags": []
   },
   "source": [
    "In some cases, the files may be located on a cloud server, or put together into one large directory. This means that the information is not organized with a file tree, but rather in metadata.\n",
    "\n",
    "This metadata can come as a CSV or a JSON File."
   ]
  },
  {
   "cell_type": "markdown",
   "id": "be1b53a4",
   "metadata": {
    "papermill": {
     "duration": 0.067156,
     "end_time": "2022-05-20T12:20:05.483724",
     "exception": false,
     "start_time": "2022-05-20T12:20:05.416568",
     "status": "completed"
    },
    "tags": []
   },
   "source": [
    "Here, we work with the google landmarks image dataset, it contains lots of information on different photos that users have uploaded along with different kinds of metadata.\n",
    "\n",
    "However, the  dataset is quite large, so it makes more sense to have an individual metadata files. It can allows us to donwload only the pictures we want.\n",
    "\n",
    "These metadata files contain both the labels and the file paths that we need.\n",
    "\n",
    "***Identifying the x and the y***\n",
    "The features (x) in this case are the images ; labels (y) in this case are the landmark IDs."
   ]
  },
  {
   "cell_type": "code",
   "execution_count": 8,
   "id": "c1b7cb2a",
   "metadata": {
    "execution": {
     "iopub.execute_input": "2022-05-20T12:20:05.621510Z",
     "iopub.status.busy": "2022-05-20T12:20:05.621035Z",
     "iopub.status.idle": "2022-05-20T12:20:05.626733Z",
     "shell.execute_reply": "2022-05-20T12:20:05.625883Z"
    },
    "papermill": {
     "duration": 0.077119,
     "end_time": "2022-05-20T12:20:05.628580",
     "exception": false,
     "start_time": "2022-05-20T12:20:05.551461",
     "status": "completed"
    },
    "tags": []
   },
   "outputs": [
    {
     "data": {
      "text/plain": [
       "True"
      ]
     },
     "execution_count": 8,
     "metadata": {},
     "output_type": "execute_result"
    }
   ],
   "source": [
    "googleLandmarksPath = os.path.join(DATA_DIR,'CV','landmarks')\n",
    "os.path.isdir(googleLandmarksPath)"
   ]
  },
  {
   "cell_type": "code",
   "execution_count": 9,
   "id": "0f5b7716",
   "metadata": {
    "execution": {
     "iopub.execute_input": "2022-05-20T12:20:05.767618Z",
     "iopub.status.busy": "2022-05-20T12:20:05.767138Z",
     "iopub.status.idle": "2022-05-20T12:20:05.838841Z",
     "shell.execute_reply": "2022-05-20T12:20:05.838147Z"
    },
    "papermill": {
     "duration": 0.143486,
     "end_time": "2022-05-20T12:20:05.841337",
     "exception": false,
     "start_time": "2022-05-20T12:20:05.697851",
     "status": "completed"
    },
    "tags": []
   },
   "outputs": [
    {
     "name": "stdout",
     "output_type": "stream",
     "text": [
      "landmarksample.csv\n",
      "landmarksample = pd.read_csv('/kaggle/working/DL201/data/CV/landmarks/landmarksample.csv')\n",
      "boxes_split1.csv\n",
      "boxes_split1 = pd.read_csv('/kaggle/working/DL201/data/CV/landmarks/boxes_split1.csv')\n",
      "train.csv\n",
      "train = pd.read_csv('/kaggle/working/DL201/data/CV/landmarks/train.csv')\n",
      "retrieval_solution.csv\n",
      "retrieval_solution = pd.read_csv('/kaggle/working/DL201/data/CV/landmarks/retrieval_solution.csv')\n",
      "index.csv\n",
      "index = pd.read_csv('/kaggle/working/DL201/data/CV/landmarks/index.csv')\n",
      "recognition_solution.csv\n",
      "recognition_solution = pd.read_csv('/kaggle/working/DL201/data/CV/landmarks/recognition_solution.csv')\n",
      "boxes_split2.csv\n",
      "boxes_split2 = pd.read_csv('/kaggle/working/DL201/data/CV/landmarks/boxes_split2.csv')\n",
      "test.csv\n",
      "test = pd.read_csv('/kaggle/working/DL201/data/CV/landmarks/test.csv')\n"
     ]
    }
   ],
   "source": [
    "# This snippet can be useful for handling many csv files\n",
    "# This code does not work on Windows environment\n",
    "\n",
    "for dirname, _, filenames in os.walk(googleLandmarksPath):\n",
    "    for filename in filenames:  # loops through all the files in the directories\n",
    "        print(filename) # Gives a file name, without the complete file path\n",
    "        filepath = os.path.join(dirname,filename) # Completes the file path\n",
    "        filename = filename.split('.')[0] # Removes the file extension for naming\n",
    "        if os.path.isfile(filepath):\n",
    "            ExecString = f\"{filename} = pd.read_csv('{filepath}')\"\n",
    "            print(ExecString)\n",
    "            exec(ExecString)\n",
    "        else:\n",
    "            print(f'there is a problem with {filepath}')"
   ]
  },
  {
   "cell_type": "markdown",
   "id": "a0f85ef4",
   "metadata": {
    "papermill": {
     "duration": 0.070671,
     "end_time": "2022-05-20T12:20:05.982404",
     "exception": false,
     "start_time": "2022-05-20T12:20:05.911733",
     "status": "completed"
    },
    "tags": []
   },
   "source": [
    "Now that we loaded all the metadata files. We will look at their name to know what they represent, and check their shape to know rapidly the number of features and sample they describe. If the name of the file is not clear enough, we can sometimes get some information by observing the relationships between the shapes of two files."
   ]
  },
  {
   "cell_type": "code",
   "execution_count": 10,
   "id": "c4939cf7",
   "metadata": {
    "execution": {
     "iopub.execute_input": "2022-05-20T12:20:06.123104Z",
     "iopub.status.busy": "2022-05-20T12:20:06.122793Z",
     "iopub.status.idle": "2022-05-20T12:20:06.141341Z",
     "shell.execute_reply": "2022-05-20T12:20:06.140607Z"
    },
    "papermill": {
     "duration": 0.09102,
     "end_time": "2022-05-20T12:20:06.143393",
     "exception": false,
     "start_time": "2022-05-20T12:20:06.052373",
     "status": "completed"
    },
    "tags": []
   },
   "outputs": [
    {
     "name": "stdout",
     "output_type": "stream",
     "text": [
      "(2000, 4)\n"
     ]
    },
    {
     "data": {
      "text/html": [
       "<div>\n",
       "<style scoped>\n",
       "    .dataframe tbody tr th:only-of-type {\n",
       "        vertical-align: middle;\n",
       "    }\n",
       "\n",
       "    .dataframe tbody tr th {\n",
       "        vertical-align: top;\n",
       "    }\n",
       "\n",
       "    .dataframe thead th {\n",
       "        text-align: right;\n",
       "    }\n",
       "</style>\n",
       "<table border=\"1\" class=\"dataframe\">\n",
       "  <thead>\n",
       "    <tr style=\"text-align: right;\">\n",
       "      <th></th>\n",
       "      <th>Unnamed: 0</th>\n",
       "      <th>id</th>\n",
       "      <th>url</th>\n",
       "      <th>landmark_id</th>\n",
       "    </tr>\n",
       "  </thead>\n",
       "  <tbody>\n",
       "    <tr>\n",
       "      <th>0</th>\n",
       "      <td>1221181</td>\n",
       "      <td>638a7921e893de63</td>\n",
       "      <td>http://lh6.ggpht.com/-okvU3kjsKWQ/TjnHZCjgLdI/...</td>\n",
       "      <td>3918</td>\n",
       "    </tr>\n",
       "    <tr>\n",
       "      <th>1</th>\n",
       "      <td>393869</td>\n",
       "      <td>ec108f2c67d28082</td>\n",
       "      <td>https://lh4.googleusercontent.com/-ghGLWnz_5Nw...</td>\n",
       "      <td>4786</td>\n",
       "    </tr>\n",
       "    <tr>\n",
       "      <th>2</th>\n",
       "      <td>833769</td>\n",
       "      <td>8b8d9329e3fccd0a</td>\n",
       "      <td>https://lh4.googleusercontent.com/-49VHsrW3voo...</td>\n",
       "      <td>6090</td>\n",
       "    </tr>\n",
       "    <tr>\n",
       "      <th>3</th>\n",
       "      <td>400348</td>\n",
       "      <td>cf6b02c51de2f6a1</td>\n",
       "      <td>http://lh6.ggpht.com/-6Afsd7_E_ck/RsSKkV5EnnI/...</td>\n",
       "      <td>6051</td>\n",
       "    </tr>\n",
       "    <tr>\n",
       "      <th>4</th>\n",
       "      <td>749128</td>\n",
       "      <td>c798f1620d54d8c1</td>\n",
       "      <td>None</td>\n",
       "      <td>None</td>\n",
       "    </tr>\n",
       "  </tbody>\n",
       "</table>\n",
       "</div>"
      ],
      "text/plain": [
       "   Unnamed: 0                id  \\\n",
       "0     1221181  638a7921e893de63   \n",
       "1      393869  ec108f2c67d28082   \n",
       "2      833769  8b8d9329e3fccd0a   \n",
       "3      400348  cf6b02c51de2f6a1   \n",
       "4      749128  c798f1620d54d8c1   \n",
       "\n",
       "                                                 url landmark_id  \n",
       "0  http://lh6.ggpht.com/-okvU3kjsKWQ/TjnHZCjgLdI/...        3918  \n",
       "1  https://lh4.googleusercontent.com/-ghGLWnz_5Nw...        4786  \n",
       "2  https://lh4.googleusercontent.com/-49VHsrW3voo...        6090  \n",
       "3  http://lh6.ggpht.com/-6Afsd7_E_ck/RsSKkV5EnnI/...        6051  \n",
       "4                                               None        None  "
      ]
     },
     "execution_count": 10,
     "metadata": {},
     "output_type": "execute_result"
    }
   ],
   "source": [
    "# Train\n",
    "print(train.shape)\n",
    "train.head()"
   ]
  },
  {
   "cell_type": "code",
   "execution_count": 11,
   "id": "e2618aab",
   "metadata": {
    "execution": {
     "iopub.execute_input": "2022-05-20T12:20:06.284804Z",
     "iopub.status.busy": "2022-05-20T12:20:06.284266Z",
     "iopub.status.idle": "2022-05-20T12:20:06.301486Z",
     "shell.execute_reply": "2022-05-20T12:20:06.300645Z"
    },
    "papermill": {
     "duration": 0.090066,
     "end_time": "2022-05-20T12:20:06.303581",
     "exception": false,
     "start_time": "2022-05-20T12:20:06.213515",
     "status": "completed"
    },
    "tags": []
   },
   "outputs": [
    {
     "name": "stdout",
     "output_type": "stream",
     "text": [
      "(2000, 3)\n"
     ]
    },
    {
     "data": {
      "text/html": [
       "<div>\n",
       "<style scoped>\n",
       "    .dataframe tbody tr th:only-of-type {\n",
       "        vertical-align: middle;\n",
       "    }\n",
       "\n",
       "    .dataframe tbody tr th {\n",
       "        vertical-align: top;\n",
       "    }\n",
       "\n",
       "    .dataframe thead th {\n",
       "        text-align: right;\n",
       "    }\n",
       "</style>\n",
       "<table border=\"1\" class=\"dataframe\">\n",
       "  <thead>\n",
       "    <tr style=\"text-align: right;\">\n",
       "      <th></th>\n",
       "      <th>id</th>\n",
       "      <th>url</th>\n",
       "      <th>landmark_id</th>\n",
       "    </tr>\n",
       "  </thead>\n",
       "  <tbody>\n",
       "    <tr>\n",
       "      <th>0</th>\n",
       "      <td>638a7921e893de63</td>\n",
       "      <td>http://lh6.ggpht.com/-okvU3kjsKWQ/TjnHZCjgLdI/...</td>\n",
       "      <td>3918</td>\n",
       "    </tr>\n",
       "    <tr>\n",
       "      <th>1</th>\n",
       "      <td>ec108f2c67d28082</td>\n",
       "      <td>https://lh4.googleusercontent.com/-ghGLWnz_5Nw...</td>\n",
       "      <td>4786</td>\n",
       "    </tr>\n",
       "    <tr>\n",
       "      <th>2</th>\n",
       "      <td>8b8d9329e3fccd0a</td>\n",
       "      <td>https://lh4.googleusercontent.com/-49VHsrW3voo...</td>\n",
       "      <td>6090</td>\n",
       "    </tr>\n",
       "    <tr>\n",
       "      <th>3</th>\n",
       "      <td>cf6b02c51de2f6a1</td>\n",
       "      <td>http://lh6.ggpht.com/-6Afsd7_E_ck/RsSKkV5EnnI/...</td>\n",
       "      <td>6051</td>\n",
       "    </tr>\n",
       "    <tr>\n",
       "      <th>4</th>\n",
       "      <td>c798f1620d54d8c1</td>\n",
       "      <td>None</td>\n",
       "      <td>None</td>\n",
       "    </tr>\n",
       "  </tbody>\n",
       "</table>\n",
       "</div>"
      ],
      "text/plain": [
       "                 id                                                url  \\\n",
       "0  638a7921e893de63  http://lh6.ggpht.com/-okvU3kjsKWQ/TjnHZCjgLdI/...   \n",
       "1  ec108f2c67d28082  https://lh4.googleusercontent.com/-ghGLWnz_5Nw...   \n",
       "2  8b8d9329e3fccd0a  https://lh4.googleusercontent.com/-49VHsrW3voo...   \n",
       "3  cf6b02c51de2f6a1  http://lh6.ggpht.com/-6Afsd7_E_ck/RsSKkV5EnnI/...   \n",
       "4  c798f1620d54d8c1                                               None   \n",
       "\n",
       "  landmark_id  \n",
       "0        3918  \n",
       "1        4786  \n",
       "2        6090  \n",
       "3        6051  \n",
       "4        None  "
      ]
     },
     "execution_count": 11,
     "metadata": {},
     "output_type": "execute_result"
    }
   ],
   "source": [
    "train.drop(['Unnamed: 0'],axis=1,inplace=True)\n",
    "print(train.shape)\n",
    "train.head()"
   ]
  },
  {
   "cell_type": "markdown",
   "id": "e20b350a",
   "metadata": {
    "papermill": {
     "duration": 0.070141,
     "end_time": "2022-05-20T12:20:06.446757",
     "exception": false,
     "start_time": "2022-05-20T12:20:06.376616",
     "status": "completed"
    },
    "tags": []
   },
   "source": [
    "In this dataset, the label is the landmark ID\n",
    "\n",
    "The file location is a little more tricky because it is stored on google's servers, and needs to be downloaded. "
   ]
  },
  {
   "cell_type": "code",
   "execution_count": 12,
   "id": "66ea7e82",
   "metadata": {
    "execution": {
     "iopub.execute_input": "2022-05-20T12:20:06.590837Z",
     "iopub.status.busy": "2022-05-20T12:20:06.590344Z",
     "iopub.status.idle": "2022-05-20T12:20:06.596226Z",
     "shell.execute_reply": "2022-05-20T12:20:06.595568Z"
    },
    "papermill": {
     "duration": 0.07976,
     "end_time": "2022-05-20T12:20:06.598381",
     "exception": false,
     "start_time": "2022-05-20T12:20:06.518621",
     "status": "completed"
    },
    "tags": []
   },
   "outputs": [],
   "source": [
    "landmarkLabels = train['landmark_id']\n",
    "landmarkURLs = train['url']"
   ]
  },
  {
   "cell_type": "markdown",
   "id": "c3933960",
   "metadata": {
    "papermill": {
     "duration": 0.070603,
     "end_time": "2022-05-20T12:20:06.739823",
     "exception": false,
     "start_time": "2022-05-20T12:20:06.669220",
     "status": "completed"
    },
    "tags": []
   },
   "source": [
    "Although these are different, the principles remain the same as before : we need to know what the image is, and where the image is stored. The label and the file path/url will hold this information.\n",
    "\n",
    "You can check another example here : https://www.kaggle.com/piyushrg/computer-vision-av-fastai/notebook"
   ]
  },
  {
   "cell_type": "markdown",
   "id": "b21f398a",
   "metadata": {
    "papermill": {
     "duration": 0.070306,
     "end_time": "2022-05-20T12:20:06.880789",
     "exception": false,
     "start_time": "2022-05-20T12:20:06.810483",
     "status": "completed"
    },
    "tags": []
   },
   "source": [
    "## Part 2 : Loading the data into the dataloader\n",
    "<hr style=\"border:4px solid gray\"> </hr>\n"
   ]
  },
  {
   "cell_type": "markdown",
   "id": "b221213e",
   "metadata": {
    "papermill": {
     "duration": 0.070125,
     "end_time": "2022-05-20T12:20:07.021554",
     "exception": false,
     "start_time": "2022-05-20T12:20:06.951429",
     "status": "completed"
    },
    "tags": []
   },
   "source": [
    "In order to leverage a fastAI model, the two key pieces of information that we will need to fit the data into the model are the ***labels***, and how the images are stored. \n",
    "\n",
    "Once we can do that, we can go ahead and train a ***preliminary model*** to get quantified information on how to build the final model."
   ]
  },
  {
   "cell_type": "code",
   "execution_count": 13,
   "id": "8903a937",
   "metadata": {
    "execution": {
     "iopub.execute_input": "2022-05-20T12:20:07.164353Z",
     "iopub.status.busy": "2022-05-20T12:20:07.163820Z",
     "iopub.status.idle": "2022-05-20T12:20:33.864914Z",
     "shell.execute_reply": "2022-05-20T12:20:33.863886Z"
    },
    "papermill": {
     "duration": 26.776143,
     "end_time": "2022-05-20T12:20:33.868274",
     "exception": false,
     "start_time": "2022-05-20T12:20:07.092131",
     "status": "completed"
    },
    "tags": []
   },
   "outputs": [
    {
     "name": "stdout",
     "output_type": "stream",
     "text": [
      "\u001b[31mERROR: pip's dependency resolver does not currently take into account all the packages that are installed. This behaviour is the source of the following dependency conflicts.\r\n",
      "tensorflow-io 0.21.0 requires tensorflow-io-gcs-filesystem==0.21.0, which is not installed.\r\n",
      "tensorflow 2.6.3 requires absl-py~=0.10, but you have absl-py 1.0.0 which is incompatible.\r\n",
      "tensorflow 2.6.3 requires numpy~=1.19.2, but you have numpy 1.21.6 which is incompatible.\r\n",
      "tensorflow 2.6.3 requires six~=1.15.0, but you have six 1.16.0 which is incompatible.\r\n",
      "tensorflow 2.6.3 requires wrapt~=1.12.1, but you have wrapt 1.14.0 which is incompatible.\r\n",
      "tensorflow-transform 1.7.0 requires pyarrow<6,>=1, but you have pyarrow 7.0.0 which is incompatible.\r\n",
      "tensorflow-transform 1.7.0 requires tensorflow!=2.0.*,!=2.1.*,!=2.2.*,!=2.3.*,!=2.4.*,!=2.5.*,!=2.6.*,!=2.7.*,<2.9,>=1.15.5, but you have tensorflow 2.6.3 which is incompatible.\r\n",
      "tensorflow-serving-api 2.8.0 requires tensorflow<3,>=2.8.0, but you have tensorflow 2.6.3 which is incompatible.\r\n",
      "rich 12.4.1 requires typing-extensions<5.0,>=4.0.0; python_version < \"3.9\", but you have typing-extensions 3.10.0.2 which is incompatible.\r\n",
      "pytorch-lightning 1.6.3 requires typing-extensions>=4.0.0, but you have typing-extensions 3.10.0.2 which is incompatible.\r\n",
      "flax 0.4.2 requires typing-extensions>=4.1.1, but you have typing-extensions 3.10.0.2 which is incompatible.\r\n",
      "flake8 4.0.1 requires importlib-metadata<4.3; python_version < \"3.8\", but you have importlib-metadata 4.11.3 which is incompatible.\r\n",
      "apache-beam 2.37.0 requires dill<0.3.2,>=0.3.1.1, but you have dill 0.3.4 which is incompatible.\r\n",
      "apache-beam 2.37.0 requires httplib2<0.20.0,>=0.8, but you have httplib2 0.20.4 which is incompatible.\r\n",
      "apache-beam 2.37.0 requires pyarrow<7.0.0,>=0.15.1, but you have pyarrow 7.0.0 which is incompatible.\r\n",
      "aioitertools 0.10.0 requires typing_extensions>=4.0; python_version < \"3.10\", but you have typing-extensions 3.10.0.2 which is incompatible.\r\n",
      "aiobotocore 2.2.0 requires botocore<1.24.22,>=1.24.21, but you have botocore 1.25.12 which is incompatible.\u001b[0m\u001b[31m\r\n",
      "\u001b[0m"
     ]
    }
   ],
   "source": [
    "# Imports, this cell must be run twice because there are dependencies problems with the preloaded libraries of Kaggle\n",
    "!pip install -Uqq fastbook[full]\n",
    "\n",
    "from fastbook import *\n",
    "from fastai.vision.widgets import *\n",
    "setup_book()"
   ]
  },
  {
   "cell_type": "markdown",
   "id": "c496af97",
   "metadata": {
    "papermill": {
     "duration": 0.073223,
     "end_time": "2022-05-20T12:20:34.014613",
     "exception": false,
     "start_time": "2022-05-20T12:20:33.941390",
     "status": "completed"
    },
    "tags": []
   },
   "source": [
    "### Loading the Data into FastAI Dataloader\n",
    "\n",
    "Once we have the paths of each image, we can use a dataloader to preprocess and transform the data automatically for us using FastAI"
   ]
  },
  {
   "cell_type": "code",
   "execution_count": 14,
   "id": "ec1f0bdc",
   "metadata": {
    "execution": {
     "iopub.execute_input": "2022-05-20T12:20:34.160095Z",
     "iopub.status.busy": "2022-05-20T12:20:34.159744Z",
     "iopub.status.idle": "2022-05-20T12:20:34.165052Z",
     "shell.execute_reply": "2022-05-20T12:20:34.164370Z"
    },
    "papermill": {
     "duration": 0.080994,
     "end_time": "2022-05-20T12:20:34.166846",
     "exception": false,
     "start_time": "2022-05-20T12:20:34.085852",
     "status": "completed"
    },
    "tags": []
   },
   "outputs": [],
   "source": [
    "class DataLoaders(GetAttr):\n",
    "  def __init__(self, *loaders): self.loaders = loaders\n",
    "  def __getitem__(self, i): return self.loaders[i]\n",
    "  train,valid = add_props(lambda i, self: self[i])"
   ]
  },
  {
   "cell_type": "code",
   "execution_count": 15,
   "id": "34ef83df",
   "metadata": {
    "execution": {
     "iopub.execute_input": "2022-05-20T12:20:34.311863Z",
     "iopub.status.busy": "2022-05-20T12:20:34.311375Z",
     "iopub.status.idle": "2022-05-20T12:20:34.317120Z",
     "shell.execute_reply": "2022-05-20T12:20:34.316509Z"
    },
    "papermill": {
     "duration": 0.080958,
     "end_time": "2022-05-20T12:20:34.319206",
     "exception": false,
     "start_time": "2022-05-20T12:20:34.238248",
     "status": "completed"
    },
    "tags": []
   },
   "outputs": [],
   "source": [
    "emotions = DataBlock(\n",
    "    blocks=(ImageBlock, CategoryBlock),\n",
    "    get_items=get_image_files,\n",
    "    splitter=RandomSplitter(valid_pct=0.2, seed=99),\n",
    "    get_y=parent_label,\n",
    "    item_tfms=Resize(225,225)\n",
    "    )"
   ]
  },
  {
   "cell_type": "code",
   "execution_count": 16,
   "id": "8b87be43",
   "metadata": {
    "execution": {
     "iopub.execute_input": "2022-05-20T12:20:34.465746Z",
     "iopub.status.busy": "2022-05-20T12:20:34.465250Z",
     "iopub.status.idle": "2022-05-20T12:20:34.470823Z",
     "shell.execute_reply": "2022-05-20T12:20:34.470228Z"
    },
    "papermill": {
     "duration": 0.079886,
     "end_time": "2022-05-20T12:20:34.472707",
     "exception": false,
     "start_time": "2022-05-20T12:20:34.392821",
     "status": "completed"
    },
    "tags": []
   },
   "outputs": [],
   "source": [
    "emotions = emotions.new(\n",
    "    item_tfms=RandomResizedCrop(28, min_scale=0.5),\n",
    "    batch_tfms=aug_transforms()\n",
    ")"
   ]
  },
  {
   "cell_type": "code",
   "execution_count": 17,
   "id": "7d30efdf",
   "metadata": {
    "execution": {
     "iopub.execute_input": "2022-05-20T12:20:34.639876Z",
     "iopub.status.busy": "2022-05-20T12:20:34.639450Z",
     "iopub.status.idle": "2022-05-20T12:20:34.775484Z",
     "shell.execute_reply": "2022-05-20T12:20:34.774391Z"
    },
    "papermill": {
     "duration": 0.227722,
     "end_time": "2022-05-20T12:20:34.777924",
     "exception": false,
     "start_time": "2022-05-20T12:20:34.550202",
     "status": "completed"
    },
    "tags": []
   },
   "outputs": [],
   "source": [
    "dls = emotions.dataloaders(EMOTIONS_IMAGES_DIR)"
   ]
  },
  {
   "cell_type": "code",
   "execution_count": 18,
   "id": "48b8b75f",
   "metadata": {
    "execution": {
     "iopub.execute_input": "2022-05-20T12:20:34.924098Z",
     "iopub.status.busy": "2022-05-20T12:20:34.923596Z",
     "iopub.status.idle": "2022-05-20T12:20:35.699957Z",
     "shell.execute_reply": "2022-05-20T12:20:35.699348Z"
    },
    "papermill": {
     "duration": 0.851652,
     "end_time": "2022-05-20T12:20:35.702202",
     "exception": false,
     "start_time": "2022-05-20T12:20:34.850550",
     "status": "completed"
    },
    "tags": []
   },
   "outputs": [
    {
     "data": {
      "image/png": "[encoded data removed]",
      "text/plain": [
       "<Figure size 864x864 with 16 Axes>"
      ]
     },
     "metadata": {
      "needs_background": "light"
     },
     "output_type": "display_data"
    }
   ],
   "source": [
    "dls.valid.show_batch(max_n=16, nrows=4)"
   ]
  },
  {
   "cell_type": "markdown",
   "id": "dc45e2b4",
   "metadata": {
    "papermill": {
     "duration": 0.073143,
     "end_time": "2022-05-20T12:20:35.849659",
     "exception": false,
     "start_time": "2022-05-20T12:20:35.776516",
     "status": "completed"
    },
    "tags": []
   },
   "source": [
    "# Part 2 : Training the Model"
   ]
  },
  {
   "cell_type": "code",
   "execution_count": 19,
   "id": "d90610e4",
   "metadata": {
    "execution": {
     "iopub.execute_input": "2022-05-20T12:20:35.998681Z",
     "iopub.status.busy": "2022-05-20T12:20:35.997718Z",
     "iopub.status.idle": "2022-05-20T12:20:42.268364Z",
     "shell.execute_reply": "2022-05-20T12:20:42.267548Z"
    },
    "papermill": {
     "duration": 6.347945,
     "end_time": "2022-05-20T12:20:42.270708",
     "exception": false,
     "start_time": "2022-05-20T12:20:35.922763",
     "status": "completed"
    },
    "tags": []
   },
   "outputs": [
    {
     "name": "stderr",
     "output_type": "stream",
     "text": [
      "/opt/conda/lib/python3.7/site-packages/fastai/vision/learner.py:265: UserWarning: `cnn_learner` has been renamed to `vision_learner` -- please update your code\n",
      "  warn(\"`cnn_learner` has been renamed to `vision_learner` -- please update your code\")\n",
      "Downloading: \"https://download.pytorch.org/models/resnet34-b627a593.pth\" to /root/.cache/torch/hub/checkpoints/resnet34-b627a593.pth\n"
     ]
    },
    {
     "data": {
      "application/vnd.jupyter.widget-view+json": {
       "model_id": "51193e87d0024df2b0f00aeff4ef5018",
       "version_major": 2,
       "version_minor": 0
      },
      "text/plain": [
       "  0%|          | 0.00/83.3M [00:00<?, ?B/s]"
      ]
     },
     "metadata": {},
     "output_type": "display_data"
    }
   ],
   "source": [
    "learn = cnn_learner(dls, resnet34, metrics=error_rate)"
   ]
  },
  {
   "cell_type": "code",
   "execution_count": 20,
   "id": "a988fa5a",
   "metadata": {
    "execution": {
     "iopub.execute_input": "2022-05-20T12:20:42.426616Z",
     "iopub.status.busy": "2022-05-20T12:20:42.426087Z",
     "iopub.status.idle": "2022-05-20T12:21:16.227035Z",
     "shell.execute_reply": "2022-05-20T12:21:16.226021Z"
    },
    "papermill": {
     "duration": 33.883149,
     "end_time": "2022-05-20T12:21:16.229500",
     "exception": false,
     "start_time": "2022-05-20T12:20:42.346351",
     "status": "completed"
    },
    "tags": []
   },
   "outputs": [
    {
     "data": {
      "text/html": [
       "\n",
       "<style>\n",
       "    /* Turns off some styling */\n",
       "    progress {\n",
       "        /* gets rid of default border in Firefox and Opera. */\n",
       "        border: none;\n",
       "        /* Needs to be in here for Safari polyfill so background images work as expected. */\n",
       "        background-size: auto;\n",
       "    }\n",
       "    .progress-bar-interrupted, .progress-bar-interrupted::-webkit-progress-bar {\n",
       "        background: #F44336;\n",
       "    }\n",
       "</style>\n"
      ],
      "text/plain": [
       "<IPython.core.display.HTML object>"
      ]
     },
     "metadata": {},
     "output_type": "display_data"
    },
    {
     "data": {
      "text/html": [
       "<table border=\"1\" class=\"dataframe\">\n",
       "  <thead>\n",
       "    <tr style=\"text-align: left;\">\n",
       "      <th>epoch</th>\n",
       "      <th>train_loss</th>\n",
       "      <th>valid_loss</th>\n",
       "      <th>error_rate</th>\n",
       "      <th>time</th>\n",
       "    </tr>\n",
       "  </thead>\n",
       "  <tbody>\n",
       "    <tr>\n",
       "      <td>0</td>\n",
       "      <td>3.372157</td>\n",
       "      <td>3.261595</td>\n",
       "      <td>0.876543</td>\n",
       "      <td>00:02</td>\n",
       "    </tr>\n",
       "  </tbody>\n",
       "</table>"
      ],
      "text/plain": [
       "<IPython.core.display.HTML object>"
      ]
     },
     "metadata": {},
     "output_type": "display_data"
    },
    {
     "data": {
      "text/html": [
       "\n",
       "<style>\n",
       "    /* Turns off some styling */\n",
       "    progress {\n",
       "        /* gets rid of default border in Firefox and Opera. */\n",
       "        border: none;\n",
       "        /* Needs to be in here for Safari polyfill so background images work as expected. */\n",
       "        background-size: auto;\n",
       "    }\n",
       "    .progress-bar-interrupted, .progress-bar-interrupted::-webkit-progress-bar {\n",
       "        background: #F44336;\n",
       "    }\n",
       "</style>\n"
      ],
      "text/plain": [
       "<IPython.core.display.HTML object>"
      ]
     },
     "metadata": {},
     "output_type": "display_data"
    },
    {
     "data": {
      "text/html": [
       "<table border=\"1\" class=\"dataframe\">\n",
       "  <thead>\n",
       "    <tr style=\"text-align: left;\">\n",
       "      <th>epoch</th>\n",
       "      <th>train_loss</th>\n",
       "      <th>valid_loss</th>\n",
       "      <th>error_rate</th>\n",
       "      <th>time</th>\n",
       "    </tr>\n",
       "  </thead>\n",
       "  <tbody>\n",
       "    <tr>\n",
       "      <td>0</td>\n",
       "      <td>3.154098</td>\n",
       "      <td>2.960824</td>\n",
       "      <td>0.901235</td>\n",
       "      <td>00:06</td>\n",
       "    </tr>\n",
       "    <tr>\n",
       "      <td>1</td>\n",
       "      <td>3.056150</td>\n",
       "      <td>2.598497</td>\n",
       "      <td>0.888889</td>\n",
       "      <td>00:06</td>\n",
       "    </tr>\n",
       "    <tr>\n",
       "      <td>2</td>\n",
       "      <td>3.010441</td>\n",
       "      <td>2.438319</td>\n",
       "      <td>0.827160</td>\n",
       "      <td>00:06</td>\n",
       "    </tr>\n",
       "    <tr>\n",
       "      <td>3</td>\n",
       "      <td>2.917172</td>\n",
       "      <td>2.373462</td>\n",
       "      <td>0.827160</td>\n",
       "      <td>00:06</td>\n",
       "    </tr>\n",
       "    <tr>\n",
       "      <td>4</td>\n",
       "      <td>2.923556</td>\n",
       "      <td>2.395353</td>\n",
       "      <td>0.802469</td>\n",
       "      <td>00:06</td>\n",
       "    </tr>\n",
       "  </tbody>\n",
       "</table>"
      ],
      "text/plain": [
       "<IPython.core.display.HTML object>"
      ]
     },
     "metadata": {},
     "output_type": "display_data"
    }
   ],
   "source": [
    "learn.fine_tune(5)"
   ]
  },
  {
   "cell_type": "markdown",
   "id": "df8dcfe5",
   "metadata": {
    "papermill": {
     "duration": 0.07666,
     "end_time": "2022-05-20T12:21:16.384286",
     "exception": false,
     "start_time": "2022-05-20T12:21:16.307626",
     "status": "completed"
    },
    "tags": []
   },
   "source": [
    "# Part 3: Interpreting the Results"
   ]
  },
  {
   "cell_type": "code",
   "execution_count": 21,
   "id": "2ee6c4d4",
   "metadata": {
    "execution": {
     "iopub.execute_input": "2022-05-20T12:21:16.541029Z",
     "iopub.status.busy": "2022-05-20T12:21:16.540729Z",
     "iopub.status.idle": "2022-05-20T12:21:17.108908Z",
     "shell.execute_reply": "2022-05-20T12:21:17.107915Z"
    },
    "papermill": {
     "duration": 0.649297,
     "end_time": "2022-05-20T12:21:17.111498",
     "exception": false,
     "start_time": "2022-05-20T12:21:16.462201",
     "status": "completed"
    },
    "tags": []
   },
   "outputs": [
    {
     "data": {
      "text/html": [
       "\n",
       "<style>\n",
       "    /* Turns off some styling */\n",
       "    progress {\n",
       "        /* gets rid of default border in Firefox and Opera. */\n",
       "        border: none;\n",
       "        /* Needs to be in here for Safari polyfill so background images work as expected. */\n",
       "        background-size: auto;\n",
       "    }\n",
       "    .progress-bar-interrupted, .progress-bar-interrupted::-webkit-progress-bar {\n",
       "        background: #F44336;\n",
       "    }\n",
       "</style>\n"
      ],
      "text/plain": [
       "<IPython.core.display.HTML object>"
      ]
     },
     "metadata": {},
     "output_type": "display_data"
    },
    {
     "data": {
      "text/html": [],
      "text/plain": [
       "<IPython.core.display.HTML object>"
      ]
     },
     "metadata": {},
     "output_type": "display_data"
    }
   ],
   "source": [
    "interp = ClassificationInterpretation.from_learner(learn)"
   ]
  },
  {
   "cell_type": "markdown",
   "id": "0ab7194a",
   "metadata": {
    "papermill": {
     "duration": 0.091319,
     "end_time": "2022-05-20T12:21:17.281500",
     "exception": false,
     "start_time": "2022-05-20T12:21:17.190181",
     "status": "completed"
    },
    "tags": []
   },
   "source": [
    "### What is the Accuracy of the Model?"
   ]
  },
  {
   "cell_type": "code",
   "execution_count": 22,
   "id": "d8f0fd97",
   "metadata": {
    "execution": {
     "iopub.execute_input": "2022-05-20T12:21:17.470683Z",
     "iopub.status.busy": "2022-05-20T12:21:17.470092Z",
     "iopub.status.idle": "2022-05-20T12:21:18.083964Z",
     "shell.execute_reply": "2022-05-20T12:21:18.082538Z"
    },
    "papermill": {
     "duration": 0.708315,
     "end_time": "2022-05-20T12:21:18.086529",
     "exception": false,
     "start_time": "2022-05-20T12:21:17.378214",
     "status": "completed"
    },
    "tags": []
   },
   "outputs": [
    {
     "data": {
      "text/html": [
       "\n",
       "<style>\n",
       "    /* Turns off some styling */\n",
       "    progress {\n",
       "        /* gets rid of default border in Firefox and Opera. */\n",
       "        border: none;\n",
       "        /* Needs to be in here for Safari polyfill so background images work as expected. */\n",
       "        background-size: auto;\n",
       "    }\n",
       "    .progress-bar-interrupted, .progress-bar-interrupted::-webkit-progress-bar {\n",
       "        background: #F44336;\n",
       "    }\n",
       "</style>\n"
      ],
      "text/plain": [
       "<IPython.core.display.HTML object>"
      ]
     },
     "metadata": {},
     "output_type": "display_data"
    },
    {
     "data": {
      "text/html": [],
      "text/plain": [
       "<IPython.core.display.HTML object>"
      ]
     },
     "metadata": {},
     "output_type": "display_data"
    },
    {
     "name": "stdout",
     "output_type": "stream",
     "text": [
      "              precision    recall  f1-score   support\n",
      "\n",
      "       Angry       0.18      0.25      0.21        12\n",
      "     Disgust       0.08      0.14      0.11         7\n",
      "        Fear       0.40      0.12      0.19        16\n",
      "       Happy       0.14      0.12      0.13         8\n",
      "     Neutral       0.10      0.11      0.11         9\n",
      "         Sad       0.08      0.33      0.12         3\n",
      "    Surprise       0.41      0.27      0.33        26\n",
      "\n",
      "    accuracy                           0.20        81\n",
      "   macro avg       0.20      0.19      0.17        81\n",
      "weighted avg       0.27      0.20      0.21        81\n",
      "\n"
     ]
    }
   ],
   "source": [
    "interp.print_classification_report()"
   ]
  },
  {
   "cell_type": "markdown",
   "id": "f2341e88",
   "metadata": {
    "papermill": {
     "duration": 0.081209,
     "end_time": "2022-05-20T12:21:18.248437",
     "exception": false,
     "start_time": "2022-05-20T12:21:18.167228",
     "status": "completed"
    },
    "tags": []
   },
   "source": [
    "### What Does the Confusion Matrix Look Like?"
   ]
  },
  {
   "cell_type": "markdown",
   "id": "0e1636bd",
   "metadata": {
    "papermill": {
     "duration": 0.079678,
     "end_time": "2022-05-20T12:21:18.408381",
     "exception": false,
     "start_time": "2022-05-20T12:21:18.328703",
     "status": "completed"
    },
    "tags": []
   },
   "source": [
    "interp.confusion"
   ]
  },
  {
   "cell_type": "code",
   "execution_count": 23,
   "id": "0f909e9e",
   "metadata": {
    "execution": {
     "iopub.execute_input": "2022-05-20T12:21:18.575206Z",
     "iopub.status.busy": "2022-05-20T12:21:18.574878Z",
     "iopub.status.idle": "2022-05-20T12:21:19.543205Z",
     "shell.execute_reply": "2022-05-20T12:21:19.542142Z"
    },
    "papermill": {
     "duration": 1.056291,
     "end_time": "2022-05-20T12:21:19.545510",
     "exception": false,
     "start_time": "2022-05-20T12:21:18.489219",
     "status": "completed"
    },
    "tags": []
   },
   "outputs": [
    {
     "data": {
      "text/html": [
       "\n",
       "<style>\n",
       "    /* Turns off some styling */\n",
       "    progress {\n",
       "        /* gets rid of default border in Firefox and Opera. */\n",
       "        border: none;\n",
       "        /* Needs to be in here for Safari polyfill so background images work as expected. */\n",
       "        background-size: auto;\n",
       "    }\n",
       "    .progress-bar-interrupted, .progress-bar-interrupted::-webkit-progress-bar {\n",
       "        background: #F44336;\n",
       "    }\n",
       "</style>\n"
      ],
      "text/plain": [
       "<IPython.core.display.HTML object>"
      ]
     },
     "metadata": {},
     "output_type": "display_data"
    },
    {
     "data": {
      "text/html": [],
      "text/plain": [
       "<IPython.core.display.HTML object>"
      ]
     },
     "metadata": {},
     "output_type": "display_data"
    },
    {
     "data": {
      "image/png": "[encoded data removed]",
      "text/plain": [
       "<Figure size 432x288 with 1 Axes>"
      ]
     },
     "metadata": {
      "needs_background": "light"
     },
     "output_type": "display_data"
    }
   ],
   "source": [
    "interp.plot_confusion_matrix()"
   ]
  },
  {
   "cell_type": "markdown",
   "id": "4cb2b96c",
   "metadata": {
    "papermill": {
     "duration": 0.082192,
     "end_time": "2022-05-20T12:21:19.709933",
     "exception": false,
     "start_time": "2022-05-20T12:21:19.627741",
     "status": "completed"
    },
    "tags": []
   },
   "source": [
    "### Do you see any clear patterns in the confusion matrix?"
   ]
  },
  {
   "cell_type": "markdown",
   "id": "2c4945d2",
   "metadata": {
    "papermill": {
     "duration": 0.082935,
     "end_time": "2022-05-20T12:21:19.874804",
     "exception": false,
     "start_time": "2022-05-20T12:21:19.791869",
     "status": "completed"
    },
    "tags": []
   },
   "source": [
    "* Can you think of reasons why it got confused?"
   ]
  },
  {
   "cell_type": "markdown",
   "id": "e6de6f8a",
   "metadata": {
    "papermill": {
     "duration": 0.081986,
     "end_time": "2022-05-20T12:21:20.039428",
     "exception": false,
     "start_time": "2022-05-20T12:21:19.957442",
     "status": "completed"
    },
    "tags": []
   },
   "source": [
    "### What are the Most Confused Images?"
   ]
  },
  {
   "cell_type": "markdown",
   "id": "779ff030",
   "metadata": {
    "papermill": {
     "duration": 0.083332,
     "end_time": "2022-05-20T12:21:20.212720",
     "exception": false,
     "start_time": "2022-05-20T12:21:20.129388",
     "status": "completed"
    },
    "tags": []
   },
   "source": [
    "* Should any of these Images be removed from the Dataset? \n",
    "* Are they Clustered in One or a Few Classes?"
   ]
  },
  {
   "cell_type": "markdown",
   "id": "61d826c1",
   "metadata": {
    "papermill": {
     "duration": 0.082237,
     "end_time": "2022-05-20T12:21:20.378367",
     "exception": false,
     "start_time": "2022-05-20T12:21:20.296130",
     "status": "completed"
    },
    "tags": []
   },
   "source": [
    "### Are they Distributed across many Classes?"
   ]
  },
  {
   "cell_type": "markdown",
   "id": "b9d57b14",
   "metadata": {
    "papermill": {
     "duration": 0.08191,
     "end_time": "2022-05-20T12:21:20.543396",
     "exception": false,
     "start_time": "2022-05-20T12:21:20.461486",
     "status": "completed"
    },
    "tags": []
   },
   "source": [
    "### Can you find any poor quality images?"
   ]
  },
  {
   "cell_type": "markdown",
   "id": "5794e7c3",
   "metadata": {
    "papermill": {
     "duration": 0.082054,
     "end_time": "2022-05-20T12:21:20.707297",
     "exception": false,
     "start_time": "2022-05-20T12:21:20.625243",
     "status": "completed"
    },
    "tags": []
   },
   "source": [
    "### Can Filters be Applied to Improve the Quality of the Images?"
   ]
  },
  {
   "cell_type": "markdown",
   "id": "7a8fbc54",
   "metadata": {
    "papermill": {
     "duration": 0.082371,
     "end_time": "2022-05-20T12:21:20.871622",
     "exception": false,
     "start_time": "2022-05-20T12:21:20.789251",
     "status": "completed"
    },
    "tags": []
   },
   "source": [
    "### Are any Features Blocked or Occluded in these images?"
   ]
  },
  {
   "cell_type": "markdown",
   "id": "81f974f3",
   "metadata": {
    "papermill": {
     "duration": 0.081947,
     "end_time": "2022-05-20T12:21:21.035768",
     "exception": false,
     "start_time": "2022-05-20T12:21:20.953821",
     "status": "completed"
    },
    "tags": []
   },
   "source": [
    "### Can any Features be Highlighted to Improve the Model's Performance?"
   ]
  },
  {
   "cell_type": "markdown",
   "id": "8d3f2083",
   "metadata": {
    "papermill": {
     "duration": 0.08256,
     "end_time": "2022-05-20T12:21:21.201508",
     "exception": false,
     "start_time": "2022-05-20T12:21:21.118948",
     "status": "completed"
    },
    "tags": []
   },
   "source": [
    "### Where Does this First Run Strengthen your Hypothesis?"
   ]
  },
  {
   "cell_type": "markdown",
   "id": "dfa23ed5",
   "metadata": {
    "papermill": {
     "duration": 0.083055,
     "end_time": "2022-05-20T12:21:21.367514",
     "exception": false,
     "start_time": "2022-05-20T12:21:21.284459",
     "status": "completed"
    },
    "tags": []
   },
   "source": [
    "### Have Any Other Weaknesses in the Model been Revealed? "
   ]
  },
  {
   "cell_type": "markdown",
   "id": "1b5407d5",
   "metadata": {
    "papermill": {
     "duration": 0.08365,
     "end_time": "2022-05-20T12:21:21.534442",
     "exception": false,
     "start_time": "2022-05-20T12:21:21.450792",
     "status": "completed"
    },
    "tags": []
   },
   "source": [
    "### Are There Any Major Class Inbalances that Affect Model Performance?"
   ]
  },
  {
   "cell_type": "markdown",
   "id": "fb8510ef",
   "metadata": {
    "papermill": {
     "duration": 0.083402,
     "end_time": "2022-05-20T12:21:21.700857",
     "exception": false,
     "start_time": "2022-05-20T12:21:21.617455",
     "status": "completed"
    },
    "tags": []
   },
   "source": [
    "* Can These be improved by Image Augmentation? "
   ]
  },
  {
   "cell_type": "markdown",
   "id": "ca06736c",
   "metadata": {
    "papermill": {
     "duration": 0.082174,
     "end_time": "2022-05-20T12:21:21.865229",
     "exception": false,
     "start_time": "2022-05-20T12:21:21.783055",
     "status": "completed"
    },
    "tags": []
   },
   "source": [
    "### Can you collect more data in areas where your model is weak?"
   ]
  },
  {
   "cell_type": "markdown",
   "id": "137fc8cb",
   "metadata": {
    "papermill": {
     "duration": 0.082343,
     "end_time": "2022-05-20T12:21:22.029805",
     "exception": false,
     "start_time": "2022-05-20T12:21:21.947462",
     "status": "completed"
    },
    "tags": []
   },
   "source": [
    "* Can you Easily Find More Data by Reverse Image Searching the Most Confused Images?"
   ]
  },
  {
   "cell_type": "markdown",
   "id": "3b1b1677",
   "metadata": {
    "papermill": {
     "duration": 0.081543,
     "end_time": "2022-05-20T12:21:22.193442",
     "exception": false,
     "start_time": "2022-05-20T12:21:22.111899",
     "status": "completed"
    },
    "tags": []
   },
   "source": [
    "### How Could Image Preprocessing Make Features More Apparent to the Model?"
   ]
  }
 ],
 "metadata": {
  "kernelspec": {
   "display_name": "Python 3",
   "language": "python",
   "name": "python3"
  },
  "language_info": {
   "codemirror_mode": {
    "name": "ipython",
    "version": 3
   },
   "file_extension": ".py",
   "mimetype": "text/x-python",
   "name": "python",
   "nbconvert_exporter": "python",
   "pygments_lexer": "ipython3",
   "version": "3.7.12"
  },
  "papermill": {
   "default_parameters": {},
   "duration": 112.794641,
   "end_time": "2022-05-20T12:21:23.398560",
   "environment_variables": {},
   "exception": null,
   "input_path": "__notebook__.ipynb",
   "output_path": "__notebook__.ipynb",
   "parameters": {},
   "start_time": "2022-05-20T12:19:30.603919",
   "version": "2.3.4"
  },
  "widgets": {
   "application/vnd.jupyter.widget-state+json": {
    "state": {
     "02e1834ba3e24ae59e12bb36bc91e275": {
      "model_module": "@jupyter-widgets/controls",
      "model_module_version": "1.5.0",
      "model_name": "DescriptionStyleModel",
      "state": {
       "_model_module": "@jupyter-widgets/controls",
       "_model_module_version": "1.5.0",
       "_model_name": "DescriptionStyleModel",
       "_view_count": null,
       "_view_module": "@jupyter-widgets/base",
       "_view_module_version": "1.2.0",
       "_view_name": "StyleView",
       "description_width": ""
      }
     },
     "51193e87d0024df2b0f00aeff4ef5018": {
      "model_module": "@jupyter-widgets/controls",
      "model_module_version": "1.5.0",
      "model_name": "HBoxModel",
      "state": {
       "_dom_classes": [],
       "_model_module": "@jupyter-widgets/controls",
       "_model_module_version": "1.5.0",
       "_model_name": "HBoxModel",
       "_view_count": null,
       "_view_module": "@jupyter-widgets/controls",
       "_view_module_version": "1.5.0",
       "_view_name": "HBoxView",
       "box_style": "",
       "children": [
        "IPY_MODEL_7813ee9f2f164b9faf77038ec08e8f0b",
        "IPY_MODEL_6fbae27e10fc4496a0f8e44d8f8f3a22",
        "IPY_MODEL_5dea756a282b4b9c82368394f0e07765"
       ],
       "layout": "IPY_MODEL_5d3a6b27871e48db85588f7203393ad1"
      }
     },
     "5850621100ae41ba96447b265f1e9d10": {
      "model_module": "@jupyter-widgets/controls",
      "model_module_version": "1.5.0",
      "model_name": "ProgressStyleModel",
      "state": {
       "_model_module": "@jupyter-widgets/controls",
       "_model_module_version": "1.5.0",
       "_model_name": "ProgressStyleModel",
       "_view_count": null,
       "_view_module": "@jupyter-widgets/base",
       "_view_module_version": "1.2.0",
       "_view_name": "StyleView",
       "bar_color": null,
       "description_width": ""
      }
     },
     "5d3a6b27871e48db85588f7203393ad1": {
      "model_module": "@jupyter-widgets/base",
      "model_module_version": "1.2.0",
      "model_name": "LayoutModel",
      "state": {
       "_model_module": "@jupyter-widgets/base",
       "_model_module_version": "1.2.0",
       "_model_name": "LayoutModel",
       "_view_count": null,
       "_view_module": "@jupyter-widgets/base",
       "_view_module_version": "1.2.0",
       "_view_name": "LayoutView",
       "align_content": null,
       "align_items": null,
       "align_self": null,
       "border": null,
       "bottom": null,
       "display": null,
       "flex": null,
       "flex_flow": null,
       "grid_area": null,
       "grid_auto_columns": null,
       "grid_auto_flow": null,
       "grid_auto_rows": null,
       "grid_column": null,
       "grid_gap": null,
       "grid_row": null,
       "grid_template_areas": null,
       "grid_template_columns": null,
       "grid_template_rows": null,
       "height": null,
       "justify_content": null,
       "justify_items": null,
       "left": null,
       "margin": null,
       "max_height": null,
       "max_width": null,
       "min_height": null,
       "min_width": null,
       "object_fit": null,
       "object_position": null,
       "order": null,
       "overflow": null,
       "overflow_x": null,
       "overflow_y": null,
       "padding": null,
       "right": null,
       "top": null,
       "visibility": null,
       "width": null
      }
     },
     "5dea756a282b4b9c82368394f0e07765": {
      "model_module": "@jupyter-widgets/controls",
      "model_module_version": "1.5.0",
      "model_name": "HTMLModel",
      "state": {
       "_dom_classes": [],
       "_model_module": "@jupyter-widgets/controls",
       "_model_module_version": "1.5.0",
       "_model_name": "HTMLModel",
       "_view_count": null,
       "_view_module": "@jupyter-widgets/controls",
       "_view_module_version": "1.5.0",
       "_view_name": "HTMLView",
       "description": "",
       "description_tooltip": null,
       "layout": "IPY_MODEL_752967740d06456f996d4cee94b04f02",
       "placeholder": "​",
       "style": "IPY_MODEL_02e1834ba3e24ae59e12bb36bc91e275",
       "value": " 83.3M/83.3M [00:05&lt;00:00, 20.7MB/s]"
      }
     },
     "6fbae27e10fc4496a0f8e44d8f8f3a22": {
      "model_module": "@jupyter-widgets/controls",
      "model_module_version": "1.5.0",
      "model_name": "FloatProgressModel",
      "state": {
       "_dom_classes": [],
       "_model_module": "@jupyter-widgets/controls",
       "_model_module_version": "1.5.0",
       "_model_name": "FloatProgressModel",
       "_view_count": null,
       "_view_module": "@jupyter-widgets/controls",
       "_view_module_version": "1.5.0",
       "_view_name": "ProgressView",
       "bar_style": "success",
       "description": "",
       "description_tooltip": null,
       "layout": "IPY_MODEL_f0e9cdfa790f4a3db2853aa0ab4cdf83",
       "max": 87319819.0,
       "min": 0.0,
       "orientation": "horizontal",
       "style": "IPY_MODEL_5850621100ae41ba96447b265f1e9d10",
       "value": 87319819.0
      }
     },
     "752967740d06456f996d4cee94b04f02": {
      "model_module": "@jupyter-widgets/base",
      "model_module_version": "1.2.0",
      "model_name": "LayoutModel",
      "state": {
       "_model_module": "@jupyter-widgets/base",
       "_model_module_version": "1.2.0",
       "_model_name": "LayoutModel",
       "_view_count": null,
       "_view_module": "@jupyter-widgets/base",
       "_view_module_version": "1.2.0",
       "_view_name": "LayoutView",
       "align_content": null,
       "align_items": null,
       "align_self": null,
       "border": null,
       "bottom": null,
       "display": null,
       "flex": null,
       "flex_flow": null,
       "grid_area": null,
       "grid_auto_columns": null,
       "grid_auto_flow": null,
       "grid_auto_rows": null,
       "grid_column": null,
       "grid_gap": null,
       "grid_row": null,
       "grid_template_areas": null,
       "grid_template_columns": null,
       "grid_template_rows": null,
       "height": null,
       "justify_content": null,
       "justify_items": null,
       "left": null,
       "margin": null,
       "max_height": null,
       "max_width": null,
       "min_height": null,
       "min_width": null,
       "object_fit": null,
       "object_position": null,
       "order": null,
       "overflow": null,
       "overflow_x": null,
       "overflow_y": null,
       "padding": null,
       "right": null,
       "top": null,
       "visibility": null,
       "width": null
      }
     },
     "7813ee9f2f164b9faf77038ec08e8f0b": {
      "model_module": "@jupyter-widgets/controls",
      "model_module_version": "1.5.0",
      "model_name": "HTMLModel",
      "state": {
       "_dom_classes": [],
       "_model_module": "@jupyter-widgets/controls",
       "_model_module_version": "1.5.0",
       "_model_name": "HTMLModel",
       "_view_count": null,
       "_view_module": "@jupyter-widgets/controls",
       "_view_module_version": "1.5.0",
       "_view_name": "HTMLView",
       "description": "",
       "description_tooltip": null,
       "layout": "IPY_MODEL_fd5e98c0a1284a82914a66c99f1a1786",
       "placeholder": "​",
       "style": "IPY_MODEL_cfb25c5b2f0f4d8db23fe411686f95b1",
       "value": "100%"
      }
     },
     "cfb25c5b2f0f4d8db23fe411686f95b1": {
      "model_module": "@jupyter-widgets/controls",
      "model_module_version": "1.5.0",
      "model_name": "DescriptionStyleModel",
      "state": {
       "_model_module": "@jupyter-widgets/controls",
       "_model_module_version": "1.5.0",
       "_model_name": "DescriptionStyleModel",
       "_view_count": null,
       "_view_module": "@jupyter-widgets/base",
       "_view_module_version": "1.2.0",
       "_view_name": "StyleView",
       "description_width": ""
      }
     },
     "f0e9cdfa790f4a3db2853aa0ab4cdf83": {
      "model_module": "@jupyter-widgets/base",
      "model_module_version": "1.2.0",
      "model_name": "LayoutModel",
      "state": {
       "_model_module": "@jupyter-widgets/base",
       "_model_module_version": "1.2.0",
       "_model_name": "LayoutModel",
       "_view_count": null,
       "_view_module": "@jupyter-widgets/base",
       "_view_module_version": "1.2.0",
       "_view_name": "LayoutView",
       "align_content": null,
       "align_items": null,
       "align_self": null,
       "border": null,
       "bottom": null,
       "display": null,
       "flex": null,
       "flex_flow": null,
       "grid_area": null,
       "grid_auto_columns": null,
       "grid_auto_flow": null,
       "grid_auto_rows": null,
       "grid_column": null,
       "grid_gap": null,
       "grid_row": null,
       "grid_template_areas": null,
       "grid_template_columns": null,
       "grid_template_rows": null,
       "height": null,
       "justify_content": null,
       "justify_items": null,
       "left": null,
       "margin": null,
       "max_height": null,
       "max_width": null,
       "min_height": null,
       "min_width": null,
       "object_fit": null,
       "object_position": null,
       "order": null,
       "overflow": null,
       "overflow_x": null,
       "overflow_y": null,
       "padding": null,
       "right": null,
       "top": null,
       "visibility": null,
       "width": null
      }
     },
     "fd5e98c0a1284a82914a66c99f1a1786": {
      "model_module": "@jupyter-widgets/base",
      "model_module_version": "1.2.0",
      "model_name": "LayoutModel",
      "state": {
       "_model_module": "@jupyter-widgets/base",
       "_model_module_version": "1.2.0",
       "_model_name": "LayoutModel",
       "_view_count": null,
       "_view_module": "@jupyter-widgets/base",
       "_view_module_version": "1.2.0",
       "_view_name": "LayoutView",
       "align_content": null,
       "align_items": null,
       "align_self": null,
       "border": null,
       "bottom": null,
       "display": null,
       "flex": null,
       "flex_flow": null,
       "grid_area": null,
       "grid_auto_columns": null,
       "grid_auto_flow": null,
       "grid_auto_rows": null,
       "grid_column": null,
       "grid_gap": null,
       "grid_row": null,
       "grid_template_areas": null,
       "grid_template_columns": null,
       "grid_template_rows": null,
       "height": null,
       "justify_content": null,
       "justify_items": null,
       "left": null,
       "margin": null,
       "max_height": null,
       "max_width": null,
       "min_height": null,
       "min_width": null,
       "object_fit": null,
       "object_position": null,
       "order": null,
       "overflow": null,
       "overflow_x": null,
       "overflow_y": null,
       "padding": null,
       "right": null,
       "top": null,
       "visibility": null,
       "width": null
      }
     }
    },
    "version_major": 2,
    "version_minor": 0
   }
  }
 },
 "nbformat": 4,
 "nbformat_minor": 5
}
