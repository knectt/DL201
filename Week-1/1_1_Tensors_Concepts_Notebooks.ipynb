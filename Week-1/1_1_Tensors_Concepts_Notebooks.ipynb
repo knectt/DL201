{
 "cells": [
  {
   "cell_type": "markdown",
   "id": "5b06da8e",
   "metadata": {},
   "source": [
    "# 💻 UnpackAI DL201 Bootcamp - Week 1 - Concepts: Tensors\n",
    "\n",
    "## 📕 Learning Objectives\n",
    "\n",
    "* Conceptualize the concept of Tensors in the context of machine learning and their benefits.\n",
    "* Identifiy the differences of important data structures such as Python lists, Numpy arrays and Pandas DataFrames.\n",
    "\n",
    "## 📖 Concepts map\n",
    "* Common Python data structures (collections)\n",
    "* Python lists\n",
    "* Numpy arrays\n",
    "* Pandas DataFrames\n",
    "* Pytorch Tensors"
   ]
  },
  {
   "cell_type": "markdown",
   "id": "c11769b2",
   "metadata": {},
   "source": [
    "# Introduction\n",
    "\n",
    "Data is the lifeblood of AI. No matter how complex and sophisticated a model is, it will not be any good without quality data.\n",
    "\n",
    "As a result, it is very important to know how about the forms data takes on a computer. This is the first step in being able to understand more about AI. \n",
    "\n",
    "If we can understand how data is stored, and have an appreciation for the importance of good quality data, we can start to use AI models for our own purposes.\n",
    "\n",
    "The requirements of data depend on how one wants to use it. If one is writing a script to automate a task or making a simple, low traffic web app, it is more important to write the code quickly than looking for high performances. \n",
    "\n",
    "On the other hand, for scientific computing, or industrial systems, it is more important for the program to run fast, even if it means that it would need more people and more time to develop it.\n",
    "\n",
    "This dichotomy is expressed as **development time** VS **compute time**. \n",
    "\n",
    "For deep learning systems, there is a strong requirement for performance and speed. As a result, a datatype was implemented for AI, called a **tensor**, which can be extremely fast because it was designed to be run **in parallel** (on a GPU)\n",
    "\n",
    "Much of this course will be about how to quantify data so that it is useful for AI models. To get there, we'll start from the most fundamental, step by step, to the cutting edge of tensors.  "
   ]
  },
  {
   "cell_type": "markdown",
   "id": "f5bc3782",
   "metadata": {},
   "source": [
    "## Key Ideas \n",
    "\n",
    "In this notebook, these ideas will come up across different concepts and skills. \n",
    "\n",
    "* Numerical VS Text Data\n",
    "\n",
    "* Quantitative VS Qualitative\n",
    "\n",
    "* Structured VS Unstructured Data\n",
    "\n",
    "* Computing Speed VS Development Speed\n",
    "\n",
    "Besides, we will present data types based on their dimension :\n",
    "\n",
    "* 0D Data Points (Scalars)\n",
    "\n",
    "* 1D Lists and Vectors\n",
    "\n",
    "* 2D Tables and Matricies \n",
    "\n",
    "* 3D RGB images and Tensors\n"
   ]
  },
  {
   "cell_type": "markdown",
   "id": "f893c6b9",
   "metadata": {},
   "source": [
    "# Part 0 : Code preparation"
   ]
  },
  {
   "cell_type": "code",
   "execution_count": null,
   "id": "20a69385",
   "metadata": {},
   "outputs": [],
   "source": [
    "# package download and version control\n",
    "\n",
    "# note : Kaggle uses python 3.7 kernel\n",
    "# note : use -Uqq to reduce the number of messages (verbosity) during installation\n",
    "\n",
    "!pip install -Uqq openpyxl==3.0.9          # pandas needs it to read Excel files\n",
    "#!pip install pathlib2==2.3.7.post1   # automatically installed in the current version of Kaggle\n",
    "#!pip install torch==1.9.1            # automatically installed in the current version of Kaggle\n",
    "#!pip install pandas==1.3.5           # automatically installed in the current version of Kaggle\n",
    "#!pip install numpy==1.21.6           # automatically installed in the current version of Kaggle\n",
    "#!pip install torch==1.9.1            # automatically installed in the current version of Kaggle\n",
    "#!pip install matplotlib==3.5.1       # automatically installed in the current version of Kaggle\n",
    "#!pip install Pillow==9.0.1           # automatically installed in the current version of Kaggle"
   ]
  },
  {
   "cell_type": "code",
   "execution_count": null,
   "id": "3efe12bb",
   "metadata": {},
   "outputs": [],
   "source": [
    "# check the current installed version of one package (here, we use numpy as an example)\n",
    "!pip freeze | grep numpy"
   ]
  },
  {
   "cell_type": "code",
   "execution_count": null,
   "id": "5d1a1b87",
   "metadata": {},
   "outputs": [],
   "source": [
    "# package imports \n",
    "from pathlib import Path\n",
    "import pandas as pd\n",
    "import numpy as np\n",
    "import torch as t"
   ]
  },
  {
   "cell_type": "code",
   "execution_count": 5,
   "id": "0e423347",
   "metadata": {},
   "outputs": [],
   "source": [
    "# import data files (tables, images, etc) from UnpackAI github\n",
    "!git clone https://github.com/unpackAI/DL201.git\n",
    "\n",
    "# Kaggle Config\n",
    "IMAGE_DIR = Path('/kaggle/working/DL201/img') #uncomment for Kaggle\n",
    "DATA_DIR = Path('/kaggle/working/DL201/data')\n",
    "\n",
    "# Local Config on Unix machines\n",
    "#DATA_DIR = Path.home()/'Datasets/unpackAI/DL201/data' #uncomment/adjust for local machine\n",
    "#IMAGE_DIR = Path.home()/'Projects/unpackAI/DL201/img'  #uncomment/change for local machine"
   ]
  },
  {
   "cell_type": "markdown",
   "id": "61956710",
   "metadata": {},
   "source": [
    "# Part 1: Text and Numbers\n",
    "<hr style=\"border:1px solid gray\"> </hr>\n",
    "\n",
    "Let's begin with the most simple data points. Just as novels are created out of words, AI models are created out of numbers. "
   ]
  },
  {
   "cell_type": "markdown",
   "id": "bf80eb22",
   "metadata": {},
   "source": [
    "## 1.1 Text\n",
    "Text represent human language and ideas. It is very freely structured in order to capture many different qualitative ideas. \n",
    "\n",
    "Text has meaning to people, but is quite different than numbers. Text can do a great job for representing ideas that people can understand, but this presents a problem. Computers don't traditionally handle text data that well since text doesn't have any formal logical or mathematical meaning. This is a major challenge which NLP (Natural Language Processing) overcome just a few years ago.\n",
    "\n",
    "To summarize this :\n",
    "\n",
    "* Text is qualitative\n",
    "* Text is unstructured\n",
    "* Text represents ideas that mean something to people"
   ]
  },
  {
   "cell_type": "markdown",
   "id": "bcb4e013-9623-4a8d-b93c-5b0898e0e6d7",
   "metadata": {},
   "source": [
    "## 1.2 Numbers\n",
    "Numbers serve a different purpose than text. They hold quantitative meaning. Numbers have relationships to each other that text doesn't. You can add or subtract numbers together, which means that numbers, of the same unit. \n",
    "\n",
    "As a result, numbers have these properties which allow us to do quite a lot with them. Numbers also have special properties which form the basis of geometry and calculus. If we take this idea further...\n",
    "\n",
    "***If our data is made of numbers, we can input our data into models and formulas.***\n",
    "\n",
    "Models and formulas run the world around us. Models can be used for something as simple as a controlling a room temperature air conditioner, creating predictions and sales forecasts or evn predicting the weather with complex simulations. If we have a model, it gives us the ability to take data and turn it into information.\n",
    "If we have information, we can explain a trend in a way that is useful to people compared to a massive block of unsorted data.\n",
    "If we can create models, we can ***explain reality*** and even ***make predictions***."
   ]
  },
  {
   "cell_type": "markdown",
   "id": "3f08735c",
   "metadata": {},
   "source": [
    "## 1.3 Different types of numbers\n",
    "<hr style=\"border:1px solid gray\"> </hr>\n",
    "\n",
    "### 1.3.1 Integer and floats\n",
    "\n",
    "While physics and computing get along beautifully in many cases, they do have a fundamental disagreement. The problem is summarized below :\n",
    "\n",
    "* Physics and most fields of mathematics are continuous and infinite\n",
    "* Computers are finite and discrete\n",
    "\n",
    "At a fundamental level, Calculus, and therefore many of the lines and models we use, relies on an assumption that the lines that it models are continuous, which means that the line doesn't have any breaks inside of it.\n",
    "\n",
    "And by using that assumption, we are able to know what the slope of a line is at any point on the line.\n",
    "\n",
    "For example, for us, the number 1 and the number 0.999999999999999999999 have essentially the same value. However, for a computer, working with 1 is definitely easier and faster than working with float with such a high precision.\n",
    "\n",
    "This is not easy to implement on computers because they are discrete at their core. A transistor can only be 1 or 0, with no in between state. This is quite different than the real world we live in, which can be at any value in between.\n",
    "\n",
    "Instead, a compromise is made, with two kinds of numbers in low level computing, numbers with decimal places, and numbers without decimal places. \n",
    "\n",
    "### 1.3.2 Implicit Casting\n",
    "\n",
    "Python will do this automatically based on whether a number were defined with a decimal point in it or not."
   ]
  },
  {
   "cell_type": "code",
   "execution_count": 84,
   "id": "e034bcb6",
   "metadata": {},
   "outputs": [],
   "source": [
    "integer = 127\n",
    "floatingPoint = 127.0"
   ]
  },
  {
   "cell_type": "markdown",
   "id": "734d18e7-22c5-451d-ae29-11642041c192",
   "metadata": {},
   "source": [
    "In Python, this difference is not very important because this is a high level language, which automated a lot of verifications.\n",
    "In low level programming languages like C or Fortran, we have to tell the program more details on our data. This is because python is smart enough to guess what you want to do with the numbers. However, this takes time and resources for python to guess what you mean. In cases such as web development, high level languages are often preferred because it saves a lot of time which would have been spent coding out the little details.\n",
    "\n",
    "Scientific computing languages can run many times faster than normal python code. This is because you tell it exactly what to do. Decades of research have gone into creating algorithms that can process data in the most efficient way. \n",
    "\n",
    "This was very important in the mid 20th century because computers were not that powerful yet and every bit of performance was needed.\n",
    "\n",
    "However, in Python we have the option to make a compromise between the convenience of high level languages and the speed of low level languages. This is available to us through the scientific computing libraries. Python serves as a user friendly, and more efficient wrapper that allows us to utilize both decades of highly efficient legacy codes and user friently general purpose tools."
   ]
  },
  {
   "cell_type": "markdown",
   "id": "b8407bbc",
   "metadata": {},
   "source": [
    "Although this goes onto a detour on computing history, the key point is that with Deep Learning, the data becomes quite large and affect performance. If we can efficiently store numbers, we can drastically improve performance and memory usage. \n",
    "\n",
    "One example in pytorch tensors is called the .to_fp16 method. This allows us to store 400% more numbers on the GPU's RAM than using the default Float64 or int64. Consider this point when you are using large data sets. \n"
   ]
  },
  {
   "cell_type": "markdown",
   "id": "d5a9677e",
   "metadata": {},
   "source": [
    "## 1.4 Putting Text and numbers together\n",
    "<hr style=\"border:1px solid gray\"> </hr>\n",
    "\n",
    "This section will define how the world of text and numbers can clash in computer science. Python does a great job to solve this problem by allowing us to deal with text data much more effectively than in plain C language. \n",
    "\n",
    "The Pandas library, which we will get into, takes this to the next level."
   ]
  },
  {
   "cell_type": "code",
   "execution_count": 85,
   "id": "0322c4b5-1676-4dd6-8813-39c331907d1e",
   "metadata": {},
   "outputs": [],
   "source": [
    "string = 'string'"
   ]
  },
  {
   "cell_type": "markdown",
   "id": "c3ce6717-97b5-4180-97c9-a72bdd73a213",
   "metadata": {},
   "source": [
    "In the strictest sense of it, you cannot do math on a letter or a piece of text meanwhile real world data often comes in as text. So, the power of Machine Learning and Data Science in general is to transform something as qualitative as text data into numbers.\n",
    "\n",
    "The purpose of this course is to learn how to turn what comes in as something qualitative, into nice tensors that fit into an AI model. \n",
    "\n",
    "The code below illustrates the problem of trying to do math with texts. If you uncomment and run the code below."
   ]
  },
  {
   "cell_type": "code",
   "execution_count": 86,
   "id": "a174c859-8c80-4db9-9c26-907476aceb90",
   "metadata": {},
   "outputs": [],
   "source": [
    "#'a' * 'a'"
   ]
  },
  {
   "cell_type": "markdown",
   "id": "a36dd9fe",
   "metadata": {},
   "source": [
    "This seems obvious, but it presents a problem because it points the fact that there is no ready way to get a computer pass text data into a mathematical AI model. Likewise we cannot add together a letter and a number"
   ]
  },
  {
   "cell_type": "code",
   "execution_count": 87,
   "id": "addd17d3-ae46-411b-82cc-41dc0b76a648",
   "metadata": {},
   "outputs": [],
   "source": [
    "#string + 2"
   ]
  },
  {
   "cell_type": "markdown",
   "id": "d29aaf99-8ae7-4450-8819-1cb1ad18d157",
   "metadata": {},
   "source": [
    "What does this error message mean?\n"
   ]
  },
  {
   "cell_type": "markdown",
   "id": "a94d929f",
   "metadata": {},
   "source": [
    "## 1.5 Python Text Processing\n",
    "<hr style=\"border:1px solid gray\"> </hr>\n",
    "\n",
    "However, in the real world, we might actually want to multiply strings, and Python is designed to be very flexible and is good at guessing what you want to do.\n",
    "\n",
    "Let's try the next example: Run the code and guess what will happen."
   ]
  },
  {
   "cell_type": "code",
   "execution_count": 88,
   "id": "2158f080-b3b9-4bd2-94be-a3d8529d1f8e",
   "metadata": {},
   "outputs": [
    {
     "data": {
      "text/plain": [
       "'stringstring'"
      ]
     },
     "execution_count": 88,
     "metadata": {},
     "output_type": "execute_result"
    }
   ],
   "source": [
    "string * 2 "
   ]
  },
  {
   "cell_type": "code",
   "execution_count": 89,
   "id": "6eca5e65-4e00-4208-9aa4-ce025d4bdd57",
   "metadata": {},
   "outputs": [
    {
     "data": {
      "text/plain": [
       "'aa'"
      ]
     },
     "execution_count": 89,
     "metadata": {},
     "output_type": "execute_result"
    }
   ],
   "source": [
    "'a' + 'a'"
   ]
  },
  {
   "cell_type": "markdown",
   "id": "73a0db2c-31af-4402-954b-33e3f3c61a7e",
   "metadata": {},
   "source": [
    "When handling real world data, this inference can be very useful. \n",
    "Python's strength is being able to handle text data.\n",
    "\n",
    "If we want to combine them we can convert them. What do you expect to happen in the next cell?"
   ]
  },
  {
   "cell_type": "code",
   "execution_count": 90,
   "id": "2ee801fd-f6fb-46ef-bb8b-af3ee8e5ed68",
   "metadata": {},
   "outputs": [
    {
     "data": {
      "text/plain": [
       "'string2'"
      ]
     },
     "execution_count": 90,
     "metadata": {},
     "output_type": "execute_result"
    }
   ],
   "source": [
    "string + str(2)"
   ]
  },
  {
   "cell_type": "code",
   "execution_count": 91,
   "id": "3adc3ad1",
   "metadata": {},
   "outputs": [],
   "source": [
    "#try more code here"
   ]
  },
  {
   "cell_type": "markdown",
   "id": "139462db-d68f-4a32-9aa8-56857b44ec74",
   "metadata": {},
   "source": [
    "## 1.6 Conclusion\n",
    "\n",
    "We can use python to handle different data types without worrying too much about type compatibilility. This is part of why it is so common as a scripting language. \n",
    "\n",
    "However, this is paid for in making the program much slower. Usually this is an accepable trade off because it is expensive to pay software developers to develop applications. \n",
    "\n",
    "However, in AI applications, the scale of the data that gets involved is much larger. So, performance becomes a lot more important."
   ]
  },
  {
   "cell_type": "markdown",
   "id": "f9945bea-4163-7d05-3e9f-a8b3b27d",
   "metadata": {},
   "source": [
    "We can use python to handle these kinds of data, but if we want to get maximum performance, we need to specify the type of data because it slows python down to have to check it."
   ]
  },
  {
   "cell_type": "markdown",
   "id": "cea5ec47",
   "metadata": {},
   "source": [
    "### Recap\n",
    "\n",
    "* Text is qualitative\n",
    "* Numbers are quantitative\n",
    "\n",
    "* Numbers are structured\n",
    "* Text is unstructured\n",
    "\n",
    "* Numbers are useful for AI models\n",
    "* Text cannot be used directly in AI models\n",
    "\n",
    "* The differences between text and numbers are important"
   ]
  },
  {
   "cell_type": "markdown",
   "id": "3c911a8c",
   "metadata": {},
   "source": [
    "# Part 2: Lists and Vectors  (1D Data)\n",
    "<hr style=\"border:1px solid gray\"> </hr>"
   ]
  },
  {
   "cell_type": "markdown",
   "id": "a9178fc4-f8de-4f0b-8202-0b4e6ea66716",
   "metadata": {},
   "source": [
    "## 2.1 Python Lists"
   ]
  },
  {
   "cell_type": "markdown",
   "id": "acede02d",
   "metadata": {},
   "source": [
    "Data rarely comes in a single point, and has to be organized somehow. The most simple way to organize data is using a list.\n",
    "\n",
    "Lists put data into a line, in a way that is useful for keeping track of things. \n",
    "\n",
    "One of the key benefits of using python lists, it that they do not care what you put inside them. "
   ]
  },
  {
   "cell_type": "code",
   "execution_count": 3,
   "id": "e797c102-05ba-49a0-b04a-8526d4a23ca3",
   "metadata": {},
   "outputs": [],
   "source": [
    "listA = ['a','b','c']\n",
    "list1 = [1,2,3] \n",
    "list1A = [1,2,3,'s'] "
   ]
  },
  {
   "cell_type": "code",
   "execution_count": 4,
   "id": "eacf0636-c8cb-4086-921b-a1611c2b787e",
   "metadata": {},
   "outputs": [
    {
     "name": "stdout",
     "output_type": "stream",
     "text": [
      "['a', 'b', 'c'] [1, 2, 3] [1, 2, 3, 's']\n"
     ]
    }
   ],
   "source": [
    "print(listA,list1,list1A)"
   ]
  },
  {
   "cell_type": "markdown",
   "id": "944eca7f-a589-42b2-ae84-58b1b0981f10",
   "metadata": {},
   "source": [
    "Python lists are best at handling string data. \n",
    "\n",
    "As we can see, if we add these lists together, it assumes that we want to put the lists together. There are many cases where this is the most useful thing somebody would like to do. It is pretty practical."
   ]
  },
  {
   "cell_type": "code",
   "execution_count": 93,
   "id": "43dfbf10-af44-4a1a-83f6-f2bf5e154e7e",
   "metadata": {},
   "outputs": [
    {
     "data": {
      "text/plain": [
       "[1, 2, 'e', 'a', 5, 6]"
      ]
     },
     "execution_count": 93,
     "metadata": {},
     "output_type": "execute_result"
    }
   ],
   "source": [
    "[1,2,'e'] + ['a',5,6]"
   ]
  },
  {
   "cell_type": "markdown",
   "id": "705ab894-0d19-4c22-8578-7ba985968422",
   "metadata": {},
   "source": [
    "But, you can't multiply lists, or subtract items from them . if we wanted to remove an item from a list,  we can't subtract it out. This is not clear enough for python"
   ]
  },
  {
   "cell_type": "code",
   "execution_count": 94,
   "id": "a6ae77e9-fe6b-43a6-9b51-0d7637f84295",
   "metadata": {},
   "outputs": [],
   "source": [
    "#listA - listA[-1]\n"
   ]
  },
  {
   "cell_type": "markdown",
   "id": "8c88c518-f5fd-4a5b-8186-b7da49a36baa",
   "metadata": {},
   "source": [
    "Instead, we can select elements from the list like this."
   ]
  },
  {
   "cell_type": "code",
   "execution_count": 95,
   "id": "9dad105e-f2c2-4ad8-b13e-aedf1176cec8",
   "metadata": {},
   "outputs": [],
   "source": [
    "listA = listA[0:1]"
   ]
  },
  {
   "cell_type": "markdown",
   "id": "d9979ede-0b0f-4638-a5a9-8b1a3ccb520a",
   "metadata": {},
   "source": [
    "Likewise, we can't multiply lists because it's not clear to python what it should do. "
   ]
  },
  {
   "cell_type": "code",
   "execution_count": 96,
   "id": "53de0245-14e1-4e52-bc62-5a17cbcf9f83",
   "metadata": {},
   "outputs": [],
   "source": [
    "# will cause an error \n",
    "\n",
    "#[1,2,'e'] * ['a',5,6]"
   ]
  },
  {
   "cell_type": "markdown",
   "id": "cafb7f33-aa9a-40fa-a391-7db83af13db9",
   "metadata": {},
   "source": [
    "However, we can multiply a list by a number because python assumes that we want to make three copies of the list."
   ]
  },
  {
   "cell_type": "code",
   "execution_count": 97,
   "id": "d85ad8dd-c0eb-4fae-9de7-bb0c2ca9e4db",
   "metadata": {},
   "outputs": [
    {
     "data": {
      "text/plain": [
       "['fizz ',\n",
       " 'fizz',\n",
       " 'fizzbuzz',\n",
       " 'fizz ',\n",
       " 'fizz',\n",
       " 'fizzbuzz',\n",
       " 'fizz ',\n",
       " 'fizz',\n",
       " 'fizzbuzz']"
      ]
     },
     "execution_count": 97,
     "metadata": {},
     "output_type": "execute_result"
    }
   ],
   "source": [
    "['fizz ','fizz','fizzbuzz'] * 3"
   ]
  },
  {
   "cell_type": "markdown",
   "id": "6de5d61f-9a07-4b74-a76e-f1b61e29e67e",
   "metadata": {},
   "source": [
    "In Python a list can contain anything. Which prevents it from following strict mathematical rules. You can't have your cake and eat it too. However, there is still quite a lot you can use them for. In your project, you will almost surely use lists to hold data. \n",
    "\n",
    "Compared to strict mathematical definitions used in scientific computing, we can use lists a lot more like how a person would use a list.\n",
    "\n"
   ]
  },
  {
   "cell_type": "code",
   "execution_count": 98,
   "id": "362a96b9",
   "metadata": {},
   "outputs": [
    {
     "data": {
      "text/plain": [
       "[1, 2, 3, 1, 2, 3]"
      ]
     },
     "execution_count": 98,
     "metadata": {},
     "output_type": "execute_result"
    }
   ],
   "source": [
    "[1,2,3] + [1,2,3]"
   ]
  },
  {
   "cell_type": "markdown",
   "id": "0a57b575",
   "metadata": {},
   "source": [
    "As this example shows, we can't add numbers together inside of a python list, because they are not set up as numbers, but rather objects. \n",
    "\n",
    "Instead, there is another library set up for this purpose"
   ]
  },
  {
   "cell_type": "markdown",
   "id": "8c212a38",
   "metadata": {},
   "source": [
    "## 2.2 Numerical Arrays (Vectors)\n",
    "<hr style=\"border:1px solid gray\"> </hr>\n",
    "\n",
    "However, despite it's general usefulness, the rules of a list are very different than what is used in mathematics and therefore AI. So, to solve this problem, we will use numpay arrays instead of python standard lists. Let's see what they can do !"
   ]
  },
  {
   "cell_type": "code",
   "execution_count": 99,
   "id": "4500a3d2",
   "metadata": {},
   "outputs": [],
   "source": [
    "import numpy as np\n",
    "\n",
    "sample_array1 = np.array([1,2,3,4,5])\n",
    "sample_array2 = np.array([3,6,3,7,2])"
   ]
  },
  {
   "cell_type": "code",
   "execution_count": 100,
   "id": "02ed7790",
   "metadata": {},
   "outputs": [
    {
     "data": {
      "text/plain": [
       "array([ 4,  8,  6, 11,  7])"
      ]
     },
     "execution_count": 100,
     "metadata": {},
     "output_type": "execute_result"
    }
   ],
   "source": [
    "sample_array1 + sample_array2 "
   ]
  },
  {
   "cell_type": "markdown",
   "id": "96b1ddda",
   "metadata": {},
   "source": [
    "\n",
    "\n",
    "Arrays can be incredibly powerful because they can represent elements of reality. But, they follow different rules which are important to understand before getting too far into using scientific computing libraries."
   ]
  },
  {
   "cell_type": "markdown",
   "id": "ac9bec41",
   "metadata": {},
   "source": [
    "### 2.2.1 The need for several dimensions data understood through a Story\n",
    "<hr style=\"border:1px solid gray\"> </hr>\n"
   ]
  },
  {
   "cell_type": "markdown",
   "id": "22321f5d",
   "metadata": {},
   "source": [
    "\n",
    "---\n",
    "The following explaination can help us to understand the power of arranging numbers into multidimensional structures like arrays and tensors. \n",
    "\n",
    "It is taken from NASA's website directed at univeristy level Engineering students. It is rephrased into simple English for an international audience.\n",
    "\n",
    "---\n"
   ]
  },
  {
   "cell_type": "markdown",
   "id": "0a8fcf7b",
   "metadata": {},
   "source": [
    "\n",
    "At the heart of all mathematics are numbers.\n",
    "\n",
    "If I were to ask how many candies you had in a bag, you might answer, “Three.” I would find\n",
    "your answer tells me enough. The ‘bare’ number 3, a magnitude, is enough to give the\n",
    "information I want.\n",
    "\n",
    "If I were to ask, “How far is it to your house?” and you answered, “Three,” however, I would\n",
    "get confused and ask, “Three what?” Clearly, for this question, more information is needed. \n",
    "\n",
    "The bare number 3 is no longer enough; I need to know a unit. 3 could mean anything from 3 minutes, 3 kilometers, to 3 meters.\n",
    "\n",
    "Suppose you got upset and answered, “Three km.” The number 3 is now named as representing a certain\n",
    "number of km.\n",
    "\n",
    "Such numbers are sometimes called **scalars.** Temperature is represented by a\n",
    "scalar. Any number with a specific unit is represented by a scalar.\n",
    "\n",
    "\n",
    "If I were next to ask “Then how do I get to your house from here?” and you said, “Just walk\n",
    "three km,” again I would look at you strangly.\n",
    "\n",
    "This time, not even a number with a unit is sufficient; it is necessary to specify a direction.\n",
    "“Just walk three km due north.” The denominate number 3 km now has the required additional\n",
    "directional information attached to it. Such numbers are called **vectors.** \n",
    "\n",
    "If you were to tell me that to go from here to your house I must walk three blocks\n",
    "east, two blocks north, and go up three floors, the vector extending from “here” to “your house”\n",
    "would have three spatial components: \n",
    "\n",
    "1. Three blocks east \n",
    "2. Two blocks north\n",
    "3. Three floors up\n",
    "\n",
    "The confusion comes about vectors when they are used to represent locations and velocities.\n",
    "\n",
    "But how they are also used in advanced mathematics to represent complex concepts covered in higher level mathematics. \n",
    "\n",
    "There are many different notations for vectors for different areas of engineering and mathematics. "
   ]
  },
  {
   "cell_type": "markdown",
   "id": "f000a1f6",
   "metadata": {},
   "source": [
    "### 2.2.2 Key Points about Vectors\n",
    "<hr style=\"border:1px solid gray\"> </hr>\n",
    "\n",
    "Instead, if you want to do math with python, there's another data type called a ***vector*** or ***array***.\n",
    "\n",
    "* Vectors can only contain numbers. If an item inside of it doesn't have a number, it becomes a list.\n",
    "\n",
    "This is a critical distinction to make because vectors are used in models. Remember, models can only accept numbers and nothing less.\n",
    "\n",
    "As a result, it also does not follow the same rules that a python list would follow. \n",
    "\n",
    "The data type we will be using here is called a numpy array. This is made for mathematical calculations, and mathematical calculation alone. Some of the smartest people on earth spent decades trying to figure out how to do these calculations to do these calculations efficienctly and quickly. \n",
    "\n",
    "and inst follows the stricter rules of math. This means that it is a bit tricker to start using them, but once we understand the rules, they behave in very predicatable ways.\n",
    "\n",
    "In AI, numpy is very common because it allows us to pass data around from different libraries.\n",
    "\n",
    "In the following example we are going to use numpy with matplotlib to create a plot.\n",
    "\n",
    "But first, let's show how a vector is different than a list "
   ]
  },
  {
   "cell_type": "code",
   "execution_count": 101,
   "id": "742258ec",
   "metadata": {},
   "outputs": [
    {
     "name": "stdout",
     "output_type": "stream",
     "text": [
      "[ 1  2  3  4  5  6  7  8  9 10]\n",
      "[ 2  4  6  8 10 12 14 16 18 20]\n"
     ]
    }
   ],
   "source": [
    "import numpy as np\n",
    "from matplotlib import pyplot as plt\n",
    "\n",
    "# Let's put two arrays together and see what happens\n",
    "\n",
    "array1 = np.array(list(range(1,11))) # Keep in mind that 10 is not included because it is the bound < 10.\n",
    "print(array1)\n",
    "array2 = np.array(list(range(2,22,2)))\n",
    "print(array2)"
   ]
  },
  {
   "cell_type": "code",
   "execution_count": 102,
   "id": "b17e2ad7",
   "metadata": {},
   "outputs": [],
   "source": [
    "fakeArray = np.array(['a',1,2,3,4,5,6,7,8,9])"
   ]
  },
  {
   "cell_type": "markdown",
   "id": "1034d084",
   "metadata": {},
   "source": [
    "Try to uncomment the following line of code to see what happens when you try to treat an array as a list "
   ]
  },
  {
   "cell_type": "code",
   "execution_count": 103,
   "id": "74ce1c47",
   "metadata": {},
   "outputs": [],
   "source": [
    "#fakeArray + array2"
   ]
  },
  {
   "cell_type": "markdown",
   "id": "71c2cff4",
   "metadata": {},
   "source": [
    "\n",
    "The error code means that you are trying to do math on something that is not a number. This is important to keep in the back of your head\n",
    "\n",
    "Let's visualize the two arrays below on this graph.\n"
   ]
  },
  {
   "cell_type": "code",
   "execution_count": 104,
   "id": "b309f137-c76c-40ce-90e3-6f316dd77f99",
   "metadata": {},
   "outputs": [
    {
     "data": {
      "image/png": "[encoded data removed]",
      "text/plain": [
       "<Figure size 432x288 with 1 Axes>"
      ]
     },
     "metadata": {
      "needs_background": "light"
     },
     "output_type": "display_data"
    }
   ],
   "source": [
    "x = array1\n",
    "y = array2\n",
    "\n",
    "# These lines label the graph \n",
    "plt.title(\"Line Graph\")\n",
    "plt.xlabel(\"X axis\")\n",
    "plt.ylabel(\"Y axis\")\n",
    "\n",
    "# This line tells matplot lib which kind of graph we want\n",
    "plt.scatter(x,y)\n",
    "\n",
    "# This line tells matplotlib that we would like to display the graph in ipython notebook\n",
    "plt.show() # if you don't include this line, it will still work, but will be messier"
   ]
  },
  {
   "cell_type": "markdown",
   "id": "075a13c1-8a12-47c9-bbdd-d6985a9014f0",
   "metadata": {},
   "source": [
    "For more information on how to use matplotlib, you can go to: https://www.geeksforgeeks.org/plot-line-graph-from-numpy-array/ which has a good tutorial"
   ]
  },
  {
   "cell_type": "markdown",
   "id": "03009055-e2f7-414e-b471-d303bfc3ac4b",
   "metadata": {},
   "source": [
    "Since we can perform mathematical operations on these arrays, unlike normal python lists, check out the following lines of code, try to think why it works the way it does. Feel free to play around with these.\n",
    "\n",
    "Pay attention to the graphs here and  how the numbers on the axis's change "
   ]
  },
  {
   "cell_type": "code",
   "execution_count": 105,
   "id": "871e6ce3-0ca8-47a0-a3ec-0b583cb92144",
   "metadata": {},
   "outputs": [
    {
     "name": "stdout",
     "output_type": "stream",
     "text": [
      "[ 2  4  6  8 10 12 14 16 18 20]\n",
      "array 2 to the power of 2:\n",
      "[  4  16  36  64 100 144 196 256 324 400]\n"
     ]
    },
    {
     "data": {
      "image/png": "[encoded data removed]",
      "text/plain": [
       "<Figure size 432x288 with 1 Axes>"
      ]
     },
     "metadata": {
      "needs_background": "light"
     },
     "output_type": "display_data"
    }
   ],
   "source": [
    "scalar = 2\n",
    "\n",
    "print(array2)\n",
    "print(f'array 2 to the power of {scalar}:')\n",
    "print(array2 ** scalar)\n",
    "\n",
    "\n",
    "x = array1\n",
    "y = array2 ** scalar\n",
    "\n",
    "# These lines label the graph \n",
    "plt.title(\"Line Graph\")\n",
    "plt.xlabel(\"X axis\")\n",
    "plt.ylabel(\"Y axis\")\n",
    "\n",
    "# This line tells matplot lib which  graph we would like to use\n",
    "plt.scatter(x,y)\n",
    "\n",
    "# This line tells matplotlib that we would like to display the graph in ipython notebook\n",
    "plt.show() # if you don't include this line, it will still work, but will be messier"
   ]
  },
  {
   "cell_type": "markdown",
   "id": "c8d729b6-0867-4544-bb2b-5b5d8cb8abc6",
   "metadata": {},
   "source": [
    "\n",
    "\n",
    "\n",
    "You can also perform mathematical operations on other vectors, as long as they are both the same length. If they aren't the same length, they won't fit. Similarly to using different cable connectors, you can't put a USB cable into an HDMI socket, nor can you put an Australian Power plug with a UK socket. \n",
    "\n",
    "Let's create a new vector and try some basic broadcasting"
   ]
  },
  {
   "cell_type": "code",
   "execution_count": 106,
   "id": "e2a8a326-9edb-4cb7-b7ec-ac5c5fa7eb2c",
   "metadata": {},
   "outputs": [],
   "source": [
    "scaleFactor = 5\n",
    "vector1 = array2 * scaleFactor"
   ]
  },
  {
   "cell_type": "markdown",
   "id": "4c534818-5563-4e39-907d-fecf5ff3d3f5",
   "metadata": {},
   "source": [
    "Adding them together gives the following results"
   ]
  },
  {
   "cell_type": "code",
   "execution_count": 107,
   "id": "30414c90-356b-4419-9231-e4a2d32b7a4e",
   "metadata": {},
   "outputs": [
    {
     "name": "stdout",
     "output_type": "stream",
     "text": [
      "vector #1: [ 1  2  3  4  5  6  7  8  9 10]\n",
      "vector #2: [ 10  20  30  40  50  60  70  80  90 100]\n",
      "vector 1 plus vector 2 =\n",
      "[ 11  22  33  44  55  66  77  88  99 110]\n",
      "/////////////////\n",
      "vector #1: [ 10  20  30  40  50  60  70  80  90 100]\n",
      "vector #2: [ 2  4  6  8 10 12 14 16 18 20]\n",
      "vector 1 divided by vector 2 =\n",
      "[0.2 0.2 0.2 0.2 0.2 0.2 0.2 0.2 0.2 0.2]\n"
     ]
    }
   ],
   "source": [
    "print(f'vector #1: {array1}')\n",
    "print(f'vector #2: {vector1}')\n",
    "print('vector 1 plus vector 2 =')\n",
    "print(vector1 + array1)\n",
    "print('/////////////////')\n",
    "print(f'vector #1: {vector1}')\n",
    "print(f'vector #2: {array2}')\n",
    "print('vector 1 divided by vector 2 =')\n",
    "print(array2 / vector1)"
   ]
  },
  {
   "cell_type": "markdown",
   "id": "dbda98ea",
   "metadata": {},
   "source": [
    "## 2.3 Recap\n",
    "<hr style=\"border:1px solid gray\"> </hr>\n",
    "\n",
    "* Arrays and lists have different properties\n",
    "\n",
    "* Lists are flexible and can contain anything\n",
    "\n",
    "* Arrays can only contain numbers\n",
    "\n",
    "* Arrays are much more efficient than lists thanks to parallel programming\n",
    "\n"
   ]
  },
  {
   "cell_type": "markdown",
   "id": "de15a5b3-ac9e-4b2d-abb0-bfd6a74e9deb",
   "metadata": {},
   "source": [
    "# Part 3: Tables and Spreadsheets (2D)\n",
    "<hr style=\"border:2px solid gray\"> </hr>\n"
   ]
  },
  {
   "cell_type": "markdown",
   "id": "5b5e572c-bdc0-4e16-9bd4-3992c73dfe65",
   "metadata": {},
   "source": [
    "##  3.1 Introduction on Tables \n",
    "<hr style=\"border:1px solid gray\"> </hr>\n"
   ]
  },
  {
   "cell_type": "markdown",
   "id": "16fda042-866e-4424-851a-0acb210af6b4",
   "metadata": {},
   "source": [
    "A list is already a powerful way to organize data. However, they have their limitations. Since they are only 1D, they can only model things simple enough to fit into one column or row. A table is the next step  towards representing more complex information.\n",
    "\n",
    "People have used tables for over 5000 years to create records. Starting with recording farming transactions  on clay tablets, to the computerized databases of today, these form a foundation of modern life.\n"
   ]
  },
  {
   "cell_type": "markdown",
   "id": "8b968895-1f2e-4842-ba3a-087f6f1b7718",
   "metadata": {},
   "source": [
    "## 3.2 Matrix (Matrices) are 2D Arrays\n",
    "<hr style=\"border:1px solid gray\"> </hr>\n"
   ]
  },
  {
   "cell_type": "markdown",
   "id": "c9bb483c-72e8-4578-a024-1d62c7156d23",
   "metadata": {},
   "source": [
    "Similar to how a vector is a list containing only numbers, a matrix is a table filled with only numbers. Matrices can power up vectors to the next level. Matrices can model many different phenomena.\n",
    "\n",
    "In Finance, they can be used to calculate and model profit maximization and loss minimization problems, as well as risk management. \n",
    "\n",
    "In Science, they are used for wireless communication, electronics engineering, chemistry, geology, robotics and cryptography.\n",
    "\n",
    "Our computer screen graphics are based of them because it allows programs to easily calculate how an object appears when it is rotated or moves on a screen. Before computers became this powerful, this kind of drawing would have been done by hand by hundreds or thousands of animators. \n",
    "\n",
    "There are many ***Free and Open Source Softwares*** (FOSS) libraries in python to do all sorts of tasks. Creating matrices out of mere tables is the key to accessing these amazing skills and abilities.\n",
    "\n",
    "And if you have a matrix, then it can be converted into a tensor, which can then go into an AI model. "
   ]
  },
  {
   "cell_type": "markdown",
   "id": "1a450674-06a4-4d12-a4f9-0ee164a344ba",
   "metadata": {},
   "source": [
    "## 3.3 Pandas Dataframes\n",
    "<hr style=\"border:1px solid gray\"> </hr>\n",
    "\n",
    "\n",
    "The problem with matrices is that they have strict rules that aren't always directly compatible with the real world. Unlike an excel spreadsheet, which doesn't care if we have text or numbers in a field. A matrix will no longer be a matrix if it holds something that isn't a number. \n",
    "\n",
    "A great compromise between an efficient number-only matrix and a non-efficient list of list which can contains text data is presented by Pandas. It was created on Wall Street by a quantitative analyst Wes Mckinney, who had been hired by a large firm for his math and programming background rather than the traditional business one. He found himself spending a lot of time extracting data from excel spreadsheets, SQL databases, and even PDF and Word Documents, without having a single tool to handle all of them.\n",
    "\n",
    "Pandas allows us to keep data in tables, all under one roof with many different methods to handle the data in a clean and efficient way.\n",
    "\n",
    "Offering the flexibility of python and excel, while tapping into the power of scientific computing. Pandas's strength is inputting messy data that contains missing values, text data, human errors, or even duplicates that would drive numpy crazy.\n",
    "\n",
    "Here, you can see how you can very quickly clean up data and get basic statistics using it. Let's input an .xlsx (excel) document and take a look at it."
   ]
  },
  {
   "cell_type": "code",
   "execution_count": 108,
   "id": "95bb3728-9e07-452f-9a71-74457aae7b2d",
   "metadata": {},
   "outputs": [
    {
     "data": {
      "text/html": [
       "<div>\n",
       "<style scoped>\n",
       "    .dataframe tbody tr th:only-of-type {\n",
       "        vertical-align: middle;\n",
       "    }\n",
       "\n",
       "    .dataframe tbody tr th {\n",
       "        vertical-align: top;\n",
       "    }\n",
       "\n",
       "    .dataframe thead th {\n",
       "        text-align: right;\n",
       "    }\n",
       "</style>\n",
       "<table border=\"1\" class=\"dataframe\">\n",
       "  <thead>\n",
       "    <tr style=\"text-align: right;\">\n",
       "      <th></th>\n",
       "      <th>ID</th>\n",
       "      <th>Age</th>\n",
       "      <th>Experience</th>\n",
       "      <th>Income</th>\n",
       "      <th>ZIP Code</th>\n",
       "      <th>Family</th>\n",
       "      <th>CCAvg</th>\n",
       "      <th>Education</th>\n",
       "      <th>Mortgage</th>\n",
       "      <th>Personal Loan</th>\n",
       "      <th>Securities Account</th>\n",
       "      <th>CD Account</th>\n",
       "      <th>Online</th>\n",
       "      <th>CreditCard</th>\n",
       "    </tr>\n",
       "  </thead>\n",
       "  <tbody>\n",
       "    <tr>\n",
       "      <th>2916</th>\n",
       "      <td>2917</td>\n",
       "      <td>46</td>\n",
       "      <td>20</td>\n",
       "      <td>40</td>\n",
       "      <td>92037</td>\n",
       "      <td>1</td>\n",
       "      <td>1.2</td>\n",
       "      <td>2</td>\n",
       "      <td>0</td>\n",
       "      <td>0</td>\n",
       "      <td>0</td>\n",
       "      <td>0</td>\n",
       "      <td>1</td>\n",
       "      <td>0</td>\n",
       "    </tr>\n",
       "    <tr>\n",
       "      <th>3378</th>\n",
       "      <td>3379</td>\n",
       "      <td>25</td>\n",
       "      <td>0</td>\n",
       "      <td>44</td>\n",
       "      <td>94536</td>\n",
       "      <td>4</td>\n",
       "      <td>0.6</td>\n",
       "      <td>2</td>\n",
       "      <td>0</td>\n",
       "      <td>0</td>\n",
       "      <td>0</td>\n",
       "      <td>0</td>\n",
       "      <td>0</td>\n",
       "      <td>1</td>\n",
       "    </tr>\n",
       "    <tr>\n",
       "      <th>4639</th>\n",
       "      <td>4640</td>\n",
       "      <td>51</td>\n",
       "      <td>25</td>\n",
       "      <td>33</td>\n",
       "      <td>92866</td>\n",
       "      <td>3</td>\n",
       "      <td>0.9</td>\n",
       "      <td>3</td>\n",
       "      <td>0</td>\n",
       "      <td>0</td>\n",
       "      <td>0</td>\n",
       "      <td>0</td>\n",
       "      <td>1</td>\n",
       "      <td>1</td>\n",
       "    </tr>\n",
       "    <tr>\n",
       "      <th>762</th>\n",
       "      <td>763</td>\n",
       "      <td>32</td>\n",
       "      <td>6</td>\n",
       "      <td>85</td>\n",
       "      <td>90504</td>\n",
       "      <td>1</td>\n",
       "      <td>2.7</td>\n",
       "      <td>2</td>\n",
       "      <td>100</td>\n",
       "      <td>0</td>\n",
       "      <td>0</td>\n",
       "      <td>0</td>\n",
       "      <td>1</td>\n",
       "      <td>0</td>\n",
       "    </tr>\n",
       "    <tr>\n",
       "      <th>2047</th>\n",
       "      <td>2048</td>\n",
       "      <td>63</td>\n",
       "      <td>38</td>\n",
       "      <td>134</td>\n",
       "      <td>90640</td>\n",
       "      <td>3</td>\n",
       "      <td>4.0</td>\n",
       "      <td>2</td>\n",
       "      <td>0</td>\n",
       "      <td>1</td>\n",
       "      <td>0</td>\n",
       "      <td>0</td>\n",
       "      <td>0</td>\n",
       "      <td>1</td>\n",
       "    </tr>\n",
       "  </tbody>\n",
       "</table>\n",
       "</div>"
      ],
      "text/plain": [
       "        ID  Age  Experience  Income  ZIP Code  Family  CCAvg  Education  \\\n",
       "2916  2917   46          20      40     92037       1    1.2          2   \n",
       "3378  3379   25           0      44     94536       4    0.6          2   \n",
       "4639  4640   51          25      33     92866       3    0.9          3   \n",
       "762    763   32           6      85     90504       1    2.7          2   \n",
       "2047  2048   63          38     134     90640       3    4.0          2   \n",
       "\n",
       "      Mortgage  Personal Loan  Securities Account  CD Account  Online  \\\n",
       "2916         0              0                   0           0       1   \n",
       "3378         0              0                   0           0       0   \n",
       "4639         0              0                   0           0       1   \n",
       "762        100              0                   0           0       1   \n",
       "2047         0              1                   0           0       0   \n",
       "\n",
       "      CreditCard  \n",
       "2916           0  \n",
       "3378           1  \n",
       "4639           1  \n",
       "762            0  \n",
       "2047           1  "
      ]
     },
     "execution_count": 108,
     "metadata": {},
     "output_type": "execute_result"
    }
   ],
   "source": [
    "import pandas as pd #needs to have installed openpyxl library\n",
    "personalLoans = pd.read_excel(DATA_DIR/'BankLoans'/'Bank_Personal_Loan_Modelling.xlsx',sheet_name=1)\n",
    "\n",
    "personalLoans.sample(5)"
   ]
  },
  {
   "cell_type": "markdown",
   "id": "c1d495c0-5e9d-440c-9f8c-f096c85403fd",
   "metadata": {},
   "source": [
    "This excel table is now a 2D dataframe. "
   ]
  },
  {
   "cell_type": "code",
   "execution_count": 109,
   "id": "63e7a8e3-386f-461f-b9c5-273db28cb0f1",
   "metadata": {},
   "outputs": [
    {
     "data": {
      "text/plain": [
       "(5000, 14)"
      ]
     },
     "execution_count": 109,
     "metadata": {},
     "output_type": "execute_result"
    }
   ],
   "source": [
    "# Let's look at the data \n",
    "personalLoans.shape"
   ]
  },
  {
   "cell_type": "markdown",
   "id": "93f28566-59fe-4638-bbe3-e98b968b4fda",
   "metadata": {},
   "source": [
    "How many rows and columns does this dataframe have? Do you see any interesting information?"
   ]
  },
  {
   "cell_type": "markdown",
   "id": "1ff0e81a-4e87-445c-8243-56235c78febc",
   "metadata": {},
   "source": [
    "Let's take a look at each column "
   ]
  },
  {
   "cell_type": "code",
   "execution_count": 110,
   "id": "5b42b21a-1287-4fd3-8c1c-fd1fe8c8fe93",
   "metadata": {},
   "outputs": [
    {
     "data": {
      "text/plain": [
       "Index(['ID', 'Age', 'Experience', 'Income', 'ZIP Code', 'Family', 'CCAvg',\n",
       "       'Education', 'Mortgage', 'Personal Loan', 'Securities Account',\n",
       "       'CD Account', 'Online', 'CreditCard'],\n",
       "      dtype='object')"
      ]
     },
     "execution_count": 110,
     "metadata": {},
     "output_type": "execute_result"
    }
   ],
   "source": [
    "personalLoans.columns"
   ]
  },
  {
   "cell_type": "code",
   "execution_count": 111,
   "id": "d03124fb-825f-451f-8dbe-14831af1deab",
   "metadata": {},
   "outputs": [
    {
     "data": {
      "text/plain": [
       "(5000,)"
      ]
     },
     "execution_count": 111,
     "metadata": {},
     "output_type": "execute_result"
    }
   ],
   "source": [
    "personalLoans['ZIP Code'].shape"
   ]
  },
  {
   "cell_type": "markdown",
   "id": "11d18f96-345a-4445-a305-19e02f7f6930",
   "metadata": {},
   "source": [
    "We can even get statistics on each column almost immediately. "
   ]
  },
  {
   "cell_type": "code",
   "execution_count": 112,
   "id": "36f1b8e5-2375-483a-a3e6-148372b8b335",
   "metadata": {},
   "outputs": [
    {
     "data": {
      "text/html": [
       "<div>\n",
       "<style scoped>\n",
       "    .dataframe tbody tr th:only-of-type {\n",
       "        vertical-align: middle;\n",
       "    }\n",
       "\n",
       "    .dataframe tbody tr th {\n",
       "        vertical-align: top;\n",
       "    }\n",
       "\n",
       "    .dataframe thead th {\n",
       "        text-align: right;\n",
       "    }\n",
       "</style>\n",
       "<table border=\"1\" class=\"dataframe\">\n",
       "  <thead>\n",
       "    <tr style=\"text-align: right;\">\n",
       "      <th></th>\n",
       "      <th>ID</th>\n",
       "      <th>Age</th>\n",
       "      <th>Experience</th>\n",
       "      <th>Income</th>\n",
       "      <th>ZIP Code</th>\n",
       "      <th>Family</th>\n",
       "      <th>CCAvg</th>\n",
       "      <th>Education</th>\n",
       "      <th>Mortgage</th>\n",
       "      <th>Personal Loan</th>\n",
       "      <th>Securities Account</th>\n",
       "      <th>CD Account</th>\n",
       "      <th>Online</th>\n",
       "      <th>CreditCard</th>\n",
       "    </tr>\n",
       "  </thead>\n",
       "  <tbody>\n",
       "    <tr>\n",
       "      <th>count</th>\n",
       "      <td>5000.000000</td>\n",
       "      <td>5000.000000</td>\n",
       "      <td>5000.000000</td>\n",
       "      <td>5000.000000</td>\n",
       "      <td>5000.000000</td>\n",
       "      <td>5000.000000</td>\n",
       "      <td>5000.000000</td>\n",
       "      <td>5000.000000</td>\n",
       "      <td>5000.000000</td>\n",
       "      <td>5000.000000</td>\n",
       "      <td>5000.000000</td>\n",
       "      <td>5000.00000</td>\n",
       "      <td>5000.000000</td>\n",
       "      <td>5000.000000</td>\n",
       "    </tr>\n",
       "    <tr>\n",
       "      <th>mean</th>\n",
       "      <td>2500.500000</td>\n",
       "      <td>45.338400</td>\n",
       "      <td>20.104600</td>\n",
       "      <td>73.774200</td>\n",
       "      <td>93152.503000</td>\n",
       "      <td>2.396400</td>\n",
       "      <td>1.937913</td>\n",
       "      <td>1.881000</td>\n",
       "      <td>56.498800</td>\n",
       "      <td>0.096000</td>\n",
       "      <td>0.104400</td>\n",
       "      <td>0.06040</td>\n",
       "      <td>0.596800</td>\n",
       "      <td>0.294000</td>\n",
       "    </tr>\n",
       "    <tr>\n",
       "      <th>std</th>\n",
       "      <td>1443.520003</td>\n",
       "      <td>11.463166</td>\n",
       "      <td>11.467954</td>\n",
       "      <td>46.033729</td>\n",
       "      <td>2121.852197</td>\n",
       "      <td>1.147663</td>\n",
       "      <td>1.747666</td>\n",
       "      <td>0.839869</td>\n",
       "      <td>101.713802</td>\n",
       "      <td>0.294621</td>\n",
       "      <td>0.305809</td>\n",
       "      <td>0.23825</td>\n",
       "      <td>0.490589</td>\n",
       "      <td>0.455637</td>\n",
       "    </tr>\n",
       "    <tr>\n",
       "      <th>min</th>\n",
       "      <td>1.000000</td>\n",
       "      <td>23.000000</td>\n",
       "      <td>-3.000000</td>\n",
       "      <td>8.000000</td>\n",
       "      <td>9307.000000</td>\n",
       "      <td>1.000000</td>\n",
       "      <td>0.000000</td>\n",
       "      <td>1.000000</td>\n",
       "      <td>0.000000</td>\n",
       "      <td>0.000000</td>\n",
       "      <td>0.000000</td>\n",
       "      <td>0.00000</td>\n",
       "      <td>0.000000</td>\n",
       "      <td>0.000000</td>\n",
       "    </tr>\n",
       "    <tr>\n",
       "      <th>25%</th>\n",
       "      <td>1250.750000</td>\n",
       "      <td>35.000000</td>\n",
       "      <td>10.000000</td>\n",
       "      <td>39.000000</td>\n",
       "      <td>91911.000000</td>\n",
       "      <td>1.000000</td>\n",
       "      <td>0.700000</td>\n",
       "      <td>1.000000</td>\n",
       "      <td>0.000000</td>\n",
       "      <td>0.000000</td>\n",
       "      <td>0.000000</td>\n",
       "      <td>0.00000</td>\n",
       "      <td>0.000000</td>\n",
       "      <td>0.000000</td>\n",
       "    </tr>\n",
       "    <tr>\n",
       "      <th>50%</th>\n",
       "      <td>2500.500000</td>\n",
       "      <td>45.000000</td>\n",
       "      <td>20.000000</td>\n",
       "      <td>64.000000</td>\n",
       "      <td>93437.000000</td>\n",
       "      <td>2.000000</td>\n",
       "      <td>1.500000</td>\n",
       "      <td>2.000000</td>\n",
       "      <td>0.000000</td>\n",
       "      <td>0.000000</td>\n",
       "      <td>0.000000</td>\n",
       "      <td>0.00000</td>\n",
       "      <td>1.000000</td>\n",
       "      <td>0.000000</td>\n",
       "    </tr>\n",
       "    <tr>\n",
       "      <th>75%</th>\n",
       "      <td>3750.250000</td>\n",
       "      <td>55.000000</td>\n",
       "      <td>30.000000</td>\n",
       "      <td>98.000000</td>\n",
       "      <td>94608.000000</td>\n",
       "      <td>3.000000</td>\n",
       "      <td>2.500000</td>\n",
       "      <td>3.000000</td>\n",
       "      <td>101.000000</td>\n",
       "      <td>0.000000</td>\n",
       "      <td>0.000000</td>\n",
       "      <td>0.00000</td>\n",
       "      <td>1.000000</td>\n",
       "      <td>1.000000</td>\n",
       "    </tr>\n",
       "    <tr>\n",
       "      <th>max</th>\n",
       "      <td>5000.000000</td>\n",
       "      <td>67.000000</td>\n",
       "      <td>43.000000</td>\n",
       "      <td>224.000000</td>\n",
       "      <td>96651.000000</td>\n",
       "      <td>4.000000</td>\n",
       "      <td>10.000000</td>\n",
       "      <td>3.000000</td>\n",
       "      <td>635.000000</td>\n",
       "      <td>1.000000</td>\n",
       "      <td>1.000000</td>\n",
       "      <td>1.00000</td>\n",
       "      <td>1.000000</td>\n",
       "      <td>1.000000</td>\n",
       "    </tr>\n",
       "  </tbody>\n",
       "</table>\n",
       "</div>"
      ],
      "text/plain": [
       "                ID          Age   Experience       Income      ZIP Code  \\\n",
       "count  5000.000000  5000.000000  5000.000000  5000.000000   5000.000000   \n",
       "mean   2500.500000    45.338400    20.104600    73.774200  93152.503000   \n",
       "std    1443.520003    11.463166    11.467954    46.033729   2121.852197   \n",
       "min       1.000000    23.000000    -3.000000     8.000000   9307.000000   \n",
       "25%    1250.750000    35.000000    10.000000    39.000000  91911.000000   \n",
       "50%    2500.500000    45.000000    20.000000    64.000000  93437.000000   \n",
       "75%    3750.250000    55.000000    30.000000    98.000000  94608.000000   \n",
       "max    5000.000000    67.000000    43.000000   224.000000  96651.000000   \n",
       "\n",
       "            Family        CCAvg    Education     Mortgage  Personal Loan  \\\n",
       "count  5000.000000  5000.000000  5000.000000  5000.000000    5000.000000   \n",
       "mean      2.396400     1.937913     1.881000    56.498800       0.096000   \n",
       "std       1.147663     1.747666     0.839869   101.713802       0.294621   \n",
       "min       1.000000     0.000000     1.000000     0.000000       0.000000   \n",
       "25%       1.000000     0.700000     1.000000     0.000000       0.000000   \n",
       "50%       2.000000     1.500000     2.000000     0.000000       0.000000   \n",
       "75%       3.000000     2.500000     3.000000   101.000000       0.000000   \n",
       "max       4.000000    10.000000     3.000000   635.000000       1.000000   \n",
       "\n",
       "       Securities Account  CD Account       Online   CreditCard  \n",
       "count         5000.000000  5000.00000  5000.000000  5000.000000  \n",
       "mean             0.104400     0.06040     0.596800     0.294000  \n",
       "std              0.305809     0.23825     0.490589     0.455637  \n",
       "min              0.000000     0.00000     0.000000     0.000000  \n",
       "25%              0.000000     0.00000     0.000000     0.000000  \n",
       "50%              0.000000     0.00000     1.000000     0.000000  \n",
       "75%              0.000000     0.00000     1.000000     1.000000  \n",
       "max              1.000000     1.00000     1.000000     1.000000  "
      ]
     },
     "execution_count": 112,
     "metadata": {},
     "output_type": "execute_result"
    }
   ],
   "source": [
    "# Each Column is 1D\n",
    "\n",
    "personalLoans.describe()"
   ]
  },
  {
   "cell_type": "markdown",
   "id": "12d49c02-b037-4fe3-b8df-c47b49e76b20",
   "metadata": {
    "tags": []
   },
   "source": [
    "## 3.4 Pandas Series (1D data in 2D world)\n",
    "<hr style=\"border:2px solid gray\"> </hr>\n",
    "\n",
    "Now, as we know python lists are very flexible data types, but they are not designed with the same considerations as tabular data. For example, lists are computationally slow, and aren't necessarily designed for the workflow of AI and deep learning. \n",
    "\n",
    "To reiterate, a vector, matrix, or array can only contain numbers because then it loses its mathematical meaning. This can become problematic in Pandas Dataframes, because a row, or instance can often contain many different data types.\n",
    "\n",
    "A ***Pandas Series*** retains many of the advantages of fast computing, while remaining flexible upon the data it can handle. Not only does it do this, but it assigns human readable metadata to each feature that allows us to access everything cleanly.\n",
    "\n",
    "To show you this in an example, let's demonstrate what happens when you pull out a row of only numbers, and a row that has both numbers and text data from a Pandas DataFrame.\n",
    "\n",
    "Let's examine one of the rows of this data frame. Pay attention to the shape of this. Why is it this shape?"
   ]
  },
  {
   "cell_type": "code",
   "execution_count": 113,
   "id": "2e30a519-5021-478d-bbb4-cd148ff5c56d",
   "metadata": {},
   "outputs": [
    {
     "name": "stdout",
     "output_type": "stream",
     "text": [
      "shape of this pandas series: (14,)\n",
      "ID                        2.0\n",
      "Age                      45.0\n",
      "Experience               19.0\n",
      "Income                   34.0\n",
      "ZIP Code              90089.0\n",
      "Family                    3.0\n",
      "CCAvg                     1.5\n",
      "Education                 1.0\n",
      "Mortgage                  0.0\n",
      "Personal Loan             0.0\n",
      "Securities Account        1.0\n",
      "CD Account                0.0\n",
      "Online                    0.0\n",
      "CreditCard                0.0\n",
      "Name: 1, dtype: float64\n"
     ]
    }
   ],
   "source": [
    "instance = personalLoans.iloc[1]\n",
    "print(f'shape of this pandas series: {instance.shape}')\n",
    "print(instance)"
   ]
  },
  {
   "cell_type": "markdown",
   "id": "853fc7a9-3f5a-44b3-bee6-29cdc822a378",
   "metadata": {},
   "source": [
    "In this example, everything is the same data type. This is very convenient because we can create a pure numpy array with it quite easily."
   ]
  },
  {
   "cell_type": "code",
   "execution_count": 114,
   "id": "b7d50cf9-3257-4d14-b23f-af2394c6691c",
   "metadata": {},
   "outputs": [],
   "source": [
    "rawArray = personalLoans.values"
   ]
  },
  {
   "cell_type": "code",
   "execution_count": 115,
   "id": "be54adb9",
   "metadata": {},
   "outputs": [
    {
     "data": {
      "text/plain": [
       "array([1.0000e+00, 2.5000e+01, 1.0000e+00, 4.9000e+01, 9.1107e+04,\n",
       "       4.0000e+00, 1.6000e+00, 1.0000e+00, 0.0000e+00, 0.0000e+00,\n",
       "       1.0000e+00, 0.0000e+00, 0.0000e+00, 0.0000e+00])"
      ]
     },
     "execution_count": 115,
     "metadata": {},
     "output_type": "execute_result"
    }
   ],
   "source": [
    "rawArray[0]"
   ]
  },
  {
   "cell_type": "code",
   "execution_count": 116,
   "id": "29baa3c1",
   "metadata": {},
   "outputs": [
    {
     "data": {
      "text/plain": [
       "ID                      102.0\n",
       "Age                     145.0\n",
       "Experience              119.0\n",
       "Income                  134.0\n",
       "ZIP Code              90189.0\n",
       "Family                  103.0\n",
       "CCAvg                   101.5\n",
       "Education               101.0\n",
       "Mortgage                100.0\n",
       "Personal Loan           100.0\n",
       "Securities Account      101.0\n",
       "CD Account              100.0\n",
       "Online                  100.0\n",
       "CreditCard              100.0\n",
       "Name: 1, dtype: float64"
      ]
     },
     "execution_count": 116,
     "metadata": {},
     "output_type": "execute_result"
    }
   ],
   "source": [
    "# If we multiply this, it behaves in a predictable manner\n",
    "instance + 100"
   ]
  },
  {
   "cell_type": "markdown",
   "id": "1bdc94d5-94a1-41c9-bbd7-f7ad9fb03b8a",
   "metadata": {},
   "source": [
    "Now, what if we changed one of the data types so that it is no longer uniform across the entire row. Numpy won't be able to handle this as well as pandas. In the real world this means much higher productivity because you can mix data types which is common when dealing with real world data. "
   ]
  },
  {
   "cell_type": "code",
   "execution_count": 117,
   "id": "0da331e4-953e-40cb-8957-55453ef648c9",
   "metadata": {},
   "outputs": [],
   "source": [
    "personalLoans['ZIP Code'] = personalLoans['ZIP Code'].astype('str')"
   ]
  },
  {
   "cell_type": "markdown",
   "id": "372fd996-c074-4372-9637-c5cf52ba759f",
   "metadata": {},
   "source": [
    "Let's say that we don't want our program to interpret zip codes as a continuous variable, and treat them as unique identifiers instead. Although there is lots of information that can be extracted from zip codes, ZIP codes are a categorical variable.\n",
    "\n",
    "* Let's take another look at this "
   ]
  },
  {
   "cell_type": "code",
   "execution_count": 118,
   "id": "0f094f02-816d-48e4-8695-8d9671fe1b87",
   "metadata": {},
   "outputs": [
    {
     "name": "stdout",
     "output_type": "stream",
     "text": [
      "shape of this pandas series: (14,)\n",
      "ID                        2\n",
      "Age                      45\n",
      "Experience               19\n",
      "Income                   34\n",
      "ZIP Code              90089\n",
      "Family                    3\n",
      "CCAvg                   1.5\n",
      "Education                 1\n",
      "Mortgage                  0\n",
      "Personal Loan             0\n",
      "Securities Account        1\n",
      "CD Account                0\n",
      "Online                    0\n",
      "CreditCard                0\n",
      "Name: 1, dtype: object\n"
     ]
    }
   ],
   "source": [
    "instance = personalLoans.iloc[1]\n",
    "print(f'shape of this pandas series: {instance.shape}')\n",
    "print(instance)"
   ]
  },
  {
   "cell_type": "markdown",
   "id": "9b21060c-e822-452c-95eb-b2997f9f1ac9",
   "metadata": {},
   "source": [
    "As you may have noticed, the data type of this Pandas Series is now an object. This means that it is very general. This is one of the strengths of Pandas in it's ability to handle these kinds of real life situations. Let's see what happens when we start to use numpy or Pytorch with this same data directly.\n",
    "\n",
    "This catches all datatype, a pandas series, is a lot more resilient and easy to use than a numpy array. because it has human readable columns. "
   ]
  },
  {
   "cell_type": "code",
   "execution_count": 119,
   "id": "873384ad-a35b-4d10-abd5-2a434bb51a43",
   "metadata": {},
   "outputs": [
    {
     "data": {
      "text/plain": [
       "ID                        2\n",
       "Age                      45\n",
       "Experience               19\n",
       "Income                   34\n",
       "ZIP Code              90089\n",
       "Family                    3\n",
       "CCAvg                   1.5\n",
       "Education                 1\n",
       "Mortgage                  0\n",
       "Personal Loan             0\n",
       "Securities Account        1\n",
       "CD Account                0\n",
       "Online                    0\n",
       "CreditCard                0\n",
       "Name: 1, dtype: object"
      ]
     },
     "execution_count": 119,
     "metadata": {},
     "output_type": "execute_result"
    }
   ],
   "source": [
    "instance"
   ]
  },
  {
   "cell_type": "markdown",
   "id": "e22b96a1-a7a4-4511-8728-362197cfe656",
   "metadata": {},
   "source": [
    "Although this works, it leads to some unpredictable behavior. What happened in this code which is undesired? Also, the below code produces an error, why? "
   ]
  },
  {
   "cell_type": "code",
   "execution_count": 120,
   "id": "aa499893-77fb-4242-81b7-b05ba9759fa0",
   "metadata": {},
   "outputs": [],
   "source": [
    "#np.array(instance) + 3"
   ]
  },
  {
   "cell_type": "markdown",
   "id": "993783a9-1ed0-46ce-9f7b-a839bc14e734",
   "metadata": {},
   "source": [
    "Instead, what pandas allows us to do is to access each feature by a name that we can assign to the column. This allows for the code to be much more legible than indexing a numpy array with numbers that don't mean anything to us. \n"
   ]
  },
  {
   "cell_type": "code",
   "execution_count": 121,
   "id": "988cfb38",
   "metadata": {},
   "outputs": [
    {
     "data": {
      "text/plain": [
       "34"
      ]
     },
     "execution_count": 121,
     "metadata": {},
     "output_type": "execute_result"
    }
   ],
   "source": [
    "instance['Income']"
   ]
  },
  {
   "cell_type": "markdown",
   "id": "f8924797",
   "metadata": {},
   "source": [
    "# Part 4 : Tensors (3D or more)\n",
    "<hr style=\"border:2px solid gray\"> </hr>\n",
    "\n",
    "The last point covered here is going to be 3D or greater arrays. The area that this gets used most often is in color images. \n",
    "\n",
    "It is important to note again that a tensor in physics or mathematics has a formal definition, where in Python, it refers to a data type. "
   ]
  },
  {
   "cell_type": "markdown",
   "id": "76cdf068-52fd-46ed-9a4a-94acc33db8e3",
   "metadata": {
    "tags": []
   },
   "source": [
    "## 4.1 Key Ideas\n",
    "\n",
    "Rank: The rank of a tensor is what tells us the number of dimension it has.\n",
    "\n",
    "* A rank 0 tensor is a number with a unit e.g. 1km, 23 Celcius, 120 grams\n",
    "\n",
    "* A rank 1 tensor is a 1D array or vector\n",
    "\n",
    "* A rank 2 tensor is a 2D array or matrix\n",
    "\n",
    "* A rank 3 tensor is a 3D array or tensor\n"
   ]
  },
  {
   "cell_type": "markdown",
   "id": "941746b3-0ac7-4716-8691-7fbbda0fd955",
   "metadata": {},
   "source": [
    "Now, let's get into tensors. \n",
    "\n",
    "Let's avoid getting confused about the definitions of tensors. It's important to understand that programming concepts can use terms in a way that is a lot looser than in formal mathematics. \n",
    "\n",
    "* A tensor in python is a datatype which is optimized for use on a GPU. \n",
    "* A tensor in science and engineering is a 3D+ matrix which contains only numbers.\n",
    "\n",
    "Tensors are useful in AI because they can be stored directly on a GPU, which saves a lot of time having to move between different parts of the computer. DDR4 RAM can be transferred at around 25 Gb per second, while GPUs can go into  hundreds of Gb per second, and continue to climb. This make a huge difference in deep learning. For a fun example of how this works, you can check out this youtube video.\n",
    "\n",
    "\n",
    "https://youtu.be/-P28LKWTzrI"
   ]
  },
  {
   "cell_type": "markdown",
   "id": "4cbc4746-ac28-4946-9457-37821fd8cd72",
   "metadata": {},
   "source": [
    "Pytorch Tensors"
   ]
  },
  {
   "cell_type": "code",
   "execution_count": 122,
   "id": "0ce024b9-f50a-447c-aad7-22318a880331",
   "metadata": {},
   "outputs": [
    {
     "data": {
      "text/plain": [
       "tensor([1., 2., 3.])"
      ]
     },
     "execution_count": 122,
     "metadata": {},
     "output_type": "execute_result"
    }
   ],
   "source": [
    "import torch as t\n",
    "\n",
    "t.Tensor([1,2,3])"
   ]
  },
  {
   "cell_type": "markdown",
   "id": "cb63ef47-1a72-49b4-b5e0-a839ff399fbc",
   "metadata": {},
   "source": [
    "If you would like, you can confirm this with the followed commented out line of code. Tensors cannot accept numbers because numbers are much faster and more efficient to compute than text. "
   ]
  },
  {
   "cell_type": "code",
   "execution_count": 123,
   "id": "36e2f868-18ce-44a5-b1f0-ffbcc5f56306",
   "metadata": {},
   "outputs": [],
   "source": [
    "#t.Tensor(['a','b','c'])"
   ]
  },
  {
   "cell_type": "markdown",
   "id": "ba79b7b6-6a8d-436f-94f4-053aa0562ec3",
   "metadata": {},
   "source": [
    "## An Example of 3D Data: Image files"
   ]
  },
  {
   "cell_type": "markdown",
   "id": "8f774afb-221e-459f-b9c8-81918b3b6ec5",
   "metadata": {},
   "source": [
    "\n",
    "if an excel spreadsheet is 2D, with the properties of length and width, then a tensor is 3D+.\n",
    "\n",
    "Now, if you feel that this is a bit intimidating don't worry. Most things under the sun can be modeled in two, or sometimes three dimensions. We are simply going to add one more dimension to this\n",
    "\n",
    "A 3D tensor has the properties of length, width, and height.\n",
    "\n",
    "In practice, a python tensor will almost always be filled with numbers. This is because we live in a 3D Dimensional world where we can intuitively understand 2 or 3 dimensions.\n",
    "\n",
    "Tensors are the world of machines. Tensors can occupy higher dimensions than we can conceptualize intuitively. These dimensions are used to store information. Not being limited to 3 dimensions allows for computers to conceptualize concepts differently than we normally do using mathematical operations. \n",
    "\n"
   ]
  },
  {
   "cell_type": "code",
   "execution_count": 141,
   "id": "8356dda3-c470-487f-ab16-9f13479291d9",
   "metadata": {},
   "outputs": [],
   "source": [
    "from PIL import Image\n",
    "import numpy as np\n",
    "\n",
    "grayscaleImage = Image.open(IMAGE_DIR/'week1/unpackAI.png')\n",
    "grayscaleImage.show()"
   ]
  },
  {
   "cell_type": "markdown",
   "id": "903b9ba8-05bd-4c20-8e10-f9b4475f0c40",
   "metadata": {},
   "source": [
    "Before getting into 3D images, let's first take a 2D image and see what is under the hood. It is basically a table with numerical values in it. These values are encoded in a way that a computer knows how white or how black to make a pixel. \n",
    "\n",
    "Often, you'll see a number between 0 and 1. You might also see a number between 0 and 255. This is because the maximum amount of information held in 1 byte is 256, which is 2 to the 8th power. "
   ]
  },
  {
   "cell_type": "code",
   "execution_count": 126,
   "id": "11472c35-ac91-482a-8908-7dac91ff4ce7",
   "metadata": {},
   "outputs": [],
   "source": [
    "grayscalePixels = np.array(grayscaleImage)\n"
   ]
  },
  {
   "cell_type": "code",
   "execution_count": 127,
   "id": "11069368-ea98-4325-b828-255e14014311",
   "metadata": {},
   "outputs": [
    {
     "data": {
      "text/plain": [
       "(206, 244)"
      ]
     },
     "execution_count": 127,
     "metadata": {},
     "output_type": "execute_result"
    }
   ],
   "source": [
    "grayscalePixels.shape \n",
    "\n",
    "# This is a greyscale image\n"
   ]
  },
  {
   "cell_type": "markdown",
   "id": "111807b2-cbd4-4cc6-816c-4a16facc4e72",
   "metadata": {},
   "source": [
    "Feel Free to play around with the shape of the window. The  goal here is to understand the information as it is made. "
   ]
  },
  {
   "cell_type": "code",
   "execution_count": 128,
   "id": "524e4ec8-10be-469e-8652-20f9c0a731cb",
   "metadata": {},
   "outputs": [
    {
     "data": {
      "text/plain": [
       "array([[ 5, 15,  8,  0,  0,  0],\n",
       "       [ 5, 15,  8,  0,  0,  0],\n",
       "       [ 5, 15,  8,  0,  0,  0],\n",
       "       [ 5, 15,  8,  0,  0,  0],\n",
       "       [ 5, 15,  8,  0,  0,  0],\n",
       "       [ 5, 15,  8,  0,  0,  0],\n",
       "       [ 5, 15,  8,  0,  0,  0],\n",
       "       [ 5, 15,  8,  0,  0,  0],\n",
       "       [ 5, 15,  8,  0,  0,  0],\n",
       "       [ 5, 15,  8,  0,  0,  0]], dtype=uint8)"
      ]
     },
     "execution_count": 128,
     "metadata": {},
     "output_type": "execute_result"
    }
   ],
   "source": [
    "x_begin = 133\n",
    "x_end = 143\n",
    "y_begin = 133\n",
    "y_end = 139\n",
    "grayscalePixels[x_begin:x_end,y_begin:y_end]"
   ]
  },
  {
   "cell_type": "markdown",
   "id": "2b8a5288-6fad-4a9e-a6fc-d0e5ff865ab5",
   "metadata": {},
   "source": [
    "Let's step this up to the next level. The next image is going to have three dimensions rather than 2. This is because the array now needs to hold more information about color."
   ]
  },
  {
   "cell_type": "code",
   "execution_count": 142,
   "id": "bababdb5-a5d8-4212-a481-86bfc8c4c2c6",
   "metadata": {},
   "outputs": [],
   "source": [
    "#{{filepath}}\n",
    "colorImage = Image.open(IMAGE_DIR/'week1/Rubiks_cube.jpg')"
   ]
  },
  {
   "cell_type": "code",
   "execution_count": 130,
   "id": "cbacc85e-f944-4fc0-b11d-3369f7c43177",
   "metadata": {},
   "outputs": [
    {
     "data": {
      "text/plain": [
       "(1600, 1600, 3)"
      ]
     },
     "execution_count": 130,
     "metadata": {},
     "output_type": "execute_result"
    }
   ],
   "source": [
    "rgbArray = np.array(colorImage)\n",
    "rgbArray.shape"
   ]
  },
  {
   "cell_type": "markdown",
   "id": "fc3da120-d0fe-44f6-bab8-c7ee93da2daf",
   "metadata": {},
   "source": [
    "This is one pixel from the image. at x = 800 and y  = 800, there are three bytes of information. We can see that "
   ]
  },
  {
   "cell_type": "code",
   "execution_count": 131,
   "id": "80b30e46-ac30-4ea3-a159-77f5ee08ce3b",
   "metadata": {},
   "outputs": [
    {
     "data": {
      "text/plain": [
       "array([212, 206, 210], dtype=uint8)"
      ]
     },
     "execution_count": 131,
     "metadata": {},
     "output_type": "execute_result"
    }
   ],
   "source": [
    "# One Pixel\n",
    "rgbArray[800,800,:]"
   ]
  },
  {
   "cell_type": "code",
   "execution_count": 132,
   "id": "25179013",
   "metadata": {},
   "outputs": [
    {
     "data": {
      "text/plain": [
       "(1600, 1600, 3)"
      ]
     },
     "execution_count": 132,
     "metadata": {},
     "output_type": "execute_result"
    }
   ],
   "source": [
    "rgbArray.shape"
   ]
  },
  {
   "cell_type": "code",
   "execution_count": 133,
   "id": "12d625ee-539d-4301-b1ef-c4d5997653c4",
   "metadata": {},
   "outputs": [
    {
     "data": {
      "text/plain": [
       "array([[212, 206, 210],\n",
       "       [211, 205, 209],\n",
       "       [211, 205, 209],\n",
       "       [209, 203, 207],\n",
       "       [208, 202, 206]], dtype=uint8)"
      ]
     },
     "execution_count": 133,
     "metadata": {},
     "output_type": "execute_result"
    }
   ],
   "source": [
    "# A a row of pixels from the image \n",
    "\n",
    "rgbArray[800:805,800,:]"
   ]
  },
  {
   "cell_type": "code",
   "execution_count": 134,
   "id": "85b86cec-efc5-406e-b79b-1786604fd4b1",
   "metadata": {},
   "outputs": [
    {
     "data": {
      "image/png": "[encoded data removed]",
      "text/plain": [
       "<Figure size 432x288 with 1 Axes>"
      ]
     },
     "metadata": {
      "needs_background": "light"
     },
     "output_type": "display_data"
    }
   ],
   "source": [
    "from matplotlib import pyplot as plt\n",
    "plt.imshow(rgbArray, interpolation='nearest')\n",
    "plt.show()"
   ]
  },
  {
   "cell_type": "markdown",
   "id": "762af805",
   "metadata": {},
   "source": [
    "Let's crop out a 300 by 300 section of the image, so we can see the pixels better. "
   ]
  },
  {
   "cell_type": "code",
   "execution_count": 135,
   "id": "02ca7bcc-81c4-487d-a1f4-4be68a8b0885",
   "metadata": {},
   "outputs": [
    {
     "data": {
      "image/png": "[encoded data removed]",
      "text/plain": [
       "<Figure size 432x288 with 1 Axes>"
      ]
     },
     "metadata": {
      "needs_background": "light"
     },
     "output_type": "display_data"
    }
   ],
   "source": [
    "imageCrop = rgbArray[500:800,500:800,:]\n",
    "plt.imshow(imageCrop,interpolation='nearest')\n",
    "plt.show()"
   ]
  },
  {
   "cell_type": "code",
   "execution_count": 136,
   "id": "12f47b7e-4243-4edd-98f3-31846723cc68",
   "metadata": {},
   "outputs": [
    {
     "data": {
      "image/png": "[encoded data removed]",
      "text/plain": [
       "<Figure size 432x288 with 1 Axes>"
      ]
     },
     "metadata": {
      "needs_background": "light"
     },
     "output_type": "display_data"
    }
   ],
   "source": [
    "# red channel\n",
    "redChannel = rgbArray[:,:,0]\n",
    "plt.imshow(redChannel,interpolation='nearest')\n",
    "plt.show()"
   ]
  },
  {
   "cell_type": "code",
   "execution_count": 137,
   "id": "ebf77e64-f333-4fc4-94ac-cf7342daa10c",
   "metadata": {},
   "outputs": [
    {
     "data": {
      "image/png": "[encoded data removed]",
      "text/plain": [
       "<Figure size 432x288 with 1 Axes>"
      ]
     },
     "metadata": {
      "needs_background": "light"
     },
     "output_type": "display_data"
    }
   ],
   "source": [
    "# green channel\n",
    "greenChannel = rgbArray[:,:,1]\n",
    "plt.imshow(greenChannel,interpolation='nearest')\n",
    "plt.show()"
   ]
  },
  {
   "cell_type": "code",
   "execution_count": 138,
   "id": "350fe9fd-ed22-4aee-97b3-d94d94ffe6e4",
   "metadata": {},
   "outputs": [
    {
     "data": {
      "image/png": "[encoded data removed]",
      "text/plain": [
       "<Figure size 432x288 with 1 Axes>"
      ]
     },
     "metadata": {
      "needs_background": "light"
     },
     "output_type": "display_data"
    }
   ],
   "source": [
    "# blue channel\n",
    "blueChannel = rgbArray[:,:,2] # The two is the 'B' in rgB\n",
    "plt.imshow(blueChannel,interpolation='nearest')\n",
    "plt.show()"
   ]
  },
  {
   "cell_type": "markdown",
   "id": "cf1569e8",
   "metadata": {},
   "source": [
    "## A note about 4D and beyond\n",
    "\n",
    "\n",
    "After 3D, our brains can no longer create visual representations of the objects. However, this does not mean that we cannot understand it.\n",
    "\n",
    "Despite being limited to this, it still can be useful to represent things as 4D and keeping it together as one united piece of data that a model can look at.\n",
    "\n",
    " One example is is video data. In this case, each 3D layer is a frame of the RBG array, extended into the 4th dimension which represents time. we can imagine the 4D aspect of it as time moving across the video.\n",
    "\n",
    "This has to do with computers, and how the data is represented on it. Reality may be continuous and vast, but computers are still logical and discrete.\n",
    "\n",
    "At the end of the day, all of this data has to be somewhere on a computer. And on the  is still a flat 1D list with algebraic notation which says what dimension it is in.\n",
    "\n",
    "When even a 2D object is made in a computer program, we can always access the data and understand it algebraically.\n",
    "\n",
    "As a result, any numpy array or tensor can easily be flattened into a 1D array by collapsing the nested structure of it.\n",
    "\n"
   ]
  },
  {
   "cell_type": "code",
   "execution_count": 139,
   "id": "120fb6b5",
   "metadata": {},
   "outputs": [],
   "source": [
    "array2D = np.array([[1,1,1],[2,2,2],[3,3,3]])\n",
    "array3D = np.array([array2D,array2D,array2D])\n",
    "array4D = np.array([array3D,array3D,array3D])\n",
    "array5D = np.array([array4D,array4D,array4D])"
   ]
  },
  {
   "cell_type": "code",
   "execution_count": 140,
   "id": "e9798ba6",
   "metadata": {},
   "outputs": [
    {
     "name": "stdout",
     "output_type": "stream",
     "text": [
      "The number of elements in this 5D array is: 243\n"
     ]
    },
    {
     "data": {
      "text/plain": [
       "array([1, 1, 1, 2, 2, 2, 3, 3, 3, 1, 1, 1, 2, 2, 2, 3, 3, 3, 1, 1, 1, 2,\n",
       "       2, 2, 3, 3, 3, 1, 1, 1, 2, 2, 2, 3, 3, 3, 1, 1, 1, 2, 2, 2, 3, 3,\n",
       "       3, 1, 1, 1, 2, 2, 2, 3, 3, 3, 1, 1, 1, 2, 2, 2, 3, 3, 3, 1, 1, 1,\n",
       "       2, 2, 2, 3, 3, 3, 1, 1, 1, 2, 2, 2, 3, 3, 3, 1, 1, 1, 2, 2, 2, 3,\n",
       "       3, 3, 1, 1, 1, 2, 2, 2, 3, 3, 3, 1, 1, 1, 2, 2, 2, 3, 3, 3, 1, 1,\n",
       "       1, 2, 2, 2, 3, 3, 3, 1, 1, 1, 2, 2, 2, 3, 3, 3, 1, 1, 1, 2, 2, 2,\n",
       "       3, 3, 3, 1, 1, 1, 2, 2, 2, 3, 3, 3, 1, 1, 1, 2, 2, 2, 3, 3, 3, 1,\n",
       "       1, 1, 2, 2, 2, 3, 3, 3, 1, 1, 1, 2, 2, 2, 3, 3, 3, 1, 1, 1, 2, 2,\n",
       "       2, 3, 3, 3, 1, 1, 1, 2, 2, 2, 3, 3, 3, 1, 1, 1, 2, 2, 2, 3, 3, 3,\n",
       "       1, 1, 1, 2, 2, 2, 3, 3, 3, 1, 1, 1, 2, 2, 2, 3, 3, 3, 1, 1, 1, 2,\n",
       "       2, 2, 3, 3, 3, 1, 1, 1, 2, 2, 2, 3, 3, 3, 1, 1, 1, 2, 2, 2, 3, 3,\n",
       "       3])"
      ]
     },
     "execution_count": 140,
     "metadata": {},
     "output_type": "execute_result"
    }
   ],
   "source": [
    "print('The number of elements in this 5D array is:', len(array5D.flatten()))\n",
    "array5D.flatten()\n"
   ]
  },
  {
   "cell_type": "markdown",
   "id": "0f4a846b",
   "metadata": {},
   "source": [
    "## Summary of key Points\n",
    "\n",
    "Dimensions provide us with a convenient way to describe many different representations. \n",
    "\n",
    "\n",
    "1. A line is 1D, with the property of length\n",
    "2. A surface is 2D, with the properties of length, and width\n",
    "3. A space is 3D, with the properties of length, width, and height\n",
    "\n",
    "Similarly, if we look at many areas of life, we come across these concepts.\n",
    "\n",
    "1. An Excel Spreadsheet is 2D, with the properties of length, and width\n",
    "2. A Row in an excel spreadsheet is 1D with the property of width\n",
    "3. A column in an excel spreadsheet is also 1D, having the property of length\n",
    "\n",
    "What other areas have you encountered 1D, 2D, or 3D representations?\n",
    "\n",
    "\n",
    "<hr style=\"border:2px solid gray\"> </hr>\n",
    "\n",
    "* Data that isn't useful for AI until it is represented numerically\n",
    "\n",
    "* Data types have different purposes that balance\n",
    "\n",
    "* Numerical or non-numerical data\n",
    "\n",
    "* Compute speed vs. development speed \n",
    "\n",
    "* Structured vs Unstructured\n",
    "\n",
    "* Quantitative or Qualitative data \n",
    "\n",
    "* Dimensions or rank"
   ]
  },
  {
   "cell_type": "markdown",
   "id": "c8a9995a",
   "metadata": {},
   "source": [
    "\n",
    "<hr style=\"border:2px solid gray\"> </hr>"
   ]
  },
  {
   "cell_type": "markdown",
   "id": "f124fd3c",
   "metadata": {},
   "source": [
    "# Part 4 : Discussions - Questions"
   ]
  },
  {
   "cell_type": "markdown",
   "id": "e4714a55",
   "metadata": {},
   "source": [
    "## Multiple Answers Questions\n",
    "\n",
    "1. What is a rank-3 Tensor? What kinds of data can it represent?\n",
    "\n",
    "    A. a 4D array, that can represent more complex data such as video or weights and layers within a neural network\n",
    "\n",
    "    B. a 3D array, that can represent grayscale images, scientific data, or financial reports\n",
    "\n",
    "    C. a 3D array, that can represent color images\n",
    "\n",
    "<br></br>\n",
    "\n",
    "2. What is a rank-0 Tensor? What kinds of data can it represent? "
   ]
  },
  {
   "cell_type": "markdown",
   "id": "1303038c",
   "metadata": {},
   "source": [
    "\n",
    "3. What is .flatten()? How is a higher dimensional tensor represented in memory? "
   ]
  },
  {
   "cell_type": "markdown",
   "id": "6bc46264",
   "metadata": {},
   "source": [
    "4. What does the Pytorch method .to_fp16 do? Why would it increase performance? "
   ]
  },
  {
   "cell_type": "markdown",
   "id": "03a02a07",
   "metadata": {},
   "source": [
    "5. Why can't tensors include text data? \n",
    "\n",
    "    A. Memory constrains make it impossible.\n",
    "\n",
    "    B. Deep Learning models can only accept numbers because they are qualitative in nature. \n",
    "\n",
    "    C. Machine learning models can only accept numbers because they rely on the assumption that data must either be able to be expressed on a line/plane/hyperspace or as a probability. \n",
    "\n",
    "    D. Text data is inherently dirty. "
   ]
  },
  {
   "cell_type": "markdown",
   "id": "81f8a386",
   "metadata": {},
   "source": [
    "##  Exercises\n",
    "<hr style=\"border:2px solid gray\"> </hr>"
   ]
  },
  {
   "cell_type": "markdown",
   "id": "0f028f64",
   "metadata": {},
   "source": [
    "Let's take a look at the speed differences between python lists, numpy arrays and pytorch tensors."
   ]
  },
  {
   "cell_type": "code",
   "execution_count": 143,
   "id": "fdad93d3",
   "metadata": {},
   "outputs": [],
   "source": [
    "import random"
   ]
  },
  {
   "cell_type": "code",
   "execution_count": 144,
   "id": "b37e5a83",
   "metadata": {},
   "outputs": [
    {
     "name": "stdout",
     "output_type": "stream",
     "text": [
      "[-32, -10, -55, 35, 12]\n",
      "CPU times: user 2.54 s, sys: 1.55 s, total: 4.09 s\n",
      "Wall time: 4.08 s\n"
     ]
    }
   ],
   "source": [
    "# A list of ten million \n",
    "\n",
    "ListOfNumbers = random.choices(range(-127,127),k=10000000)\n",
    "print(ListOfNumbers[0:5])\n"
   ]
  },
  {
   "cell_type": "code",
   "execution_count": 150,
   "id": "34caaa43",
   "metadata": {},
   "outputs": [
    {
     "name": "stdout",
     "output_type": "stream",
     "text": [
      "CPU times: user 5.37 s, sys: 1.58 s, total: 6.96 s\n",
      "Wall time: 6.91 s\n"
     ]
    }
   ],
   "source": [
    "%time ListOfNumbers2 = ListOfNumbers * 100"
   ]
  },
  {
   "cell_type": "code",
   "execution_count": 151,
   "id": "7bba2bd2",
   "metadata": {},
   "outputs": [],
   "source": [
    "# adding all of the elements of the list together one by one\n",
    "\n",
    "def serial_count_sum_of_a_list(ourList):\n",
    "    count = 0\n",
    "    for i in ourList:\n",
    "        count += ourList[i]\n",
    "    return count"
   ]
  },
  {
   "cell_type": "code",
   "execution_count": 152,
   "id": "9f007ea2",
   "metadata": {},
   "outputs": [
    {
     "name": "stdout",
     "output_type": "stream",
     "text": [
      "CPU times: user 332 ms, sys: 0 ns, total: 332 ms\n",
      "Wall time: 331 ms\n"
     ]
    },
    {
     "data": {
      "text/plain": [
       "1040513"
      ]
     },
     "execution_count": 152,
     "metadata": {},
     "output_type": "execute_result"
    }
   ],
   "source": [
    "%time serial_count_sum_of_a_list(ListOfNumbers)"
   ]
  },
  {
   "cell_type": "code",
   "execution_count": 155,
   "id": "6dfe5799",
   "metadata": {},
   "outputs": [],
   "source": [
    "SeriesOfNumbers = pd.Series(ListOfNumbers).astype('int16') #remember that Series is capitalized\n"
   ]
  },
  {
   "cell_type": "code",
   "execution_count": 156,
   "id": "d4906b62",
   "metadata": {},
   "outputs": [
    {
     "name": "stdout",
     "output_type": "stream",
     "text": [
      "CPU times: user 4.47 ms, sys: 173 µs, total: 4.65 ms\n",
      "Wall time: 11.4 ms\n"
     ]
    }
   ],
   "source": [
    "%time SeriesOfNumbers2 =  SeriesOfNumbers * 100"
   ]
  },
  {
   "cell_type": "code",
   "execution_count": 159,
   "id": "a8842fd1",
   "metadata": {},
   "outputs": [],
   "source": [
    "randomSeriesOfNumbers = pd.Series(ListOfNumbers)\n",
    "randomArrayOfNumbers = np.array(ListOfNumbers).astype('int16')"
   ]
  },
  {
   "cell_type": "code",
   "execution_count": 160,
   "id": "f1cf69fa",
   "metadata": {},
   "outputs": [
    {
     "name": "stdout",
     "output_type": "stream",
     "text": [
      "CPU times: user 9.17 ms, sys: 420 µs, total: 9.59 ms\n",
      "Wall time: 8.67 ms\n"
     ]
    },
    {
     "data": {
      "text/plain": [
       "-5161932"
      ]
     },
     "execution_count": 160,
     "metadata": {},
     "output_type": "execute_result"
    }
   ],
   "source": [
    "%time randomSeriesOfNumbers.sum()"
   ]
  },
  {
   "cell_type": "markdown",
   "id": "5ec429b5",
   "metadata": {},
   "source": [
    "How much faster does a numpy array run compared to a pure Python list? "
   ]
  },
  {
   "cell_type": "markdown",
   "id": "81341d71",
   "metadata": {},
   "source": [
    "## Extension Ideas\n",
    "<hr style=\"border:2px solid gray\"> </hr>"
   ]
  },
  {
   "cell_type": "markdown",
   "id": "f4c4863e",
   "metadata": {},
   "source": [
    "Open a dataset from kaggle, load the data while looking at notebooks which do the same, and see what form it takes?\n",
    "\n",
    "Is it structured or unstructed?\n",
    "\n",
    "What are the shape and rank of the different parts of the data?\n",
    "\n",
    "Could these be represented differently?"
   ]
  },
  {
   "cell_type": "markdown",
   "id": "7adf343d-762a-437a-a10d-3431e3c001ab",
   "metadata": {},
   "source": [
    "## Appendix"
   ]
  },
  {
   "cell_type": "markdown",
   "id": "e4b69ed1-11de-452a-8d38-43569d6f85fa",
   "metadata": {},
   "source": [
    "### Numpy Data Types in Depth"
   ]
  },
  {
   "cell_type": "markdown",
   "id": "552a6623-3597-4913-8122-3a1e59c52b17",
   "metadata": {},
   "source": [
    "##### Extra: Numpy Standard Data types\n",
    "\n",
    "* Default type: int64\n",
    "\n",
    "In scientific computing, you can speicify how much memory resources should be given to each number. \n",
    "\n",
    "If you look, the default in python is int64. This allow for extremely large numbers to be used. This is chosen as the default when memory resources isn't a big concern because there is almost no change somebody will accidentally exceed the limits.\n",
    "\n",
    "This means that it is an integer between negative 9 quadrillion and positive 9 quadrillion or (-9,223,372,036,854,775,808 to 9,223,372,036,854,775,807).\n",
    "\n",
    "These are extremely large numbers. Changes are, you won't need to use this much memory for your data. If you only have a few thousand int64 numbers in your application memory isn't a problem. What is a much bigger problem is inputting a larger number than the program can allow. This can create some errors you don't want to have because you built your program under the assumption that you will never need a number larger than the limit. Python is a general purpose language, keyword general. So this is the safest number to put as a default to avoid any potential problems. \n",
    "\n",
    "* The reason why these numbers are the way they are is not relevant to this course. But what is relevant to the course is how we can speed up our code, and save computer resources. \n",
    "\n",
    "Instead, here is a table of different data types, which use significantly less resources than the default int64. It opens up a bit of danger, but if you are absolutely sure you will never use a number larger than the limits, you can speed up your program quite a bit. \n",
    "\n"
   ]
  },
  {
   "cell_type": "markdown",
   "id": "f837a1d8-9bf6-4182-9b17-ae68115824c4",
   "metadata": {},
   "source": [
    "<div class=\"inner_cell\">\n",
    "<div class=\"text_cell_render border-box-sizing rendered_html\">\n",
    "<table>\n",
    "<thead><tr>\n",
    "<th>Data type</th>\n",
    "<th>Description</th>\n",
    "</tr>\n",
    "</thead>\n",
    "<tbody>\n",
    "<tr>\n",
    "<td><code>bool_</code></td>\n",
    "<td>Boolean (True or False) stored as 8 bits</td>\n",
    "</tr>\n",
    "<tr>\n",
    "<td><code>int_</code></td>\n",
    "<td>Default integer type (same as C <code>long</code>; normally either <code>int64</code> or <code>int32</code>)</td>\n",
    "</tr>\n",
    "<tr>\n",
    "<td><code>int8</code></td>\n",
    "<td>Byte (-128 to 127)</td>\n",
    "</tr>\n",
    "<tr>\n",
    "<td><code>int16</code></td>\n",
    "<td>Integer (-32,768 to 32,767)</td>\n",
    "</tr>\n",
    "<tr>\n",
    "<td><code>int32</code></td>\n",
    "<td>Integer (-2,147,483,648 to 2,147,483,647) -2 Billion to +2 Billion</td>\n",
    "</tr>\n",
    "<tr>\n",
    "<td><code>int64</code></td>\n",
    "<td>Integer (-9223372036854775808 to 9223372036854775807)</td>\n",
    "</tr>\n",
    "<tr>\n",
    "<td><code>uint8</code></td>\n",
    "<td>Unsigned integer (0 to 255)</td>\n",
    "</tr>\n",
    "<tr>\n",
    "<td><code>uint16</code></td>\n",
    "<td>Unsigned integer (0 to 65535)</td>\n",
    "</tr>\n",
    "<tr>\n",
    "<td><code>uint32</code></td>\n",
    "<td>Unsigned integer (0 to 4294967295)</td>\n",
    "</tr>\n",
    "<tr>\n",
    "<td><code>uint64</code></td>\n",
    "<td>Unsigned integer (0 to 18446744073709551615)</td>\n",
    "</tr>\n",
    "<tr>\n",
    "<td><code>float_</code></td>\n",
    "<td>Shorthand for <code>float64</code>.</td>\n",
    "</tr>\n",
    "<tr>\n",
    "<td><code>float16</code></td>\n",
    "<td>Half precision float: sign bit, 5 bits exponent, 10 bits mantissa</td>\n",
    "</tr>\n",
    "<tr>\n",
    "<td><code>float32</code></td>\n",
    "<td>Single precision float: sign bit, 8 bits exponent, 23 bits mantissa</td>\n",
    "</tr>\n",
    "<tr>\n",
    "<td><code>float64</code></td>\n",
    "<td>Double precision float: sign bit, 11 bits exponent, 52 bits mantissa</td>\n",
    "</tr>\n",
    "</tbody>\n",
    "</table>\n",
    "\n",
    "</div>\n",
    "</div>\n",
    "</div>\n",
    "\n",
    "Source: https://jakevdp.github.io/PythonDataScienceHandbook/02.01-understanding-data-types.html"
   ]
  },
  {
   "cell_type": "markdown",
   "id": "98c0cbed-407a-42a5-a7a0-a591e465cd8e",
   "metadata": {},
   "source": [
    "In Short, if you need to improve the performance of your  code, you can choose a more efficient data type. float16 is four times smaller than float64, and int8 is 8 times smaller than int64. \n",
    "\n",
    "If you have tens or hundreds of thousands of rows, this can make a big difference in performance and prevent you from running out of RAM. "
   ]
  }
 ],
 "metadata": {
  "interpreter": {
   "hash": "b35736f271ae3a6547f08ef3ad12296102f5e6031b2a7c6493a7e5cc9f313275"
  },
  "kernelspec": {
   "display_name": "Python 3 (ipykernel)",
   "language": "python",
   "name": "python3"
  },
  "language_info": {
   "codemirror_mode": {
    "name": "ipython",
    "version": 3
   },
   "file_extension": ".py",
   "mimetype": "text/x-python",
   "name": "python",
   "nbconvert_exporter": "python",
   "pygments_lexer": "ipython3",
   "version": "3.9.7"
  },
  "toc-autonumbering": false
 },
 "nbformat": 4,
 "nbformat_minor": 5
}
