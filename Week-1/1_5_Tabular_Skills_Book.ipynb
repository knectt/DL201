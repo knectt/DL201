{
 "cells": [
  {
   "cell_type": "markdown",
   "id": "4a23431a",
   "metadata": {},
   "source": [
    "# 💻 UnpackAI DL201 Bootcamp - Week 1 - Skills: Tabular\n",
    "\n",
    "## 📕 Learning Objectives\n",
    "\n",
    "* To apply the concepts of indexing and broadcasting to utilize Pandas to perform basic EDA \n",
    "* To understand the criteria to judge a dataset's quality and suitability \n",
    "* To have an appreciation for the value of the iPython shell to interact with a server\n",
    "* To gain a command of loading CSV, JSON and Excel Files into Pandas\n",
    "* To perform basic data wrangling and EDA\n",
    "* Form a clear idea of what we want to predict/know/understand or solve\n",
    "* Rapidly Explore a dataset by thinking about key information\n",
    "\n",
    "## 📖 Concepts map\n"
   ]
  },
  {
   "cell_type": "markdown",
   "id": "62392ffe-2573-4adc-a7d1-396cfca92c7a",
   "metadata": {},
   "source": [
    "# Introduction\n",
    "<hr style=\"border:4px solid gray\"> </hr>\n",
    "\n",
    "Now that we have learned about the core concepts which underly the pandas library, we can get down to the business of applying it. \n",
    "\n",
    "But again, it is important to get moving in the right direction, with a reasonable goal with a good chance of success. For this EDA is a great tool. EDA or Exploratory Data Analysis. The following article provides a great overview of the philosophy behind EDA.\n",
    "\n",
    "https://www.statisticshowto.com/probability-and-statistics/data-analysis/#edadefinition"
   ]
  },
  {
   "cell_type": "markdown",
   "id": "8862c39b",
   "metadata": {},
   "source": [
    "# Part 0 : Code preparation"
   ]
  },
  {
   "cell_type": "code",
   "execution_count": 4,
   "id": "f75add0d-f5b1-4aeb-b42c-52f0b0aadbca",
   "metadata": {},
   "outputs": [
    {
     "name": "stdout",
     "output_type": "stream",
     "text": [
      "fatal: destination path 'DL201' already exists and is not an empty directory.\n"
     ]
    }
   ],
   "source": [
    "#Imports \n",
    "!pip install pycaret[full] --user -qq\n",
    "!pip install openpyxl matplotlib -qq\n",
    "!git clone https://github.com/unpackAI/DL201.git\n",
    "\n",
    "import pandas as pd\n",
    "import numpy as np\n",
    "from matplotlib import pyplot as plt\n",
    "import pycaret\n",
    "# Imports \n",
    "from pathlib import Path\n",
    "\n",
    "#Kaggle config\n",
    "DATA_DIR = Path('/kaggle/working/DL201/data') #uncomment for kaggle\n",
    "IMAGE_DIR = Path('/kaggle/working/DL201/img') #Uncomment for Kaggle\n",
    "\n",
    "# Local Config\n",
    "#DATA_DIR = Path.home()/'Datasets'/'unpackAI'/'DL201'/'data'\n",
    "#IMAGE_DIR = Path('../img') #uncomment for local machine"
   ]
  },
  {
   "cell_type": "markdown",
   "id": "e9e2a492",
   "metadata": {},
   "source": [
    "# Part 1: Loading the Data into a Dataframe\n",
    "<hr style=\"border:4px solid gray\"> </hr>"
   ]
  },
  {
   "cell_type": "markdown",
   "id": "bddc04fc",
   "metadata": {},
   "source": [
    "## Section 1 : Common file formats"
   ]
  },
  {
   "cell_type": "markdown",
   "id": "9e62c5fc",
   "metadata": {},
   "source": [
    "For tabular data, most of the files encountered will be within the following groups. "
   ]
  },
  {
   "cell_type": "markdown",
   "id": "5796f47d",
   "metadata": {},
   "source": [
    "### Format 1 : CSV and TSV Files\n",
    "<hr style=\"border:2px solid gray\"> </hr>"
   ]
  },
  {
   "cell_type": "markdown",
   "id": "808b98cd-e300-4166-a194-40ee900295a7",
   "metadata": {},
   "source": [
    "Csv is short for comma seperated values. CSV files are designed to work with lists and tables of data.\n",
    "\n",
    "They are the most lightweight kind of files. They have a long history going back around 50 years to the early 1970s. \n",
    "\n",
    "If you would like to learn more about it, this article gives more information. \n",
    "\n",
    "https://bytescout.com/blog/csv-format-history-advantages.html\n"
   ]
  },
  {
   "cell_type": "markdown",
   "id": "d2064b28",
   "metadata": {},
   "source": [
    "\n",
    "\n",
    "Pandas has excellent functionality for csv files.\n",
    "\n",
    "The method: \".read_csv\" can handle almost all of the initial setup without passing any commands or arguments. However, sometimes we will need to input keyword arguments\n",
    "\n",
    "https://pandas.pydata.org/docs/reference/api/pandas.read_csv.html\n"
   ]
  },
  {
   "cell_type": "markdown",
   "id": "8d848869",
   "metadata": {},
   "source": [
    "Pandas has execellent functionality for csv files.\n",
    "\n",
    "The method: \".read_csv\" can handle almost all of the initial setup without passing any commands or arguements.\n",
    "\n",
    "However, it is important to understand the following concepts\n",
    "\n",
    "1. Seperator / Delimiter: How the file is broken up into value\n",
    "\n",
    "2. Header: The column names\n",
    "\n",
    "3. Encoding: Simply put, what language the file is written in e.g. English, Chinese\n",
    "\n",
    "If we can pass these arguements to Pandas, it resolves a lot of the ambiguitites. If you end up needing more, you can check the pandas documentation here. \n",
    "\n",
    "https://pandas.pydata.org/docs/reference/api/pandas.read_csv.html\n",
    "\n",
    "#### Key Idea: Shape\n",
    "<hr style=\"border:2px solid gray\"> </hr>\n",
    "\n",
    "Look at the information about the file, and see what the shape of it should be.\n",
    "\n",
    "The width of the table(s) is going to correspond to the number of columns, variables, or features.\n",
    "\n",
    "The length of the table is going to correspond to the number of rows, samples, or instances.\n",
    "\n",
    "When the file loads, it should be the same shape that you expected, and if it is not, then it means that it did not load properly."
   ]
  },
  {
   "cell_type": "markdown",
   "id": "f0d830e6",
   "metadata": {},
   "source": [
    "### Format 2 : Excel Spreadsheets\n",
    "<hr style=\"border:2px solid gray\"> </hr>"
   ]
  },
  {
   "cell_type": "markdown",
   "id": "67c5f44e",
   "metadata": {},
   "source": [
    "Excel Spreadsheets are another standard that are used. However, they have to have an additional layer of information storing.\n",
    "\n",
    "Where csv files can store text or numerical information, Excel spreadsheets also need to store information about the formatting and style. For example, the fonts, size, color, highlighting, et. cetera. This information gets stripped away when you use .read_excel without any arguements. \n",
    "\n",
    "However, if you do need to get the formatting and style information that can be had using openpyxl or other libraries. "
   ]
  },
  {
   "cell_type": "markdown",
   "id": "dbb3d60e",
   "metadata": {},
   "source": [
    "### Format 3 : JSON\n",
    "<hr style=\"border:2px solid gray\"> </hr>"
   ]
  },
  {
   "cell_type": "markdown",
   "id": "6538bcbb",
   "metadata": {},
   "source": [
    "While CSV files are for tables, JSON is a format which is short for Javascript Object Notation. \n",
    "\n",
    "With the rise of the internet, csv was not sufficient anymore for HTML websites. This is because websites are heirarchical, with a nested HTML structure. Since Javascript is the nearly exclusive language of web browsers, JSON is used to transfer data over the web, especially APIs.\n",
    "\n",
    "However, like how Javascript has little to do with Java, JSON has outgrown Javascript to become a file standard in and of its own. It is most often used in APIs. \n",
    "\n",
    "This means that if you need to get real time data for a model, it could come in JSON format. \n",
    "\n",
    "pandas.read_json() can make an API request and get data directly from the web. However, the JSON data needs to be organized in a way which is highly regular and translates to a table structure.\n",
    "\n",
    "JSON is much more flexible than csv files, but has a different paradigm which will be covered in the NLP notebook."
   ]
  },
  {
   "cell_type": "markdown",
   "id": "28aa5d1a",
   "metadata": {},
   "source": [
    "### Format 4 : Proprietary File Formats \n",
    "<hr style=\"border:2px solid gray\"> </hr>"
   ]
  },
  {
   "cell_type": "markdown",
   "id": "8ddfce06",
   "metadata": {},
   "source": [
    "Ideally, the data should be exported in a standard file format. However, some software or industries use their own formats. This is a cautionary place\n",
    "\n",
    "There are two main reasons why they use a non standard file format. One reason would be that the table like structure of a csv or a hierarchical structure of a JSON file wouldn't fit the use case and would be inefficient way to store the data. \n",
    "\n",
    "The other main reason could be  that it they want this data to be locked into their ecosystem, so they make it difficult to read the files without using their proprietary software. \n",
    "\n",
    "If the data is not stored in a standard file format, this is a word of caution. If it can't be easily converted into an open format like .csv, then it may be a sign that the information needed to move forward is expertise that you may need to pay someone for because there's not a large open source community surrounding it.."
   ]
  },
  {
   "cell_type": "markdown",
   "id": "00f3ce65",
   "metadata": {},
   "source": [
    "## Section 2 : Encodings\n",
    "<hr style=\"border:2px solid gray\"> </hr>\n",
    "\n",
    "It used to be that ascii and UTF-8 were the only encodings, but now there are many types and subtypes which are used for various reasons. \n",
    "\n",
    "One clear reason has to do with languages. Since Chinese and Japanese contain a much larger character set, they can't be encoded in the same way as European Languages. This leads to different standards being used.\n",
    "\n",
    "Another reason is the country or region may use a different encoding. Europe has different standards than North America, as do other regions of the world. These differences may be arbitrary, but at the end of the day it means that pandas won't immediately recognize the file.\n",
    "\n",
    "We also could consider that different applications and data sources use different encodings for internal reasons. If a CSV is exported from a proprietary software, they could use a different encoding with little explaination as to why.\n",
    "\n",
    "While there are many reasons why these different encodings are used, what is important is that we need to find out which one is used.\n",
    "\n",
    "The easiest way to do this is to see if other people have made use of this dataset and shared their efforts online as open source. You can control-f search their code to find pd.read_csv in order to see what encoding they use. This can be done while doing preliminary explorations of the data. \n",
    "\n",
    "The second way is to use a tool in python that can make a guess at the encodings called chardet, which is short for **character detection**"
   ]
  },
  {
   "cell_type": "markdown",
   "id": "681f2fd3",
   "metadata": {},
   "source": [
    "### Good Tool to find the coding of a file : chardet\n",
    "<hr style=\"border:1px solid gray\"> </hr>\n",
    "\n",
    "This library can be used to quickly determine what the characters in the fle are and can save a lot of time. Feel free to skip over this part of the notebook if you don't have encoding problems, but keep it in mind for later.\n",
    "\n",
    "https://dev.to/bowmanjd/character-encodings-and-detection-with-python-chardet-and-cchardet-4hj7"
   ]
  },
  {
   "cell_type": "code",
   "execution_count": 2,
   "id": "38cb6d75",
   "metadata": {},
   "outputs": [
    {
     "name": "stdout",
     "output_type": "stream",
     "text": [
      "Requirement already satisfied: cchardet in /home/jentlejames/anaconda3/envs/pycaretAutoML/lib/python3.8/site-packages (2.1.7)\n"
     ]
    }
   ],
   "source": [
    "!pip install cchardet\n",
    "\n",
    "from pathlib import Path\n",
    "import sys\n",
    "\n",
    "import cchardet as chardet\n",
    "\n",
    "\n",
    "def detect_encoding(filename):\n",
    "    \"\"\"Detect encoding and return decoded text, encoding, and confidence level.\"\"\"\n",
    "    filepath = Path(filename)\n",
    "\n",
    "    # We must read as binary (bytes) because we don't yet know encoding\n",
    "    blob = filepath.read_bytes()\n",
    "\n",
    "    detection = chardet.detect(blob)\n",
    "    encoding = detection[\"encoding\"]\n",
    "    confidence = detection[\"confidence\"]\n",
    "    text = blob.decode(encoding)\n",
    "    \n",
    "    print(f'Prediction: {encoding} with {confidence} percent confidence')\n",
    "\n",
    "    return (text, encoding, confidence)\n",
    "\n",
    "sample_text_utf8 = \"ça ne m'intéresse pas du tout \"\n",
    "sample_text_ascii = sample_text_utf8.encode(\"ascii\",\"ignore\")\n",
    "\n",
    "file_handle = open('sample_text_utf', 'w')\n",
    "file_handle.write(sample_text_utf8)\n",
    "file_handle.close()\n",
    "\n",
    "file_handle = open('sample_text_ascii', 'w')\n",
    "file_handle.write(str(sample_text_ascii))\n",
    "file_handle.close()\n",
    "\n",
    "detect_encoding(filename=\"sample_text_utf\")\n",
    "detect_encoding(filename=\"sample_text_ascii\")"
   ]
  },
  {
   "cell_type": "markdown",
   "id": "7ffa03e7",
   "metadata": {},
   "source": [
    "Congratulations, you have now found the encoding of your file, and can now open in into pandas"
   ]
  },
  {
   "cell_type": "markdown",
   "id": "3584a9ad",
   "metadata": {},
   "source": [
    "## Section 3 : Seperators and Delimiters (.CSV vs.TSV)\n",
    "<hr style=\"border:2px solid gray\"> </hr>\n",
    "\n",
    "The next important step is to understand the seperator. Similarly to how higher dimensional objects are all stored in memory as nested 1D arrays, these seperators are what tell the computer what the table is supposed to look like. \n",
    "\n",
    "If something goes wrong with the seperator, then the shape is going to be affected.  "
   ]
  },
  {
   "cell_type": "markdown",
   "id": "f91fc5a1-0a66-4a33-973d-d3c7f21699e7",
   "metadata": {},
   "source": [
    "Here, we have a very messy file, which is a list of Chinese Vocabulary from HSK3. It has a file ending of .txt which means that it doesn't tell pandas what to look for as the seperator.\n",
    "\n",
    "This is a good example to use because most things are quite unclear, so we have to tell pandas everything.\n"
   ]
  },
  {
   "cell_type": "code",
   "execution_count": 4,
   "id": "8c188f9a-40f1-4c06-a73f-2df3d6a87a24",
   "metadata": {},
   "outputs": [],
   "source": [
    "hskVocabPath = DATA_DIR/'ChineseVocabulary'/'HSK Official With Definitions 2012 L3 freqorder.txt'"
   ]
  },
  {
   "cell_type": "code",
   "execution_count": 5,
   "id": "fd9b8b5a-f7a1-42e2-965e-09ba50750b90",
   "metadata": {},
   "outputs": [
    {
     "name": "stdout",
     "output_type": "stream",
     "text": [
      "(299, 12)\n"
     ]
    }
   ],
   "source": [
    "hskVocab = pd.read_csv(hskVocabPath)\n",
    "print(hskVocab.shape)"
   ]
  },
  {
   "cell_type": "code",
   "execution_count": 6,
   "id": "857c0cff",
   "metadata": {},
   "outputs": [],
   "source": [
    "#hskVocab.head()"
   ]
  },
  {
   "cell_type": "markdown",
   "id": "8b20aa9c",
   "metadata": {},
   "source": [
    "Because we did not specify the seperator, then the structure this data is not clear, which is why it comes out as a mess. However, there are clues in this .head() example. There are clear \\t instances.\n",
    "\n",
    "The \\ forward slash character is very significant in computing because it's an escape character meant for the computer. You are not supposed to see it in a .txt file for humans to read.\n",
    "\n",
    "If you see any forward slashes in this, it's a red flag. Now, since the method is called .read_csv, the default value for the separator is a comma (,).\n",
    "\n",
    "However, there are also many instances of | being used as well. This shows us as \\t in files.\n",
    "\n",
    "        Let's specify the separator now.\n"
   ]
  },
  {
   "cell_type": "code",
   "execution_count": 7,
   "id": "0f34ae29-6e26-4103-83cc-23f9b72810fe",
   "metadata": {},
   "outputs": [
    {
     "name": "stdout",
     "output_type": "stream",
     "text": [
      "(299, 5)\n"
     ]
    }
   ],
   "source": [
    "hskVocab = pd.read_csv(hskVocabPath,\n",
    "                       sep='\\t'\n",
    "                      )\n",
    "print(hskVocab.shape)"
   ]
  },
  {
   "cell_type": "markdown",
   "id": "4905cac0",
   "metadata": {},
   "source": [
    "Now, this worked, but there is still something happening to the shape of the table. We had been expecting 300 words, but now there are 299. This means that Pandas is not interpreting the file correctly."
   ]
  },
  {
   "cell_type": "markdown",
   "id": "553ca6fb",
   "metadata": {},
   "source": [
    "## Section 4 : File Headers and Indices\n",
    "<hr style=\"border:2px solid gray\"> </hr>\n",
    "\n",
    "Now, the rows and columns are close, but are one off the indended shape, then the next thing we need to think about is confirming what the file header and indices are. \n",
    "\n",
    "We can confirm this with .head()\n",
    "\n",
    "By looking at the first row, it offers clues to what to how the column names and the indices are contained in the original data. "
   ]
  },
  {
   "cell_type": "code",
   "execution_count": 8,
   "id": "22ec9818",
   "metadata": {},
   "outputs": [
    {
     "data": {
      "text/html": [
       "<div>\n",
       "<style scoped>\n",
       "    .dataframe tbody tr th:only-of-type {\n",
       "        vertical-align: middle;\n",
       "    }\n",
       "\n",
       "    .dataframe tbody tr th {\n",
       "        vertical-align: top;\n",
       "    }\n",
       "\n",
       "    .dataframe thead th {\n",
       "        text-align: right;\n",
       "    }\n",
       "</style>\n",
       "<table border=\"1\" class=\"dataframe\">\n",
       "  <thead>\n",
       "    <tr style=\"text-align: right;\">\n",
       "      <th></th>\n",
       "      <th>啊</th>\n",
       "      <th>啊.1</th>\n",
       "      <th>a1, a2, a3, a4, a5</th>\n",
       "      <th>ā, á, ǎ, à, a</th>\n",
       "      <th>ah; (particle showing elation, doubt, puzzled surprise, or approval)</th>\n",
       "    </tr>\n",
       "  </thead>\n",
       "  <tbody>\n",
       "    <tr>\n",
       "      <th>0</th>\n",
       "      <td>还</td>\n",
       "      <td>還</td>\n",
       "      <td>hai2, huan2</td>\n",
       "      <td>hái, huán</td>\n",
       "      <td>still; yet; in addition; even | repay; to return</td>\n",
       "    </tr>\n",
       "    <tr>\n",
       "      <th>1</th>\n",
       "      <td>把</td>\n",
       "      <td>把</td>\n",
       "      <td>ba3, ba4</td>\n",
       "      <td>bǎ, bà</td>\n",
       "      <td>(mw for things with handles); (pretransitive p...</td>\n",
       "    </tr>\n",
       "    <tr>\n",
       "      <th>2</th>\n",
       "      <td>过</td>\n",
       "      <td>過</td>\n",
       "      <td>guo4</td>\n",
       "      <td>guò</td>\n",
       "      <td>to pass; to cross; go over; (indicates a past ...</td>\n",
       "    </tr>\n",
       "    <tr>\n",
       "      <th>3</th>\n",
       "      <td>如果</td>\n",
       "      <td>如果</td>\n",
       "      <td>ru2guo3</td>\n",
       "      <td>rúguǒ</td>\n",
       "      <td>if; in the event that</td>\n",
       "    </tr>\n",
       "    <tr>\n",
       "      <th>4</th>\n",
       "      <td>只</td>\n",
       "      <td>隻</td>\n",
       "      <td>zhi3, zhi1</td>\n",
       "      <td>zhǐ, zhī</td>\n",
       "      <td>only; merely; just; but | (mw for birds and ce...</td>\n",
       "    </tr>\n",
       "  </tbody>\n",
       "</table>\n",
       "</div>"
      ],
      "text/plain": [
       "    啊 啊.1 a1, a2, a3, a4, a5 ā, á, ǎ, à, a  \\\n",
       "0   还   還        hai2, huan2     hái, huán   \n",
       "1   把   把           ba3, ba4        bǎ, bà   \n",
       "2   过   過               guo4           guò   \n",
       "3  如果  如果            ru2guo3         rúguǒ   \n",
       "4   只   隻         zhi3, zhi1      zhǐ, zhī   \n",
       "\n",
       "  ah; (particle showing elation, doubt, puzzled surprise, or approval)  \n",
       "0   still; yet; in addition; even | repay; to return                    \n",
       "1  (mw for things with handles); (pretransitive p...                    \n",
       "2  to pass; to cross; go over; (indicates a past ...                    \n",
       "3                              if; in the event that                    \n",
       "4  only; merely; just; but | (mw for birds and ce...                    "
      ]
     },
     "execution_count": 8,
     "metadata": {},
     "output_type": "execute_result"
    }
   ],
   "source": [
    "hskVocab.head()"
   ]
  },
  {
   "cell_type": "markdown",
   "id": "48fa31a4",
   "metadata": {},
   "source": [
    "In place of columns, the first values in the table have been selected and inferred to be the names. \n",
    "\n",
    "As .head() shows it is clearly the case that this dataset has no columns names."
   ]
  },
  {
   "cell_type": "code",
   "execution_count": 9,
   "id": "629e6dda",
   "metadata": {},
   "outputs": [
    {
     "data": {
      "text/plain": [
       "'还'"
      ]
     },
     "execution_count": 9,
     "metadata": {},
     "output_type": "execute_result"
    }
   ],
   "source": [
    "# Ahh???\n",
    "hskVocab['啊'].iloc[0]\n"
   ]
  },
  {
   "cell_type": "code",
   "execution_count": 10,
   "id": "956dc06c",
   "metadata": {},
   "outputs": [
    {
     "name": "stdout",
     "output_type": "stream",
     "text": [
      "(300, 5)\n"
     ]
    }
   ],
   "source": [
    "hskVocab = pd.read_csv(hskVocabPath,\n",
    "                       header = None,\n",
    "                       index_col = None,\n",
    "                       sep='\\t'\n",
    "                      )\n",
    "print(hskVocab.shape)"
   ]
  },
  {
   "cell_type": "markdown",
   "id": "466d3499",
   "metadata": {},
   "source": [
    "Now the shape is correct, but now we need to name the columns. "
   ]
  },
  {
   "cell_type": "code",
   "execution_count": 11,
   "id": "c9d275ff",
   "metadata": {},
   "outputs": [
    {
     "data": {
      "text/html": [
       "<div>\n",
       "<style scoped>\n",
       "    .dataframe tbody tr th:only-of-type {\n",
       "        vertical-align: middle;\n",
       "    }\n",
       "\n",
       "    .dataframe tbody tr th {\n",
       "        vertical-align: top;\n",
       "    }\n",
       "\n",
       "    .dataframe thead th {\n",
       "        text-align: right;\n",
       "    }\n",
       "</style>\n",
       "<table border=\"1\" class=\"dataframe\">\n",
       "  <thead>\n",
       "    <tr style=\"text-align: right;\">\n",
       "      <th></th>\n",
       "      <th>0</th>\n",
       "      <th>1</th>\n",
       "      <th>2</th>\n",
       "      <th>3</th>\n",
       "      <th>4</th>\n",
       "    </tr>\n",
       "  </thead>\n",
       "  <tbody>\n",
       "    <tr>\n",
       "      <th>0</th>\n",
       "      <td>啊</td>\n",
       "      <td>啊</td>\n",
       "      <td>a1, a2, a3, a4, a5</td>\n",
       "      <td>ā, á, ǎ, à, a</td>\n",
       "      <td>ah; (particle showing elation, doubt, puzzled ...</td>\n",
       "    </tr>\n",
       "    <tr>\n",
       "      <th>1</th>\n",
       "      <td>还</td>\n",
       "      <td>還</td>\n",
       "      <td>hai2, huan2</td>\n",
       "      <td>hái, huán</td>\n",
       "      <td>still; yet; in addition; even | repay; to return</td>\n",
       "    </tr>\n",
       "    <tr>\n",
       "      <th>2</th>\n",
       "      <td>把</td>\n",
       "      <td>把</td>\n",
       "      <td>ba3, ba4</td>\n",
       "      <td>bǎ, bà</td>\n",
       "      <td>(mw for things with handles); (pretransitive p...</td>\n",
       "    </tr>\n",
       "    <tr>\n",
       "      <th>3</th>\n",
       "      <td>过</td>\n",
       "      <td>過</td>\n",
       "      <td>guo4</td>\n",
       "      <td>guò</td>\n",
       "      <td>to pass; to cross; go over; (indicates a past ...</td>\n",
       "    </tr>\n",
       "    <tr>\n",
       "      <th>4</th>\n",
       "      <td>如果</td>\n",
       "      <td>如果</td>\n",
       "      <td>ru2guo3</td>\n",
       "      <td>rúguǒ</td>\n",
       "      <td>if; in the event that</td>\n",
       "    </tr>\n",
       "  </tbody>\n",
       "</table>\n",
       "</div>"
      ],
      "text/plain": [
       "    0   1                   2              3  \\\n",
       "0   啊   啊  a1, a2, a3, a4, a5  ā, á, ǎ, à, a   \n",
       "1   还   還         hai2, huan2      hái, huán   \n",
       "2   把   把            ba3, ba4         bǎ, bà   \n",
       "3   过   過                guo4            guò   \n",
       "4  如果  如果             ru2guo3          rúguǒ   \n",
       "\n",
       "                                                   4  \n",
       "0  ah; (particle showing elation, doubt, puzzled ...  \n",
       "1   still; yet; in addition; even | repay; to return  \n",
       "2  (mw for things with handles); (pretransitive p...  \n",
       "3  to pass; to cross; go over; (indicates a past ...  \n",
       "4                              if; in the event that  "
      ]
     },
     "execution_count": 11,
     "metadata": {},
     "output_type": "execute_result"
    }
   ],
   "source": [
    "hskVocab.head()"
   ]
  },
  {
   "cell_type": "code",
   "execution_count": 1,
   "id": "4692a406",
   "metadata": {},
   "outputs": [
    {
     "ename": "NameError",
     "evalue": "name 'hskVocab' is not defined",
     "output_type": "error",
     "traceback": [
      "\u001b[0;31m---------------------------------------------------------------------------\u001b[0m",
      "\u001b[0;31mNameError\u001b[0m                                 Traceback (most recent call last)",
      "Input \u001b[0;32mIn [1]\u001b[0m, in \u001b[0;36m<module>\u001b[0;34m\u001b[0m\n\u001b[1;32m      1\u001b[0m hskVocabColumns \u001b[38;5;241m=\u001b[39m [\u001b[38;5;124m'\u001b[39m\u001b[38;5;124mSimplified\u001b[39m\u001b[38;5;124m'\u001b[39m,\u001b[38;5;124m'\u001b[39m\u001b[38;5;124mTraditional\u001b[39m\u001b[38;5;124m'\u001b[39m,\u001b[38;5;124m'\u001b[39m\u001b[38;5;124mPinyin_Numeric\u001b[39m\u001b[38;5;124m'\u001b[39m,\u001b[38;5;124m'\u001b[39m\u001b[38;5;124mPinyin_Accented\u001b[39m\u001b[38;5;124m'\u001b[39m,\u001b[38;5;124m'\u001b[39m\u001b[38;5;124mDefinition\u001b[39m\u001b[38;5;124m'\u001b[39m]\n\u001b[0;32m----> 2\u001b[0m \u001b[43mhskVocab\u001b[49m\u001b[38;5;241m.\u001b[39mcolumns \u001b[38;5;241m=\u001b[39m hskVocabColumns\n\u001b[1;32m      3\u001b[0m hskVocab\u001b[38;5;241m.\u001b[39mhead()\n",
      "\u001b[0;31mNameError\u001b[0m: name 'hskVocab' is not defined"
     ]
    }
   ],
   "source": [
    "hskVocabColumns = ['Simplified','Traditional','Pinyin_Numeric','Pinyin_Accented','Definition']\n",
    "hskVocab.columns = hskVocabColumns\n",
    "hskVocab.head()"
   ]
  },
  {
   "cell_type": "markdown",
   "id": "bbc4a378",
   "metadata": {},
   "source": [
    "Now that these problems have been solved, we can move onto some basic EDA."
   ]
  },
  {
   "cell_type": "markdown",
   "id": "8438858f",
   "metadata": {},
   "source": [
    "# Part 2: EDA (Exploratory Data Analysis)\n",
    "<hr style=\"border:4px solid gray\"> </hr>"
   ]
  },
  {
   "cell_type": "markdown",
   "id": "23890697",
   "metadata": {},
   "source": [
    "Key idea: Coarse to fine\n",
    "\n",
    "Let's get a broad idea of what it looks like with the goai lfo determing\n",
    "\n",
    "*How clean is the dataset? \n",
    "    * How many missing values are there? \n",
    "    * Are there any columns containing messy data? \n",
    "<br></br>\n",
    "What are the features?\n",
    "    * What are the features (x)?\n",
    "    * What is the target variable (y)?\n",
    "    * Which features are most important and of interest?\n",
    "        * How visible is it to the model? \n",
    "    * What kinds of variables are there?\n",
    "        * What are the continuous variables?\n",
    "            * Are they normally distributed? \n",
    "        * What are the categorical variables? \n",
    "            * Are they high or low cardinality? \n",
    "        "
   ]
  },
  {
   "cell_type": "markdown",
   "id": "31de215d",
   "metadata": {},
   "source": [
    "## Section 1 : Coarse EDA \n",
    "<hr style=\"border:4px solid gray\"> </hr>"
   ]
  },
  {
   "cell_type": "markdown",
   "id": "e2a84569",
   "metadata": {},
   "source": [
    "When performing EDA, the first steps involve getting the most high level information about the dataset, then exploring different parts of it with greater detail when you find something to focus on.\n",
    "\n",
    "This is an excellent dataset about house prices, with a mix of continous and categorical variables to work with.\n",
    "\n",
    "There is a large community of people who have published notebooks on almost every aspect of this dataset, so there are many examples of people taking different approaches. It is a good jumping off place to learn how different EDA and Preprocessing techniques can be applied to a relatively clean dataset.\n",
    "\n",
    "\n",
    "https://www.kaggle.com/c/house-prices-advanced-regression-techniques/code?competitionId=5407&sortBy=voteCount"
   ]
  },
  {
   "cell_type": "code",
   "execution_count": 13,
   "id": "8cdd413e",
   "metadata": {},
   "outputs": [],
   "source": [
    "housePricesFilePath = DATA_DIR/'house-prices'/'train.csv'\n",
    "\n",
    "houses_df = pd.read_csv(housePricesFilePath,index_col=0)"
   ]
  },
  {
   "cell_type": "code",
   "execution_count": 14,
   "id": "1888ee4e",
   "metadata": {},
   "outputs": [
    {
     "data": {
      "text/plain": [
       "(1460, 80)"
      ]
     },
     "execution_count": 14,
     "metadata": {},
     "output_type": "execute_result"
    }
   ],
   "source": [
    "houses_df.shape"
   ]
  },
  {
   "cell_type": "code",
   "execution_count": 15,
   "id": "fa274d83",
   "metadata": {},
   "outputs": [
    {
     "name": "stdout",
     "output_type": "stream",
     "text": [
      "Number of data points:\n",
      "116800\n"
     ]
    }
   ],
   "source": [
    "print('Number of data points:') \n",
    "print(len(houses_df.values.flatten()))"
   ]
  },
  {
   "cell_type": "code",
   "execution_count": 16,
   "id": "1fe620d0",
   "metadata": {},
   "outputs": [
    {
     "data": {
      "text/html": [
       "<div>\n",
       "<style scoped>\n",
       "    .dataframe tbody tr th:only-of-type {\n",
       "        vertical-align: middle;\n",
       "    }\n",
       "\n",
       "    .dataframe tbody tr th {\n",
       "        vertical-align: top;\n",
       "    }\n",
       "\n",
       "    .dataframe thead th {\n",
       "        text-align: right;\n",
       "    }\n",
       "</style>\n",
       "<table border=\"1\" class=\"dataframe\">\n",
       "  <thead>\n",
       "    <tr style=\"text-align: right;\">\n",
       "      <th></th>\n",
       "      <th>MSSubClass</th>\n",
       "      <th>MSZoning</th>\n",
       "      <th>LotFrontage</th>\n",
       "      <th>LotArea</th>\n",
       "      <th>Street</th>\n",
       "      <th>Alley</th>\n",
       "      <th>LotShape</th>\n",
       "      <th>LandContour</th>\n",
       "      <th>Utilities</th>\n",
       "      <th>LotConfig</th>\n",
       "      <th>...</th>\n",
       "      <th>PoolArea</th>\n",
       "      <th>PoolQC</th>\n",
       "      <th>Fence</th>\n",
       "      <th>MiscFeature</th>\n",
       "      <th>MiscVal</th>\n",
       "      <th>MoSold</th>\n",
       "      <th>YrSold</th>\n",
       "      <th>SaleType</th>\n",
       "      <th>SaleCondition</th>\n",
       "      <th>SalePrice</th>\n",
       "    </tr>\n",
       "    <tr>\n",
       "      <th>Id</th>\n",
       "      <th></th>\n",
       "      <th></th>\n",
       "      <th></th>\n",
       "      <th></th>\n",
       "      <th></th>\n",
       "      <th></th>\n",
       "      <th></th>\n",
       "      <th></th>\n",
       "      <th></th>\n",
       "      <th></th>\n",
       "      <th></th>\n",
       "      <th></th>\n",
       "      <th></th>\n",
       "      <th></th>\n",
       "      <th></th>\n",
       "      <th></th>\n",
       "      <th></th>\n",
       "      <th></th>\n",
       "      <th></th>\n",
       "      <th></th>\n",
       "      <th></th>\n",
       "    </tr>\n",
       "  </thead>\n",
       "  <tbody>\n",
       "    <tr>\n",
       "      <th>1</th>\n",
       "      <td>60</td>\n",
       "      <td>RL</td>\n",
       "      <td>65.0</td>\n",
       "      <td>8450</td>\n",
       "      <td>Pave</td>\n",
       "      <td>NaN</td>\n",
       "      <td>Reg</td>\n",
       "      <td>Lvl</td>\n",
       "      <td>AllPub</td>\n",
       "      <td>Inside</td>\n",
       "      <td>...</td>\n",
       "      <td>0</td>\n",
       "      <td>NaN</td>\n",
       "      <td>NaN</td>\n",
       "      <td>NaN</td>\n",
       "      <td>0</td>\n",
       "      <td>2</td>\n",
       "      <td>2008</td>\n",
       "      <td>WD</td>\n",
       "      <td>Normal</td>\n",
       "      <td>208500</td>\n",
       "    </tr>\n",
       "    <tr>\n",
       "      <th>2</th>\n",
       "      <td>20</td>\n",
       "      <td>RL</td>\n",
       "      <td>80.0</td>\n",
       "      <td>9600</td>\n",
       "      <td>Pave</td>\n",
       "      <td>NaN</td>\n",
       "      <td>Reg</td>\n",
       "      <td>Lvl</td>\n",
       "      <td>AllPub</td>\n",
       "      <td>FR2</td>\n",
       "      <td>...</td>\n",
       "      <td>0</td>\n",
       "      <td>NaN</td>\n",
       "      <td>NaN</td>\n",
       "      <td>NaN</td>\n",
       "      <td>0</td>\n",
       "      <td>5</td>\n",
       "      <td>2007</td>\n",
       "      <td>WD</td>\n",
       "      <td>Normal</td>\n",
       "      <td>181500</td>\n",
       "    </tr>\n",
       "    <tr>\n",
       "      <th>3</th>\n",
       "      <td>60</td>\n",
       "      <td>RL</td>\n",
       "      <td>68.0</td>\n",
       "      <td>11250</td>\n",
       "      <td>Pave</td>\n",
       "      <td>NaN</td>\n",
       "      <td>IR1</td>\n",
       "      <td>Lvl</td>\n",
       "      <td>AllPub</td>\n",
       "      <td>Inside</td>\n",
       "      <td>...</td>\n",
       "      <td>0</td>\n",
       "      <td>NaN</td>\n",
       "      <td>NaN</td>\n",
       "      <td>NaN</td>\n",
       "      <td>0</td>\n",
       "      <td>9</td>\n",
       "      <td>2008</td>\n",
       "      <td>WD</td>\n",
       "      <td>Normal</td>\n",
       "      <td>223500</td>\n",
       "    </tr>\n",
       "    <tr>\n",
       "      <th>4</th>\n",
       "      <td>70</td>\n",
       "      <td>RL</td>\n",
       "      <td>60.0</td>\n",
       "      <td>9550</td>\n",
       "      <td>Pave</td>\n",
       "      <td>NaN</td>\n",
       "      <td>IR1</td>\n",
       "      <td>Lvl</td>\n",
       "      <td>AllPub</td>\n",
       "      <td>Corner</td>\n",
       "      <td>...</td>\n",
       "      <td>0</td>\n",
       "      <td>NaN</td>\n",
       "      <td>NaN</td>\n",
       "      <td>NaN</td>\n",
       "      <td>0</td>\n",
       "      <td>2</td>\n",
       "      <td>2006</td>\n",
       "      <td>WD</td>\n",
       "      <td>Abnorml</td>\n",
       "      <td>140000</td>\n",
       "    </tr>\n",
       "    <tr>\n",
       "      <th>5</th>\n",
       "      <td>60</td>\n",
       "      <td>RL</td>\n",
       "      <td>84.0</td>\n",
       "      <td>14260</td>\n",
       "      <td>Pave</td>\n",
       "      <td>NaN</td>\n",
       "      <td>IR1</td>\n",
       "      <td>Lvl</td>\n",
       "      <td>AllPub</td>\n",
       "      <td>FR2</td>\n",
       "      <td>...</td>\n",
       "      <td>0</td>\n",
       "      <td>NaN</td>\n",
       "      <td>NaN</td>\n",
       "      <td>NaN</td>\n",
       "      <td>0</td>\n",
       "      <td>12</td>\n",
       "      <td>2008</td>\n",
       "      <td>WD</td>\n",
       "      <td>Normal</td>\n",
       "      <td>250000</td>\n",
       "    </tr>\n",
       "  </tbody>\n",
       "</table>\n",
       "<p>5 rows × 80 columns</p>\n",
       "</div>"
      ],
      "text/plain": [
       "    MSSubClass MSZoning  LotFrontage  LotArea Street Alley LotShape  \\\n",
       "Id                                                                    \n",
       "1           60       RL         65.0     8450   Pave   NaN      Reg   \n",
       "2           20       RL         80.0     9600   Pave   NaN      Reg   \n",
       "3           60       RL         68.0    11250   Pave   NaN      IR1   \n",
       "4           70       RL         60.0     9550   Pave   NaN      IR1   \n",
       "5           60       RL         84.0    14260   Pave   NaN      IR1   \n",
       "\n",
       "   LandContour Utilities LotConfig  ... PoolArea PoolQC Fence MiscFeature  \\\n",
       "Id                                  ...                                     \n",
       "1          Lvl    AllPub    Inside  ...        0    NaN   NaN         NaN   \n",
       "2          Lvl    AllPub       FR2  ...        0    NaN   NaN         NaN   \n",
       "3          Lvl    AllPub    Inside  ...        0    NaN   NaN         NaN   \n",
       "4          Lvl    AllPub    Corner  ...        0    NaN   NaN         NaN   \n",
       "5          Lvl    AllPub       FR2  ...        0    NaN   NaN         NaN   \n",
       "\n",
       "   MiscVal MoSold  YrSold  SaleType  SaleCondition  SalePrice  \n",
       "Id                                                             \n",
       "1        0      2    2008        WD         Normal     208500  \n",
       "2        0      5    2007        WD         Normal     181500  \n",
       "3        0      9    2008        WD         Normal     223500  \n",
       "4        0      2    2006        WD        Abnorml     140000  \n",
       "5        0     12    2008        WD         Normal     250000  \n",
       "\n",
       "[5 rows x 80 columns]"
      ]
     },
     "execution_count": 16,
     "metadata": {},
     "output_type": "execute_result"
    }
   ],
   "source": [
    "houses_df.head()"
   ]
  },
  {
   "cell_type": "markdown",
   "id": "008fc1f0",
   "metadata": {},
   "source": [
    "### What are the features? \n",
    "<hr style=\"border:2px solid gray\"> </hr>"
   ]
  },
  {
   "cell_type": "markdown",
   "id": "f12e7237",
   "metadata": {},
   "source": [
    "In this case, we can look over the different features using the columns. Immediately, some columns should stick out as important over others."
   ]
  },
  {
   "cell_type": "code",
   "execution_count": 17,
   "id": "0a486888",
   "metadata": {},
   "outputs": [
    {
     "data": {
      "text/plain": [
       "Index(['MSSubClass', 'MSZoning', 'LotFrontage', 'LotArea', 'Street', 'Alley',\n",
       "       'LotShape', 'LandContour', 'Utilities', 'LotConfig', 'LandSlope',\n",
       "       'Neighborhood', 'Condition1', 'Condition2', 'BldgType', 'HouseStyle',\n",
       "       'OverallQual', 'OverallCond', 'YearBuilt', 'YearRemodAdd', 'RoofStyle',\n",
       "       'RoofMatl', 'Exterior1st', 'Exterior2nd', 'MasVnrType', 'MasVnrArea',\n",
       "       'ExterQual', 'ExterCond', 'Foundation', 'BsmtQual', 'BsmtCond',\n",
       "       'BsmtExposure', 'BsmtFinType1', 'BsmtFinSF1', 'BsmtFinType2',\n",
       "       'BsmtFinSF2', 'BsmtUnfSF', 'TotalBsmtSF', 'Heating', 'HeatingQC',\n",
       "       'CentralAir', 'Electrical', '1stFlrSF', '2ndFlrSF', 'LowQualFinSF',\n",
       "       'GrLivArea', 'BsmtFullBath', 'BsmtHalfBath', 'FullBath', 'HalfBath',\n",
       "       'BedroomAbvGr', 'KitchenAbvGr', 'KitchenQual', 'TotRmsAbvGrd',\n",
       "       'Functional', 'Fireplaces', 'FireplaceQu', 'GarageType', 'GarageYrBlt',\n",
       "       'GarageFinish', 'GarageCars', 'GarageArea', 'GarageQual', 'GarageCond',\n",
       "       'PavedDrive', 'WoodDeckSF', 'OpenPorchSF', 'EnclosedPorch', '3SsnPorch',\n",
       "       'ScreenPorch', 'PoolArea', 'PoolQC', 'Fence', 'MiscFeature', 'MiscVal',\n",
       "       'MoSold', 'YrSold', 'SaleType', 'SaleCondition', 'SalePrice'],\n",
       "      dtype='object')"
      ]
     },
     "execution_count": 17,
     "metadata": {},
     "output_type": "execute_result"
    }
   ],
   "source": [
    "houses_df.columns"
   ]
  },
  {
   "cell_type": "markdown",
   "id": "8d9f74cc",
   "metadata": {},
   "source": [
    "#### Are there any typos or misspellings?"
   ]
  },
  {
   "cell_type": "markdown",
   "id": "914d724e",
   "metadata": {},
   "source": [
    "#### Are there any columns with names that are unclear?\n",
    "\n",
    "This dataset uses abbreviations in the column names. However, these are well documented and can be looked up in a .txt file.\n",
    "\n",
    "It is worth taking even just a cursory look at this to give an idea of what it means. \n",
    "\n",
    "https://www.kaggle.com/c/house-prices-advanced-regression-techniques/data?select=data_description.txt"
   ]
  },
  {
   "cell_type": "code",
   "execution_count": 18,
   "id": "266b4913",
   "metadata": {},
   "outputs": [
    {
     "data": {
      "text/plain": [
       "Reg    925\n",
       "IR1    484\n",
       "IR2     41\n",
       "IR3     10\n",
       "Name: LotShape, dtype: int64"
      ]
     },
     "execution_count": 18,
     "metadata": {},
     "output_type": "execute_result"
    }
   ],
   "source": [
    "houses_df['LotShape'].value_counts()"
   ]
  },
  {
   "cell_type": "markdown",
   "id": "f48fe607",
   "metadata": {},
   "source": [
    "For example, this refers to the shape of the lots. The dataset was collected in a city in a  US State known for it's agriculture industry. It is in an extremely flat area, and has few geographic barriers. As a result, most of the land is divided into squares or rectangles. If it isn't a regular shape, then it is most likely next to a body of water such as a lake or river. This explains why most of the data is in a geometric shape."
   ]
  },
  {
   "cell_type": "markdown",
   "id": "d9e1f450",
   "metadata": {},
   "source": [
    "### Missing Values: What patterns float to the surface?\n",
    "<hr style=\"border:2px solid gray\"> </hr>\n",
    "\n",
    "These are the first thing that we should look at when using tabular data. The Missing values tell a story. It is the most accessible way to judge the quality of a dataset. This is because it is very easy to index missing values. \n",
    "\n",
    "The number of and the distribution of missing values is an important first pattern to look at. \n"
   ]
  },
  {
   "cell_type": "code",
   "execution_count": 19,
   "id": "268c5690",
   "metadata": {},
   "outputs": [],
   "source": [
    "missing_values_by_column = houses_df.isnull().sum()"
   ]
  },
  {
   "cell_type": "code",
   "execution_count": 20,
   "id": "1b9e2113",
   "metadata": {},
   "outputs": [
    {
     "data": {
      "text/plain": [
       "LotFrontage      259\n",
       "Alley           1369\n",
       "MasVnrType         8\n",
       "MasVnrArea         8\n",
       "BsmtQual          37\n",
       "BsmtCond          37\n",
       "BsmtExposure      38\n",
       "BsmtFinType1      37\n",
       "BsmtFinType2      38\n",
       "Electrical         1\n",
       "FireplaceQu      690\n",
       "GarageType        81\n",
       "GarageYrBlt       81\n",
       "GarageFinish      81\n",
       "GarageQual        81\n",
       "GarageCond        81\n",
       "PoolQC          1453\n",
       "Fence           1179\n",
       "MiscFeature     1406\n",
       "dtype: int64"
      ]
     },
     "execution_count": 20,
     "metadata": {},
     "output_type": "execute_result"
    }
   ],
   "source": [
    "missing_values_by_column[missing_values_by_column > 0]"
   ]
  },
  {
   "cell_type": "markdown",
   "id": "82d9b487",
   "metadata": {},
   "source": [
    "What do these missing values tell us? \n",
    "\n",
    "In this, if we look at the variables related to Pools, Fences, Fireplaces, Alleys, and Garages, it's pretty clear that a missing value means that it doesn't have a garage. \n",
    "\n",
    "Since Ames, Iowa has low population density, apartments are much less common than single family houses. "
   ]
  },
  {
   "cell_type": "markdown",
   "id": "06364fda",
   "metadata": {},
   "source": [
    "#### Are the missing values across rows? "
   ]
  },
  {
   "cell_type": "markdown",
   "id": "835cb421",
   "metadata": {},
   "source": [
    "This code here counts the missing values by row. The index column counts the number of missing values by row, and the right column tells us how many samples in the dataframe contain that many rows."
   ]
  },
  {
   "cell_type": "code",
   "execution_count": 21,
   "id": "8b4bd17d",
   "metadata": {},
   "outputs": [
    {
     "name": "stdout",
     "output_type": "stream",
     "text": [
      "4     635\n",
      "5     501\n",
      "3     132\n",
      "10     60\n",
      "6      58\n",
      "9      32\n",
      "2      16\n",
      "11      7\n",
      "8       5\n",
      "7       5\n",
      "15      4\n",
      "14      3\n",
      "1       2\n",
      "dtype: int64\n"
     ]
    }
   ],
   "source": [
    "missing_features_by_row = houses_df.isnull().sum(axis=1)\n",
    "print(missing_features_by_row.value_counts())\n"
   ]
  },
  {
   "cell_type": "markdown",
   "id": "9cb0a836",
   "metadata": {},
   "source": [
    "If the missing values appear more consistently in certain columns compared to others, we need to figure out why.\n",
    "\n",
    "Here it appears that Most of the samples have missing values. It appears that these values are related to the homes not having certain features such as pools. \n"
   ]
  },
  {
   "cell_type": "code",
   "execution_count": 22,
   "id": "34073092",
   "metadata": {},
   "outputs": [],
   "source": [
    "contains_many_missing = houses_df[missing_features_by_row >= 10]"
   ]
  },
  {
   "cell_type": "markdown",
   "id": "ea458b3d",
   "metadata": {},
   "source": [
    "Here is a sample of the dataset where there are many missing rows in each sample. These statistics describe where the missing values are. \n",
    "\n",
    "It's "
   ]
  },
  {
   "cell_type": "code",
   "execution_count": 23,
   "id": "bf001186",
   "metadata": {},
   "outputs": [
    {
     "data": {
      "text/plain": [
       "PoolQC          74\n",
       "Alley           73\n",
       "MiscFeature     73\n",
       "Fence           73\n",
       "FireplaceQu     71\n",
       "GarageQual      53\n",
       "GarageType      53\n",
       "GarageYrBlt     53\n",
       "GarageFinish    53\n",
       "GarageCond      53\n",
       "dtype: int64"
      ]
     },
     "execution_count": 23,
     "metadata": {},
     "output_type": "execute_result"
    }
   ],
   "source": [
    "contains_many_missing.isna().sum().sort_values(ascending=False)[:10]"
   ]
  },
  {
   "cell_type": "markdown",
   "id": "b2c77f42",
   "metadata": {},
   "source": [
    "#### Are the missing values contained within the same samples?"
   ]
  },
  {
   "cell_type": "markdown",
   "id": "9ba6f912",
   "metadata": {},
   "source": [
    "Here, we can make a rapid hypothesis that these rows with missing values are likely going to be a different kind of housing unit. \n",
    "\n",
    "To test this guess, we can correlate the different features with the type of housing unit. "
   ]
  },
  {
   "cell_type": "code",
   "execution_count": 24,
   "id": "b01593ec",
   "metadata": {},
   "outputs": [
    {
     "data": {
      "text/plain": [
       "GarageYrBlt      0.607223\n",
       "KitchenAbvGr     0.491237\n",
       "2ndFlrSF         0.424495\n",
       "FullBath         0.386344\n",
       "BsmtFinSF2       0.307401\n",
       "WoodDeckSF       0.301552\n",
       "MiscVal          0.252924\n",
       "TotRmsAbvGrd     0.243361\n",
       "GrLivArea        0.238996\n",
       "BsmtFullBath     0.197529\n",
       "OverallCond      0.196590\n",
       "OverallQual      0.149784\n",
       "YearRemodAdd     0.130486\n",
       "EnclosedPorch    0.112195\n",
       "dtype: float64"
      ]
     },
     "execution_count": 24,
     "metadata": {},
     "output_type": "execute_result"
    }
   ],
   "source": [
    "contains_many_missing.corrwith(contains_many_missing['MSSubClass']).sort_values(ascending=False)[1:15]"
   ]
  },
  {
   "cell_type": "markdown",
   "id": "ad65f9e3",
   "metadata": {},
   "source": [
    "This here clearly shows this is the case. There are many strong correlations between the type of house, and the features that are not commonly in apartments. Although it is not the best structured way to do it, It is only one line of code that answers the question of why there are missing values.\n",
    "\n",
    "There are missing values because of the differences between single family houses, and multi family apartment buildings and not due to poor data collection."
   ]
  },
  {
   "cell_type": "markdown",
   "id": "9eb3cbbe",
   "metadata": {},
   "source": [
    "#### Are Missing values distributed randomly?"
   ]
  },
  {
   "cell_type": "markdown",
   "id": "a997c91c",
   "metadata": {},
   "source": [
    "If it is hard to decern a pattern and figure out why there are many missing values, this is a red flag about how the quality of the data."
   ]
  },
  {
   "cell_type": "markdown",
   "id": "c61d6643",
   "metadata": {},
   "source": [
    "#### Do these missing values cast doubt on the validity of the data?"
   ]
  },
  {
   "cell_type": "markdown",
   "id": "ad50604a",
   "metadata": {},
   "source": [
    "In this case, the missing values do not say something about the quality of the data, but rather one of the weaknesses of table based data structures. Because it is 2D every column needs to contain a place, even if it is missing. The way that well designed SQL databases get around this, problem is by constructing multiple tables linked together by primary and foriegn keys. If you come across data that has many .csv files, then it is very likely data extracted from an SQL Relational Database. \n",
    "\n",
    "\n",
    " JSON is not limited by this factor. Since it is heirachical, each JSON cell can have as much or as little information as it needs. \n",
    "\n",
    "\n",
    "However, if there  are many missing values, this will present a problem.\n",
    "\n"
   ]
  },
  {
   "cell_type": "markdown",
   "id": "f94b5a2b",
   "metadata": {},
   "source": [
    "### Does .head() or .sample() reveal any messy data? \n",
    "<hr style=\"border:2px solid gray\"> </hr>"
   ]
  },
  {
   "cell_type": "markdown",
   "id": "d2880e95",
   "metadata": {},
   "source": [
    "#### Are there any columns that should be numbers, but are represented as strings?\n",
    "\n",
    "This can happen for various reasons and may need to be cleaned up like how it is in the Week 1 Concept Book on Broadcasting.\n",
    "\n",
    "However, there is another reason, being that a column could be represented in a different way than before.\n",
    "\n",
    "AutoML tools will handle this case, and encode them, however we may need to handle this later in the next week. "
   ]
  },
  {
   "cell_type": "markdown",
   "id": "6f22c387",
   "metadata": {},
   "source": [
    "#### Do you see any large blobs of text such as comments, reviews, or values seperated by commas, or tabs?\n",
    "\n",
    "This dataset does not contain these large blobs and is relatively clean, but these columns could contain valuable information that can be extracted."
   ]
  },
  {
   "cell_type": "markdown",
   "id": "136a4639",
   "metadata": {},
   "source": [
    "## Section 2 : Determining a Tentative Target Variable\n",
    "<hr style=\"border:4px solid gray\"> </hr>"
   ]
  },
  {
   "cell_type": "markdown",
   "id": "862d843b",
   "metadata": {},
   "source": [
    "This is the next thing we should look at. We should find what we want to predict in the dataset. Since it is the most important outcome, not only to the success of the project, but also to how the dependent variables are structured. \n",
    "\n",
    "Without a clear idea of what the target variable is, it's difficult to proceed."
   ]
  },
  {
   "cell_type": "markdown",
   "id": "9ed77e03",
   "metadata": {},
   "source": [
    "### Is the Target Variable Continuous or Categorical? \n",
    "<hr style=\"border:2px solid gray\"> </hr>"
   ]
  },
  {
   "cell_type": "markdown",
   "id": "2f263723",
   "metadata": {},
   "source": [
    "This is going to determine the kind of model that is going to be used. In this dataset the target variable is continuous because sales price can be any range of numbers. \n",
    "\n",
    "However, we could also structure the problem by trying to get a better idea on a subset of the data. Since the data was collected for general purposes, we might not be interested in all of it. In this case, having more data might create noise that obscures what we actually want to know and move us off the path of where we want to go. "
   ]
  },
  {
   "cell_type": "markdown",
   "id": "ae7a107f",
   "metadata": {},
   "source": [
    "#### Can a target variable be created by binning? \n",
    "<hr style=\"border:2px solid gray\"> </hr>"
   ]
  },
  {
   "cell_type": "markdown",
   "id": "27299922",
   "metadata": {},
   "source": [
    "Here is an example of using a dataset in a way that is slightly unconventional. Rather than look at the data in terms of trying to predict housing prices. A much more interesting question is to see if we can extract information on the subprime mortgage crisis of 2008. \n",
    "\n",
    "In this, subprime morgages were in part caused by policy changes that allow kinds of lending by banks that were previously illegal. The ability to give out loans at this pace can be traced back to the 1990s when the US Federal Government created policies to incentivize home ownership. \n",
    "\n",
    "These policies accelerated after George Bush became president of the United States. "
   ]
  },
  {
   "cell_type": "code",
   "execution_count": 25,
   "id": "5b61084f",
   "metadata": {},
   "outputs": [],
   "source": [
    "((houses_df['YearBuilt'] > 2001) & (houses_df['YearBuilt'] < 2008) ).value_counts()\n",
    "houses_df['target'] = houses_df['YearBuilt'] > 1999"
   ]
  },
  {
   "cell_type": "markdown",
   "id": "b2e41307",
   "metadata": {},
   "source": [
    "Although this is not very carefully designed, it is going to carve out a rough picture of how the data can be repurposed, and the problems that are going to come out ahead.\n",
    "\n",
    "The point is that rather than making qualitative guesses, we can get some quantitative data and base our next assumptions of what to do based on the results of using AutoML."
   ]
  },
  {
   "cell_type": "markdown",
   "id": "a79e3596",
   "metadata": {},
   "source": [
    "# Part 3 : Choosing a Machine Learning Model\n",
    "<hr style=\"border:4px solid gray\"> </hr>"
   ]
  },
  {
   "cell_type": "markdown",
   "id": "9ce057b0",
   "metadata": {},
   "source": [
    "## Leveraging AutoML\n",
    "\n",
    "In the last few years, AutoML tools have unleased the power of low code machine learning models. What once took a data scientist to do, now can be achieved with a powerful computer and some basic understanding of statistics. \n",
    "\n",
    "This can allow us to rapidly test our assumptions about about the dataset, and get quantified information about the trends and correlations in the dataset.\n",
    "\n",
    "For this, we first just need to know a little about what our target variable is, and if it is continuous or categorical. This will affect the types of models that we can use."
   ]
  },
  {
   "cell_type": "markdown",
   "id": "6b914fe6",
   "metadata": {},
   "source": [
    "### Which type of model will you need?\n",
    "<hr style=\"border:2px solid gray\"> </hr>"
   ]
  },
  {
   "cell_type": "markdown",
   "id": "fefe408e",
   "metadata": {},
   "source": [
    "If the target variable is continuous, we can use regression based models. If the target variable we are trying to predict is categorical, then it is a classification problem. Below are some code templates of how to use pycaret. "
   ]
  },
  {
   "cell_type": "markdown",
   "id": "2388cbe1",
   "metadata": {},
   "source": [
    "### How to Load the data into pycaret?\n",
    "<hr style=\"border:2px solid gray\"> </hr>"
   ]
  },
  {
   "cell_type": "markdown",
   "id": "37792bbf",
   "metadata": {},
   "source": [
    "from pycaret.regression import *"
   ]
  },
  {
   "cell_type": "code",
   "execution_count": null,
   "id": "d6d1a1d4",
   "metadata": {},
   "outputs": [],
   "source": [
    "!pip install numpy~=1.20"
   ]
  },
  {
   "cell_type": "code",
   "execution_count": 1,
   "id": "525fcd60",
   "metadata": {},
   "outputs": [],
   "source": [
    "#!pip install pycaret -qq\n",
    "\n",
    "from pycaret.classification import *\n",
    "#from pycaret.regression import *"
   ]
  },
  {
   "cell_type": "markdown",
   "id": "883b0cf3",
   "metadata": {},
   "source": [
    "### Taking a sample. \n",
    "\n",
    "If the dataset is very large, we may want to take a sample of the dataset so that the training speed is much faster. \n",
    "\n",
    "Similarly to how public opinion polls of a few thousand participants can get an accurate picture of a population of millions, we can get a reasonably clear picture from a few hundred samples in few minutes or seconds rather than waiting for the algorithm to run for hours. "
   ]
  },
  {
   "cell_type": "code",
   "execution_count": 2,
   "id": "ecfdd4b0",
   "metadata": {},
   "outputs": [
    {
     "ename": "NameError",
     "evalue": "name 'houses_df' is not defined",
     "output_type": "error",
     "traceback": [
      "\u001b[0;31m---------------------------------------------------------------------------\u001b[0m",
      "\u001b[0;31mNameError\u001b[0m                                 Traceback (most recent call last)",
      "Input \u001b[0;32mIn [2]\u001b[0m, in \u001b[0;36m<module>\u001b[0;34m\u001b[0m\n\u001b[0;32m----> 1\u001b[0m sample \u001b[38;5;241m=\u001b[39m \u001b[43mhouses_df\u001b[49m\u001b[38;5;241m.\u001b[39msample(\u001b[38;5;241m500\u001b[39m)\n\u001b[1;32m      2\u001b[0m target \u001b[38;5;241m=\u001b[39m \u001b[38;5;124m'\u001b[39m\u001b[38;5;124mtarget\u001b[39m\u001b[38;5;124m'\u001b[39m\n",
      "\u001b[0;31mNameError\u001b[0m: name 'houses_df' is not defined"
     ]
    }
   ],
   "source": [
    "sample = houses_df.sample(500)\n",
    "target = 'target'\n"
   ]
  },
  {
   "cell_type": "markdown",
   "id": "b2b06c62",
   "metadata": {},
   "source": [
    "Here, it is a good idea to remove these features from the dataset. Since the goal is to discover more about the years leading up to the 2008 housing crisis, there are variables which will correlate too strongly with our new target.\n",
    "\n",
    "The first of these are columns containing information about the year. This should be concealed from the model because it will correlate too strongly and create bias."
   ]
  },
  {
   "cell_type": "code",
   "execution_count": null,
   "id": "3baf1da1",
   "metadata": {},
   "outputs": [],
   "source": [
    "\n",
    "\n",
    "# This removes information about the years from the model, along with enclosed porch\n",
    "# because it is a very strong predictor which isn't relevant to our question\n",
    "sample.drop(['YearBuilt','YearRemodAdd','GarageYrBlt'],inplace=True,axis=1)\n",
    "\n"
   ]
  },
  {
   "cell_type": "markdown",
   "id": "302dd916",
   "metadata": {},
   "source": [
    "These columns below are going to drown out the features that are going to be useful in this repurposed dataset. \n",
    "\n",
    "They have to do with the quality of parts of the home which will obviously be higher in newer homes. \n",
    "\n",
    "The other ones have to do with the construction materials used in modern buildings being different than in older buildings. \n",
    "\n",
    "These both represent how correlation does not equal causation.\n",
    "\n",
    "Of note, all of these were found using iterations of AutoML models. The entire process was much easier than finding them in a pile of 80 features because the model brought them to the surface."
   ]
  },
  {
   "cell_type": "code",
   "execution_count": null,
   "id": "79265c6b",
   "metadata": {},
   "outputs": [],
   "source": [
    "\n",
    "sample.drop(['ExterQual','Foundation','Exterior1st',\n",
    "             'BsmtQual','OverallCond','HeatingQC',\n",
    "             'EnclosedPorch','KitchenQual',\n",
    "             'Exterior2nd','GarageFinish','BsmtFinType1']\n",
    "            ,inplace=True,axis=1 )"
   ]
  },
  {
   "cell_type": "code",
   "execution_count": 30,
   "id": "4e4724a6",
   "metadata": {},
   "outputs": [
    {
     "data": {
      "text/html": [
       "<style type=\"text/css\">\n",
       "#T_5aebb_row5_col1, #T_5aebb_row42_col1, #T_5aebb_row44_col1, #T_5aebb_row52_col1, #T_5aebb_row58_col1 {\n",
       "  background-color: lightgreen;\n",
       "}\n",
       "</style>\n",
       "<table id=\"T_5aebb\">\n",
       "  <thead>\n",
       "    <tr>\n",
       "      <th class=\"blank level0\" >&nbsp;</th>\n",
       "      <th id=\"T_5aebb_level0_col0\" class=\"col_heading level0 col0\" >Description</th>\n",
       "      <th id=\"T_5aebb_level0_col1\" class=\"col_heading level0 col1\" >Value</th>\n",
       "    </tr>\n",
       "  </thead>\n",
       "  <tbody>\n",
       "    <tr>\n",
       "      <th id=\"T_5aebb_level0_row0\" class=\"row_heading level0 row0\" >0</th>\n",
       "      <td id=\"T_5aebb_row0_col0\" class=\"data row0 col0\" >session_id</td>\n",
       "      <td id=\"T_5aebb_row0_col1\" class=\"data row0 col1\" >42</td>\n",
       "    </tr>\n",
       "    <tr>\n",
       "      <th id=\"T_5aebb_level0_row1\" class=\"row_heading level0 row1\" >1</th>\n",
       "      <td id=\"T_5aebb_row1_col0\" class=\"data row1 col0\" >Target</td>\n",
       "      <td id=\"T_5aebb_row1_col1\" class=\"data row1 col1\" >After1999</td>\n",
       "    </tr>\n",
       "    <tr>\n",
       "      <th id=\"T_5aebb_level0_row2\" class=\"row_heading level0 row2\" >2</th>\n",
       "      <td id=\"T_5aebb_row2_col0\" class=\"data row2 col0\" >Target Type</td>\n",
       "      <td id=\"T_5aebb_row2_col1\" class=\"data row2 col1\" >Binary</td>\n",
       "    </tr>\n",
       "    <tr>\n",
       "      <th id=\"T_5aebb_level0_row3\" class=\"row_heading level0 row3\" >3</th>\n",
       "      <td id=\"T_5aebb_row3_col0\" class=\"data row3 col0\" >Label Encoded</td>\n",
       "      <td id=\"T_5aebb_row3_col1\" class=\"data row3 col1\" >False: 0, True: 1</td>\n",
       "    </tr>\n",
       "    <tr>\n",
       "      <th id=\"T_5aebb_level0_row4\" class=\"row_heading level0 row4\" >4</th>\n",
       "      <td id=\"T_5aebb_row4_col0\" class=\"data row4 col0\" >Original Data</td>\n",
       "      <td id=\"T_5aebb_row4_col1\" class=\"data row4 col1\" >(1000, 67)</td>\n",
       "    </tr>\n",
       "    <tr>\n",
       "      <th id=\"T_5aebb_level0_row5\" class=\"row_heading level0 row5\" >5</th>\n",
       "      <td id=\"T_5aebb_row5_col0\" class=\"data row5 col0\" >Missing Values</td>\n",
       "      <td id=\"T_5aebb_row5_col1\" class=\"data row5 col1\" >1</td>\n",
       "    </tr>\n",
       "    <tr>\n",
       "      <th id=\"T_5aebb_level0_row6\" class=\"row_heading level0 row6\" >6</th>\n",
       "      <td id=\"T_5aebb_row6_col0\" class=\"data row6 col0\" >Numeric Features</td>\n",
       "      <td id=\"T_5aebb_row6_col1\" class=\"data row6 col1\" >15</td>\n",
       "    </tr>\n",
       "    <tr>\n",
       "      <th id=\"T_5aebb_level0_row7\" class=\"row_heading level0 row7\" >7</th>\n",
       "      <td id=\"T_5aebb_row7_col0\" class=\"data row7 col0\" >Categorical Features</td>\n",
       "      <td id=\"T_5aebb_row7_col1\" class=\"data row7 col1\" >51</td>\n",
       "    </tr>\n",
       "    <tr>\n",
       "      <th id=\"T_5aebb_level0_row8\" class=\"row_heading level0 row8\" >8</th>\n",
       "      <td id=\"T_5aebb_row8_col0\" class=\"data row8 col0\" >Ordinal Features</td>\n",
       "      <td id=\"T_5aebb_row8_col1\" class=\"data row8 col1\" >0</td>\n",
       "    </tr>\n",
       "    <tr>\n",
       "      <th id=\"T_5aebb_level0_row9\" class=\"row_heading level0 row9\" >9</th>\n",
       "      <td id=\"T_5aebb_row9_col0\" class=\"data row9 col0\" >High Cardinality Features</td>\n",
       "      <td id=\"T_5aebb_row9_col1\" class=\"data row9 col1\" >0</td>\n",
       "    </tr>\n",
       "    <tr>\n",
       "      <th id=\"T_5aebb_level0_row10\" class=\"row_heading level0 row10\" >10</th>\n",
       "      <td id=\"T_5aebb_row10_col0\" class=\"data row10 col0\" >High Cardinality Method</td>\n",
       "      <td id=\"T_5aebb_row10_col1\" class=\"data row10 col1\" >None</td>\n",
       "    </tr>\n",
       "    <tr>\n",
       "      <th id=\"T_5aebb_level0_row11\" class=\"row_heading level0 row11\" >11</th>\n",
       "      <td id=\"T_5aebb_row11_col0\" class=\"data row11 col0\" >Transformed Train Set</td>\n",
       "      <td id=\"T_5aebb_row11_col1\" class=\"data row11 col1\" >(699, 172)</td>\n",
       "    </tr>\n",
       "    <tr>\n",
       "      <th id=\"T_5aebb_level0_row12\" class=\"row_heading level0 row12\" >12</th>\n",
       "      <td id=\"T_5aebb_row12_col0\" class=\"data row12 col0\" >Transformed Test Set</td>\n",
       "      <td id=\"T_5aebb_row12_col1\" class=\"data row12 col1\" >(301, 172)</td>\n",
       "    </tr>\n",
       "    <tr>\n",
       "      <th id=\"T_5aebb_level0_row13\" class=\"row_heading level0 row13\" >13</th>\n",
       "      <td id=\"T_5aebb_row13_col0\" class=\"data row13 col0\" >Shuffle Train-Test</td>\n",
       "      <td id=\"T_5aebb_row13_col1\" class=\"data row13 col1\" >True</td>\n",
       "    </tr>\n",
       "    <tr>\n",
       "      <th id=\"T_5aebb_level0_row14\" class=\"row_heading level0 row14\" >14</th>\n",
       "      <td id=\"T_5aebb_row14_col0\" class=\"data row14 col0\" >Stratify Train-Test</td>\n",
       "      <td id=\"T_5aebb_row14_col1\" class=\"data row14 col1\" >False</td>\n",
       "    </tr>\n",
       "    <tr>\n",
       "      <th id=\"T_5aebb_level0_row15\" class=\"row_heading level0 row15\" >15</th>\n",
       "      <td id=\"T_5aebb_row15_col0\" class=\"data row15 col0\" >Fold Generator</td>\n",
       "      <td id=\"T_5aebb_row15_col1\" class=\"data row15 col1\" >StratifiedKFold</td>\n",
       "    </tr>\n",
       "    <tr>\n",
       "      <th id=\"T_5aebb_level0_row16\" class=\"row_heading level0 row16\" >16</th>\n",
       "      <td id=\"T_5aebb_row16_col0\" class=\"data row16 col0\" >Fold Number</td>\n",
       "      <td id=\"T_5aebb_row16_col1\" class=\"data row16 col1\" >10</td>\n",
       "    </tr>\n",
       "    <tr>\n",
       "      <th id=\"T_5aebb_level0_row17\" class=\"row_heading level0 row17\" >17</th>\n",
       "      <td id=\"T_5aebb_row17_col0\" class=\"data row17 col0\" >CPU Jobs</td>\n",
       "      <td id=\"T_5aebb_row17_col1\" class=\"data row17 col1\" >-1</td>\n",
       "    </tr>\n",
       "    <tr>\n",
       "      <th id=\"T_5aebb_level0_row18\" class=\"row_heading level0 row18\" >18</th>\n",
       "      <td id=\"T_5aebb_row18_col0\" class=\"data row18 col0\" >Use GPU</td>\n",
       "      <td id=\"T_5aebb_row18_col1\" class=\"data row18 col1\" >0</td>\n",
       "    </tr>\n",
       "    <tr>\n",
       "      <th id=\"T_5aebb_level0_row19\" class=\"row_heading level0 row19\" >19</th>\n",
       "      <td id=\"T_5aebb_row19_col0\" class=\"data row19 col0\" >Log Experiment</td>\n",
       "      <td id=\"T_5aebb_row19_col1\" class=\"data row19 col1\" >0</td>\n",
       "    </tr>\n",
       "    <tr>\n",
       "      <th id=\"T_5aebb_level0_row20\" class=\"row_heading level0 row20\" >20</th>\n",
       "      <td id=\"T_5aebb_row20_col0\" class=\"data row20 col0\" >Experiment Name</td>\n",
       "      <td id=\"T_5aebb_row20_col1\" class=\"data row20 col1\" >clf-default-name</td>\n",
       "    </tr>\n",
       "    <tr>\n",
       "      <th id=\"T_5aebb_level0_row21\" class=\"row_heading level0 row21\" >21</th>\n",
       "      <td id=\"T_5aebb_row21_col0\" class=\"data row21 col0\" >USI</td>\n",
       "      <td id=\"T_5aebb_row21_col1\" class=\"data row21 col1\" >2a5b</td>\n",
       "    </tr>\n",
       "    <tr>\n",
       "      <th id=\"T_5aebb_level0_row22\" class=\"row_heading level0 row22\" >22</th>\n",
       "      <td id=\"T_5aebb_row22_col0\" class=\"data row22 col0\" >Imputation Type</td>\n",
       "      <td id=\"T_5aebb_row22_col1\" class=\"data row22 col1\" >simple</td>\n",
       "    </tr>\n",
       "    <tr>\n",
       "      <th id=\"T_5aebb_level0_row23\" class=\"row_heading level0 row23\" >23</th>\n",
       "      <td id=\"T_5aebb_row23_col0\" class=\"data row23 col0\" >Iterative Imputation Iteration</td>\n",
       "      <td id=\"T_5aebb_row23_col1\" class=\"data row23 col1\" >None</td>\n",
       "    </tr>\n",
       "    <tr>\n",
       "      <th id=\"T_5aebb_level0_row24\" class=\"row_heading level0 row24\" >24</th>\n",
       "      <td id=\"T_5aebb_row24_col0\" class=\"data row24 col0\" >Numeric Imputer</td>\n",
       "      <td id=\"T_5aebb_row24_col1\" class=\"data row24 col1\" >mean</td>\n",
       "    </tr>\n",
       "    <tr>\n",
       "      <th id=\"T_5aebb_level0_row25\" class=\"row_heading level0 row25\" >25</th>\n",
       "      <td id=\"T_5aebb_row25_col0\" class=\"data row25 col0\" >Iterative Imputation Numeric Model</td>\n",
       "      <td id=\"T_5aebb_row25_col1\" class=\"data row25 col1\" >None</td>\n",
       "    </tr>\n",
       "    <tr>\n",
       "      <th id=\"T_5aebb_level0_row26\" class=\"row_heading level0 row26\" >26</th>\n",
       "      <td id=\"T_5aebb_row26_col0\" class=\"data row26 col0\" >Categorical Imputer</td>\n",
       "      <td id=\"T_5aebb_row26_col1\" class=\"data row26 col1\" >constant</td>\n",
       "    </tr>\n",
       "    <tr>\n",
       "      <th id=\"T_5aebb_level0_row27\" class=\"row_heading level0 row27\" >27</th>\n",
       "      <td id=\"T_5aebb_row27_col0\" class=\"data row27 col0\" >Iterative Imputation Categorical Model</td>\n",
       "      <td id=\"T_5aebb_row27_col1\" class=\"data row27 col1\" >None</td>\n",
       "    </tr>\n",
       "    <tr>\n",
       "      <th id=\"T_5aebb_level0_row28\" class=\"row_heading level0 row28\" >28</th>\n",
       "      <td id=\"T_5aebb_row28_col0\" class=\"data row28 col0\" >Unknown Categoricals Handling</td>\n",
       "      <td id=\"T_5aebb_row28_col1\" class=\"data row28 col1\" >least_frequent</td>\n",
       "    </tr>\n",
       "    <tr>\n",
       "      <th id=\"T_5aebb_level0_row29\" class=\"row_heading level0 row29\" >29</th>\n",
       "      <td id=\"T_5aebb_row29_col0\" class=\"data row29 col0\" >Normalize</td>\n",
       "      <td id=\"T_5aebb_row29_col1\" class=\"data row29 col1\" >0</td>\n",
       "    </tr>\n",
       "    <tr>\n",
       "      <th id=\"T_5aebb_level0_row30\" class=\"row_heading level0 row30\" >30</th>\n",
       "      <td id=\"T_5aebb_row30_col0\" class=\"data row30 col0\" >Normalize Method</td>\n",
       "      <td id=\"T_5aebb_row30_col1\" class=\"data row30 col1\" >None</td>\n",
       "    </tr>\n",
       "    <tr>\n",
       "      <th id=\"T_5aebb_level0_row31\" class=\"row_heading level0 row31\" >31</th>\n",
       "      <td id=\"T_5aebb_row31_col0\" class=\"data row31 col0\" >Transformation</td>\n",
       "      <td id=\"T_5aebb_row31_col1\" class=\"data row31 col1\" >0</td>\n",
       "    </tr>\n",
       "    <tr>\n",
       "      <th id=\"T_5aebb_level0_row32\" class=\"row_heading level0 row32\" >32</th>\n",
       "      <td id=\"T_5aebb_row32_col0\" class=\"data row32 col0\" >Transformation Method</td>\n",
       "      <td id=\"T_5aebb_row32_col1\" class=\"data row32 col1\" >None</td>\n",
       "    </tr>\n",
       "    <tr>\n",
       "      <th id=\"T_5aebb_level0_row33\" class=\"row_heading level0 row33\" >33</th>\n",
       "      <td id=\"T_5aebb_row33_col0\" class=\"data row33 col0\" >PCA</td>\n",
       "      <td id=\"T_5aebb_row33_col1\" class=\"data row33 col1\" >0</td>\n",
       "    </tr>\n",
       "    <tr>\n",
       "      <th id=\"T_5aebb_level0_row34\" class=\"row_heading level0 row34\" >34</th>\n",
       "      <td id=\"T_5aebb_row34_col0\" class=\"data row34 col0\" >PCA Method</td>\n",
       "      <td id=\"T_5aebb_row34_col1\" class=\"data row34 col1\" >None</td>\n",
       "    </tr>\n",
       "    <tr>\n",
       "      <th id=\"T_5aebb_level0_row35\" class=\"row_heading level0 row35\" >35</th>\n",
       "      <td id=\"T_5aebb_row35_col0\" class=\"data row35 col0\" >PCA Components</td>\n",
       "      <td id=\"T_5aebb_row35_col1\" class=\"data row35 col1\" >None</td>\n",
       "    </tr>\n",
       "    <tr>\n",
       "      <th id=\"T_5aebb_level0_row36\" class=\"row_heading level0 row36\" >36</th>\n",
       "      <td id=\"T_5aebb_row36_col0\" class=\"data row36 col0\" >Ignore Low Variance</td>\n",
       "      <td id=\"T_5aebb_row36_col1\" class=\"data row36 col1\" >0</td>\n",
       "    </tr>\n",
       "    <tr>\n",
       "      <th id=\"T_5aebb_level0_row37\" class=\"row_heading level0 row37\" >37</th>\n",
       "      <td id=\"T_5aebb_row37_col0\" class=\"data row37 col0\" >Combine Rare Levels</td>\n",
       "      <td id=\"T_5aebb_row37_col1\" class=\"data row37 col1\" >0</td>\n",
       "    </tr>\n",
       "    <tr>\n",
       "      <th id=\"T_5aebb_level0_row38\" class=\"row_heading level0 row38\" >38</th>\n",
       "      <td id=\"T_5aebb_row38_col0\" class=\"data row38 col0\" >Rare Level Threshold</td>\n",
       "      <td id=\"T_5aebb_row38_col1\" class=\"data row38 col1\" >None</td>\n",
       "    </tr>\n",
       "    <tr>\n",
       "      <th id=\"T_5aebb_level0_row39\" class=\"row_heading level0 row39\" >39</th>\n",
       "      <td id=\"T_5aebb_row39_col0\" class=\"data row39 col0\" >Numeric Binning</td>\n",
       "      <td id=\"T_5aebb_row39_col1\" class=\"data row39 col1\" >0</td>\n",
       "    </tr>\n",
       "    <tr>\n",
       "      <th id=\"T_5aebb_level0_row40\" class=\"row_heading level0 row40\" >40</th>\n",
       "      <td id=\"T_5aebb_row40_col0\" class=\"data row40 col0\" >Remove Outliers</td>\n",
       "      <td id=\"T_5aebb_row40_col1\" class=\"data row40 col1\" >0</td>\n",
       "    </tr>\n",
       "    <tr>\n",
       "      <th id=\"T_5aebb_level0_row41\" class=\"row_heading level0 row41\" >41</th>\n",
       "      <td id=\"T_5aebb_row41_col0\" class=\"data row41 col0\" >Outliers Threshold</td>\n",
       "      <td id=\"T_5aebb_row41_col1\" class=\"data row41 col1\" >None</td>\n",
       "    </tr>\n",
       "    <tr>\n",
       "      <th id=\"T_5aebb_level0_row42\" class=\"row_heading level0 row42\" >42</th>\n",
       "      <td id=\"T_5aebb_row42_col0\" class=\"data row42 col0\" >Remove Multicollinearity</td>\n",
       "      <td id=\"T_5aebb_row42_col1\" class=\"data row42 col1\" >1</td>\n",
       "    </tr>\n",
       "    <tr>\n",
       "      <th id=\"T_5aebb_level0_row43\" class=\"row_heading level0 row43\" >43</th>\n",
       "      <td id=\"T_5aebb_row43_col0\" class=\"data row43 col0\" >Multicollinearity Threshold</td>\n",
       "      <td id=\"T_5aebb_row43_col1\" class=\"data row43 col1\" >0.900000</td>\n",
       "    </tr>\n",
       "    <tr>\n",
       "      <th id=\"T_5aebb_level0_row44\" class=\"row_heading level0 row44\" >44</th>\n",
       "      <td id=\"T_5aebb_row44_col0\" class=\"data row44 col0\" >Remove Perfect Collinearity</td>\n",
       "      <td id=\"T_5aebb_row44_col1\" class=\"data row44 col1\" >1</td>\n",
       "    </tr>\n",
       "    <tr>\n",
       "      <th id=\"T_5aebb_level0_row45\" class=\"row_heading level0 row45\" >45</th>\n",
       "      <td id=\"T_5aebb_row45_col0\" class=\"data row45 col0\" >Clustering</td>\n",
       "      <td id=\"T_5aebb_row45_col1\" class=\"data row45 col1\" >0</td>\n",
       "    </tr>\n",
       "    <tr>\n",
       "      <th id=\"T_5aebb_level0_row46\" class=\"row_heading level0 row46\" >46</th>\n",
       "      <td id=\"T_5aebb_row46_col0\" class=\"data row46 col0\" >Clustering Iteration</td>\n",
       "      <td id=\"T_5aebb_row46_col1\" class=\"data row46 col1\" >None</td>\n",
       "    </tr>\n",
       "    <tr>\n",
       "      <th id=\"T_5aebb_level0_row47\" class=\"row_heading level0 row47\" >47</th>\n",
       "      <td id=\"T_5aebb_row47_col0\" class=\"data row47 col0\" >Polynomial Features</td>\n",
       "      <td id=\"T_5aebb_row47_col1\" class=\"data row47 col1\" >0</td>\n",
       "    </tr>\n",
       "    <tr>\n",
       "      <th id=\"T_5aebb_level0_row48\" class=\"row_heading level0 row48\" >48</th>\n",
       "      <td id=\"T_5aebb_row48_col0\" class=\"data row48 col0\" >Polynomial Degree</td>\n",
       "      <td id=\"T_5aebb_row48_col1\" class=\"data row48 col1\" >None</td>\n",
       "    </tr>\n",
       "    <tr>\n",
       "      <th id=\"T_5aebb_level0_row49\" class=\"row_heading level0 row49\" >49</th>\n",
       "      <td id=\"T_5aebb_row49_col0\" class=\"data row49 col0\" >Trignometry Features</td>\n",
       "      <td id=\"T_5aebb_row49_col1\" class=\"data row49 col1\" >0</td>\n",
       "    </tr>\n",
       "    <tr>\n",
       "      <th id=\"T_5aebb_level0_row50\" class=\"row_heading level0 row50\" >50</th>\n",
       "      <td id=\"T_5aebb_row50_col0\" class=\"data row50 col0\" >Polynomial Threshold</td>\n",
       "      <td id=\"T_5aebb_row50_col1\" class=\"data row50 col1\" >None</td>\n",
       "    </tr>\n",
       "    <tr>\n",
       "      <th id=\"T_5aebb_level0_row51\" class=\"row_heading level0 row51\" >51</th>\n",
       "      <td id=\"T_5aebb_row51_col0\" class=\"data row51 col0\" >Group Features</td>\n",
       "      <td id=\"T_5aebb_row51_col1\" class=\"data row51 col1\" >0</td>\n",
       "    </tr>\n",
       "    <tr>\n",
       "      <th id=\"T_5aebb_level0_row52\" class=\"row_heading level0 row52\" >52</th>\n",
       "      <td id=\"T_5aebb_row52_col0\" class=\"data row52 col0\" >Feature Selection</td>\n",
       "      <td id=\"T_5aebb_row52_col1\" class=\"data row52 col1\" >1</td>\n",
       "    </tr>\n",
       "    <tr>\n",
       "      <th id=\"T_5aebb_level0_row53\" class=\"row_heading level0 row53\" >53</th>\n",
       "      <td id=\"T_5aebb_row53_col0\" class=\"data row53 col0\" >Feature Selection Method</td>\n",
       "      <td id=\"T_5aebb_row53_col1\" class=\"data row53 col1\" >classic</td>\n",
       "    </tr>\n",
       "    <tr>\n",
       "      <th id=\"T_5aebb_level0_row54\" class=\"row_heading level0 row54\" >54</th>\n",
       "      <td id=\"T_5aebb_row54_col0\" class=\"data row54 col0\" >Features Selection Threshold</td>\n",
       "      <td id=\"T_5aebb_row54_col1\" class=\"data row54 col1\" >0.800000</td>\n",
       "    </tr>\n",
       "    <tr>\n",
       "      <th id=\"T_5aebb_level0_row55\" class=\"row_heading level0 row55\" >55</th>\n",
       "      <td id=\"T_5aebb_row55_col0\" class=\"data row55 col0\" >Feature Interaction</td>\n",
       "      <td id=\"T_5aebb_row55_col1\" class=\"data row55 col1\" >0</td>\n",
       "    </tr>\n",
       "    <tr>\n",
       "      <th id=\"T_5aebb_level0_row56\" class=\"row_heading level0 row56\" >56</th>\n",
       "      <td id=\"T_5aebb_row56_col0\" class=\"data row56 col0\" >Feature Ratio</td>\n",
       "      <td id=\"T_5aebb_row56_col1\" class=\"data row56 col1\" >0</td>\n",
       "    </tr>\n",
       "    <tr>\n",
       "      <th id=\"T_5aebb_level0_row57\" class=\"row_heading level0 row57\" >57</th>\n",
       "      <td id=\"T_5aebb_row57_col0\" class=\"data row57 col0\" >Interaction Threshold</td>\n",
       "      <td id=\"T_5aebb_row57_col1\" class=\"data row57 col1\" >None</td>\n",
       "    </tr>\n",
       "    <tr>\n",
       "      <th id=\"T_5aebb_level0_row58\" class=\"row_heading level0 row58\" >58</th>\n",
       "      <td id=\"T_5aebb_row58_col0\" class=\"data row58 col0\" >Fix Imbalance</td>\n",
       "      <td id=\"T_5aebb_row58_col1\" class=\"data row58 col1\" >1</td>\n",
       "    </tr>\n",
       "    <tr>\n",
       "      <th id=\"T_5aebb_level0_row59\" class=\"row_heading level0 row59\" >59</th>\n",
       "      <td id=\"T_5aebb_row59_col0\" class=\"data row59 col0\" >Fix Imbalance Method</td>\n",
       "      <td id=\"T_5aebb_row59_col1\" class=\"data row59 col1\" >SMOTE</td>\n",
       "    </tr>\n",
       "  </tbody>\n",
       "</table>\n"
      ],
      "text/plain": [
       "<pandas.io.formats.style.Styler at 0x7fb52ae8dee0>"
      ]
     },
     "metadata": {},
     "output_type": "display_data"
    }
   ],
   "source": [
    "# for regression models, uncomment this. \n",
    "\n",
    "#data_prep = setup(sample,target,session_id=42,feature_selection=True, remove_multicollinearity=True)\n",
    "\n",
    "# for classification \n",
    "data_prep = setup(sample, target = target, session_id=42, fix_imbalance=True, feature_selection = True, remove_multicollinearity = True)\n"
   ]
  },
  {
   "cell_type": "markdown",
   "id": "304414fc",
   "metadata": {},
   "source": [
    "## Training the models\n",
    "<hr style=\"border:4px solid gray\"> </hr>"
   ]
  },
  {
   "cell_type": "markdown",
   "id": "ec31baf6",
   "metadata": {},
   "source": [
    "This line of code creates many miniature models to rapidly test to see which one is the most accurate. It this "
   ]
  },
  {
   "cell_type": "code",
   "execution_count": 31,
   "id": "5d4152cb",
   "metadata": {},
   "outputs": [
    {
     "data": {
      "text/html": [
       "<style type=\"text/css\">\n",
       "#T_d8c8b th {\n",
       "  text-align: left;\n",
       "}\n",
       "#T_d8c8b_row0_col0, #T_d8c8b_row0_col2, #T_d8c8b_row0_col3, #T_d8c8b_row0_col4, #T_d8c8b_row1_col0, #T_d8c8b_row1_col1, #T_d8c8b_row1_col3, #T_d8c8b_row1_col4, #T_d8c8b_row1_col5, #T_d8c8b_row1_col6, #T_d8c8b_row1_col7, #T_d8c8b_row2_col0, #T_d8c8b_row2_col1, #T_d8c8b_row2_col2, #T_d8c8b_row2_col3, #T_d8c8b_row2_col5, #T_d8c8b_row2_col6, #T_d8c8b_row2_col7, #T_d8c8b_row3_col0, #T_d8c8b_row3_col1, #T_d8c8b_row3_col2, #T_d8c8b_row3_col3, #T_d8c8b_row3_col4, #T_d8c8b_row3_col5, #T_d8c8b_row3_col6, #T_d8c8b_row3_col7, #T_d8c8b_row4_col0, #T_d8c8b_row4_col1, #T_d8c8b_row4_col2, #T_d8c8b_row4_col3, #T_d8c8b_row4_col4, #T_d8c8b_row4_col5, #T_d8c8b_row4_col6, #T_d8c8b_row4_col7, #T_d8c8b_row5_col0, #T_d8c8b_row5_col1, #T_d8c8b_row5_col2, #T_d8c8b_row5_col4, #T_d8c8b_row5_col5, #T_d8c8b_row5_col6, #T_d8c8b_row5_col7, #T_d8c8b_row6_col0, #T_d8c8b_row6_col1, #T_d8c8b_row6_col2, #T_d8c8b_row6_col3, #T_d8c8b_row6_col4, #T_d8c8b_row6_col5, #T_d8c8b_row6_col6, #T_d8c8b_row6_col7, #T_d8c8b_row7_col0, #T_d8c8b_row7_col1, #T_d8c8b_row7_col2, #T_d8c8b_row7_col3, #T_d8c8b_row7_col4, #T_d8c8b_row7_col5, #T_d8c8b_row7_col6, #T_d8c8b_row7_col7, #T_d8c8b_row8_col0, #T_d8c8b_row8_col1, #T_d8c8b_row8_col2, #T_d8c8b_row8_col3, #T_d8c8b_row8_col4, #T_d8c8b_row8_col5, #T_d8c8b_row8_col6, #T_d8c8b_row8_col7, #T_d8c8b_row9_col0, #T_d8c8b_row9_col1, #T_d8c8b_row9_col2, #T_d8c8b_row9_col3, #T_d8c8b_row9_col4, #T_d8c8b_row9_col5, #T_d8c8b_row9_col6, #T_d8c8b_row9_col7, #T_d8c8b_row10_col0, #T_d8c8b_row10_col1, #T_d8c8b_row10_col2, #T_d8c8b_row10_col3, #T_d8c8b_row10_col4, #T_d8c8b_row10_col5, #T_d8c8b_row10_col6, #T_d8c8b_row10_col7, #T_d8c8b_row11_col0, #T_d8c8b_row11_col1, #T_d8c8b_row11_col2, #T_d8c8b_row11_col3, #T_d8c8b_row11_col4, #T_d8c8b_row11_col5, #T_d8c8b_row11_col6, #T_d8c8b_row11_col7, #T_d8c8b_row12_col0, #T_d8c8b_row12_col1, #T_d8c8b_row12_col2, #T_d8c8b_row12_col3, #T_d8c8b_row12_col4, #T_d8c8b_row12_col5, #T_d8c8b_row12_col6, #T_d8c8b_row12_col7, #T_d8c8b_row13_col0, #T_d8c8b_row13_col1, #T_d8c8b_row13_col2, #T_d8c8b_row13_col3, #T_d8c8b_row13_col4, #T_d8c8b_row13_col5, #T_d8c8b_row13_col6, #T_d8c8b_row13_col7 {\n",
       "  text-align: left;\n",
       "}\n",
       "#T_d8c8b_row0_col1, #T_d8c8b_row0_col5, #T_d8c8b_row0_col6, #T_d8c8b_row0_col7, #T_d8c8b_row1_col2, #T_d8c8b_row2_col4, #T_d8c8b_row5_col3 {\n",
       "  text-align: left;\n",
       "  background-color: yellow;\n",
       "}\n",
       "#T_d8c8b_row0_col8, #T_d8c8b_row1_col8, #T_d8c8b_row2_col8, #T_d8c8b_row3_col8, #T_d8c8b_row4_col8, #T_d8c8b_row5_col8, #T_d8c8b_row6_col8, #T_d8c8b_row7_col8, #T_d8c8b_row8_col8, #T_d8c8b_row9_col8, #T_d8c8b_row10_col8, #T_d8c8b_row13_col8 {\n",
       "  text-align: left;\n",
       "  background-color: lightgrey;\n",
       "}\n",
       "#T_d8c8b_row11_col8, #T_d8c8b_row12_col8 {\n",
       "  text-align: left;\n",
       "  background-color: yellow;\n",
       "  background-color: lightgrey;\n",
       "}\n",
       "</style>\n",
       "<table id=\"T_d8c8b\">\n",
       "  <thead>\n",
       "    <tr>\n",
       "      <th class=\"blank level0\" >&nbsp;</th>\n",
       "      <th id=\"T_d8c8b_level0_col0\" class=\"col_heading level0 col0\" >Model</th>\n",
       "      <th id=\"T_d8c8b_level0_col1\" class=\"col_heading level0 col1\" >Accuracy</th>\n",
       "      <th id=\"T_d8c8b_level0_col2\" class=\"col_heading level0 col2\" >AUC</th>\n",
       "      <th id=\"T_d8c8b_level0_col3\" class=\"col_heading level0 col3\" >Recall</th>\n",
       "      <th id=\"T_d8c8b_level0_col4\" class=\"col_heading level0 col4\" >Prec.</th>\n",
       "      <th id=\"T_d8c8b_level0_col5\" class=\"col_heading level0 col5\" >F1</th>\n",
       "      <th id=\"T_d8c8b_level0_col6\" class=\"col_heading level0 col6\" >Kappa</th>\n",
       "      <th id=\"T_d8c8b_level0_col7\" class=\"col_heading level0 col7\" >MCC</th>\n",
       "      <th id=\"T_d8c8b_level0_col8\" class=\"col_heading level0 col8\" >TT (Sec)</th>\n",
       "    </tr>\n",
       "  </thead>\n",
       "  <tbody>\n",
       "    <tr>\n",
       "      <th id=\"T_d8c8b_level0_row0\" class=\"row_heading level0 row0\" >lightgbm</th>\n",
       "      <td id=\"T_d8c8b_row0_col0\" class=\"data row0 col0\" >Light Gradient Boosting Machine</td>\n",
       "      <td id=\"T_d8c8b_row0_col1\" class=\"data row0 col1\" >0.9542</td>\n",
       "      <td id=\"T_d8c8b_row0_col2\" class=\"data row0 col2\" >0.9807</td>\n",
       "      <td id=\"T_d8c8b_row0_col3\" class=\"data row0 col3\" >0.8868</td>\n",
       "      <td id=\"T_d8c8b_row0_col4\" class=\"data row0 col4\" >0.9239</td>\n",
       "      <td id=\"T_d8c8b_row0_col5\" class=\"data row0 col5\" >0.9020</td>\n",
       "      <td id=\"T_d8c8b_row0_col6\" class=\"data row0 col6\" >0.8723</td>\n",
       "      <td id=\"T_d8c8b_row0_col7\" class=\"data row0 col7\" >0.8750</td>\n",
       "      <td id=\"T_d8c8b_row0_col8\" class=\"data row0 col8\" >0.0290</td>\n",
       "    </tr>\n",
       "    <tr>\n",
       "      <th id=\"T_d8c8b_level0_row1\" class=\"row_heading level0 row1\" >et</th>\n",
       "      <td id=\"T_d8c8b_row1_col0\" class=\"data row1 col0\" >Extra Trees Classifier</td>\n",
       "      <td id=\"T_d8c8b_row1_col1\" class=\"data row1 col1\" >0.9485</td>\n",
       "      <td id=\"T_d8c8b_row1_col2\" class=\"data row1 col2\" >0.9811</td>\n",
       "      <td id=\"T_d8c8b_row1_col3\" class=\"data row1 col3\" >0.8691</td>\n",
       "      <td id=\"T_d8c8b_row1_col4\" class=\"data row1 col4\" >0.9158</td>\n",
       "      <td id=\"T_d8c8b_row1_col5\" class=\"data row1 col5\" >0.8892</td>\n",
       "      <td id=\"T_d8c8b_row1_col6\" class=\"data row1 col6\" >0.8558</td>\n",
       "      <td id=\"T_d8c8b_row1_col7\" class=\"data row1 col7\" >0.8584</td>\n",
       "      <td id=\"T_d8c8b_row1_col8\" class=\"data row1 col8\" >0.0320</td>\n",
       "    </tr>\n",
       "    <tr>\n",
       "      <th id=\"T_d8c8b_level0_row2\" class=\"row_heading level0 row2\" >rf</th>\n",
       "      <td id=\"T_d8c8b_row2_col0\" class=\"data row2 col0\" >Random Forest Classifier</td>\n",
       "      <td id=\"T_d8c8b_row2_col1\" class=\"data row2 col1\" >0.9443</td>\n",
       "      <td id=\"T_d8c8b_row2_col2\" class=\"data row2 col2\" >0.9803</td>\n",
       "      <td id=\"T_d8c8b_row2_col3\" class=\"data row2 col3\" >0.8331</td>\n",
       "      <td id=\"T_d8c8b_row2_col4\" class=\"data row2 col4\" >0.9288</td>\n",
       "      <td id=\"T_d8c8b_row2_col5\" class=\"data row2 col5\" >0.8750</td>\n",
       "      <td id=\"T_d8c8b_row2_col6\" class=\"data row2 col6\" >0.8396</td>\n",
       "      <td id=\"T_d8c8b_row2_col7\" class=\"data row2 col7\" >0.8440</td>\n",
       "      <td id=\"T_d8c8b_row2_col8\" class=\"data row2 col8\" >0.0390</td>\n",
       "    </tr>\n",
       "    <tr>\n",
       "      <th id=\"T_d8c8b_level0_row3\" class=\"row_heading level0 row3\" >gbc</th>\n",
       "      <td id=\"T_d8c8b_row3_col0\" class=\"data row3 col0\" >Gradient Boosting Classifier</td>\n",
       "      <td id=\"T_d8c8b_row3_col1\" class=\"data row3 col1\" >0.9428</td>\n",
       "      <td id=\"T_d8c8b_row3_col2\" class=\"data row3 col2\" >0.9791</td>\n",
       "      <td id=\"T_d8c8b_row3_col3\" class=\"data row3 col3\" >0.8930</td>\n",
       "      <td id=\"T_d8c8b_row3_col4\" class=\"data row3 col4\" >0.8766</td>\n",
       "      <td id=\"T_d8c8b_row3_col5\" class=\"data row3 col5\" >0.8821</td>\n",
       "      <td id=\"T_d8c8b_row3_col6\" class=\"data row3 col6\" >0.8445</td>\n",
       "      <td id=\"T_d8c8b_row3_col7\" class=\"data row3 col7\" >0.8468</td>\n",
       "      <td id=\"T_d8c8b_row3_col8\" class=\"data row3 col8\" >0.0680</td>\n",
       "    </tr>\n",
       "    <tr>\n",
       "      <th id=\"T_d8c8b_level0_row4\" class=\"row_heading level0 row4\" >ada</th>\n",
       "      <td id=\"T_d8c8b_row4_col0\" class=\"data row4 col0\" >Ada Boost Classifier</td>\n",
       "      <td id=\"T_d8c8b_row4_col1\" class=\"data row4 col1\" >0.9328</td>\n",
       "      <td id=\"T_d8c8b_row4_col2\" class=\"data row4 col2\" >0.9701</td>\n",
       "      <td id=\"T_d8c8b_row4_col3\" class=\"data row4 col3\" >0.8511</td>\n",
       "      <td id=\"T_d8c8b_row4_col4\" class=\"data row4 col4\" >0.8727</td>\n",
       "      <td id=\"T_d8c8b_row4_col5\" class=\"data row4 col5\" >0.8570</td>\n",
       "      <td id=\"T_d8c8b_row4_col6\" class=\"data row4 col6\" >0.8133</td>\n",
       "      <td id=\"T_d8c8b_row4_col7\" class=\"data row4 col7\" >0.8173</td>\n",
       "      <td id=\"T_d8c8b_row4_col8\" class=\"data row4 col8\" >0.0240</td>\n",
       "    </tr>\n",
       "    <tr>\n",
       "      <th id=\"T_d8c8b_level0_row5\" class=\"row_heading level0 row5\" >ridge</th>\n",
       "      <td id=\"T_d8c8b_row5_col0\" class=\"data row5 col0\" >Ridge Classifier</td>\n",
       "      <td id=\"T_d8c8b_row5_col1\" class=\"data row5 col1\" >0.9227</td>\n",
       "      <td id=\"T_d8c8b_row5_col2\" class=\"data row5 col2\" >0.0000</td>\n",
       "      <td id=\"T_d8c8b_row5_col3\" class=\"data row5 col3\" >0.9165</td>\n",
       "      <td id=\"T_d8c8b_row5_col4\" class=\"data row5 col4\" >0.8007</td>\n",
       "      <td id=\"T_d8c8b_row5_col5\" class=\"data row5 col5\" >0.8510</td>\n",
       "      <td id=\"T_d8c8b_row5_col6\" class=\"data row5 col6\" >0.7995</td>\n",
       "      <td id=\"T_d8c8b_row5_col7\" class=\"data row5 col7\" >0.8061</td>\n",
       "      <td id=\"T_d8c8b_row5_col8\" class=\"data row5 col8\" >0.0070</td>\n",
       "    </tr>\n",
       "    <tr>\n",
       "      <th id=\"T_d8c8b_level0_row6\" class=\"row_heading level0 row6\" >lda</th>\n",
       "      <td id=\"T_d8c8b_row6_col0\" class=\"data row6 col0\" >Linear Discriminant Analysis</td>\n",
       "      <td id=\"T_d8c8b_row6_col1\" class=\"data row6 col1\" >0.9199</td>\n",
       "      <td id=\"T_d8c8b_row6_col2\" class=\"data row6 col2\" >0.9731</td>\n",
       "      <td id=\"T_d8c8b_row6_col3\" class=\"data row6 col3\" >0.9110</td>\n",
       "      <td id=\"T_d8c8b_row6_col4\" class=\"data row6 col4\" >0.7961</td>\n",
       "      <td id=\"T_d8c8b_row6_col5\" class=\"data row6 col5\" >0.8462</td>\n",
       "      <td id=\"T_d8c8b_row6_col6\" class=\"data row6 col6\" >0.7927</td>\n",
       "      <td id=\"T_d8c8b_row6_col7\" class=\"data row6 col7\" >0.7991</td>\n",
       "      <td id=\"T_d8c8b_row6_col8\" class=\"data row6 col8\" >0.0120</td>\n",
       "    </tr>\n",
       "    <tr>\n",
       "      <th id=\"T_d8c8b_level0_row7\" class=\"row_heading level0 row7\" >qda</th>\n",
       "      <td id=\"T_d8c8b_row7_col0\" class=\"data row7 col0\" >Quadratic Discriminant Analysis</td>\n",
       "      <td id=\"T_d8c8b_row7_col1\" class=\"data row7 col1\" >0.9127</td>\n",
       "      <td id=\"T_d8c8b_row7_col2\" class=\"data row7 col2\" >0.9058</td>\n",
       "      <td id=\"T_d8c8b_row7_col3\" class=\"data row7 col3\" >0.8923</td>\n",
       "      <td id=\"T_d8c8b_row7_col4\" class=\"data row7 col4\" >0.7857</td>\n",
       "      <td id=\"T_d8c8b_row7_col5\" class=\"data row7 col5\" >0.8322</td>\n",
       "      <td id=\"T_d8c8b_row7_col6\" class=\"data row7 col6\" >0.7740</td>\n",
       "      <td id=\"T_d8c8b_row7_col7\" class=\"data row7 col7\" >0.7797</td>\n",
       "      <td id=\"T_d8c8b_row7_col8\" class=\"data row7 col8\" >0.0100</td>\n",
       "    </tr>\n",
       "    <tr>\n",
       "      <th id=\"T_d8c8b_level0_row8\" class=\"row_heading level0 row8\" >lr</th>\n",
       "      <td id=\"T_d8c8b_row8_col0\" class=\"data row8 col0\" >Logistic Regression</td>\n",
       "      <td id=\"T_d8c8b_row8_col1\" class=\"data row8 col1\" >0.8526</td>\n",
       "      <td id=\"T_d8c8b_row8_col2\" class=\"data row8 col2\" >0.9119</td>\n",
       "      <td id=\"T_d8c8b_row8_col3\" class=\"data row8 col3\" >0.8379</td>\n",
       "      <td id=\"T_d8c8b_row8_col4\" class=\"data row8 col4\" >0.6534</td>\n",
       "      <td id=\"T_d8c8b_row8_col5\" class=\"data row8 col5\" >0.7316</td>\n",
       "      <td id=\"T_d8c8b_row8_col6\" class=\"data row8 col6\" >0.6327</td>\n",
       "      <td id=\"T_d8c8b_row8_col7\" class=\"data row8 col7\" >0.6444</td>\n",
       "      <td id=\"T_d8c8b_row8_col8\" class=\"data row8 col8\" >0.2270</td>\n",
       "    </tr>\n",
       "    <tr>\n",
       "      <th id=\"T_d8c8b_level0_row9\" class=\"row_heading level0 row9\" >dt</th>\n",
       "      <td id=\"T_d8c8b_row9_col0\" class=\"data row9 col0\" >Decision Tree Classifier</td>\n",
       "      <td id=\"T_d8c8b_row9_col1\" class=\"data row9 col1\" >0.8497</td>\n",
       "      <td id=\"T_d8c8b_row9_col2\" class=\"data row9 col2\" >0.8031</td>\n",
       "      <td id=\"T_d8c8b_row9_col3\" class=\"data row9 col3\" >0.7132</td>\n",
       "      <td id=\"T_d8c8b_row9_col4\" class=\"data row9 col4\" >0.6863</td>\n",
       "      <td id=\"T_d8c8b_row9_col5\" class=\"data row9 col5\" >0.6914</td>\n",
       "      <td id=\"T_d8c8b_row9_col6\" class=\"data row9 col6\" >0.5932</td>\n",
       "      <td id=\"T_d8c8b_row9_col7\" class=\"data row9 col7\" >0.5997</td>\n",
       "      <td id=\"T_d8c8b_row9_col8\" class=\"data row9 col8\" >0.0070</td>\n",
       "    </tr>\n",
       "    <tr>\n",
       "      <th id=\"T_d8c8b_level0_row10\" class=\"row_heading level0 row10\" >knn</th>\n",
       "      <td id=\"T_d8c8b_row10_col0\" class=\"data row10 col0\" >K Neighbors Classifier</td>\n",
       "      <td id=\"T_d8c8b_row10_col1\" class=\"data row10 col1\" >0.7912</td>\n",
       "      <td id=\"T_d8c8b_row10_col2\" class=\"data row10 col2\" >0.8341</td>\n",
       "      <td id=\"T_d8c8b_row10_col3\" class=\"data row10 col3\" >0.8570</td>\n",
       "      <td id=\"T_d8c8b_row10_col4\" class=\"data row10 col4\" >0.5484</td>\n",
       "      <td id=\"T_d8c8b_row10_col5\" class=\"data row10 col5\" >0.6656</td>\n",
       "      <td id=\"T_d8c8b_row10_col6\" class=\"data row10 col6\" >0.5264</td>\n",
       "      <td id=\"T_d8c8b_row10_col7\" class=\"data row10 col7\" >0.5565</td>\n",
       "      <td id=\"T_d8c8b_row10_col8\" class=\"data row10 col8\" >0.1130</td>\n",
       "    </tr>\n",
       "    <tr>\n",
       "      <th id=\"T_d8c8b_level0_row11\" class=\"row_heading level0 row11\" >dummy</th>\n",
       "      <td id=\"T_d8c8b_row11_col0\" class=\"data row11 col0\" >Dummy Classifier</td>\n",
       "      <td id=\"T_d8c8b_row11_col1\" class=\"data row11 col1\" >0.7611</td>\n",
       "      <td id=\"T_d8c8b_row11_col2\" class=\"data row11 col2\" >0.5000</td>\n",
       "      <td id=\"T_d8c8b_row11_col3\" class=\"data row11 col3\" >0.0000</td>\n",
       "      <td id=\"T_d8c8b_row11_col4\" class=\"data row11 col4\" >0.0000</td>\n",
       "      <td id=\"T_d8c8b_row11_col5\" class=\"data row11 col5\" >0.0000</td>\n",
       "      <td id=\"T_d8c8b_row11_col6\" class=\"data row11 col6\" >0.0000</td>\n",
       "      <td id=\"T_d8c8b_row11_col7\" class=\"data row11 col7\" >0.0000</td>\n",
       "      <td id=\"T_d8c8b_row11_col8\" class=\"data row11 col8\" >0.0060</td>\n",
       "    </tr>\n",
       "    <tr>\n",
       "      <th id=\"T_d8c8b_level0_row12\" class=\"row_heading level0 row12\" >nb</th>\n",
       "      <td id=\"T_d8c8b_row12_col0\" class=\"data row12 col0\" >Naive Bayes</td>\n",
       "      <td id=\"T_d8c8b_row12_col1\" class=\"data row12 col1\" >0.7539</td>\n",
       "      <td id=\"T_d8c8b_row12_col2\" class=\"data row12 col2\" >0.8403</td>\n",
       "      <td id=\"T_d8c8b_row12_col3\" class=\"data row12 col3\" >0.7787</td>\n",
       "      <td id=\"T_d8c8b_row12_col4\" class=\"data row12 col4\" >0.4922</td>\n",
       "      <td id=\"T_d8c8b_row12_col5\" class=\"data row12 col5\" >0.6020</td>\n",
       "      <td id=\"T_d8c8b_row12_col6\" class=\"data row12 col6\" >0.4372</td>\n",
       "      <td id=\"T_d8c8b_row12_col7\" class=\"data row12 col7\" >0.4623</td>\n",
       "      <td id=\"T_d8c8b_row12_col8\" class=\"data row12 col8\" >0.0060</td>\n",
       "    </tr>\n",
       "    <tr>\n",
       "      <th id=\"T_d8c8b_level0_row13\" class=\"row_heading level0 row13\" >svm</th>\n",
       "      <td id=\"T_d8c8b_row13_col0\" class=\"data row13 col0\" >SVM - Linear Kernel</td>\n",
       "      <td id=\"T_d8c8b_row13_col1\" class=\"data row13 col1\" >0.6754</td>\n",
       "      <td id=\"T_d8c8b_row13_col2\" class=\"data row13 col2\" >0.0000</td>\n",
       "      <td id=\"T_d8c8b_row13_col3\" class=\"data row13 col3\" >0.6202</td>\n",
       "      <td id=\"T_d8c8b_row13_col4\" class=\"data row13 col4\" >0.3737</td>\n",
       "      <td id=\"T_d8c8b_row13_col5\" class=\"data row13 col5\" >0.4321</td>\n",
       "      <td id=\"T_d8c8b_row13_col6\" class=\"data row13 col6\" >0.2677</td>\n",
       "      <td id=\"T_d8c8b_row13_col7\" class=\"data row13 col7\" >0.3084</td>\n",
       "      <td id=\"T_d8c8b_row13_col8\" class=\"data row13 col8\" >0.0070</td>\n",
       "    </tr>\n",
       "  </tbody>\n",
       "</table>\n"
      ],
      "text/plain": [
       "<pandas.io.formats.style.Styler at 0x7fb4e51df970>"
      ]
     },
     "metadata": {},
     "output_type": "display_data"
    }
   ],
   "source": [
    "best_model = compare_models()"
   ]
  },
  {
   "cell_type": "code",
   "execution_count": 32,
   "id": "a8a06ee4",
   "metadata": {},
   "outputs": [
    {
     "data": {
      "text/html": [
       "<style type=\"text/css\">\n",
       "#T_4c0b6_row10_col0, #T_4c0b6_row10_col1, #T_4c0b6_row10_col2, #T_4c0b6_row10_col3, #T_4c0b6_row10_col4, #T_4c0b6_row10_col5, #T_4c0b6_row10_col6 {\n",
       "  background: yellow;\n",
       "}\n",
       "</style>\n",
       "<table id=\"T_4c0b6\">\n",
       "  <thead>\n",
       "    <tr>\n",
       "      <th class=\"blank level0\" >&nbsp;</th>\n",
       "      <th id=\"T_4c0b6_level0_col0\" class=\"col_heading level0 col0\" >Accuracy</th>\n",
       "      <th id=\"T_4c0b6_level0_col1\" class=\"col_heading level0 col1\" >AUC</th>\n",
       "      <th id=\"T_4c0b6_level0_col2\" class=\"col_heading level0 col2\" >Recall</th>\n",
       "      <th id=\"T_4c0b6_level0_col3\" class=\"col_heading level0 col3\" >Prec.</th>\n",
       "      <th id=\"T_4c0b6_level0_col4\" class=\"col_heading level0 col4\" >F1</th>\n",
       "      <th id=\"T_4c0b6_level0_col5\" class=\"col_heading level0 col5\" >Kappa</th>\n",
       "      <th id=\"T_4c0b6_level0_col6\" class=\"col_heading level0 col6\" >MCC</th>\n",
       "    </tr>\n",
       "  </thead>\n",
       "  <tbody>\n",
       "    <tr>\n",
       "      <th id=\"T_4c0b6_level0_row0\" class=\"row_heading level0 row0\" >0</th>\n",
       "      <td id=\"T_4c0b6_row0_col0\" class=\"data row0 col0\" >0.9286</td>\n",
       "      <td id=\"T_4c0b6_row0_col1\" class=\"data row0 col1\" >0.9809</td>\n",
       "      <td id=\"T_4c0b6_row0_col2\" class=\"data row0 col2\" >0.8125</td>\n",
       "      <td id=\"T_4c0b6_row0_col3\" class=\"data row0 col3\" >0.8667</td>\n",
       "      <td id=\"T_4c0b6_row0_col4\" class=\"data row0 col4\" >0.8387</td>\n",
       "      <td id=\"T_4c0b6_row0_col5\" class=\"data row0 col5\" >0.7929</td>\n",
       "      <td id=\"T_4c0b6_row0_col6\" class=\"data row0 col6\" >0.7936</td>\n",
       "    </tr>\n",
       "    <tr>\n",
       "      <th id=\"T_4c0b6_level0_row1\" class=\"row_heading level0 row1\" >1</th>\n",
       "      <td id=\"T_4c0b6_row1_col0\" class=\"data row1 col0\" >0.9714</td>\n",
       "      <td id=\"T_4c0b6_row1_col1\" class=\"data row1 col1\" >0.9977</td>\n",
       "      <td id=\"T_4c0b6_row1_col2\" class=\"data row1 col2\" >0.8750</td>\n",
       "      <td id=\"T_4c0b6_row1_col3\" class=\"data row1 col3\" >1.0000</td>\n",
       "      <td id=\"T_4c0b6_row1_col4\" class=\"data row1 col4\" >0.9333</td>\n",
       "      <td id=\"T_4c0b6_row1_col5\" class=\"data row1 col5\" >0.9153</td>\n",
       "      <td id=\"T_4c0b6_row1_col6\" class=\"data row1 col6\" >0.9186</td>\n",
       "    </tr>\n",
       "    <tr>\n",
       "      <th id=\"T_4c0b6_level0_row2\" class=\"row_heading level0 row2\" >2</th>\n",
       "      <td id=\"T_4c0b6_row2_col0\" class=\"data row2 col0\" >0.9429</td>\n",
       "      <td id=\"T_4c0b6_row2_col1\" class=\"data row2 col1\" >0.9906</td>\n",
       "      <td id=\"T_4c0b6_row2_col2\" class=\"data row2 col2\" >0.9412</td>\n",
       "      <td id=\"T_4c0b6_row2_col3\" class=\"data row2 col3\" >0.8421</td>\n",
       "      <td id=\"T_4c0b6_row2_col4\" class=\"data row2 col4\" >0.8889</td>\n",
       "      <td id=\"T_4c0b6_row2_col5\" class=\"data row2 col5\" >0.8506</td>\n",
       "      <td id=\"T_4c0b6_row2_col6\" class=\"data row2 col6\" >0.8530</td>\n",
       "    </tr>\n",
       "    <tr>\n",
       "      <th id=\"T_4c0b6_level0_row3\" class=\"row_heading level0 row3\" >3</th>\n",
       "      <td id=\"T_4c0b6_row3_col0\" class=\"data row3 col0\" >0.9429</td>\n",
       "      <td id=\"T_4c0b6_row3_col1\" class=\"data row3 col1\" >0.9822</td>\n",
       "      <td id=\"T_4c0b6_row3_col2\" class=\"data row3 col2\" >0.8235</td>\n",
       "      <td id=\"T_4c0b6_row3_col3\" class=\"data row3 col3\" >0.9333</td>\n",
       "      <td id=\"T_4c0b6_row3_col4\" class=\"data row3 col4\" >0.8750</td>\n",
       "      <td id=\"T_4c0b6_row3_col5\" class=\"data row3 col5\" >0.8382</td>\n",
       "      <td id=\"T_4c0b6_row3_col6\" class=\"data row3 col6\" >0.8409</td>\n",
       "    </tr>\n",
       "    <tr>\n",
       "      <th id=\"T_4c0b6_level0_row4\" class=\"row_heading level0 row4\" >4</th>\n",
       "      <td id=\"T_4c0b6_row4_col0\" class=\"data row4 col0\" >0.9429</td>\n",
       "      <td id=\"T_4c0b6_row4_col1\" class=\"data row4 col1\" >0.9678</td>\n",
       "      <td id=\"T_4c0b6_row4_col2\" class=\"data row4 col2\" >0.8235</td>\n",
       "      <td id=\"T_4c0b6_row4_col3\" class=\"data row4 col3\" >0.9333</td>\n",
       "      <td id=\"T_4c0b6_row4_col4\" class=\"data row4 col4\" >0.8750</td>\n",
       "      <td id=\"T_4c0b6_row4_col5\" class=\"data row4 col5\" >0.8382</td>\n",
       "      <td id=\"T_4c0b6_row4_col6\" class=\"data row4 col6\" >0.8409</td>\n",
       "    </tr>\n",
       "    <tr>\n",
       "      <th id=\"T_4c0b6_level0_row5\" class=\"row_heading level0 row5\" >5</th>\n",
       "      <td id=\"T_4c0b6_row5_col0\" class=\"data row5 col0\" >0.9857</td>\n",
       "      <td id=\"T_4c0b6_row5_col1\" class=\"data row5 col1\" >0.9828</td>\n",
       "      <td id=\"T_4c0b6_row5_col2\" class=\"data row5 col2\" >0.9412</td>\n",
       "      <td id=\"T_4c0b6_row5_col3\" class=\"data row5 col3\" >1.0000</td>\n",
       "      <td id=\"T_4c0b6_row5_col4\" class=\"data row5 col4\" >0.9697</td>\n",
       "      <td id=\"T_4c0b6_row5_col5\" class=\"data row5 col5\" >0.9604</td>\n",
       "      <td id=\"T_4c0b6_row5_col6\" class=\"data row5 col6\" >0.9611</td>\n",
       "    </tr>\n",
       "    <tr>\n",
       "      <th id=\"T_4c0b6_level0_row6\" class=\"row_heading level0 row6\" >6</th>\n",
       "      <td id=\"T_4c0b6_row6_col0\" class=\"data row6 col0\" >0.9286</td>\n",
       "      <td id=\"T_4c0b6_row6_col1\" class=\"data row6 col1\" >0.9761</td>\n",
       "      <td id=\"T_4c0b6_row6_col2\" class=\"data row6 col2\" >0.8235</td>\n",
       "      <td id=\"T_4c0b6_row6_col3\" class=\"data row6 col3\" >0.8750</td>\n",
       "      <td id=\"T_4c0b6_row6_col4\" class=\"data row6 col4\" >0.8485</td>\n",
       "      <td id=\"T_4c0b6_row6_col5\" class=\"data row6 col5\" >0.8018</td>\n",
       "      <td id=\"T_4c0b6_row6_col6\" class=\"data row6 col6\" >0.8024</td>\n",
       "    </tr>\n",
       "    <tr>\n",
       "      <th id=\"T_4c0b6_level0_row7\" class=\"row_heading level0 row7\" >7</th>\n",
       "      <td id=\"T_4c0b6_row7_col0\" class=\"data row7 col0\" >0.9286</td>\n",
       "      <td id=\"T_4c0b6_row7_col1\" class=\"data row7 col1\" >0.9689</td>\n",
       "      <td id=\"T_4c0b6_row7_col2\" class=\"data row7 col2\" >0.7647</td>\n",
       "      <td id=\"T_4c0b6_row7_col3\" class=\"data row7 col3\" >0.9286</td>\n",
       "      <td id=\"T_4c0b6_row7_col4\" class=\"data row7 col4\" >0.8387</td>\n",
       "      <td id=\"T_4c0b6_row7_col5\" class=\"data row7 col5\" >0.7934</td>\n",
       "      <td id=\"T_4c0b6_row7_col6\" class=\"data row7 col6\" >0.7996</td>\n",
       "    </tr>\n",
       "    <tr>\n",
       "      <th id=\"T_4c0b6_level0_row8\" class=\"row_heading level0 row8\" >8</th>\n",
       "      <td id=\"T_4c0b6_row8_col0\" class=\"data row8 col0\" >0.8857</td>\n",
       "      <td id=\"T_4c0b6_row8_col1\" class=\"data row8 col1\" >0.9850</td>\n",
       "      <td id=\"T_4c0b6_row8_col2\" class=\"data row8 col2\" >0.5882</td>\n",
       "      <td id=\"T_4c0b6_row8_col3\" class=\"data row8 col3\" >0.9091</td>\n",
       "      <td id=\"T_4c0b6_row8_col4\" class=\"data row8 col4\" >0.7143</td>\n",
       "      <td id=\"T_4c0b6_row8_col5\" class=\"data row8 col5\" >0.6469</td>\n",
       "      <td id=\"T_4c0b6_row8_col6\" class=\"data row8 col6\" >0.6709</td>\n",
       "    </tr>\n",
       "    <tr>\n",
       "      <th id=\"T_4c0b6_level0_row9\" class=\"row_heading level0 row9\" >9</th>\n",
       "      <td id=\"T_4c0b6_row9_col0\" class=\"data row9 col0\" >0.9855</td>\n",
       "      <td id=\"T_4c0b6_row9_col1\" class=\"data row9 col1\" >0.9705</td>\n",
       "      <td id=\"T_4c0b6_row9_col2\" class=\"data row9 col2\" >0.9375</td>\n",
       "      <td id=\"T_4c0b6_row9_col3\" class=\"data row9 col3\" >1.0000</td>\n",
       "      <td id=\"T_4c0b6_row9_col4\" class=\"data row9 col4\" >0.9677</td>\n",
       "      <td id=\"T_4c0b6_row9_col5\" class=\"data row9 col5\" >0.9584</td>\n",
       "      <td id=\"T_4c0b6_row9_col6\" class=\"data row9 col6\" >0.9592</td>\n",
       "    </tr>\n",
       "    <tr>\n",
       "      <th id=\"T_4c0b6_level0_row10\" class=\"row_heading level0 row10\" >Mean</th>\n",
       "      <td id=\"T_4c0b6_row10_col0\" class=\"data row10 col0\" >0.9443</td>\n",
       "      <td id=\"T_4c0b6_row10_col1\" class=\"data row10 col1\" >0.9803</td>\n",
       "      <td id=\"T_4c0b6_row10_col2\" class=\"data row10 col2\" >0.8331</td>\n",
       "      <td id=\"T_4c0b6_row10_col3\" class=\"data row10 col3\" >0.9288</td>\n",
       "      <td id=\"T_4c0b6_row10_col4\" class=\"data row10 col4\" >0.8750</td>\n",
       "      <td id=\"T_4c0b6_row10_col5\" class=\"data row10 col5\" >0.8396</td>\n",
       "      <td id=\"T_4c0b6_row10_col6\" class=\"data row10 col6\" >0.8440</td>\n",
       "    </tr>\n",
       "    <tr>\n",
       "      <th id=\"T_4c0b6_level0_row11\" class=\"row_heading level0 row11\" >SD</th>\n",
       "      <td id=\"T_4c0b6_row11_col0\" class=\"data row11 col0\" >0.0289</td>\n",
       "      <td id=\"T_4c0b6_row11_col1\" class=\"data row11 col1\" >0.0092</td>\n",
       "      <td id=\"T_4c0b6_row11_col2\" class=\"data row11 col2\" >0.1007</td>\n",
       "      <td id=\"T_4c0b6_row11_col3\" class=\"data row11 col3\" >0.0547</td>\n",
       "      <td id=\"T_4c0b6_row11_col4\" class=\"data row11 col4\" >0.0709</td>\n",
       "      <td id=\"T_4c0b6_row11_col5\" class=\"data row11 col5\" >0.0880</td>\n",
       "      <td id=\"T_4c0b6_row11_col6\" class=\"data row11 col6\" >0.0830</td>\n",
       "    </tr>\n",
       "  </tbody>\n",
       "</table>\n"
      ],
      "text/plain": [
       "<pandas.io.formats.style.Styler at 0x7fb4e5356520>"
      ]
     },
     "metadata": {},
     "output_type": "display_data"
    }
   ],
   "source": [
    "model = create_model('rf')"
   ]
  },
  {
   "cell_type": "code",
   "execution_count": 33,
   "id": "2aa40e39",
   "metadata": {},
   "outputs": [
    {
     "data": {
      "text/html": [
       "<style type=\"text/css\">\n",
       "#T_e9652_row10_col0, #T_e9652_row10_col1, #T_e9652_row10_col2, #T_e9652_row10_col3, #T_e9652_row10_col4, #T_e9652_row10_col5, #T_e9652_row10_col6 {\n",
       "  background: yellow;\n",
       "}\n",
       "</style>\n",
       "<table id=\"T_e9652\">\n",
       "  <thead>\n",
       "    <tr>\n",
       "      <th class=\"blank level0\" >&nbsp;</th>\n",
       "      <th id=\"T_e9652_level0_col0\" class=\"col_heading level0 col0\" >Accuracy</th>\n",
       "      <th id=\"T_e9652_level0_col1\" class=\"col_heading level0 col1\" >AUC</th>\n",
       "      <th id=\"T_e9652_level0_col2\" class=\"col_heading level0 col2\" >Recall</th>\n",
       "      <th id=\"T_e9652_level0_col3\" class=\"col_heading level0 col3\" >Prec.</th>\n",
       "      <th id=\"T_e9652_level0_col4\" class=\"col_heading level0 col4\" >F1</th>\n",
       "      <th id=\"T_e9652_level0_col5\" class=\"col_heading level0 col5\" >Kappa</th>\n",
       "      <th id=\"T_e9652_level0_col6\" class=\"col_heading level0 col6\" >MCC</th>\n",
       "    </tr>\n",
       "  </thead>\n",
       "  <tbody>\n",
       "    <tr>\n",
       "      <th id=\"T_e9652_level0_row0\" class=\"row_heading level0 row0\" >0</th>\n",
       "      <td id=\"T_e9652_row0_col0\" class=\"data row0 col0\" >0.9286</td>\n",
       "      <td id=\"T_e9652_row0_col1\" class=\"data row0 col1\" >0.9780</td>\n",
       "      <td id=\"T_e9652_row0_col2\" class=\"data row0 col2\" >0.8125</td>\n",
       "      <td id=\"T_e9652_row0_col3\" class=\"data row0 col3\" >0.8667</td>\n",
       "      <td id=\"T_e9652_row0_col4\" class=\"data row0 col4\" >0.8387</td>\n",
       "      <td id=\"T_e9652_row0_col5\" class=\"data row0 col5\" >0.7929</td>\n",
       "      <td id=\"T_e9652_row0_col6\" class=\"data row0 col6\" >0.7936</td>\n",
       "    </tr>\n",
       "    <tr>\n",
       "      <th id=\"T_e9652_level0_row1\" class=\"row_heading level0 row1\" >1</th>\n",
       "      <td id=\"T_e9652_row1_col0\" class=\"data row1 col0\" >0.9714</td>\n",
       "      <td id=\"T_e9652_row1_col1\" class=\"data row1 col1\" >0.9931</td>\n",
       "      <td id=\"T_e9652_row1_col2\" class=\"data row1 col2\" >0.8750</td>\n",
       "      <td id=\"T_e9652_row1_col3\" class=\"data row1 col3\" >1.0000</td>\n",
       "      <td id=\"T_e9652_row1_col4\" class=\"data row1 col4\" >0.9333</td>\n",
       "      <td id=\"T_e9652_row1_col5\" class=\"data row1 col5\" >0.9153</td>\n",
       "      <td id=\"T_e9652_row1_col6\" class=\"data row1 col6\" >0.9186</td>\n",
       "    </tr>\n",
       "    <tr>\n",
       "      <th id=\"T_e9652_level0_row2\" class=\"row_heading level0 row2\" >2</th>\n",
       "      <td id=\"T_e9652_row2_col0\" class=\"data row2 col0\" >0.9286</td>\n",
       "      <td id=\"T_e9652_row2_col1\" class=\"data row2 col1\" >0.9789</td>\n",
       "      <td id=\"T_e9652_row2_col2\" class=\"data row2 col2\" >0.9412</td>\n",
       "      <td id=\"T_e9652_row2_col3\" class=\"data row2 col3\" >0.8000</td>\n",
       "      <td id=\"T_e9652_row2_col4\" class=\"data row2 col4\" >0.8649</td>\n",
       "      <td id=\"T_e9652_row2_col5\" class=\"data row2 col5\" >0.8168</td>\n",
       "      <td id=\"T_e9652_row2_col6\" class=\"data row2 col6\" >0.8217</td>\n",
       "    </tr>\n",
       "    <tr>\n",
       "      <th id=\"T_e9652_level0_row3\" class=\"row_heading level0 row3\" >3</th>\n",
       "      <td id=\"T_e9652_row3_col0\" class=\"data row3 col0\" >0.9143</td>\n",
       "      <td id=\"T_e9652_row3_col1\" class=\"data row3 col1\" >0.9800</td>\n",
       "      <td id=\"T_e9652_row3_col2\" class=\"data row3 col2\" >0.7647</td>\n",
       "      <td id=\"T_e9652_row3_col3\" class=\"data row3 col3\" >0.8667</td>\n",
       "      <td id=\"T_e9652_row3_col4\" class=\"data row3 col4\" >0.8125</td>\n",
       "      <td id=\"T_e9652_row3_col5\" class=\"data row3 col5\" >0.7572</td>\n",
       "      <td id=\"T_e9652_row3_col6\" class=\"data row3 col6\" >0.7597</td>\n",
       "    </tr>\n",
       "    <tr>\n",
       "      <th id=\"T_e9652_level0_row4\" class=\"row_heading level0 row4\" >4</th>\n",
       "      <td id=\"T_e9652_row4_col0\" class=\"data row4 col0\" >0.9429</td>\n",
       "      <td id=\"T_e9652_row4_col1\" class=\"data row4 col1\" >0.9512</td>\n",
       "      <td id=\"T_e9652_row4_col2\" class=\"data row4 col2\" >0.8235</td>\n",
       "      <td id=\"T_e9652_row4_col3\" class=\"data row4 col3\" >0.9333</td>\n",
       "      <td id=\"T_e9652_row4_col4\" class=\"data row4 col4\" >0.8750</td>\n",
       "      <td id=\"T_e9652_row4_col5\" class=\"data row4 col5\" >0.8382</td>\n",
       "      <td id=\"T_e9652_row4_col6\" class=\"data row4 col6\" >0.8409</td>\n",
       "    </tr>\n",
       "    <tr>\n",
       "      <th id=\"T_e9652_level0_row5\" class=\"row_heading level0 row5\" >5</th>\n",
       "      <td id=\"T_e9652_row5_col0\" class=\"data row5 col0\" >0.9714</td>\n",
       "      <td id=\"T_e9652_row5_col1\" class=\"data row5 col1\" >0.9656</td>\n",
       "      <td id=\"T_e9652_row5_col2\" class=\"data row5 col2\" >0.8824</td>\n",
       "      <td id=\"T_e9652_row5_col3\" class=\"data row5 col3\" >1.0000</td>\n",
       "      <td id=\"T_e9652_row5_col4\" class=\"data row5 col4\" >0.9375</td>\n",
       "      <td id=\"T_e9652_row5_col5\" class=\"data row5 col5\" >0.9191</td>\n",
       "      <td id=\"T_e9652_row5_col6\" class=\"data row5 col6\" >0.9221</td>\n",
       "    </tr>\n",
       "    <tr>\n",
       "      <th id=\"T_e9652_level0_row6\" class=\"row_heading level0 row6\" >6</th>\n",
       "      <td id=\"T_e9652_row6_col0\" class=\"data row6 col0\" >0.9286</td>\n",
       "      <td id=\"T_e9652_row6_col1\" class=\"data row6 col1\" >0.9745</td>\n",
       "      <td id=\"T_e9652_row6_col2\" class=\"data row6 col2\" >0.8235</td>\n",
       "      <td id=\"T_e9652_row6_col3\" class=\"data row6 col3\" >0.8750</td>\n",
       "      <td id=\"T_e9652_row6_col4\" class=\"data row6 col4\" >0.8485</td>\n",
       "      <td id=\"T_e9652_row6_col5\" class=\"data row6 col5\" >0.8018</td>\n",
       "      <td id=\"T_e9652_row6_col6\" class=\"data row6 col6\" >0.8024</td>\n",
       "    </tr>\n",
       "    <tr>\n",
       "      <th id=\"T_e9652_level0_row7\" class=\"row_heading level0 row7\" >7</th>\n",
       "      <td id=\"T_e9652_row7_col0\" class=\"data row7 col0\" >0.9000</td>\n",
       "      <td id=\"T_e9652_row7_col1\" class=\"data row7 col1\" >0.9645</td>\n",
       "      <td id=\"T_e9652_row7_col2\" class=\"data row7 col2\" >0.7647</td>\n",
       "      <td id=\"T_e9652_row7_col3\" class=\"data row7 col3\" >0.8125</td>\n",
       "      <td id=\"T_e9652_row7_col4\" class=\"data row7 col4\" >0.7879</td>\n",
       "      <td id=\"T_e9652_row7_col5\" class=\"data row7 col5\" >0.7225</td>\n",
       "      <td id=\"T_e9652_row7_col6\" class=\"data row7 col6\" >0.7231</td>\n",
       "    </tr>\n",
       "    <tr>\n",
       "      <th id=\"T_e9652_level0_row8\" class=\"row_heading level0 row8\" >8</th>\n",
       "      <td id=\"T_e9652_row8_col0\" class=\"data row8 col0\" >0.9286</td>\n",
       "      <td id=\"T_e9652_row8_col1\" class=\"data row8 col1\" >0.9711</td>\n",
       "      <td id=\"T_e9652_row8_col2\" class=\"data row8 col2\" >0.7647</td>\n",
       "      <td id=\"T_e9652_row8_col3\" class=\"data row8 col3\" >0.9286</td>\n",
       "      <td id=\"T_e9652_row8_col4\" class=\"data row8 col4\" >0.8387</td>\n",
       "      <td id=\"T_e9652_row8_col5\" class=\"data row8 col5\" >0.7934</td>\n",
       "      <td id=\"T_e9652_row8_col6\" class=\"data row8 col6\" >0.7996</td>\n",
       "    </tr>\n",
       "    <tr>\n",
       "      <th id=\"T_e9652_level0_row9\" class=\"row_heading level0 row9\" >9</th>\n",
       "      <td id=\"T_e9652_row9_col0\" class=\"data row9 col0\" >0.9565</td>\n",
       "      <td id=\"T_e9652_row9_col1\" class=\"data row9 col1\" >0.9599</td>\n",
       "      <td id=\"T_e9652_row9_col2\" class=\"data row9 col2\" >0.8750</td>\n",
       "      <td id=\"T_e9652_row9_col3\" class=\"data row9 col3\" >0.9333</td>\n",
       "      <td id=\"T_e9652_row9_col4\" class=\"data row9 col4\" >0.9032</td>\n",
       "      <td id=\"T_e9652_row9_col5\" class=\"data row9 col5\" >0.8752</td>\n",
       "      <td id=\"T_e9652_row9_col6\" class=\"data row9 col6\" >0.8760</td>\n",
       "    </tr>\n",
       "    <tr>\n",
       "      <th id=\"T_e9652_level0_row10\" class=\"row_heading level0 row10\" >Mean</th>\n",
       "      <td id=\"T_e9652_row10_col0\" class=\"data row10 col0\" >0.9371</td>\n",
       "      <td id=\"T_e9652_row10_col1\" class=\"data row10 col1\" >0.9717</td>\n",
       "      <td id=\"T_e9652_row10_col2\" class=\"data row10 col2\" >0.8327</td>\n",
       "      <td id=\"T_e9652_row10_col3\" class=\"data row10 col3\" >0.9016</td>\n",
       "      <td id=\"T_e9652_row10_col4\" class=\"data row10 col4\" >0.8640</td>\n",
       "      <td id=\"T_e9652_row10_col5\" class=\"data row10 col5\" >0.8232</td>\n",
       "      <td id=\"T_e9652_row10_col6\" class=\"data row10 col6\" >0.8258</td>\n",
       "    </tr>\n",
       "    <tr>\n",
       "      <th id=\"T_e9652_level0_row11\" class=\"row_heading level0 row11\" >SD</th>\n",
       "      <td id=\"T_e9652_row11_col0\" class=\"data row11 col0\" >0.0223</td>\n",
       "      <td id=\"T_e9652_row11_col1\" class=\"data row11 col1\" >0.0113</td>\n",
       "      <td id=\"T_e9652_row11_col2\" class=\"data row11 col2\" >0.0568</td>\n",
       "      <td id=\"T_e9652_row11_col3\" class=\"data row11 col3\" >0.0660</td>\n",
       "      <td id=\"T_e9652_row11_col4\" class=\"data row11 col4\" >0.0467</td>\n",
       "      <td id=\"T_e9652_row11_col5\" class=\"data row11 col5\" >0.0611</td>\n",
       "      <td id=\"T_e9652_row11_col6\" class=\"data row11 col6\" >0.0615</td>\n",
       "    </tr>\n",
       "  </tbody>\n",
       "</table>\n"
      ],
      "text/plain": [
       "<pandas.io.formats.style.Styler at 0x7fb52af0c3d0>"
      ]
     },
     "metadata": {},
     "output_type": "display_data"
    }
   ],
   "source": [
    "#tuned_random_forest = tune_model(random_forest)\n",
    "tuned_model = tune_model(model)"
   ]
  },
  {
   "cell_type": "markdown",
   "id": "0d54d9a8",
   "metadata": {},
   "source": [
    "# Interpreting the results\n",
    "<hr style=\"border:4px solid gray\"> </hr>"
   ]
  },
  {
   "cell_type": "code",
   "execution_count": 34,
   "id": "a413c3cc",
   "metadata": {},
   "outputs": [
    {
     "name": "stdout",
     "output_type": "stream",
     "text": [
      "RandomForestClassifier(bootstrap=True, ccp_alpha=0.0, class_weight={},\n",
      "                       criterion='entropy', max_depth=9, max_features='sqrt',\n",
      "                       max_leaf_nodes=None, max_samples=None,\n",
      "                       min_impurity_decrease=0, min_impurity_split=None,\n",
      "                       min_samples_leaf=6, min_samples_split=10,\n",
      "                       min_weight_fraction_leaf=0.0, n_estimators=230,\n",
      "                       n_jobs=-1, oob_score=False, random_state=42, verbose=0,\n",
      "                       warm_start=False)\n"
     ]
    }
   ],
   "source": [
    "print(tuned_model)"
   ]
  },
  {
   "cell_type": "markdown",
   "id": "b3ead204",
   "metadata": {},
   "source": [
    "## What are the Key (X) Dependent Variables?\n",
    "<hr style=\"border:4px solid gray\"> </hr>"
   ]
  },
  {
   "cell_type": "markdown",
   "id": "555b5121",
   "metadata": {},
   "source": [
    "Next, is to get more familiar with the dataset, and try and guess what will be important to it. "
   ]
  },
  {
   "cell_type": "code",
   "execution_count": 38,
   "id": "fa4e7d9b",
   "metadata": {},
   "outputs": [
    {
     "data": {
      "text/html": [
       "<style type=\"text/css\">\n",
       "</style>\n",
       "<table id=\"T_77089\">\n",
       "  <thead>\n",
       "    <tr>\n",
       "      <th class=\"blank level0\" >&nbsp;</th>\n",
       "      <th id=\"T_77089_level0_col0\" class=\"col_heading level0 col0\" >Model</th>\n",
       "      <th id=\"T_77089_level0_col1\" class=\"col_heading level0 col1\" >Accuracy</th>\n",
       "      <th id=\"T_77089_level0_col2\" class=\"col_heading level0 col2\" >AUC</th>\n",
       "      <th id=\"T_77089_level0_col3\" class=\"col_heading level0 col3\" >Recall</th>\n",
       "      <th id=\"T_77089_level0_col4\" class=\"col_heading level0 col4\" >Prec.</th>\n",
       "      <th id=\"T_77089_level0_col5\" class=\"col_heading level0 col5\" >F1</th>\n",
       "      <th id=\"T_77089_level0_col6\" class=\"col_heading level0 col6\" >Kappa</th>\n",
       "      <th id=\"T_77089_level0_col7\" class=\"col_heading level0 col7\" >MCC</th>\n",
       "    </tr>\n",
       "  </thead>\n",
       "  <tbody>\n",
       "    <tr>\n",
       "      <th id=\"T_77089_level0_row0\" class=\"row_heading level0 row0\" >0</th>\n",
       "      <td id=\"T_77089_row0_col0\" class=\"data row0 col0\" >Random Forest Classifier</td>\n",
       "      <td id=\"T_77089_row0_col1\" class=\"data row0 col1\" >0.9136</td>\n",
       "      <td id=\"T_77089_row0_col2\" class=\"data row0 col2\" >0.9648</td>\n",
       "      <td id=\"T_77089_row0_col3\" class=\"data row0 col3\" >0.8300</td>\n",
       "      <td id=\"T_77089_row0_col4\" class=\"data row0 col4\" >0.9022</td>\n",
       "      <td id=\"T_77089_row0_col5\" class=\"data row0 col5\" >0.8646</td>\n",
       "      <td id=\"T_77089_row0_col6\" class=\"data row0 col6\" >0.8013</td>\n",
       "      <td id=\"T_77089_row0_col7\" class=\"data row0 col7\" >0.8028</td>\n",
       "    </tr>\n",
       "  </tbody>\n",
       "</table>\n"
      ],
      "text/plain": [
       "<pandas.io.formats.style.Styler at 0x7fb4e63f0bb0>"
      ]
     },
     "metadata": {},
     "output_type": "display_data"
    },
    {
     "data": {
      "text/html": [
       "<div>\n",
       "<style scoped>\n",
       "    .dataframe tbody tr th:only-of-type {\n",
       "        vertical-align: middle;\n",
       "    }\n",
       "\n",
       "    .dataframe tbody tr th {\n",
       "        vertical-align: top;\n",
       "    }\n",
       "\n",
       "    .dataframe thead th {\n",
       "        text-align: right;\n",
       "    }\n",
       "</style>\n",
       "<table border=\"1\" class=\"dataframe\">\n",
       "  <thead>\n",
       "    <tr style=\"text-align: right;\">\n",
       "      <th></th>\n",
       "      <th>HouseStyle_SFoyer</th>\n",
       "      <th>BsmtFinType2_LwQ</th>\n",
       "      <th>Neighborhood_Gilbert</th>\n",
       "      <th>BsmtFinType2_Unf</th>\n",
       "      <th>MSSubClass_20</th>\n",
       "      <th>BsmtFinSF1</th>\n",
       "      <th>HouseStyle_1.5Fin</th>\n",
       "      <th>SaleType_New</th>\n",
       "      <th>MasVnrType_not_available</th>\n",
       "      <th>HouseStyle_1.5Unf</th>\n",
       "      <th>...</th>\n",
       "      <th>MSZoning_RM</th>\n",
       "      <th>BsmtCond_Gd</th>\n",
       "      <th>Neighborhood_StoneBr</th>\n",
       "      <th>GarageCars_4</th>\n",
       "      <th>BsmtFinType2_GLQ</th>\n",
       "      <th>HouseStyle_1Story</th>\n",
       "      <th>LandContour_Lvl</th>\n",
       "      <th>After1999</th>\n",
       "      <th>Label</th>\n",
       "      <th>Score</th>\n",
       "    </tr>\n",
       "  </thead>\n",
       "  <tbody>\n",
       "    <tr>\n",
       "      <th>0</th>\n",
       "      <td>0.0</td>\n",
       "      <td>0.0</td>\n",
       "      <td>0.0</td>\n",
       "      <td>1.0</td>\n",
       "      <td>1.0</td>\n",
       "      <td>0.0</td>\n",
       "      <td>0.0</td>\n",
       "      <td>1.0</td>\n",
       "      <td>1.0</td>\n",
       "      <td>0.0</td>\n",
       "      <td>...</td>\n",
       "      <td>0.0</td>\n",
       "      <td>0.0</td>\n",
       "      <td>0.0</td>\n",
       "      <td>0.0</td>\n",
       "      <td>0.0</td>\n",
       "      <td>1.0</td>\n",
       "      <td>1.0</td>\n",
       "      <td>True</td>\n",
       "      <td>True</td>\n",
       "      <td>0.8330</td>\n",
       "    </tr>\n",
       "    <tr>\n",
       "      <th>1</th>\n",
       "      <td>0.0</td>\n",
       "      <td>0.0</td>\n",
       "      <td>0.0</td>\n",
       "      <td>1.0</td>\n",
       "      <td>0.0</td>\n",
       "      <td>1330.0</td>\n",
       "      <td>0.0</td>\n",
       "      <td>1.0</td>\n",
       "      <td>0.0</td>\n",
       "      <td>0.0</td>\n",
       "      <td>...</td>\n",
       "      <td>0.0</td>\n",
       "      <td>0.0</td>\n",
       "      <td>0.0</td>\n",
       "      <td>0.0</td>\n",
       "      <td>0.0</td>\n",
       "      <td>0.0</td>\n",
       "      <td>1.0</td>\n",
       "      <td>True</td>\n",
       "      <td>True</td>\n",
       "      <td>0.9097</td>\n",
       "    </tr>\n",
       "    <tr>\n",
       "      <th>2</th>\n",
       "      <td>0.0</td>\n",
       "      <td>0.0</td>\n",
       "      <td>0.0</td>\n",
       "      <td>1.0</td>\n",
       "      <td>0.0</td>\n",
       "      <td>0.0</td>\n",
       "      <td>0.0</td>\n",
       "      <td>0.0</td>\n",
       "      <td>0.0</td>\n",
       "      <td>0.0</td>\n",
       "      <td>...</td>\n",
       "      <td>1.0</td>\n",
       "      <td>0.0</td>\n",
       "      <td>0.0</td>\n",
       "      <td>0.0</td>\n",
       "      <td>0.0</td>\n",
       "      <td>0.0</td>\n",
       "      <td>1.0</td>\n",
       "      <td>False</td>\n",
       "      <td>False</td>\n",
       "      <td>0.9868</td>\n",
       "    </tr>\n",
       "    <tr>\n",
       "      <th>3</th>\n",
       "      <td>0.0</td>\n",
       "      <td>0.0</td>\n",
       "      <td>0.0</td>\n",
       "      <td>1.0</td>\n",
       "      <td>1.0</td>\n",
       "      <td>998.0</td>\n",
       "      <td>0.0</td>\n",
       "      <td>0.0</td>\n",
       "      <td>0.0</td>\n",
       "      <td>0.0</td>\n",
       "      <td>...</td>\n",
       "      <td>0.0</td>\n",
       "      <td>0.0</td>\n",
       "      <td>0.0</td>\n",
       "      <td>0.0</td>\n",
       "      <td>0.0</td>\n",
       "      <td>1.0</td>\n",
       "      <td>1.0</td>\n",
       "      <td>False</td>\n",
       "      <td>False</td>\n",
       "      <td>0.7653</td>\n",
       "    </tr>\n",
       "    <tr>\n",
       "      <th>4</th>\n",
       "      <td>0.0</td>\n",
       "      <td>0.0</td>\n",
       "      <td>0.0</td>\n",
       "      <td>1.0</td>\n",
       "      <td>0.0</td>\n",
       "      <td>0.0</td>\n",
       "      <td>0.0</td>\n",
       "      <td>0.0</td>\n",
       "      <td>0.0</td>\n",
       "      <td>0.0</td>\n",
       "      <td>...</td>\n",
       "      <td>0.0</td>\n",
       "      <td>0.0</td>\n",
       "      <td>0.0</td>\n",
       "      <td>0.0</td>\n",
       "      <td>0.0</td>\n",
       "      <td>0.0</td>\n",
       "      <td>1.0</td>\n",
       "      <td>False</td>\n",
       "      <td>False</td>\n",
       "      <td>0.7404</td>\n",
       "    </tr>\n",
       "    <tr>\n",
       "      <th>...</th>\n",
       "      <td>...</td>\n",
       "      <td>...</td>\n",
       "      <td>...</td>\n",
       "      <td>...</td>\n",
       "      <td>...</td>\n",
       "      <td>...</td>\n",
       "      <td>...</td>\n",
       "      <td>...</td>\n",
       "      <td>...</td>\n",
       "      <td>...</td>\n",
       "      <td>...</td>\n",
       "      <td>...</td>\n",
       "      <td>...</td>\n",
       "      <td>...</td>\n",
       "      <td>...</td>\n",
       "      <td>...</td>\n",
       "      <td>...</td>\n",
       "      <td>...</td>\n",
       "      <td>...</td>\n",
       "      <td>...</td>\n",
       "      <td>...</td>\n",
       "    </tr>\n",
       "    <tr>\n",
       "      <th>296</th>\n",
       "      <td>0.0</td>\n",
       "      <td>0.0</td>\n",
       "      <td>0.0</td>\n",
       "      <td>1.0</td>\n",
       "      <td>1.0</td>\n",
       "      <td>360.0</td>\n",
       "      <td>0.0</td>\n",
       "      <td>0.0</td>\n",
       "      <td>0.0</td>\n",
       "      <td>0.0</td>\n",
       "      <td>...</td>\n",
       "      <td>0.0</td>\n",
       "      <td>0.0</td>\n",
       "      <td>0.0</td>\n",
       "      <td>0.0</td>\n",
       "      <td>0.0</td>\n",
       "      <td>1.0</td>\n",
       "      <td>1.0</td>\n",
       "      <td>False</td>\n",
       "      <td>False</td>\n",
       "      <td>0.9633</td>\n",
       "    </tr>\n",
       "    <tr>\n",
       "      <th>297</th>\n",
       "      <td>0.0</td>\n",
       "      <td>0.0</td>\n",
       "      <td>0.0</td>\n",
       "      <td>1.0</td>\n",
       "      <td>0.0</td>\n",
       "      <td>0.0</td>\n",
       "      <td>1.0</td>\n",
       "      <td>0.0</td>\n",
       "      <td>0.0</td>\n",
       "      <td>0.0</td>\n",
       "      <td>...</td>\n",
       "      <td>0.0</td>\n",
       "      <td>0.0</td>\n",
       "      <td>0.0</td>\n",
       "      <td>0.0</td>\n",
       "      <td>0.0</td>\n",
       "      <td>0.0</td>\n",
       "      <td>1.0</td>\n",
       "      <td>False</td>\n",
       "      <td>False</td>\n",
       "      <td>0.8532</td>\n",
       "    </tr>\n",
       "    <tr>\n",
       "      <th>298</th>\n",
       "      <td>0.0</td>\n",
       "      <td>0.0</td>\n",
       "      <td>0.0</td>\n",
       "      <td>1.0</td>\n",
       "      <td>0.0</td>\n",
       "      <td>0.0</td>\n",
       "      <td>0.0</td>\n",
       "      <td>0.0</td>\n",
       "      <td>0.0</td>\n",
       "      <td>0.0</td>\n",
       "      <td>...</td>\n",
       "      <td>0.0</td>\n",
       "      <td>0.0</td>\n",
       "      <td>0.0</td>\n",
       "      <td>0.0</td>\n",
       "      <td>0.0</td>\n",
       "      <td>0.0</td>\n",
       "      <td>0.0</td>\n",
       "      <td>False</td>\n",
       "      <td>False</td>\n",
       "      <td>0.7997</td>\n",
       "    </tr>\n",
       "    <tr>\n",
       "      <th>299</th>\n",
       "      <td>0.0</td>\n",
       "      <td>0.0</td>\n",
       "      <td>0.0</td>\n",
       "      <td>1.0</td>\n",
       "      <td>0.0</td>\n",
       "      <td>0.0</td>\n",
       "      <td>0.0</td>\n",
       "      <td>0.0</td>\n",
       "      <td>0.0</td>\n",
       "      <td>0.0</td>\n",
       "      <td>...</td>\n",
       "      <td>0.0</td>\n",
       "      <td>0.0</td>\n",
       "      <td>0.0</td>\n",
       "      <td>0.0</td>\n",
       "      <td>0.0</td>\n",
       "      <td>0.0</td>\n",
       "      <td>1.0</td>\n",
       "      <td>False</td>\n",
       "      <td>False</td>\n",
       "      <td>0.5467</td>\n",
       "    </tr>\n",
       "    <tr>\n",
       "      <th>300</th>\n",
       "      <td>0.0</td>\n",
       "      <td>0.0</td>\n",
       "      <td>0.0</td>\n",
       "      <td>1.0</td>\n",
       "      <td>1.0</td>\n",
       "      <td>490.0</td>\n",
       "      <td>0.0</td>\n",
       "      <td>0.0</td>\n",
       "      <td>0.0</td>\n",
       "      <td>0.0</td>\n",
       "      <td>...</td>\n",
       "      <td>0.0</td>\n",
       "      <td>0.0</td>\n",
       "      <td>0.0</td>\n",
       "      <td>0.0</td>\n",
       "      <td>0.0</td>\n",
       "      <td>1.0</td>\n",
       "      <td>1.0</td>\n",
       "      <td>False</td>\n",
       "      <td>False</td>\n",
       "      <td>0.7464</td>\n",
       "    </tr>\n",
       "  </tbody>\n",
       "</table>\n",
       "<p>301 rows × 175 columns</p>\n",
       "</div>"
      ],
      "text/plain": [
       "     HouseStyle_SFoyer  BsmtFinType2_LwQ  Neighborhood_Gilbert  \\\n",
       "0                  0.0               0.0                   0.0   \n",
       "1                  0.0               0.0                   0.0   \n",
       "2                  0.0               0.0                   0.0   \n",
       "3                  0.0               0.0                   0.0   \n",
       "4                  0.0               0.0                   0.0   \n",
       "..                 ...               ...                   ...   \n",
       "296                0.0               0.0                   0.0   \n",
       "297                0.0               0.0                   0.0   \n",
       "298                0.0               0.0                   0.0   \n",
       "299                0.0               0.0                   0.0   \n",
       "300                0.0               0.0                   0.0   \n",
       "\n",
       "     BsmtFinType2_Unf  MSSubClass_20  BsmtFinSF1  HouseStyle_1.5Fin  \\\n",
       "0                 1.0            1.0         0.0                0.0   \n",
       "1                 1.0            0.0      1330.0                0.0   \n",
       "2                 1.0            0.0         0.0                0.0   \n",
       "3                 1.0            1.0       998.0                0.0   \n",
       "4                 1.0            0.0         0.0                0.0   \n",
       "..                ...            ...         ...                ...   \n",
       "296               1.0            1.0       360.0                0.0   \n",
       "297               1.0            0.0         0.0                1.0   \n",
       "298               1.0            0.0         0.0                0.0   \n",
       "299               1.0            0.0         0.0                0.0   \n",
       "300               1.0            1.0       490.0                0.0   \n",
       "\n",
       "     SaleType_New  MasVnrType_not_available  HouseStyle_1.5Unf  ...  \\\n",
       "0             1.0                       1.0                0.0  ...   \n",
       "1             1.0                       0.0                0.0  ...   \n",
       "2             0.0                       0.0                0.0  ...   \n",
       "3             0.0                       0.0                0.0  ...   \n",
       "4             0.0                       0.0                0.0  ...   \n",
       "..            ...                       ...                ...  ...   \n",
       "296           0.0                       0.0                0.0  ...   \n",
       "297           0.0                       0.0                0.0  ...   \n",
       "298           0.0                       0.0                0.0  ...   \n",
       "299           0.0                       0.0                0.0  ...   \n",
       "300           0.0                       0.0                0.0  ...   \n",
       "\n",
       "     MSZoning_RM  BsmtCond_Gd  Neighborhood_StoneBr  GarageCars_4  \\\n",
       "0            0.0          0.0                   0.0           0.0   \n",
       "1            0.0          0.0                   0.0           0.0   \n",
       "2            1.0          0.0                   0.0           0.0   \n",
       "3            0.0          0.0                   0.0           0.0   \n",
       "4            0.0          0.0                   0.0           0.0   \n",
       "..           ...          ...                   ...           ...   \n",
       "296          0.0          0.0                   0.0           0.0   \n",
       "297          0.0          0.0                   0.0           0.0   \n",
       "298          0.0          0.0                   0.0           0.0   \n",
       "299          0.0          0.0                   0.0           0.0   \n",
       "300          0.0          0.0                   0.0           0.0   \n",
       "\n",
       "     BsmtFinType2_GLQ  HouseStyle_1Story  LandContour_Lvl  After1999  Label  \\\n",
       "0                 0.0                1.0              1.0       True   True   \n",
       "1                 0.0                0.0              1.0       True   True   \n",
       "2                 0.0                0.0              1.0      False  False   \n",
       "3                 0.0                1.0              1.0      False  False   \n",
       "4                 0.0                0.0              1.0      False  False   \n",
       "..                ...                ...              ...        ...    ...   \n",
       "296               0.0                1.0              1.0      False  False   \n",
       "297               0.0                0.0              1.0      False  False   \n",
       "298               0.0                0.0              0.0      False  False   \n",
       "299               0.0                0.0              1.0      False  False   \n",
       "300               0.0                1.0              1.0      False  False   \n",
       "\n",
       "      Score  \n",
       "0    0.8330  \n",
       "1    0.9097  \n",
       "2    0.9868  \n",
       "3    0.7653  \n",
       "4    0.7404  \n",
       "..      ...  \n",
       "296  0.9633  \n",
       "297  0.8532  \n",
       "298  0.7997  \n",
       "299  0.5467  \n",
       "300  0.7464  \n",
       "\n",
       "[301 rows x 175 columns]"
      ]
     },
     "execution_count": 38,
     "metadata": {},
     "output_type": "execute_result"
    }
   ],
   "source": [
    "predict_model(tuned_model)"
   ]
  },
  {
   "cell_type": "code",
   "execution_count": 42,
   "id": "e7d344cd",
   "metadata": {},
   "outputs": [],
   "source": [
    "final_model = finalize_model(tuned_model)"
   ]
  },
  {
   "cell_type": "markdown",
   "id": "561cd4e7",
   "metadata": {},
   "source": [
    "### Which Features are the most Important to the Model? \n",
    "<hr style=\"border:2px solid gray\"> </hr>"
   ]
  },
  {
   "cell_type": "markdown",
   "id": "80db5e15",
   "metadata": {},
   "source": []
  },
  {
   "cell_type": "code",
   "execution_count": 35,
   "id": "d99f3120",
   "metadata": {},
   "outputs": [
    {
     "data": {
      "image/png": "[encoded data removed]",
      "text/plain": [
       "<Figure size 800x500 with 1 Axes>"
      ]
     },
     "metadata": {},
     "output_type": "display_data"
    }
   ],
   "source": [
    "plot_model(tuned_model,plot='feature')"
   ]
  },
  {
   "cell_type": "markdown",
   "id": "3c1dcb19",
   "metadata": {},
   "source": [
    "### Is this the expected behavior?"
   ]
  },
  {
   "cell_type": "markdown",
   "id": "9de92a9a",
   "metadata": {},
   "source": [
    "In this part, it is expected that Sales Price would be a strong predictor of when the houses were built. \n",
    "\n",
    "Although more work needs to be done to isolate this effect, it shows that houses built in the years leading up to the housing market collapse are priced differently than houses built before or after. \n",
    "\n",
    "The second interesting point is that the sale type with these houses sold as new in the years of the housing price bubble is a strong predictor."
   ]
  },
  {
   "cell_type": "markdown",
   "id": "eda1b224",
   "metadata": {},
   "source": [
    "### Did anything happen that you did not expect?"
   ]
  },
  {
   "cell_type": "code",
   "execution_count": 39,
   "id": "c7849b8b",
   "metadata": {},
   "outputs": [
    {
     "data": {
      "image/png": "[encoded data removed]",
      "text/plain": [
       "<Figure size 576x396 with 1 Axes>"
      ]
     },
     "metadata": {},
     "output_type": "display_data"
    }
   ],
   "source": [
    "plot_model(tuned_model,plot='confusion_matrix')"
   ]
  },
  {
   "cell_type": "markdown",
   "id": "03476821",
   "metadata": {},
   "source": [
    "In the process of training this model, I found that data had to be removed from the dataset, in order for the information which is valuable to my particular question to show up. \n",
    "\n",
    "In the next notebook, there is plenty of work that can be done on particularly the categorical variables in order to improve the model.\n",
    "\n",
    "It is important to note that metrics like r2 and MSRE were nearly 100 percent accurate in the first model trainings because the information about the target variable was contained in the information containing years.\n",
    "\n",
    "Although the model was 100% accurate, it was not valid. If the model's accuracy is unexpectedly high, then it may be a a sign that there's leakage. In this case, it is worth looking at variables with extremely high correlations.  "
   ]
  },
  {
   "cell_type": "markdown",
   "id": "26da7d39",
   "metadata": {},
   "source": [
    "### Are there any variables which behaved unexpectedly?"
   ]
  },
  {
   "cell_type": "markdown",
   "id": "d6ec706a",
   "metadata": {},
   "source": [
    "In this iteration, there is still information that needs to be processed in a more precise way than before. For example, there's a variable about the open porch square feet which may be useful when trying to predict the price of the house, but not in this case.\n",
    "\n",
    "I was hoping to see more variables related to the type of sale and how the house was purchased in this dataset. In the future, it will be a fruitful place to look. However, it is not very visible to the model because of how cluttered the categorical features are.\n",
    "\n",
    "In the next notebook, we will go over how to extract key features by working more closely with the data."
   ]
  },
  {
   "cell_type": "markdown",
   "id": "2e27cb79",
   "metadata": {},
   "source": [
    "# Part 4 : Discussions - Questions\n",
    "<hr style=\"border:4px solid gray\"> </hr>"
   ]
  },
  {
   "cell_type": "markdown",
   "id": "dd529ad0",
   "metadata": {},
   "source": [
    "1. Which file format is heirachical, and common on the web? Which file format is most like a table? \n",
    "    - A. CSV, JSON\n",
    "    - B. .TXT, JSON\n",
    "    - C. JSON, CSV\n",
    "    - D. Matlab, CSV\n",
    "\n",
    "2. What are the common errors that one will encounter when loading tabular data? \n",
    "    - A. Pandas doesn't know how the table is formatted, so the shape is off. (Seperator, Delimiter)\n",
    "    - B. Pandas can't  open the file because it is encoded differently than the default UTF-8 (encoding)\n",
    "    - C. Running out of RAM\n",
    "    - D. Errors importing the Pandas Library \n",
    "\n",
    "3. What information should one check first when loading a dataset and why?\n",
    "\t- A. Column Names, Features. Because the column names will contain a lot of information about the dataset\n",
    "\t- B. Missing Values, because the table is full of rows of missing values that I didn't expect\n",
    "\t- C. Shape, to ensure that the table loaded properly\n",
    "\t- D. Highly Correlated Features, because missing values won't affect distributions or models\n",
    "\n",
    "4. What are the advantages of employing autoML in EDA of tabular data? "
   ]
  }
 ],
 "metadata": {
  "interpreter": {
   "hash": "09fc63d8746fb0445fbb0c418e23fc0883df0397bf2407db906c75833298fec1"
  },
  "kernelspec": {
   "display_name": "Python [conda env:pycaretAutoML]",
   "language": "python",
   "name": "conda-env-pycaretAutoML-py"
  },
  "language_info": {
   "codemirror_mode": {
    "name": "ipython",
    "version": 3
   },
   "file_extension": ".py",
   "mimetype": "text/x-python",
   "name": "python",
   "nbconvert_exporter": "python",
   "pygments_lexer": "ipython3",
   "version": "3.8.12"
  }
 },
 "nbformat": 4,
 "nbformat_minor": 5
}
